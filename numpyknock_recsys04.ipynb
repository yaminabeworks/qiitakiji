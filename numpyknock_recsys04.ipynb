{
  "nbformat": 4,
  "nbformat_minor": 0,
  "metadata": {
    "colab": {
      "name": "numpyknock_recsys.ipynb",
      "provenance": [],
      "collapsed_sections": [],
      "toc_visible": true,
      "authorship_tag": "ABX9TyN538lKBJdxPyjQqjuLtpOB",
      "include_colab_link": true
    },
    "kernelspec": {
      "name": "python3",
      "display_name": "Python 3"
    },
    "language_info": {
      "name": "python"
    }
  },
  "cells": [
    {
      "cell_type": "markdown",
      "metadata": {
        "id": "view-in-github",
        "colab_type": "text"
      },
      "source": [
        "<a href=\"https://colab.research.google.com/github/yaminabeworks/qiitakiji/blob/main/numpyknock_recsys04.ipynb\" target=\"_parent\"><img src=\"https://colab.research.google.com/assets/colab-badge.svg\" alt=\"Open In Colab\"/></a>"
      ]
    },
    {
      "cell_type": "markdown",
      "source": [
        "# recsys-python"
      ],
      "metadata": {
        "id": "YbfoKWMdy_Du"
      }
    },
    {
      "cell_type": "markdown",
      "source": [
        "推薦システムを作ることで、機械学習を学ぶ。"
      ],
      "metadata": {
        "id": "kWdy0EaUzW5l"
      }
    },
    {
      "cell_type": "markdown",
      "source": [
        "https://recsyslab.github.io/recsys-python/"
      ],
      "metadata": {
        "id": "nXL3M9SlzBwt"
      }
    },
    {
      "cell_type": "markdown",
      "source": [
        "## 第1章 評価履歴"
      ],
      "metadata": {
        "id": "N82SHZwWzisb"
      }
    },
    {
      "cell_type": "markdown",
      "source": [
        "準備"
      ],
      "metadata": {
        "id": "zqwENvYI52kQ"
      }
    },
    {
      "cell_type": "code",
      "source": [
        "import numpy as np"
      ],
      "metadata": {
        "id": "EWSXq73TzqZc"
      },
      "execution_count": 1,
      "outputs": []
    },
    {
      "cell_type": "markdown",
      "source": [
        "## 評価履歴"
      ],
      "metadata": {
        "id": "BtxeyW-a54A6"
      }
    },
    {
      "cell_type": "markdown",
      "source": [
        "### 01 評価履歴の生成"
      ],
      "metadata": {
        "id": "3sFUSrKzzebg"
      }
    },
    {
      "cell_type": "markdown",
      "source": [
        "1. `np.nan`を使う。\n",
        "2. `np.array`を使う。"
      ],
      "metadata": {
        "id": "Uw3inTFc0Yay"
      }
    },
    {
      "cell_type": "code",
      "execution_count": 2,
      "metadata": {
        "id": "TR4lOiG3yj5C"
      },
      "outputs": [],
      "source": [
        "Du_list = [[5, 3, 1],\n",
        "           [6, 2, 1],\n",
        "           [4, 1, 1],\n",
        "           [8, 5, -1],\n",
        "           [2, 4, -1],\n",
        "           [3, 6, -1],\n",
        "           [7, 6, -1],\n",
        "           [4, 2, np.nan],\n",
        "           [5, 1, np.nan],\n",
        "           [8, 6, np.nan],\n",
        "           [3, 4, np.nan],\n",
        "           [4, 7, np.nan],\n",
        "           [4, 4, np.nan]]\n",
        "\n",
        "Du = np.array(Du_list)"
      ]
    },
    {
      "cell_type": "code",
      "source": [
        "print(f'Du = \\n{Du}')"
      ],
      "metadata": {
        "colab": {
          "base_uri": "https://localhost:8080/"
        },
        "id": "PhLXqzZp0LX7",
        "outputId": "42b0d676-efd5-4578-d4a7-17884cc49466"
      },
      "execution_count": 3,
      "outputs": [
        {
          "output_type": "stream",
          "name": "stdout",
          "text": [
            "Du = \n",
            "[[ 5.  3.  1.]\n",
            " [ 6.  2.  1.]\n",
            " [ 4.  1.  1.]\n",
            " [ 8.  5. -1.]\n",
            " [ 2.  4. -1.]\n",
            " [ 3.  6. -1.]\n",
            " [ 7.  6. -1.]\n",
            " [ 4.  2. nan]\n",
            " [ 5.  1. nan]\n",
            " [ 8.  6. nan]\n",
            " [ 3.  4. nan]\n",
            " [ 4.  7. nan]\n",
            " [ 4.  4. nan]]\n"
          ]
        }
      ]
    },
    {
      "cell_type": "markdown",
      "source": [
        "### 02 評価履歴の形状"
      ],
      "metadata": {
        "id": "kV9aB0Pq0ikE"
      }
    },
    {
      "cell_type": "markdown",
      "source": [
        "- `np.shape`を使う。"
      ],
      "metadata": {
        "id": "A477OHA2fW2f"
      }
    },
    {
      "cell_type": "code",
      "source": [
        "print(f'Duの形状 = {Du.shape}')"
      ],
      "metadata": {
        "colab": {
          "base_uri": "https://localhost:8080/"
        },
        "id": "1vJkEcvg0VGa",
        "outputId": "c45d85a0-54e0-46eb-84fb-650055b46823"
      },
      "execution_count": 4,
      "outputs": [
        {
          "output_type": "stream",
          "name": "stdout",
          "text": [
            "Duの形状 = (13, 3)\n"
          ]
        }
      ]
    },
    {
      "cell_type": "markdown",
      "source": [
        "### 03 評価履歴の行数"
      ],
      "metadata": {
        "id": "aBt9HIxS0xnJ"
      }
    },
    {
      "cell_type": "markdown",
      "source": [
        "- `np.shape`を使う。"
      ],
      "metadata": {
        "id": "gt097jLlfhOp"
      }
    },
    {
      "cell_type": "markdown",
      "source": [
        ""
      ],
      "metadata": {
        "id": "5dzBKz0TfeOr"
      }
    },
    {
      "cell_type": "code",
      "source": [
        "print(f'Duの行数 = {Du.shape[0]}')"
      ],
      "metadata": {
        "colab": {
          "base_uri": "https://localhost:8080/"
        },
        "outputId": "b1ca7184-967d-4654-9ecb-0a8e7352b408",
        "id": "AWb4_Tan0xnJ"
      },
      "execution_count": 5,
      "outputs": [
        {
          "output_type": "stream",
          "name": "stdout",
          "text": [
            "Duの行数 = 13\n"
          ]
        }
      ]
    },
    {
      "cell_type": "markdown",
      "source": [
        "### 04 評価履歴の列数"
      ],
      "metadata": {
        "id": "5Vzk61tv0x7I"
      }
    },
    {
      "cell_type": "markdown",
      "source": [
        "- `np.shape`を使う。"
      ],
      "metadata": {
        "id": "wv1wECcNfiwH"
      }
    },
    {
      "cell_type": "code",
      "source": [
        "print(f'Duの列数 = {Du.shape[1]}')"
      ],
      "metadata": {
        "colab": {
          "base_uri": "https://localhost:8080/"
        },
        "outputId": "5eea5579-6a85-46f3-b756-c1e176fc00db",
        "id": "gPjWYACp0x7I"
      },
      "execution_count": 6,
      "outputs": [
        {
          "output_type": "stream",
          "name": "stdout",
          "text": [
            "Duの列数 = 3\n"
          ]
        }
      ]
    },
    {
      "cell_type": "markdown",
      "source": [
        "### 05 評価履歴の全要素数"
      ],
      "metadata": {
        "id": "ZTG8bL7n13SU"
      }
    },
    {
      "cell_type": "markdown",
      "source": [
        "- `np.size`を使う。\n",
        "  - おそらく、`np.shape[0]*np.shape[1]`でもよい。"
      ],
      "metadata": {
        "id": "_1o8FncTfkZl"
      }
    },
    {
      "cell_type": "code",
      "source": [
        "print(f'Duの全要素数 = {Du.size}')"
      ],
      "metadata": {
        "colab": {
          "base_uri": "https://localhost:8080/"
        },
        "outputId": "074a2944-5723-43fe-c83f-7ef48fe72a12",
        "id": "4qYKq2mT13SV"
      },
      "execution_count": 7,
      "outputs": [
        {
          "output_type": "stream",
          "name": "stdout",
          "text": [
            "Duの全要素数 = 39\n"
          ]
        }
      ]
    },
    {
      "cell_type": "markdown",
      "source": [
        "## アイテム"
      ],
      "metadata": {
        "id": "NO6df1Ib2HzQ"
      }
    },
    {
      "cell_type": "markdown",
      "source": [
        "### 06 アイテム集合"
      ],
      "metadata": {
        "id": "R47b_tuX2LKW"
      }
    },
    {
      "cell_type": "markdown",
      "source": [
        "アイテムは、インデックスと読み替えてもこの場合差し支えなさそう。"
      ],
      "metadata": {
        "id": "u3DeVdrLfs4P"
      }
    },
    {
      "cell_type": "code",
      "source": [
        "I = np.arange(Du.shape[0])\n",
        "print(f'I = {I}')"
      ],
      "metadata": {
        "colab": {
          "base_uri": "https://localhost:8080/"
        },
        "outputId": "2cc18dbf-b1d8-4797-a602-8a682668a34a",
        "id": "OpjMxpQq2LKX"
      },
      "execution_count": 8,
      "outputs": [
        {
          "output_type": "stream",
          "name": "stdout",
          "text": [
            "I = [ 0  1  2  3  4  5  6  7  8  9 10 11 12]\n"
          ]
        }
      ]
    },
    {
      "cell_type": "markdown",
      "source": [
        "### 07 アイテムの特徴ベクトルの集合"
      ],
      "metadata": {
        "id": "_bfmKxzG2Lra"
      }
    },
    {
      "cell_type": "markdown",
      "source": [
        "numpy行列中にある評価値以外を取り出す。"
      ],
      "metadata": {
        "id": "Kc4fPtGNmrQc"
      }
    },
    {
      "cell_type": "code",
      "source": [
        "x = Du[:, :-1]\n",
        "print(f'x = \\n{x}')"
      ],
      "metadata": {
        "colab": {
          "base_uri": "https://localhost:8080/"
        },
        "outputId": "bc1a2fa0-7e2e-44c0-905c-61cc8d29d590",
        "id": "L_oQhKTH2Lrb"
      },
      "execution_count": 9,
      "outputs": [
        {
          "output_type": "stream",
          "name": "stdout",
          "text": [
            "x = \n",
            "[[5. 3.]\n",
            " [6. 2.]\n",
            " [4. 1.]\n",
            " [8. 5.]\n",
            " [2. 4.]\n",
            " [3. 6.]\n",
            " [7. 6.]\n",
            " [4. 2.]\n",
            " [5. 1.]\n",
            " [8. 6.]\n",
            " [3. 4.]\n",
            " [4. 7.]\n",
            " [4. 4.]]\n"
          ]
        }
      ]
    },
    {
      "cell_type": "markdown",
      "source": [
        "### 08 アイテム$i$の特徴ベクトル"
      ],
      "metadata": {
        "id": "RxkVbBLU2MBg"
      }
    },
    {
      "cell_type": "code",
      "source": [
        "i = 0\n",
        "print(f'x{i} = {x[i]}')"
      ],
      "metadata": {
        "colab": {
          "base_uri": "https://localhost:8080/"
        },
        "outputId": "786c25bd-00f8-441a-93f5-2b19c633e9b9",
        "id": "kEpBXY1b2MBh"
      },
      "execution_count": 10,
      "outputs": [
        {
          "output_type": "stream",
          "name": "stdout",
          "text": [
            "x0 = [5. 3.]\n"
          ]
        }
      ]
    },
    {
      "cell_type": "markdown",
      "source": [
        "### 09 評価値集合"
      ],
      "metadata": {
        "id": "YeltvWQO3jX9"
      }
    },
    {
      "cell_type": "code",
      "source": [
        "ru = Du[:, -1]\n",
        "print(f'ru = {ru}')"
      ],
      "metadata": {
        "colab": {
          "base_uri": "https://localhost:8080/"
        },
        "outputId": "5c6d5545-610b-4fb7-db4c-e45ef45fd17b",
        "id": "Kdi4MCZI3jX-"
      },
      "execution_count": 11,
      "outputs": [
        {
          "output_type": "stream",
          "name": "stdout",
          "text": [
            "ru = [ 1.  1.  1. -1. -1. -1. -1. nan nan nan nan nan nan]\n"
          ]
        }
      ]
    },
    {
      "cell_type": "markdown",
      "source": [
        "### 10 評価値集合の形状"
      ],
      "metadata": {
        "id": "cppLRVYm3hW1"
      }
    },
    {
      "cell_type": "code",
      "source": [
        "print(f'ruの形状 = {ru.shape}')"
      ],
      "metadata": {
        "colab": {
          "base_uri": "https://localhost:8080/"
        },
        "id": "SUElgwH99QGO",
        "outputId": "e736b20f-6f54-4cd4-dca4-b250baa6dbf7"
      },
      "execution_count": 12,
      "outputs": [
        {
          "output_type": "stream",
          "name": "stdout",
          "text": [
            "ruの形状 = (13,)\n"
          ]
        }
      ]
    },
    {
      "cell_type": "markdown",
      "source": [
        "### 11 評価値集合の全要素数"
      ],
      "metadata": {
        "id": "b6_LeicU9bgu"
      }
    },
    {
      "cell_type": "code",
      "source": [
        "print(f'ruの全要素数 = {ru.size}')"
      ],
      "metadata": {
        "colab": {
          "base_uri": "https://localhost:8080/"
        },
        "outputId": "2f72acd9-c97e-4381-affb-b084a533c26c",
        "id": "nw8oEHtZ9bgw"
      },
      "execution_count": 13,
      "outputs": [
        {
          "output_type": "stream",
          "name": "stdout",
          "text": [
            "ruの全要素数 = 13\n"
          ]
        }
      ]
    },
    {
      "cell_type": "markdown",
      "source": [
        "### 12 評価値集合の部分集合"
      ],
      "metadata": {
        "id": "-Fv6ETIT2ML7"
      }
    },
    {
      "cell_type": "code",
      "source": [
        "i = 2\n",
        "j = 5\n",
        "print(f'ru{i}からru{j-1}までの評価値 = {ru[i:j]}')"
      ],
      "metadata": {
        "colab": {
          "base_uri": "https://localhost:8080/"
        },
        "outputId": "52d6a81a-ae2e-4937-9ed1-351f4e8963fa",
        "id": "tvXo-IJi2ML7"
      },
      "execution_count": 14,
      "outputs": [
        {
          "output_type": "stream",
          "name": "stdout",
          "text": [
            "ru2からru4までの評価値 = [ 1. -1. -1.]\n"
          ]
        }
      ]
    },
    {
      "cell_type": "markdown",
      "source": [
        "### 13 評価値集合の逆順"
      ],
      "metadata": {
        "id": "mgKVFNYU9dPu"
      }
    },
    {
      "cell_type": "markdown",
      "source": [
        "`ru[::-1]`により、逆順で値を取り出す。"
      ],
      "metadata": {
        "id": "ELr7j-gRniQI"
      }
    },
    {
      "cell_type": "code",
      "source": [
        "print(f'ruの逆順 = {ru[::-1]}')"
      ],
      "metadata": {
        "colab": {
          "base_uri": "https://localhost:8080/"
        },
        "outputId": "99ae3f61-a8c5-4f29-95ac-155db2804414",
        "id": "1WKe4Nhu9dPu"
      },
      "execution_count": 15,
      "outputs": [
        {
          "output_type": "stream",
          "name": "stdout",
          "text": [
            "ruの逆順 = [nan nan nan nan nan nan -1. -1. -1. -1.  1.  1.  1.]\n"
          ]
        }
      ]
    },
    {
      "cell_type": "markdown",
      "source": [
        "### 14 アイテム$i$に対する評価"
      ],
      "metadata": {
        "id": "XiBTIvQU-Oow"
      }
    },
    {
      "cell_type": "markdown",
      "source": [
        "`ru[i]`を使う。"
      ],
      "metadata": {
        "id": "RCXAT-HFoVBx"
      }
    },
    {
      "cell_type": "code",
      "source": [
        "i = 0\n",
        "print(f'ru{i} = {ru[i]}')"
      ],
      "metadata": {
        "colab": {
          "base_uri": "https://localhost:8080/"
        },
        "outputId": "3139540b-f64a-4fea-a831-4caf496d156a",
        "id": "rt-8RDom-Oo3"
      },
      "execution_count": 16,
      "outputs": [
        {
          "output_type": "stream",
          "name": "stdout",
          "text": [
            "ru0 = 1.0\n"
          ]
        }
      ]
    },
    {
      "cell_type": "markdown",
      "source": [
        "## アイテム集合"
      ],
      "metadata": {
        "id": "rMzzxnocoh4h"
      }
    },
    {
      "cell_type": "markdown",
      "source": [
        "### 15 ユーザ$u$が未評価であるか否かの判定"
      ],
      "metadata": {
        "id": "GCt5wg9--O1X"
      }
    },
    {
      "cell_type": "markdown",
      "source": [
        "ここでは、評価値$r_u$について、その第$i$成分が`np.nan`であるときユーザー$u$がアイテム$i$を未評価であるとして問題を解く。"
      ],
      "metadata": {
        "id": "2aqQ1Higo0qs"
      }
    },
    {
      "cell_type": "markdown",
      "source": [
        "`np.isnan(nparray)`を使う。"
      ],
      "metadata": {
        "id": "Q_dfF3r3psdO"
      }
    },
    {
      "cell_type": "code",
      "source": [
        "print(f'ユーザuが未評価 = {np.isnan(ru)}')"
      ],
      "metadata": {
        "colab": {
          "base_uri": "https://localhost:8080/"
        },
        "outputId": "235be3eb-2ecc-4036-ac56-eb3714bd88ea",
        "id": "X4Z30Xth-O1Y"
      },
      "execution_count": 17,
      "outputs": [
        {
          "output_type": "stream",
          "name": "stdout",
          "text": [
            "ユーザuが未評価 = [False False False False False False False  True  True  True  True  True\n",
            "  True]\n"
          ]
        }
      ]
    },
    {
      "cell_type": "markdown",
      "source": [
        "### 16 ユーザ$u$が評価済みであるか否かの判定"
      ],
      "metadata": {
        "id": "8tLocvr--O9i"
      }
    },
    {
      "cell_type": "markdown",
      "source": [
        "`np.isnan(nparray)`に対して、`~`をつけてあげれば`True`と`False`が反転するので題意を満たす。"
      ],
      "metadata": {
        "id": "985AuVD3p7GC"
      }
    },
    {
      "cell_type": "code",
      "source": [
        "print(f'ユーザuが評価済み = {~np.isnan(ru)}')"
      ],
      "metadata": {
        "colab": {
          "base_uri": "https://localhost:8080/"
        },
        "outputId": "cd76b2cc-5530-4b62-8297-869104a89cce",
        "id": "UzWYJ3gf-O9i"
      },
      "execution_count": 18,
      "outputs": [
        {
          "output_type": "stream",
          "name": "stdout",
          "text": [
            "ユーザuが評価済み = [ True  True  True  True  True  True  True False False False False False\n",
            " False]\n"
          ]
        }
      ]
    },
    {
      "cell_type": "markdown",
      "source": [
        "### 17 ユーザ$u$が評価済みのアイテム集合$I_u$"
      ],
      "metadata": {
        "id": "bYp4RBrK-PqQ"
      }
    },
    {
      "cell_type": "markdown",
      "source": [
        "16で見た評価済みのアイテムのみを抽出する。"
      ],
      "metadata": {
        "id": "CN3e7d5Oq5Yb"
      }
    },
    {
      "cell_type": "markdown",
      "source": [
        "`np.arange()`について、16の結果を使ってインデキシングすることで解決する。"
      ],
      "metadata": {
        "id": "qU0pck5WrL4B"
      }
    },
    {
      "cell_type": "code",
      "source": [
        "Iu = np.arange(ru.shape[0])[~np.isnan(ru)]\n",
        "print(f'Iu = {Iu}')"
      ],
      "metadata": {
        "colab": {
          "base_uri": "https://localhost:8080/"
        },
        "outputId": "0268f80a-b430-41e6-d7d6-16b38d38687d",
        "id": "imCiGbCY-PqQ"
      },
      "execution_count": 19,
      "outputs": [
        {
          "output_type": "stream",
          "name": "stdout",
          "text": [
            "Iu = [0 1 2 3 4 5 6]\n"
          ]
        }
      ]
    },
    {
      "cell_type": "markdown",
      "source": [
        "### 18 ユーザ$u$が好きと評価したアイテム集合$I_{u+}$"
      ],
      "metadata": {
        "id": "uCKdtlLM-PwH"
      }
    },
    {
      "cell_type": "markdown",
      "source": [
        "ユーザ$u$が評価済みで、なおかつ評価値が$1$であるようなアイテム集合$I_u$を作る。\n",
        "\n",
        "`np.where(ruの条件, True, False)`を使う。"
      ],
      "metadata": {
        "id": "dQW9Moj6rjCz"
      }
    },
    {
      "cell_type": "code",
      "source": [
        "Iuplus = np.arange(ru.shape[0])[np.where(ru == 1, True, False)]\n",
        "print(f'Iu+ = {Iuplus}')"
      ],
      "metadata": {
        "colab": {
          "base_uri": "https://localhost:8080/"
        },
        "outputId": "dde354fb-187a-456e-e956-b58932758b84",
        "id": "kQ8-Hzv_-PwH"
      },
      "execution_count": 20,
      "outputs": [
        {
          "output_type": "stream",
          "name": "stdout",
          "text": [
            "Iu+ = [0 1 2]\n"
          ]
        }
      ]
    },
    {
      "cell_type": "markdown",
      "source": [
        "### 19 ユーザ$u$が嫌いと評価したアイテム集合$I_{u-}$"
      ],
      "metadata": {
        "id": "3igRnAfJ-P00"
      }
    },
    {
      "cell_type": "markdown",
      "source": [
        "`np.where()`の条件部分をいじればよい。"
      ],
      "metadata": {
        "id": "mR4n3E8HsaL6"
      }
    },
    {
      "cell_type": "code",
      "source": [
        "Iuminus = np.arange(ru.shape[0])[np.where(ru == -1, True, False)]\n",
        "print(f'Iu- = {Iuminus}')"
      ],
      "metadata": {
        "colab": {
          "base_uri": "https://localhost:8080/"
        },
        "outputId": "6f057565-b18a-443a-f486-4d609739fac5",
        "id": "YguDPJla-P01"
      },
      "execution_count": 21,
      "outputs": [
        {
          "output_type": "stream",
          "name": "stdout",
          "text": [
            "Iu- = [3 4 5 6]\n"
          ]
        }
      ]
    },
    {
      "cell_type": "markdown",
      "source": [
        "### 20 ユーザ$u$が未評価のアイテム集合$\\bar{I}_u$"
      ],
      "metadata": {
        "id": "UIS7dzf7-VcF"
      }
    },
    {
      "cell_type": "markdown",
      "source": [
        "1. `np.nan`かどうかでインデキシングする。\n",
        "2. `numpy.setdiff1d()`については、また今度。"
      ],
      "metadata": {
        "id": "OGAZpYOQs9lS"
      }
    },
    {
      "cell_type": "code",
      "source": [
        "Iu_not = np.arange(ru.shape[0])[np.isnan(ru)]\n",
        "print(f'Iu_not = {Iu_not}')"
      ],
      "metadata": {
        "colab": {
          "base_uri": "https://localhost:8080/"
        },
        "outputId": "e8f8e638-b91b-4b42-d19e-de2b360b9343",
        "id": "5jtEPVA9-VcG"
      },
      "execution_count": 22,
      "outputs": [
        {
          "output_type": "stream",
          "name": "stdout",
          "text": [
            "Iu_not = [ 7  8  9 10 11 12]\n"
          ]
        }
      ]
    },
    {
      "cell_type": "markdown",
      "source": [
        "## 訓練データと予測対象データ"
      ],
      "metadata": {
        "id": "VxrqJVH7twUs"
      }
    },
    {
      "cell_type": "markdown",
      "source": [
        "### 21 訓練データ"
      ],
      "metadata": {
        "id": "32WxVkpl-Vnx"
      }
    },
    {
      "cell_type": "markdown",
      "source": [
        "17でやったインデキシングを`Du`に直接適用すればできるはず。"
      ],
      "metadata": {
        "id": "kQHU9X7_uJPh"
      }
    },
    {
      "cell_type": "code",
      "source": [
        "DuL = Du[~np.isnan(ru)]\n",
        "print(f'DuL = \\n{DuL}')"
      ],
      "metadata": {
        "colab": {
          "base_uri": "https://localhost:8080/"
        },
        "outputId": "2121f73e-f998-4f41-a973-d002481d9c32",
        "id": "0hOQxYBQ-Vnx"
      },
      "execution_count": 23,
      "outputs": [
        {
          "output_type": "stream",
          "name": "stdout",
          "text": [
            "DuL = \n",
            "[[ 5.  3.  1.]\n",
            " [ 6.  2.  1.]\n",
            " [ 4.  1.  1.]\n",
            " [ 8.  5. -1.]\n",
            " [ 2.  4. -1.]\n",
            " [ 3.  6. -1.]\n",
            " [ 7.  6. -1.]]\n"
          ]
        }
      ]
    },
    {
      "cell_type": "markdown",
      "source": [
        "### 22 訓練事例数"
      ],
      "metadata": {
        "id": "kuPNFUAm-W3I"
      }
    },
    {
      "cell_type": "markdown",
      "source": [
        "`np.shape`で`DuL`の行数を求めればよい。"
      ],
      "metadata": {
        "id": "ejfOJ_BSunl3"
      }
    },
    {
      "cell_type": "code",
      "source": [
        "print(f'|DuL| = {DuL.shape[0]}')"
      ],
      "metadata": {
        "colab": {
          "base_uri": "https://localhost:8080/"
        },
        "outputId": "89e76ad9-ab52-4cc9-99f7-9fbd4277a7ec",
        "id": "go4OGgW_-W3J"
      },
      "execution_count": 24,
      "outputs": [
        {
          "output_type": "stream",
          "name": "stdout",
          "text": [
            "|DuL| = 7\n"
          ]
        }
      ]
    },
    {
      "cell_type": "markdown",
      "source": [
        "### 23 正事例数"
      ],
      "metadata": {
        "id": "AcIxX7z8-W-4"
      }
    },
    {
      "cell_type": "markdown",
      "source": [
        "`np.where(ruの条件, True, False)`の長さは13なので、これでインデキシングしたい場合`DuL`を対象としてもエラーが発生する。(一敗)\n",
        "\n",
        "そのため今回は`DuL[:, -1]`、つまり`DuL`の中でも評価値の部分に対して`np.where`を利用した。"
      ],
      "metadata": {
        "id": "NWOg_RVIvnZl"
      }
    },
    {
      "cell_type": "code",
      "source": [
        "print(f'|DuL+| = {DuL[np.where(DuL[:, -1] == 1, True, False)].shape[0]}')"
      ],
      "metadata": {
        "colab": {
          "base_uri": "https://localhost:8080/"
        },
        "outputId": "4997475c-3359-41d0-c206-36cca61befbb",
        "id": "KUvjLHz0-W-4"
      },
      "execution_count": 25,
      "outputs": [
        {
          "output_type": "stream",
          "name": "stdout",
          "text": [
            "|DuL+| = 3\n"
          ]
        }
      ]
    },
    {
      "cell_type": "markdown",
      "source": [
        "### 24 不事例数"
      ],
      "metadata": {
        "id": "y15iaMB1-XGF"
      }
    },
    {
      "cell_type": "code",
      "source": [
        "print(f'|DuL-| = {DuL[np.where(DuL[:, -1] == -1, True, False)].shape[0]}')"
      ],
      "metadata": {
        "colab": {
          "base_uri": "https://localhost:8080/"
        },
        "outputId": "7d1c37ca-1fb4-4ed3-f619-b6343936ca45",
        "id": "LjaGIomn-XGG"
      },
      "execution_count": 26,
      "outputs": [
        {
          "output_type": "stream",
          "name": "stdout",
          "text": [
            "|DuL-| = 4\n"
          ]
        }
      ]
    },
    {
      "cell_type": "markdown",
      "source": [
        "### 25 予測対象事例数"
      ],
      "metadata": {
        "id": "AXT0sztr-XM_"
      }
    },
    {
      "cell_type": "markdown",
      "source": [
        "21でやったこととほぼ同じことをやればよい。`~`を外すだけ。"
      ],
      "metadata": {
        "id": "iGUnAGd3wXPU"
      }
    },
    {
      "cell_type": "code",
      "source": [
        "DuU = Du[np.isnan(ru)]\n",
        "print(f'DuU = \\n{DuU}')"
      ],
      "metadata": {
        "colab": {
          "base_uri": "https://localhost:8080/"
        },
        "outputId": "49a98be9-5dfc-432c-c08a-a46803e37d8e",
        "id": "QdpPH2QC-XM_"
      },
      "execution_count": 27,
      "outputs": [
        {
          "output_type": "stream",
          "name": "stdout",
          "text": [
            "DuU = \n",
            "[[ 4.  2. nan]\n",
            " [ 5.  1. nan]\n",
            " [ 8.  6. nan]\n",
            " [ 3.  4. nan]\n",
            " [ 4.  7. nan]\n",
            " [ 4.  4. nan]]\n"
          ]
        }
      ]
    },
    {
      "cell_type": "markdown",
      "source": [
        "### 26 予測対象事例数"
      ],
      "metadata": {
        "id": "C7b6Ta68-XUB"
      }
    },
    {
      "cell_type": "markdown",
      "source": [
        "対象を`DuU`として、22と同じことを行う。"
      ],
      "metadata": {
        "id": "a4PfotCSwqep"
      }
    },
    {
      "cell_type": "code",
      "source": [
        "print(f'|DuU| = {DuU.shape[0]}')"
      ],
      "metadata": {
        "colab": {
          "base_uri": "https://localhost:8080/"
        },
        "outputId": "4c6bfdf6-5595-4770-e10f-e43daa5d4a2a",
        "id": "meuqcRSp-XUB"
      },
      "execution_count": 28,
      "outputs": [
        {
          "output_type": "stream",
          "name": "stdout",
          "text": [
            "|DuU| = 6\n"
          ]
        }
      ]
    },
    {
      "cell_type": "markdown",
      "source": [
        "## 第2章 評価値行列"
      ],
      "metadata": {
        "id": "Kbm-qzVd5mJ6"
      }
    },
    {
      "cell_type": "markdown",
      "source": [
        "準備"
      ],
      "metadata": {
        "id": "t9pIWGBr5t35"
      }
    },
    {
      "cell_type": "code",
      "source": [
        "import pprint\n",
        "import numpy as np\n",
        "np.set_printoptions(precision=3)"
      ],
      "metadata": {
        "id": "lA1K_9__5qxo"
      },
      "execution_count": 29,
      "outputs": []
    },
    {
      "cell_type": "markdown",
      "source": [
        "## 評価値行列"
      ],
      "metadata": {
        "id": "-rACZ6-i5_dw"
      }
    },
    {
      "cell_type": "markdown",
      "source": [
        "### 01 評価値行列の生成"
      ],
      "metadata": {
        "id": "7aTfWIrw6Pbc"
      }
    },
    {
      "cell_type": "markdown",
      "source": [
        "正確に内容をトレースし、`np.nan`と`np.array`を使う。"
      ],
      "metadata": {
        "id": "O3VCKhJC78Gh"
      }
    },
    {
      "cell_type": "code",
      "source": [
        "R_list = [[np.nan, 4, 3, 1, 2, np.nan],\n",
        "          [5, 5, 4, np.nan, 3, 3],\n",
        "          [4, np.nan, 5, 3, 2, np.nan],\n",
        "          [np.nan, 3, np.nan, 2, 1, 1],\n",
        "          [2, 1, 2, 4, np.nan, 3]]\n",
        "\n",
        "R = np.array(R_list)"
      ],
      "metadata": {
        "id": "v0HnZYV25yHU"
      },
      "execution_count": 30,
      "outputs": []
    },
    {
      "cell_type": "code",
      "source": [
        "print(f'R = \\n{R}')"
      ],
      "metadata": {
        "colab": {
          "base_uri": "https://localhost:8080/"
        },
        "id": "ffxWfvNW6qOP",
        "outputId": "7fcb7e90-7f73-4ccd-b175-acbc93b13eda"
      },
      "execution_count": 31,
      "outputs": [
        {
          "output_type": "stream",
          "name": "stdout",
          "text": [
            "R = \n",
            "[[nan  4.  3.  1.  2. nan]\n",
            " [ 5.  5.  4. nan  3.  3.]\n",
            " [ 4. nan  5.  3.  2. nan]\n",
            " [nan  3. nan  2.  1.  1.]\n",
            " [ 2.  1.  2.  4. nan  3.]]\n"
          ]
        }
      ]
    },
    {
      "cell_type": "markdown",
      "source": [
        "### 02 ユーザ集合"
      ],
      "metadata": {
        "id": "syvYn4i66zEB"
      }
    },
    {
      "cell_type": "markdown",
      "source": [
        "第1章で親の顔ほど見た`np.arange(np.shape[0])`を使う。"
      ],
      "metadata": {
        "id": "wpdylazB8Bwg"
      }
    },
    {
      "cell_type": "code",
      "source": [
        "U = np.arange(R.shape[0])\n",
        "print(f'U = {U}')"
      ],
      "metadata": {
        "colab": {
          "base_uri": "https://localhost:8080/"
        },
        "id": "E2chDp_Q6ua5",
        "outputId": "21b64962-ee73-4a4e-c709-0655293bbc11"
      },
      "execution_count": 32,
      "outputs": [
        {
          "output_type": "stream",
          "name": "stdout",
          "text": [
            "U = [0 1 2 3 4]\n"
          ]
        }
      ]
    },
    {
      "cell_type": "markdown",
      "source": [
        "### 03 アイテム集合"
      ],
      "metadata": {
        "id": "Hndnj1B_8M72"
      }
    },
    {
      "cell_type": "markdown",
      "source": [
        "02と同様に、`np.arange(np.shape[1])`でなんとかする。"
      ],
      "metadata": {
        "id": "1ixUxzVB88Ax"
      }
    },
    {
      "cell_type": "code",
      "source": [
        "I = np.arange(R.shape[1])\n",
        "print(f'I = {I}')"
      ],
      "metadata": {
        "colab": {
          "base_uri": "https://localhost:8080/"
        },
        "id": "NLE_byBm76Qg",
        "outputId": "d77b2600-bbf1-48da-b825-da6890a0bbb7"
      },
      "execution_count": 33,
      "outputs": [
        {
          "output_type": "stream",
          "name": "stdout",
          "text": [
            "I = [0 1 2 3 4 5]\n"
          ]
        }
      ]
    },
    {
      "cell_type": "markdown",
      "source": [
        "### 04 ユーザ数"
      ],
      "metadata": {
        "id": "U4qRbrvd95qZ"
      }
    },
    {
      "cell_type": "markdown",
      "source": [
        "公式のヒント的に`U`に対して`np.size`を使うらしい。行列ではなくベクトルの場合だと`np.shape`との違いがいまいちわからなかったりするので調べておこうと思う。"
      ],
      "metadata": {
        "id": "sm3ihxsp9-Qt"
      }
    },
    {
      "cell_type": "code",
      "source": [
        "print(f'|U| = {U.size}')"
      ],
      "metadata": {
        "colab": {
          "base_uri": "https://localhost:8080/"
        },
        "id": "pAPAcL9O9D42",
        "outputId": "c33674ac-1211-4a24-a713-cb19776aa08a"
      },
      "execution_count": 34,
      "outputs": [
        {
          "output_type": "stream",
          "name": "stdout",
          "text": [
            "|U| = 5\n"
          ]
        }
      ]
    },
    {
      "cell_type": "markdown",
      "source": [
        "### 05 アイテム数"
      ],
      "metadata": {
        "id": "nxfRoEm7-aSR"
      }
    },
    {
      "cell_type": "markdown",
      "source": [
        "04と同じように書く。"
      ],
      "metadata": {
        "id": "_B2-z1pB-dX2"
      }
    },
    {
      "cell_type": "code",
      "source": [
        "print(f'|I| = {I.size}')"
      ],
      "metadata": {
        "colab": {
          "base_uri": "https://localhost:8080/"
        },
        "id": "J2Jpx2Tp-Hpa",
        "outputId": "1731bf89-2a94-4d99-e18e-11ab111b60c3"
      },
      "execution_count": 35,
      "outputs": [
        {
          "output_type": "stream",
          "name": "stdout",
          "text": [
            "|I| = 6\n"
          ]
        }
      ]
    },
    {
      "cell_type": "markdown",
      "source": [
        "### 06 評価値"
      ],
      "metadata": {
        "id": "cGQfLDiN-lB5"
      }
    },
    {
      "cell_type": "markdown",
      "source": [
        "$u$と$i$は与えてもらえるので、インデックスを指定して値を取り出す。"
      ],
      "metadata": {
        "id": "eUQxzKl7-nTc"
      }
    },
    {
      "cell_type": "code",
      "source": [
        "u = 0\n",
        "i = 1\n",
        "print(f'r{u}{i} = {R[u, i]}')"
      ],
      "metadata": {
        "colab": {
          "base_uri": "https://localhost:8080/"
        },
        "id": "y91_637z-hTz",
        "outputId": "bb89199d-b8ec-47f6-b264-4be177406a6a"
      },
      "execution_count": 36,
      "outputs": [
        {
          "output_type": "stream",
          "name": "stdout",
          "text": [
            "r01 = 4.0\n"
          ]
        }
      ]
    },
    {
      "cell_type": "markdown",
      "source": [
        "## 評価値行列の疎性"
      ],
      "metadata": {
        "id": "QtcM5Yq__Sgf"
      }
    },
    {
      "cell_type": "markdown",
      "source": [
        "### 07 評価値行列の全要素数"
      ],
      "metadata": {
        "id": "hWLeWAaf_N_p"
      }
    },
    {
      "cell_type": "markdown",
      "source": [
        "第1章では同じような状況で`np.size`を使っていた。今回は、`np.shape[0]*np.shape[1]`で値を取り出してみる。"
      ],
      "metadata": {
        "id": "4pzlFcZq_Z00"
      }
    },
    {
      "cell_type": "code",
      "source": [
        "print(f'Rの全要素数 = {R.shape[0]*R.shape[1]}')"
      ],
      "metadata": {
        "colab": {
          "base_uri": "https://localhost:8080/"
        },
        "id": "MOluE0En_G0a",
        "outputId": "f7475775-44b3-4c4e-9e77-2d50a2d680fd"
      },
      "execution_count": 37,
      "outputs": [
        {
          "output_type": "stream",
          "name": "stdout",
          "text": [
            "Rの全要素数 = 30\n"
          ]
        }
      ]
    },
    {
      "cell_type": "markdown",
      "source": [
        "### 08 観測されているか否かの判定"
      ],
      "metadata": {
        "id": "yq2_L1UE_pWZ"
      }
    },
    {
      "cell_type": "markdown",
      "source": [
        "`np.isnan(R)`により`R`の各成分が欠損値かどうかを確認する。今回の場合は観測されているならば`True`とするようなので別途`~`を付け加える必要がある。"
      ],
      "metadata": {
        "id": "eVnC38hw_pSr"
      }
    },
    {
      "cell_type": "code",
      "source": [
        "print(f'観測値 = \\n{~np.isnan(R)}')"
      ],
      "metadata": {
        "colab": {
          "base_uri": "https://localhost:8080/"
        },
        "id": "T03mrJkg_oRg",
        "outputId": "c7671291-58ec-49d1-b18c-bb3f4b31494e"
      },
      "execution_count": 38,
      "outputs": [
        {
          "output_type": "stream",
          "name": "stdout",
          "text": [
            "観測値 = \n",
            "[[False  True  True  True  True False]\n",
            " [ True  True  True False  True  True]\n",
            " [ True False  True  True  True False]\n",
            " [False  True False  True  True  True]\n",
            " [ True  True  True  True False  True]]\n"
          ]
        }
      ]
    },
    {
      "cell_type": "markdown",
      "source": [
        "### 09 評価値行列の観測値数"
      ],
      "metadata": {
        "id": "CYh6mMFCAF-o"
      }
    },
    {
      "cell_type": "markdown",
      "source": [
        "`np.count.nonzero()`を使えばよいらしい。そのまま真偽値のみで構成された行列に適用すると、`True`の数を数えてくれるようだ。"
      ],
      "metadata": {
        "id": "D9juWK1qAdP2"
      }
    },
    {
      "cell_type": "code",
      "source": [
        "print(f'|R| = {np.count_nonzero(~np.isnan(R))}')"
      ],
      "metadata": {
        "colab": {
          "base_uri": "https://localhost:8080/"
        },
        "id": "E0Vi8XBuABpn",
        "outputId": "c29ad454-715b-464a-d020-2f57c692d11e"
      },
      "execution_count": 39,
      "outputs": [
        {
          "output_type": "stream",
          "name": "stdout",
          "text": [
            "|R| = 22\n"
          ]
        }
      ]
    },
    {
      "cell_type": "markdown",
      "source": [
        "### 10 評価値行列の疎性"
      ],
      "metadata": {
        "id": "Er6saLpDAoBh"
      }
    },
    {
      "cell_type": "markdown",
      "source": [
        "$sparsity$の定義に基づいて計算すればよい。少しコードが冗長になると思ったので、`R.shape[index]`ではなく`R.size`を使って計算している。"
      ],
      "metadata": {
        "id": "TgjSlEkoApz9"
      }
    },
    {
      "cell_type": "code",
      "source": [
        "sparsity = (R.size-np.count_nonzero(~np.isnan(R)))/R.size\n",
        "print(f'sparsity = {sparsity:.3f}')"
      ],
      "metadata": {
        "colab": {
          "base_uri": "https://localhost:8080/"
        },
        "id": "WD0DPIULAYcX",
        "outputId": "a51d9621-4be9-442d-dd2a-0883f8de45fc"
      },
      "execution_count": 40,
      "outputs": [
        {
          "output_type": "stream",
          "name": "stdout",
          "text": [
            "sparsity = 0.267\n"
          ]
        }
      ]
    },
    {
      "cell_type": "markdown",
      "source": [
        "## 評価済みアイテム集合"
      ],
      "metadata": {
        "id": "CHpZr6H9BmOQ"
      }
    },
    {
      "cell_type": "markdown",
      "source": [
        "### 11 ユーザ$u$が評価済みのアイテム集合$I_u$"
      ],
      "metadata": {
        "id": "Kg4LZNefAqzD"
      }
    },
    {
      "cell_type": "markdown",
      "source": [
        "$u$が与えられるので、`R`の`u`行目の中で欠損値ではないインデックスのみを返すようにする。"
      ],
      "metadata": {
        "id": "o_dnsQEwAqzD"
      }
    },
    {
      "cell_type": "code",
      "source": [
        "u = 0\n",
        "print(f'I{u} = {I[~np.isnan(R[u, :])]}')"
      ],
      "metadata": {
        "colab": {
          "base_uri": "https://localhost:8080/"
        },
        "id": "2sWcP2MaAqzD",
        "outputId": "fbaf1e64-2e4a-49bd-a44e-04b6c9512395"
      },
      "execution_count": 41,
      "outputs": [
        {
          "output_type": "stream",
          "name": "stdout",
          "text": [
            "I0 = [1 2 3 4]\n"
          ]
        }
      ]
    },
    {
      "cell_type": "markdown",
      "source": [
        "### 12 各ユーザの評価済みアイテム集合"
      ],
      "metadata": {
        "id": "f1gMd1DVArAq"
      }
    },
    {
      "cell_type": "markdown",
      "source": [
        "ポイントは、多分以下だと思う。\n",
        "\n",
        "- `ndarray`のリストとしてまとめるという点\n",
        "  - リストにする際に内包表記を利用する点\n",
        "- pprintを利用する点"
      ],
      "metadata": {
        "id": "KGPf5CCVArAr"
      }
    },
    {
      "cell_type": "code",
      "source": [
        "Iu = [I[~np.isnan(R[u, :])] for u in range(U.size)]\n",
        "print('Iu = ')\n",
        "pprint.pprint(Iu)"
      ],
      "metadata": {
        "colab": {
          "base_uri": "https://localhost:8080/"
        },
        "id": "4CGBWy1QArAr",
        "outputId": "6847f4f5-faaa-4f85-ccd9-d05039c3e50e"
      },
      "execution_count": 42,
      "outputs": [
        {
          "output_type": "stream",
          "name": "stdout",
          "text": [
            "Iu = \n",
            "[array([1, 2, 3, 4]),\n",
            " array([0, 1, 2, 4, 5]),\n",
            " array([0, 2, 3, 4]),\n",
            " array([1, 3, 4, 5]),\n",
            " array([0, 1, 2, 3, 5])]\n"
          ]
        }
      ]
    },
    {
      "cell_type": "markdown",
      "source": [
        "### 13 ユーザ$u$と$v$の共通の評価済みアイテム集合$I_{u, v}$"
      ],
      "metadata": {
        "id": "pJYz7_NToFl0"
      }
    },
    {
      "cell_type": "markdown",
      "source": [
        "$u$と$v$が与えられるので、11のように評価済みアイテムを得てその共通部分をとることで望みのベクトルが得られる。共通部分の取り方は、案内通り`np.intersect1d(ndarray1, ndarray2)`を使えばよい。"
      ],
      "metadata": {
        "id": "U4_hri5XoFiB"
      }
    },
    {
      "cell_type": "code",
      "source": [
        "u = 0\n",
        "v = 1\n",
        "temp_u = Iu[u]\n",
        "temp_v = Iu[v]\n",
        "Iuv = np.intersect1d(temp_u, temp_v)\n",
        "print(f'I{u}{v} = {Iuv}')"
      ],
      "metadata": {
        "colab": {
          "base_uri": "https://localhost:8080/"
        },
        "id": "jx99PE4mnOoM",
        "outputId": "00b48366-86b7-41f8-d2f1-600d1de30633"
      },
      "execution_count": 43,
      "outputs": [
        {
          "output_type": "stream",
          "name": "stdout",
          "text": [
            "I01 = [1 2 4]\n"
          ]
        }
      ]
    },
    {
      "cell_type": "markdown",
      "source": [
        "### 14 アイテム$i$を評価済みのユーザ集合"
      ],
      "metadata": {
        "id": "yltqhnDjrIUE"
      }
    },
    {
      "cell_type": "markdown",
      "source": [
        "$i$が与えられるので、`U`から$i$列目が`np.nan`でないインデックスを返すように`~np.isnan()`を使う。"
      ],
      "metadata": {
        "id": "N15oPjBCrIPm"
      }
    },
    {
      "cell_type": "code",
      "source": [
        "i = 0\n",
        "print(f'U{i} = {U[~np.isnan(R[:, i])]}')"
      ],
      "metadata": {
        "colab": {
          "base_uri": "https://localhost:8080/"
        },
        "id": "UVmKE2tFop3H",
        "outputId": "9bf5a1e0-b721-41cf-9a2c-ad4b6c9481a5"
      },
      "execution_count": 44,
      "outputs": [
        {
          "output_type": "stream",
          "name": "stdout",
          "text": [
            "U0 = [1 2 4]\n"
          ]
        }
      ]
    },
    {
      "cell_type": "markdown",
      "source": [
        "### 15 各アイテムの評価済みユーザ集合"
      ],
      "metadata": {
        "id": "HfABfwRdrLZ2"
      }
    },
    {
      "cell_type": "markdown",
      "source": [
        "11のコードを参考に12のコードを作ったように、14のコードを修正する。"
      ],
      "metadata": {
        "id": "1LEsIDh6rLZ2"
      }
    },
    {
      "cell_type": "code",
      "source": [
        "Ui = [U[~np.isnan(R[:, i])] for i in range(I.size)]\n",
        "print('Ui = ')\n",
        "pprint.pprint(Ui)"
      ],
      "metadata": {
        "colab": {
          "base_uri": "https://localhost:8080/"
        },
        "id": "aTCB7402rLZ2",
        "outputId": "8db12afd-ae33-43d0-f8f8-47c4625cd705"
      },
      "execution_count": 45,
      "outputs": [
        {
          "output_type": "stream",
          "name": "stdout",
          "text": [
            "Ui = \n",
            "[array([1, 2, 4]),\n",
            " array([0, 1, 3, 4]),\n",
            " array([0, 1, 2, 4]),\n",
            " array([0, 2, 3, 4]),\n",
            " array([0, 1, 2, 3]),\n",
            " array([1, 3, 4])]\n"
          ]
        }
      ]
    },
    {
      "cell_type": "markdown",
      "source": [
        "### 16 アイテム$i$とアイテム$j$の両方を評価済みのユーザ集合$U_{i, j}$"
      ],
      "metadata": {
        "id": "bmJlH9yZrLkC"
      }
    },
    {
      "cell_type": "markdown",
      "source": [
        "13と同じノリで作ることができる。"
      ],
      "metadata": {
        "id": "cvA7TCHarLkD"
      }
    },
    {
      "cell_type": "code",
      "source": [
        "i = 0\n",
        "j = 4\n",
        "temp_i = Ui[i]\n",
        "temp_j = Ui[j]\n",
        "Uij = np.intersect1d(temp_i, temp_j)\n",
        "print(f'U{i}{j} = {Uij}')"
      ],
      "metadata": {
        "colab": {
          "base_uri": "https://localhost:8080/"
        },
        "id": "RgBK2-k0rLkD",
        "outputId": "c1709892-8a1c-4dea-f9db-5beca62106e6"
      },
      "execution_count": 46,
      "outputs": [
        {
          "output_type": "stream",
          "name": "stdout",
          "text": [
            "U04 = [1 2]\n"
          ]
        }
      ]
    },
    {
      "cell_type": "markdown",
      "source": [
        "### 17 評価値行列全体の平均評価値"
      ],
      "metadata": {
        "id": "tiWn7WxkrLw2"
      }
    },
    {
      "cell_type": "markdown",
      "source": [
        "まずは、何も考えずに`R`を`np.mean()`で平均することを考えたい。すると、悲しいことに以下のようになるので`np.nan`を避ける必要がある。"
      ],
      "metadata": {
        "id": "PK1apWN1rLw2"
      }
    },
    {
      "cell_type": "code",
      "source": [
        "np.mean(R)"
      ],
      "metadata": {
        "colab": {
          "base_uri": "https://localhost:8080/"
        },
        "id": "3xHpDyjLrLw3",
        "outputId": "b441f11a-2a5e-4d04-8ead-9573c7c0e25b"
      },
      "execution_count": 47,
      "outputs": [
        {
          "output_type": "execute_result",
          "data": {
            "text/plain": [
              "nan"
            ]
          },
          "metadata": {},
          "execution_count": 47
        }
      ]
    },
    {
      "cell_type": "markdown",
      "source": [
        "ここで、元ネタの記事にもある通り`np.nanmean()`をすることで`np.nan`を除外した平均を算出できる。"
      ],
      "metadata": {
        "id": "TDYNNqIM49XU"
      }
    },
    {
      "cell_type": "code",
      "source": [
        "print(f'R全体の平均評価値 = {np.nanmean(R):.3f}')"
      ],
      "metadata": {
        "colab": {
          "base_uri": "https://localhost:8080/"
        },
        "id": "1mFDcytp5J9P",
        "outputId": "37b9c0fe-80f7-40cf-96a9-6757320d181b"
      },
      "execution_count": 48,
      "outputs": [
        {
          "output_type": "stream",
          "name": "stdout",
          "text": [
            "R全体の平均評価値 = 2.864\n"
          ]
        }
      ]
    },
    {
      "cell_type": "markdown",
      "source": [
        "### 18 各アイテムの平均評価値"
      ],
      "metadata": {
        "id": "ajacQeFdrMDt"
      }
    },
    {
      "cell_type": "markdown",
      "source": [
        "便利だった`np.nanmean()`も`np.mean()`と同様に`axis`を設定できるのでそれを素直に行うことで結果を得る。この場合`axis=0`を指定する必要がある。"
      ],
      "metadata": {
        "id": "75NAg_6IrMDt"
      }
    },
    {
      "cell_type": "code",
      "source": [
        "ri_mean = np.nanmean(R, axis=0)\n",
        "print(f'ri_mean = {ri_mean}')"
      ],
      "metadata": {
        "colab": {
          "base_uri": "https://localhost:8080/"
        },
        "id": "oYrI6oHJrMDt",
        "outputId": "58726586-882d-4789-c4cb-bf180bf97e95"
      },
      "execution_count": 49,
      "outputs": [
        {
          "output_type": "stream",
          "name": "stdout",
          "text": [
            "ri_mean = [3.667 3.25  3.5   2.5   2.    2.333]\n"
          ]
        }
      ]
    },
    {
      "cell_type": "markdown",
      "source": [
        "### 19 各ユーザの平均評価値"
      ],
      "metadata": {
        "id": "kDKN6gQ7rMOd"
      }
    },
    {
      "cell_type": "markdown",
      "source": [
        "18の、`axis=1`版を作ればよい。"
      ],
      "metadata": {
        "id": "7poCzt6urMOe"
      }
    },
    {
      "cell_type": "code",
      "source": [
        "ru_mean = np.nanmean(R, axis=1)\n",
        "print(f'ru_mean = {ru_mean}')"
      ],
      "metadata": {
        "colab": {
          "base_uri": "https://localhost:8080/"
        },
        "id": "znwG7NrarMOe",
        "outputId": "1dabab49-a58b-4259-8852-0719cfceb14d"
      },
      "execution_count": 50,
      "outputs": [
        {
          "output_type": "stream",
          "name": "stdout",
          "text": [
            "ru_mean = [2.5  4.   3.5  1.75 2.4 ]\n"
          ]
        }
      ]
    },
    {
      "cell_type": "markdown",
      "source": [
        "### 20 評価値ベクトルの形状変換"
      ],
      "metadata": {
        "id": "D2cl_WdYrMfq"
      }
    },
    {
      "cell_type": "markdown",
      "source": [
        "記載がある通り、`ndarray.reshape()`を使うことで望みの結果を得る。今回は`ru_mean`を縦ベクトルのような表示にすることが目標となっていて、`reshape(-1, 1)`とするのがいいらしいが紛らわしいと思ってしまった。"
      ],
      "metadata": {
        "id": "DNl829hMrMfq"
      }
    },
    {
      "cell_type": "code",
      "source": [
        "print(f'ru_mean = \\n{ru_mean.reshape(-1, 1)}')"
      ],
      "metadata": {
        "colab": {
          "base_uri": "https://localhost:8080/"
        },
        "id": "R2XcX37arMfq",
        "outputId": "c673c18b-57d8-4f00-a2e2-3be993bf02e3"
      },
      "execution_count": 51,
      "outputs": [
        {
          "output_type": "stream",
          "name": "stdout",
          "text": [
            "ru_mean = \n",
            "[[2.5 ]\n",
            " [4.  ]\n",
            " [3.5 ]\n",
            " [1.75]\n",
            " [2.4 ]]\n"
          ]
        }
      ]
    },
    {
      "cell_type": "markdown",
      "source": [
        "### 21 平均中心化評価値行列"
      ],
      "metadata": {
        "id": "8nbZ9RMorMmy"
      }
    },
    {
      "cell_type": "markdown",
      "source": [
        "`R - ru_mean`は計算できず、エラーが発生する。ブロードキャストによって計算できそうだと期待してやってみた結果これがでたのでちょっとつらいが`内包表記`によって`R`との差をとるような計算を試みた。理想的な解答とはかなり乖離していると思われるので、あとで調べてメモっておく。"
      ],
      "metadata": {
        "id": "T1wiGQK8rMmy"
      }
    },
    {
      "cell_type": "markdown",
      "source": [
        "以下、内包表記を利用した計算。一応値は合っているのだが`ndarray.reshape()`を使う方法を思いつかなかったのが悲しい。"
      ],
      "metadata": {
        "id": "y-0yI3Wx9WLt"
      }
    },
    {
      "cell_type": "code",
      "source": [
        "rubar = np.array([[rm] * I.size for rm in ru_mean])\n",
        "R2 = R - rubar\n",
        "print(f'R\\' = \\n{R2}')"
      ],
      "metadata": {
        "colab": {
          "base_uri": "https://localhost:8080/"
        },
        "id": "MNl-SpjT8Qeu",
        "outputId": "7a61b6bc-9282-4e59-e4a0-e30e6431b0d9"
      },
      "execution_count": 52,
      "outputs": [
        {
          "output_type": "stream",
          "name": "stdout",
          "text": [
            "R' = \n",
            "[[  nan  1.5   0.5  -1.5  -0.5    nan]\n",
            " [ 1.    1.    0.     nan -1.   -1.  ]\n",
            " [ 0.5    nan  1.5  -0.5  -1.5    nan]\n",
            " [  nan  1.25   nan  0.25 -0.75 -0.75]\n",
            " [-0.4  -1.4  -0.4   1.6    nan  0.6 ]]\n"
          ]
        }
      ]
    },
    {
      "cell_type": "markdown",
      "source": [
        "## 第3章 類似度に基づく推薦"
      ],
      "metadata": {
        "id": "jEvMpNJKHnn5"
      }
    },
    {
      "cell_type": "markdown",
      "source": [
        "準備"
      ],
      "metadata": {
        "id": "tpy8jHulHx_V"
      }
    },
    {
      "cell_type": "code",
      "source": [
        "import pprint\n",
        "import numpy as np\n",
        "\n",
        "# 上位K件\n",
        "TOP_K = 3\n",
        "\n",
        "Du = np.array([\n",
        "               [5, 3, +1],\n",
        "               [6, 2, +1],\n",
        "               [4, 1, +1],\n",
        "               [8, 5, -1],\n",
        "               [2, 4, -1],\n",
        "               [3, 6, -1],\n",
        "               [7, 6, -1],\n",
        "               [4, 2, np.nan],\n",
        "               [5, 1, np.nan],\n",
        "               [8, 6, np.nan],\n",
        "               [3, 4, np.nan],\n",
        "               [4, 7, np.nan],\n",
        "               [4, 4, np.nan],\n",
        "])\n",
        "I = np.arange(Du.shape[0])\n",
        "x = Du[:,:-1]\n",
        "ru = Du[:,-1]\n",
        "\n",
        "Iu = I[~np.isnan(ru)]\n",
        "Iup = I[ru==+1]\n",
        "Iun = I[ru==-1]\n",
        "Iu_not = np.setdiff1d(I, Iu)"
      ],
      "metadata": {
        "id": "33vHsjHWHzHS"
      },
      "execution_count": 53,
      "outputs": []
    },
    {
      "cell_type": "markdown",
      "source": [
        "## ユーザプロファイル"
      ],
      "metadata": {
        "id": "5AddWMhzI3CL"
      }
    },
    {
      "cell_type": "markdown",
      "source": [
        "### 01 好きなアイテム集合に含まれるアイテムの特徴ベクトルの集合"
      ],
      "metadata": {
        "id": "LFVa_zu_-BCu"
      }
    },
    {
      "cell_type": "markdown",
      "source": [
        "`x`は以下の通りであるから、`ru`が`1`となっているインデックスのみが`True`になるようなベクトルを使ってあげればよいはず。"
      ],
      "metadata": {
        "id": "vDIQVDWN-E0c"
      }
    },
    {
      "cell_type": "code",
      "source": [
        "x"
      ],
      "metadata": {
        "id": "U84sFRoEIY9_",
        "colab": {
          "base_uri": "https://localhost:8080/"
        },
        "outputId": "f2da36fb-197d-421a-c460-ace3d83ed5d0"
      },
      "execution_count": 54,
      "outputs": [
        {
          "output_type": "execute_result",
          "data": {
            "text/plain": [
              "array([[5., 3.],\n",
              "       [6., 2.],\n",
              "       [4., 1.],\n",
              "       [8., 5.],\n",
              "       [2., 4.],\n",
              "       [3., 6.],\n",
              "       [7., 6.],\n",
              "       [4., 2.],\n",
              "       [5., 1.],\n",
              "       [8., 6.],\n",
              "       [3., 4.],\n",
              "       [4., 7.],\n",
              "       [4., 4.]])"
            ]
          },
          "metadata": {},
          "execution_count": 54
        }
      ]
    },
    {
      "cell_type": "markdown",
      "source": [
        "従って、以下のように書くことで答えを得た。`np.where()`を用いることによって、`ru`の値が`1`のところのみ`True`になるようにしている。"
      ],
      "metadata": {
        "id": "TeEXemw4-gEw"
      }
    },
    {
      "cell_type": "code",
      "source": [
        "print(f'x[Iu+] = \\n{x[np.where(ru == 1, True, False)]}')"
      ],
      "metadata": {
        "colab": {
          "base_uri": "https://localhost:8080/"
        },
        "id": "rRNQMnkY-LFc",
        "outputId": "73ac1502-c8f9-4f3f-8cd9-664cedea4ab9"
      },
      "execution_count": 55,
      "outputs": [
        {
          "output_type": "stream",
          "name": "stdout",
          "text": [
            "x[Iu+] = \n",
            "[[5. 3.]\n",
            " [6. 2.]\n",
            " [4. 1.]]\n"
          ]
        }
      ]
    },
    {
      "cell_type": "markdown",
      "source": [
        "### 02 特徴ベクトルの総和"
      ],
      "metadata": {
        "id": "_4l9ZhqD_bov"
      }
    },
    {
      "cell_type": "markdown",
      "source": [
        "これは、01で得た`Iu+`に対して、`axis`を工夫して総和をとればよいはずだ。今回は行方向に和をとるはずだから、`axis=0`を使えばいいかもしれない。"
      ],
      "metadata": {
        "id": "HG2ecTRG_inl"
      }
    },
    {
      "cell_type": "code",
      "source": [
        "print(f'sum(x[Iu+]) = {x[np.where(ru == 1, True, False)].sum(axis=0)}')"
      ],
      "metadata": {
        "colab": {
          "base_uri": "https://localhost:8080/"
        },
        "id": "6nj_SELT-_lr",
        "outputId": "a0382000-c7d8-4690-c41a-e7956abca47e"
      },
      "execution_count": 56,
      "outputs": [
        {
          "output_type": "stream",
          "name": "stdout",
          "text": [
            "sum(x[Iu+]) = [15.  6.]\n"
          ]
        }
      ]
    },
    {
      "cell_type": "markdown",
      "source": [
        "### 03 ユーザプロファイル"
      ],
      "metadata": {
        "id": "aRVnjqWeAFNg"
      }
    },
    {
      "cell_type": "markdown",
      "source": [
        "02のコードについて、総和ではなく平均をとるように修正すればよい。"
      ],
      "metadata": {
        "id": "F5r-SQ7eAH3p"
      }
    },
    {
      "cell_type": "code",
      "source": [
        "pu = x[np.where(ru == 1, True, False)].mean(axis=0)\n",
        "print(f'pu = {pu}')"
      ],
      "metadata": {
        "colab": {
          "base_uri": "https://localhost:8080/"
        },
        "id": "HTKQvzEu_1C8",
        "outputId": "d8033882-c08f-415c-b7d5-5409cd1232ef"
      },
      "execution_count": 57,
      "outputs": [
        {
          "output_type": "stream",
          "name": "stdout",
          "text": [
            "pu = [5. 2.]\n"
          ]
        }
      ]
    },
    {
      "cell_type": "markdown",
      "source": [
        "## コサイン類似度"
      ],
      "metadata": {
        "id": "GvmMLgeFA0Ri"
      }
    },
    {
      "cell_type": "markdown",
      "source": [
        "### 04 ベクトルの内積"
      ],
      "metadata": {
        "id": "IlKKy4PbAJJB"
      }
    },
    {
      "cell_type": "markdown",
      "source": [
        "ここでは、04から06までの3問を解いて一部コードを与えられた関数`cos`を完成させることを考える。"
      ],
      "metadata": {
        "id": "6ztslFR-EFc2"
      }
    },
    {
      "cell_type": "markdown",
      "source": [
        "内積`num`は、よく用いられる`@`か`np.dot()`を利用して計算されるので今回もそれを用いて計算していく。"
      ],
      "metadata": {
        "id": "p4r64vZwA-qE"
      }
    },
    {
      "cell_type": "markdown",
      "source": [
        "### 05 ユーザプロファイルのノルム"
      ],
      "metadata": {
        "id": "xK6KAjvoAJJC"
      }
    },
    {
      "cell_type": "markdown",
      "source": [
        "ユーザプロファイルのノルム`den_u`は、`np.linalg.norm()`をユーザプロファイルのベクトルに使うことで計算可能なはずだ。引数`ord`は何も設定しない場合デフォルトで`2`になったような気もするが、一応指定はしておく。"
      ],
      "metadata": {
        "id": "0W03a7EkBfDt"
      }
    },
    {
      "cell_type": "markdown",
      "source": [
        "### 06 特徴ベクトルのノルム"
      ],
      "metadata": {
        "id": "bXWM5BYbAJTo"
      }
    },
    {
      "cell_type": "markdown",
      "source": [
        "05のコードに対して、`np.linalg.norm()`の引数に指定するベクトルを`xi`に変更すればよい。"
      ],
      "metadata": {
        "id": "T_Ch6HQUAJTp"
      }
    },
    {
      "cell_type": "markdown",
      "source": [
        "以下では、04から06までの問の答えを用意して`cos`関数を作成し、実行結果を確認している。"
      ],
      "metadata": {
        "id": "ALkc3vlmCUR5"
      }
    },
    {
      "cell_type": "code",
      "source": [
        "def cos(pu, xi):\n",
        "    \"\"\"\n",
        "    コサイン類似度関数：ユーザプロファイルpuとアイテムiの特徴ベクトルxiのコサイン類似度を返す。\n",
        "\n",
        "    Parameters\n",
        "    ----------\n",
        "    pu : ndarray\n",
        "        ユーザuのユーザプロファイル\n",
        "    xi : ndarray\n",
        "        アイテムiの特徴ベクトル\n",
        "\n",
        "    Returns\n",
        "    -------\n",
        "    float\n",
        "        コサイン類似度\n",
        "    \"\"\"\n",
        "    num = pu@xi\n",
        "    print(f'num = {num}')\n",
        "    den_u = np.linalg.norm(pu, ord=2)\n",
        "    print('den_u = {:.3f}'.format(den_u))\n",
        "    den_i = np.linalg.norm(xi, ord=2)\n",
        "    print('den_i = {:.3f}'.format(den_i))\n",
        "    \n",
        "    cosine = num / (den_u * den_i)\n",
        "    return cosine"
      ],
      "metadata": {
        "id": "DAb3J7G_AJTp"
      },
      "execution_count": 58,
      "outputs": []
    },
    {
      "cell_type": "code",
      "source": [
        "u = 0\n",
        "i = 7\n",
        "print(f'cos(p{u}, x{i}) = {cos(pu, x[i]):.3f}')\n",
        "u = 0\n",
        "i = 11\n",
        "print(f'cos(p{u}, x{i}) = {cos(pu, x[i]):.3f}')"
      ],
      "metadata": {
        "colab": {
          "base_uri": "https://localhost:8080/"
        },
        "id": "ECvSnrBVCxuS",
        "outputId": "edd2430e-85c8-498d-eaaf-b1e0670f205f"
      },
      "execution_count": 59,
      "outputs": [
        {
          "output_type": "stream",
          "name": "stdout",
          "text": [
            "num = 24.0\n",
            "den_u = 5.385\n",
            "den_i = 4.472\n",
            "cos(p0, x7) = 0.997\n",
            "num = 34.0\n",
            "den_u = 5.385\n",
            "den_i = 8.062\n",
            "cos(p0, x11) = 0.783\n"
          ]
        }
      ]
    },
    {
      "cell_type": "markdown",
      "source": [
        "## 推薦"
      ],
      "metadata": {
        "id": "LzIDueHcJpxo"
      }
    },
    {
      "cell_type": "markdown",
      "source": [
        "### 07 各アイテムに対するスコア"
      ],
      "metadata": {
        "id": "97PccxHhAJf8"
      }
    },
    {
      "cell_type": "markdown",
      "source": [
        "ここでは、07と08の問題を解いて一部コードを与えられた関数`order`を完成させることを考える。"
      ],
      "metadata": {
        "id": "QdyiCj2vAJf9"
      }
    },
    {
      "cell_type": "markdown",
      "source": [
        "結果から、変数`scores`は、以下のような条件を満たす辞書型の変数となる。\n",
        "- キーは`np.nan`だったアイテムのインデックス\n",
        "  - `Iu_not`があるのでこれを用いる\n",
        "- バリューはキーのアイテムベクトルとユーザプロファイルのスコアをとったもの\n",
        "\n",
        "これらを満たすよう、今回は辞書の内包表記を用いて記述する。"
      ],
      "metadata": {
        "id": "w7J5U8_YEVJI"
      }
    },
    {
      "cell_type": "markdown",
      "source": [
        "### 08 推薦リスト"
      ],
      "metadata": {
        "id": "AagUIeTBFR1C"
      }
    },
    {
      "cell_type": "markdown",
      "source": [
        "単純に辞書型の変数`scores`をバリューによって並び替えればよい。引数`reverse`を`True`にすることで降順にする点もポイント。"
      ],
      "metadata": {
        "id": "GMqA13FZFi4A"
      }
    },
    {
      "cell_type": "markdown",
      "source": [
        "以下では、07から08までの問の答えを用意して`order`関数を作成し、実行結果を確認している。`cos`関数をそのまま実行すると`print`文が実行されてしまうので、`cos2`関数を用意してプリントされないようにしている。"
      ],
      "metadata": {
        "id": "Hy5s8YGkGf5J"
      }
    },
    {
      "cell_type": "code",
      "source": [
        "def cos2(pu, xi):\n",
        "    \"\"\"\n",
        "    コサイン類似度関数：ユーザプロファイルpuとアイテムiの特徴ベクトルxiのコサイン類似度を返す。\n",
        "\n",
        "    Parameters\n",
        "    ----------\n",
        "    pu : ndarray\n",
        "        ユーザuのユーザプロファイル\n",
        "    xi : ndarray\n",
        "        アイテムiの特徴ベクトル\n",
        "\n",
        "    Returns\n",
        "    -------\n",
        "    float\n",
        "        コサイン類似度\n",
        "    \"\"\"\n",
        "    num = pu@xi\n",
        "    den_u = np.linalg.norm(pu, ord=2)\n",
        "    den_i = np.linalg.norm(xi, ord=2)\n",
        "    \n",
        "    cosine = num / (den_u * den_i)\n",
        "    return cosine"
      ],
      "metadata": {
        "id": "yl6PtfAdI1Zx"
      },
      "execution_count": 60,
      "outputs": []
    },
    {
      "cell_type": "code",
      "source": [
        "def score(u, i):\n",
        "    \"\"\"\n",
        "    スコア関数：ユーザuのアイテムiに対するスコアを返す。\n",
        "\n",
        "    Parameters\n",
        "    ----------\n",
        "    u : int\n",
        "        ユーザuのID（ダミー）\n",
        "    i : int\n",
        "        アイテムiのID\n",
        "\n",
        "    Returns\n",
        "    -------\n",
        "    float\n",
        "        スコア\n",
        "    \"\"\"\n",
        "    return cos2(pu, x[i])"
      ],
      "metadata": {
        "id": "tlmEL4_sAJf9"
      },
      "execution_count": 61,
      "outputs": []
    },
    {
      "cell_type": "code",
      "source": [
        "def order(u, I):\n",
        "    \"\"\"\n",
        "    順序付け関数：アイテム集合Iにおいて、ユーザu向けの推薦リストを返す。\n",
        "\n",
        "    Parameters\n",
        "    ----------\n",
        "    u : int\n",
        "        ユーザuのID\n",
        "    I : ndarray\n",
        "        アイテム集合\n",
        "\n",
        "    Returns\n",
        "    -------\n",
        "    list\n",
        "        タプル(アイテムID: スコア)を要素にした推薦リスト\n",
        "    \"\"\"\n",
        "    scores = {i: score(u, i) for i in I}\n",
        "    print('scores = ')\n",
        "    pprint.pprint(scores)\n",
        "    rec_list = sorted(scores.items(), key=lambda x:x[1], reverse=True)[:TOP_K]\n",
        "    return rec_list"
      ],
      "metadata": {
        "id": "MY0sMEfUGlRb"
      },
      "execution_count": 62,
      "outputs": []
    },
    {
      "cell_type": "code",
      "source": [
        "u = 0\n",
        "rec_list = order(u, Iu_not)\n",
        "print('rec_list = ')\n",
        "for i, scr in rec_list:\n",
        "    print('{}: {:.3f}'.format(i, scr))"
      ],
      "metadata": {
        "colab": {
          "base_uri": "https://localhost:8080/"
        },
        "id": "pRZJkYhLIAj1",
        "outputId": "382a119e-9598-4684-cecc-1e1720e13692"
      },
      "execution_count": 63,
      "outputs": [
        {
          "output_type": "stream",
          "name": "stdout",
          "text": [
            "scores = \n",
            "{7: 0.9965457582448796,\n",
            " 8: 0.9832820049844603,\n",
            " 9: 0.9656157585206697,\n",
            " 10: 0.8541985556144386,\n",
            " 11: 0.783110847498294,\n",
            " 12: 0.9191450300180578}\n",
            "rec_list = \n",
            "7: 0.997\n",
            "8: 0.983\n",
            "9: 0.966\n"
          ]
        }
      ]
    },
    {
      "cell_type": "markdown",
      "source": [
        "## 第4章 $k$近傍法"
      ],
      "metadata": {
        "id": "T4udvuXkLutD"
      }
    },
    {
      "cell_type": "markdown",
      "source": [
        "準備"
      ],
      "metadata": {
        "id": "IyKPfoNHMBMV"
      }
    },
    {
      "cell_type": "code",
      "source": [
        "import pprint\n",
        "import numpy as np\n",
        "np.set_printoptions(precision=3)\n",
        "\n",
        "# 上位K件\n",
        "TOP_K = 3\n",
        "# 近傍アイテム数\n",
        "K_ITEMS = 3\n",
        "# しきい値\n",
        "THETA = 0\n",
        "\n",
        "Du = np.array([\n",
        "               [5, 3, +1],\n",
        "               [6, 2, +1],\n",
        "               [4, 1, +1],\n",
        "               [8, 5, -1],\n",
        "               [2, 4, -1],\n",
        "               [3, 6, -1],\n",
        "               [7, 6, -1],\n",
        "               [4, 2, np.nan],\n",
        "               [5, 1, np.nan],\n",
        "               [8, 6, np.nan],\n",
        "               [3, 4, np.nan],\n",
        "               [4, 7, np.nan],\n",
        "               [4, 4, np.nan],\n",
        "])\n",
        "I = np.arange(Du.shape[0])\n",
        "x = Du[:,:-1]\n",
        "ru = Du[:,-1]\n",
        "\n",
        "Iu = I[~np.isnan(ru)]\n",
        "Iup = I[ru==+1]\n",
        "Iun = I[ru==-1]\n",
        "Iu_not = np.setdiff1d(I, Iu)"
      ],
      "metadata": {
        "id": "hXZlZmB-MDEw"
      },
      "execution_count": 64,
      "outputs": []
    },
    {
      "cell_type": "markdown",
      "source": [
        "## 距離"
      ],
      "metadata": {
        "id": "dRODLRDZMRDG"
      }
    },
    {
      "cell_type": "markdown",
      "source": [
        "### 01 ユークリッド距離"
      ],
      "metadata": {
        "id": "CKFn_S7fMIFi"
      }
    },
    {
      "cell_type": "markdown",
      "source": [
        "この問題では、一部コードを与えられた関数`dist`を完成させる。`dist`では2つのベクトルを入力としてそのユークリッド距離を返すものなので、2つのベクトルの差に対して`np.linalg.norm`を使えばよいはずだ。"
      ],
      "metadata": {
        "id": "OzhrlSNQMMnX"
      }
    },
    {
      "cell_type": "code",
      "source": [
        "def dist(xi, xj):\n",
        "    \"\"\"\n",
        "    距離関数：アイテムiの特徴ベクトルxiとアイテムjの特徴ベクトルxjのユークリッド距離を返す。\n",
        "\n",
        "    Parameters\n",
        "    ----------\n",
        "    xi : ndarray\n",
        "        アイテムiの特徴ベクトル\n",
        "    xj : ndarray\n",
        "        アイテムjの特徴ベクトル\n",
        "\n",
        "    Returns\n",
        "    -------\n",
        "    float\n",
        "        ユークリッド距離\n",
        "    \"\"\"\n",
        "    distance = np.linalg.norm(xi-xj, ord = 2)\n",
        "    return distance"
      ],
      "metadata": {
        "id": "efIJq3UaMFhF"
      },
      "execution_count": 65,
      "outputs": []
    },
    {
      "cell_type": "code",
      "source": [
        "i = 7\n",
        "j = 2\n",
        "print(f'dist(x{i}, x{j}) = {dist(x[i], x[j]):.3f}')\n",
        "i = 7\n",
        "j = 3\n",
        "print(f'dist(x{i}, x{j}) = {dist(x[i], x[j]):.3f}')"
      ],
      "metadata": {
        "colab": {
          "base_uri": "https://localhost:8080/"
        },
        "id": "Ur_UAdxSNBJc",
        "outputId": "50fbf2ce-8a92-41fc-983f-16429665c516"
      },
      "execution_count": 66,
      "outputs": [
        {
          "output_type": "stream",
          "name": "stdout",
          "text": [
            "dist(x7, x2) = 1.000\n",
            "dist(x7, x3) = 5.000\n"
          ]
        }
      ]
    },
    {
      "cell_type": "markdown",
      "source": [
        "## 近傍アイテム"
      ],
      "metadata": {
        "id": "vZPHyaMXNRxx"
      }
    },
    {
      "cell_type": "markdown",
      "source": [
        "### 02 アイテム-アイテム距離行列"
      ],
      "metadata": {
        "id": "0WgsXn3ZMNh5"
      }
    },
    {
      "cell_type": "markdown",
      "source": [
        "`Iu`と`Iu_not`の両方からアイテムを取り出し、アイテムの持つベクトルの距離を`dist`関数を使って求める問題である。とりあえず`np.array()`により2重内包表記の結果を包むことで答えと同じものが返ってくるようにはしたけど、題意的には正解と言いがたいかもしれない。あと、正直`D[np.ix_(Iu_not,Iu)]`がよくわかっていない。"
      ],
      "metadata": {
        "id": "SgJcjGXyMNh5"
      }
    },
    {
      "cell_type": "code",
      "source": [
        "D = np.array([[dist(x[i], x[j]) for i in Iu] for j in Iu_not])\n",
        "print(f'D = \\n{D}')"
      ],
      "metadata": {
        "colab": {
          "base_uri": "https://localhost:8080/"
        },
        "id": "IlTR5APHNd21",
        "outputId": "1aed325b-4b9f-41c0-8241-e26c5e4af63c"
      },
      "execution_count": 67,
      "outputs": [
        {
          "output_type": "stream",
          "name": "stdout",
          "text": [
            "D = \n",
            "[[1.414 2.    1.    5.    2.828 4.123 5.   ]\n",
            " [2.    1.414 1.    5.    4.243 5.385 5.385]\n",
            " [4.243 4.472 6.403 1.    6.325 5.    1.   ]\n",
            " [2.236 3.606 3.162 5.099 1.    2.    4.472]\n",
            " [4.123 5.385 6.    4.472 3.606 1.414 3.162]\n",
            " [1.414 2.828 3.    4.123 2.    2.236 3.606]]\n"
          ]
        }
      ]
    },
    {
      "cell_type": "markdown",
      "source": [
        "### 03 距離の昇順に並べ替えたインデックスの配列"
      ],
      "metadata": {
        "id": "55NIcUGoMNvg"
      }
    },
    {
      "cell_type": "markdown",
      "source": [
        "`x`の各行`xindex`と`Iu`に含まれる各アイテム`iu`の持つベクトル`x[iu]`の距離を求めて02と同じように`ndarray`に変換し、`argsort`によって昇順に番号をつけることで望みの結果を得た。"
      ],
      "metadata": {
        "id": "nsXrAtBeMNvh"
      }
    },
    {
      "cell_type": "code",
      "source": [
        "Ii = np.array([[dist(xindex, x[iu]) for iu in Iu] for xindex in x]).argsort()\n",
        "print(f'Ii = \\n{Ii}')"
      ],
      "metadata": {
        "colab": {
          "base_uri": "https://localhost:8080/"
        },
        "id": "eqxjf1-sMNvh",
        "outputId": "b2840f58-91aa-48d4-a6dd-bd901eb87793"
      },
      "execution_count": 68,
      "outputs": [
        {
          "output_type": "stream",
          "name": "stdout",
          "text": [
            "Ii = \n",
            "[[0 1 2 4 3 5 6]\n",
            " [1 0 2 3 6 4 5]\n",
            " [2 0 1 4 5 3 6]\n",
            " [3 6 0 1 5 2 4]\n",
            " [4 5 0 2 1 6 3]\n",
            " [5 4 0 6 1 2 3]\n",
            " [6 3 0 5 1 4 2]\n",
            " [2 0 1 4 5 3 6]\n",
            " [2 1 0 4 3 5 6]\n",
            " [3 6 0 1 5 4 2]\n",
            " [4 5 0 2 1 6 3]\n",
            " [5 6 4 0 3 1 2]\n",
            " [0 4 5 1 2 6 3]]\n"
          ]
        }
      ]
    },
    {
      "cell_type": "markdown",
      "source": [
        "### 04 近傍$k$件のアイテムのインデックス配列"
      ],
      "metadata": {
        "id": "h84vSUzeMN4T"
      }
    },
    {
      "cell_type": "markdown",
      "source": [
        "Iiの結果に対して、スライシングすることで最初の`TOP_K`列分だけを抽出する。これを使って評価値が`+1`だったアイテムと近いアイテムがどれであったかを確認することができる。各行の持つ数値の中に3以上のものがあったのならば、「嫌い」と評価したアイテムが最近傍の3件に含まれていることを示している。"
      ],
      "metadata": {
        "id": "4r7XwQyCMN4T"
      }
    },
    {
      "cell_type": "code",
      "source": [
        "Ii = Ii[:, :TOP_K]\n",
        "print(f'Ii = \\n{Ii}')"
      ],
      "metadata": {
        "colab": {
          "base_uri": "https://localhost:8080/"
        },
        "id": "wLQFRJIXMN4T",
        "outputId": "36854d8f-4de6-45c2-84fe-88f226d2952a"
      },
      "execution_count": 69,
      "outputs": [
        {
          "output_type": "stream",
          "name": "stdout",
          "text": [
            "Ii = \n",
            "[[0 1 2]\n",
            " [1 0 2]\n",
            " [2 0 1]\n",
            " [3 6 0]\n",
            " [4 5 0]\n",
            " [5 4 0]\n",
            " [6 3 0]\n",
            " [2 0 1]\n",
            " [2 1 0]\n",
            " [3 6 0]\n",
            " [4 5 0]\n",
            " [5 6 4]\n",
            " [0 4 5]]\n"
          ]
        }
      ]
    },
    {
      "cell_type": "markdown",
      "source": [
        "### 05 各対象アイテムの近傍アイテム集合"
      ],
      "metadata": {
        "id": "rafumhOZMPDr"
      }
    },
    {
      "cell_type": "markdown",
      "source": [
        "`Iu_not`からアイテムをとってきて、保存した`Ii`からアイテムで行を指定して抽出することを考える。"
      ],
      "metadata": {
        "id": "0A-ukDPtMPDr"
      }
    },
    {
      "cell_type": "code",
      "source": [
        "Ii = {i: Ii[i] for i in Iu_not}\n",
        "print('Ii = ')\n",
        "pprint.pprint(Ii)"
      ],
      "metadata": {
        "colab": {
          "base_uri": "https://localhost:8080/"
        },
        "id": "L5ZPnFqLMPDs",
        "outputId": "d04956f0-5215-4bcd-bb4d-a8340bfbb79c"
      },
      "execution_count": 70,
      "outputs": [
        {
          "output_type": "stream",
          "name": "stdout",
          "text": [
            "Ii = \n",
            "{7: array([2, 0, 1]),\n",
            " 8: array([2, 1, 0]),\n",
            " 9: array([3, 6, 0]),\n",
            " 10: array([4, 5, 0]),\n",
            " 11: array([5, 6, 4]),\n",
            " 12: array([0, 4, 5])}\n"
          ]
        }
      ]
    },
    {
      "cell_type": "markdown",
      "source": [
        "## 嗜好予測（多数決方式）"
      ],
      "metadata": {
        "id": "78OPZ1m7Xjci"
      }
    },
    {
      "cell_type": "markdown",
      "source": [
        "### 06 近傍アイテム集合のうち「好き」と評価したアイテム集合"
      ],
      "metadata": {
        "id": "--nz9AVRcVOQ"
      }
    },
    {
      "cell_type": "markdown",
      "source": [
        "ここでは、06から08の問題を解いて一部コードを与えられた関数`predict1`を完成させる。"
      ],
      "metadata": {
        "id": "_WAw4stucWZj"
      }
    },
    {
      "cell_type": "markdown",
      "source": [
        "06では、`Ii[i]`に`np.isin()`を使ったインデキシングをすることで答えを得る。`Ii[i]`はアイテム集合のうち、距離が近かったアイテム3件の中に「好き」と評価したアイテムが入っているかどうかを判断するための数値が入っている。"
      ],
      "metadata": {
        "id": "R3Am7EsPcWV0"
      }
    },
    {
      "cell_type": "markdown",
      "source": [
        "### 07 近傍アイテム集合のうち「嫌い」と評価したアイテム集合"
      ],
      "metadata": {
        "id": "sNREtaoGcWIT"
      }
    },
    {
      "cell_type": "markdown",
      "source": [
        "07では、06と同様の方法で答えを得ることができる。"
      ],
      "metadata": {
        "id": "xfzLXn9TcWBv"
      }
    },
    {
      "cell_type": "markdown",
      "source": [
        "### 08 多数決方式による予測評価値"
      ],
      "metadata": {
        "id": "krpYhB7lcVoD"
      }
    },
    {
      "cell_type": "markdown",
      "source": [
        "`Iip`と`Iin`に対して`np.size()`を使うことで$i$の近傍アイテム集合中に「好き」と評価したアイテムがいくつあるか、「嫌い」と評価したアイテムがいくつあるかがわかるので、その結果に対して素直にif文を使ってあげればよい。"
      ],
      "metadata": {
        "id": "yVLM7oi3hUD-"
      }
    },
    {
      "cell_type": "code",
      "source": [
        "def predict1(u, i):\n",
        "    \"\"\"\n",
        "    予測関数（多数決方式）：多数決方式によりユーザuのアイテムiに対する予測評価値を返す。\n",
        "\n",
        "    Parameters\n",
        "    ----------\n",
        "    u : int\n",
        "        ユーザuのID（ダミー）\n",
        "    i : int\n",
        "        アイテムiのID\n",
        "\n",
        "    Returns\n",
        "    -------\n",
        "    float\n",
        "        予測評価値\n",
        "    \"\"\"\n",
        "    Iip = Ii[i][np.isin(Ii[i], Iup)]\n",
        "    print(f'I{i}+ = {Iip}')\n",
        "    Iin = Ii[i][np.isin(Ii[i], Iun)]\n",
        "    print(f'I{i}- = {Iin}')\n",
        "    if Iip.size > Iin.size:\n",
        "        rui = 1\n",
        "    elif Iip.size < Iin.size:\n",
        "        rui = -1\n",
        "    else:\n",
        "        rui = 0\n",
        "    return rui"
      ],
      "metadata": {
        "id": "m1m2SaIlTBOz"
      },
      "execution_count": 71,
      "outputs": []
    },
    {
      "cell_type": "code",
      "source": [
        "u = 0\n",
        "i = 7\n",
        "print(f'predict1({u}, {i}) = {predict1(u, i):.3f}')\n",
        "u = 0\n",
        "i = 9\n",
        "print(f'predict1({u}, {i}) = {predict1(u, i):.3f}')"
      ],
      "metadata": {
        "colab": {
          "base_uri": "https://localhost:8080/"
        },
        "id": "2de6Au97Zq8A",
        "outputId": "611940e1-81cd-4d91-cbbe-c69f8224184c"
      },
      "execution_count": 72,
      "outputs": [
        {
          "output_type": "stream",
          "name": "stdout",
          "text": [
            "I7+ = [2 0 1]\n",
            "I7- = []\n",
            "predict1(0, 7) = 1.000\n",
            "I9+ = [0]\n",
            "I9- = [3 6]\n",
            "predict1(0, 9) = -1.000\n"
          ]
        }
      ]
    },
    {
      "cell_type": "markdown",
      "source": [
        "## 嗜好予測（平均方式）"
      ],
      "metadata": {
        "id": "YwIPxXchjZ9_"
      }
    },
    {
      "cell_type": "markdown",
      "source": [
        "### 09 平均方式による予測評価値"
      ],
      "metadata": {
        "id": "KzOTlh9EjdPH"
      }
    },
    {
      "cell_type": "markdown",
      "source": [
        "06から08で完成させた関数`predict1`を参考に、`rui`の部分を平均方式に修正したものを関数`predict2`として作成する。"
      ],
      "metadata": {
        "id": "cl8DcgASpc53"
      }
    },
    {
      "cell_type": "code",
      "source": [
        "def predict2(u, i):\n",
        "    \"\"\"\n",
        "    予測関数（多数決方式）：多数決方式によりユーザuのアイテムiに対する予測評価値を返す。\n",
        "\n",
        "    Parameters\n",
        "    ----------\n",
        "    u : int\n",
        "        ユーザuのID（ダミー）\n",
        "    i : int\n",
        "        アイテムiのID\n",
        "\n",
        "    Returns\n",
        "    -------\n",
        "    float\n",
        "        予測評価値\n",
        "    \"\"\"\n",
        "    Iip = Ii[i][np.isin(Ii[i], Iup)]\n",
        "    Iin = Ii[i][np.isin(Ii[i], Iun)]\n",
        "    rui = (Iip.size - Iin.size)/K_ITEMS\n",
        "    return rui"
      ],
      "metadata": {
        "id": "biQetyaoOOd4"
      },
      "execution_count": 73,
      "outputs": []
    },
    {
      "cell_type": "code",
      "source": [
        "u = 0\n",
        "i = 7\n",
        "print(f'predict2({u}, {i}) = {predict1(u, i):.3f}')\n",
        "u = 0\n",
        "i = 9\n",
        "print(f'predict2({u}, {i}) = {predict1(u, i):.3f}')"
      ],
      "metadata": {
        "colab": {
          "base_uri": "https://localhost:8080/"
        },
        "id": "LPaJMkA1dfXK",
        "outputId": "cc9009cf-9c0b-4351-df16-0e39fb5c1e99"
      },
      "execution_count": 74,
      "outputs": [
        {
          "output_type": "stream",
          "name": "stdout",
          "text": [
            "I7+ = [2 0 1]\n",
            "I7- = []\n",
            "predict2(0, 7) = 1.000\n",
            "I9+ = [0]\n",
            "I9- = [3 6]\n",
            "predict2(0, 9) = -1.000\n"
          ]
        }
      ]
    },
    {
      "cell_type": "markdown",
      "source": [
        "## 推薦"
      ],
      "metadata": {
        "id": "ckQpRjtKqfse"
      }
    },
    {
      "cell_type": "markdown",
      "source": [
        "### 10 推薦リスト"
      ],
      "metadata": {
        "id": "pOPn6npfqkMP"
      }
    },
    {
      "cell_type": "markdown",
      "source": [
        "ここでは、問10を解いて一部コードを与えられた関数`order`を完成させる。そのために、`scores`に格納された値`score(u, i)`が`THETA`未満になるようなペアを除くための工夫を考える。"
      ],
      "metadata": {
        "id": "Hkhxa5CXqq2f"
      }
    },
    {
      "cell_type": "markdown",
      "source": [
        "問題の指定から`score`は`predict2`関数で作るものとして、`scores`の部分をいじる必要がある。ここでは辞書内包表記の中でif文を用いることによって`THETA`未満の値をすべて削除することを考える。"
      ],
      "metadata": {
        "id": "Cvyd0Iptu2hJ"
      }
    },
    {
      "cell_type": "code",
      "source": [
        "def score(u, i):\n",
        "    \"\"\"\n",
        "    スコア関数：ユーザuのアイテムiに対するスコアを返す。\n",
        "\n",
        "    Parameters\n",
        "    ----------\n",
        "    u : int\n",
        "        ユーザuのID\n",
        "    i : int\n",
        "        アイテムiのID\n",
        "\n",
        "    Returns\n",
        "    -------\n",
        "    float\n",
        "        スコア\n",
        "    \"\"\"\n",
        "    return predict2(u, i)"
      ],
      "metadata": {
        "id": "pvNMzgRJOMb7"
      },
      "execution_count": 75,
      "outputs": []
    },
    {
      "cell_type": "code",
      "source": [
        "def order(u, I):\n",
        "    \"\"\"\n",
        "    順序付け関数：アイテム集合Iにおいて、ユーザu向けの推薦リストを返す。\n",
        "\n",
        "    Parameters\n",
        "    ----------\n",
        "    u : int\n",
        "        ユーザuのID\n",
        "    I : ndarray\n",
        "        アイテム集合\n",
        "\n",
        "    Returns\n",
        "    -------\n",
        "    list\n",
        "        タプル(アイテムID: スコア)を要素にした推薦リスト\n",
        "    \"\"\"\n",
        "    scores = {i: score(u, i) for i in I if score(u, i) >= THETA}\n",
        "    rec_list = sorted(scores.items(), key=lambda x:x[1], reverse=True)[:TOP_K]\n",
        "    return rec_list"
      ],
      "metadata": {
        "id": "WbFooKF1doQ9"
      },
      "execution_count": 76,
      "outputs": []
    },
    {
      "cell_type": "code",
      "source": [
        "u = 0\n",
        "rec_list = order(u, Iu_not)\n",
        "print('rec_list = ')\n",
        "for i, scr in rec_list:\n",
        "    print('{}: {:.3f}'.format(i, scr))"
      ],
      "metadata": {
        "colab": {
          "base_uri": "https://localhost:8080/"
        },
        "id": "EV5OAq6Vdq18",
        "outputId": "94632fe9-23d2-4be0-c045-d3c461661fa3"
      },
      "execution_count": 77,
      "outputs": [
        {
          "output_type": "stream",
          "name": "stdout",
          "text": [
            "rec_list = \n",
            "7: 1.000\n",
            "8: 1.000\n"
          ]
        }
      ]
    }
  ]
}