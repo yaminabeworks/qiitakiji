{
  "nbformat": 4,
  "nbformat_minor": 0,
  "metadata": {
    "colab": {
      "name": "numpyknock_recsys.ipynb",
      "provenance": [],
      "collapsed_sections": [],
      "toc_visible": true,
      "authorship_tag": "ABX9TyN+/jQc2GX7gB6VduP/ITf0",
      "include_colab_link": true
    },
    "kernelspec": {
      "name": "python3",
      "display_name": "Python 3"
    },
    "language_info": {
      "name": "python"
    }
  },
  "cells": [
    {
      "cell_type": "markdown",
      "metadata": {
        "id": "view-in-github",
        "colab_type": "text"
      },
      "source": [
        "<a href=\"https://colab.research.google.com/github/yaminabeworks/qiitakiji/blob/main/numpyknock_recsys01.ipynb\" target=\"_parent\"><img src=\"https://colab.research.google.com/assets/colab-badge.svg\" alt=\"Open In Colab\"/></a>"
      ]
    },
    {
      "cell_type": "markdown",
      "source": [
        "# recsys-python"
      ],
      "metadata": {
        "id": "YbfoKWMdy_Du"
      }
    },
    {
      "cell_type": "markdown",
      "source": [
        "推薦システムを作ることで、機械学習を学ぶ。"
      ],
      "metadata": {
        "id": "kWdy0EaUzW5l"
      }
    },
    {
      "cell_type": "markdown",
      "source": [
        "https://recsyslab.github.io/recsys-python/"
      ],
      "metadata": {
        "id": "nXL3M9SlzBwt"
      }
    },
    {
      "cell_type": "markdown",
      "source": [
        "## 第1章 評価履歴"
      ],
      "metadata": {
        "id": "N82SHZwWzisb"
      }
    },
    {
      "cell_type": "code",
      "source": [
        "import numpy as np"
      ],
      "metadata": {
        "id": "EWSXq73TzqZc"
      },
      "execution_count": 1,
      "outputs": []
    },
    {
      "cell_type": "markdown",
      "source": [
        "### 01 評価履歴の生成"
      ],
      "metadata": {
        "id": "3sFUSrKzzebg"
      }
    },
    {
      "cell_type": "markdown",
      "source": [
        "1. `np.nan`を使う。\n",
        "2. `np.array`を使う。"
      ],
      "metadata": {
        "id": "Uw3inTFc0Yay"
      }
    },
    {
      "cell_type": "code",
      "execution_count": 2,
      "metadata": {
        "id": "TR4lOiG3yj5C"
      },
      "outputs": [],
      "source": [
        "Du_list = [[5, 3, 1],\n",
        "           [6, 2, 1],\n",
        "           [4, 1, 1],\n",
        "           [8, 5, -1],\n",
        "           [2, 4, -1],\n",
        "           [3, 6, -1],\n",
        "           [7, 6, -1],\n",
        "           [4, 2, np.nan],\n",
        "           [5, 1, np.nan],\n",
        "           [8, 6, np.nan],\n",
        "           [3, 4, np.nan],\n",
        "           [4, 7, np.nan],\n",
        "           [4, 4, np.nan]]\n",
        "\n",
        "Du = np.array(Du_list)"
      ]
    },
    {
      "cell_type": "code",
      "source": [
        "print(f'Du = \\n{Du}')"
      ],
      "metadata": {
        "colab": {
          "base_uri": "https://localhost:8080/"
        },
        "id": "PhLXqzZp0LX7",
        "outputId": "09b8df59-12cd-4e13-8ae8-8c280b9df196"
      },
      "execution_count": 3,
      "outputs": [
        {
          "output_type": "stream",
          "name": "stdout",
          "text": [
            "Du = \n",
            "[[ 5.  3.  1.]\n",
            " [ 6.  2.  1.]\n",
            " [ 4.  1.  1.]\n",
            " [ 8.  5. -1.]\n",
            " [ 2.  4. -1.]\n",
            " [ 3.  6. -1.]\n",
            " [ 7.  6. -1.]\n",
            " [ 4.  2. nan]\n",
            " [ 5.  1. nan]\n",
            " [ 8.  6. nan]\n",
            " [ 3.  4. nan]\n",
            " [ 4.  7. nan]\n",
            " [ 4.  4. nan]]\n"
          ]
        }
      ]
    },
    {
      "cell_type": "markdown",
      "source": [
        "### 02 評価履歴の形状"
      ],
      "metadata": {
        "id": "kV9aB0Pq0ikE"
      }
    },
    {
      "cell_type": "markdown",
      "source": [
        "- `np.shape`を使う。"
      ],
      "metadata": {
        "id": "A477OHA2fW2f"
      }
    },
    {
      "cell_type": "code",
      "source": [
        "print(f'Duの形状 = {Du.shape}')"
      ],
      "metadata": {
        "colab": {
          "base_uri": "https://localhost:8080/"
        },
        "id": "1vJkEcvg0VGa",
        "outputId": "ed25e999-9b58-4aa9-e966-11d094bf1e9d"
      },
      "execution_count": 4,
      "outputs": [
        {
          "output_type": "stream",
          "name": "stdout",
          "text": [
            "Duの形状 = (13, 3)\n"
          ]
        }
      ]
    },
    {
      "cell_type": "markdown",
      "source": [
        "### 03 評価履歴の行数"
      ],
      "metadata": {
        "id": "aBt9HIxS0xnJ"
      }
    },
    {
      "cell_type": "markdown",
      "source": [
        "- `np.shape`を使う。"
      ],
      "metadata": {
        "id": "gt097jLlfhOp"
      }
    },
    {
      "cell_type": "markdown",
      "source": [
        ""
      ],
      "metadata": {
        "id": "5dzBKz0TfeOr"
      }
    },
    {
      "cell_type": "code",
      "source": [
        "print(f'Duの行数 = {Du.shape[0]}')"
      ],
      "metadata": {
        "colab": {
          "base_uri": "https://localhost:8080/"
        },
        "outputId": "6a43f54d-643d-4916-9729-51496ccd67c1",
        "id": "AWb4_Tan0xnJ"
      },
      "execution_count": 5,
      "outputs": [
        {
          "output_type": "stream",
          "name": "stdout",
          "text": [
            "Duの行数 = 13\n"
          ]
        }
      ]
    },
    {
      "cell_type": "markdown",
      "source": [
        "### 04 評価履歴の列数"
      ],
      "metadata": {
        "id": "5Vzk61tv0x7I"
      }
    },
    {
      "cell_type": "markdown",
      "source": [
        "- `np.shape`を使う。"
      ],
      "metadata": {
        "id": "wv1wECcNfiwH"
      }
    },
    {
      "cell_type": "code",
      "source": [
        "print(f'Duの列数 = {Du.shape[1]}')"
      ],
      "metadata": {
        "colab": {
          "base_uri": "https://localhost:8080/"
        },
        "outputId": "d9a5c907-ab59-45ad-a1a7-5e4f508702af",
        "id": "gPjWYACp0x7I"
      },
      "execution_count": 6,
      "outputs": [
        {
          "output_type": "stream",
          "name": "stdout",
          "text": [
            "Duの列数 = 3\n"
          ]
        }
      ]
    },
    {
      "cell_type": "markdown",
      "source": [
        "### 05 評価履歴の全要素数"
      ],
      "metadata": {
        "id": "ZTG8bL7n13SU"
      }
    },
    {
      "cell_type": "markdown",
      "source": [
        "- `np.size`を使う。\n",
        "  - おそらく、`np.shape[0]*np.shape[1]`でもよい。"
      ],
      "metadata": {
        "id": "_1o8FncTfkZl"
      }
    },
    {
      "cell_type": "code",
      "source": [
        "print(f'Duの全要素数 = {Du.size}')"
      ],
      "metadata": {
        "colab": {
          "base_uri": "https://localhost:8080/"
        },
        "outputId": "fa25cba8-a774-4275-9ddc-ea08493d4194",
        "id": "4qYKq2mT13SV"
      },
      "execution_count": 7,
      "outputs": [
        {
          "output_type": "stream",
          "name": "stdout",
          "text": [
            "Duの全要素数 = 39\n"
          ]
        }
      ]
    },
    {
      "cell_type": "markdown",
      "source": [
        "## アイテム"
      ],
      "metadata": {
        "id": "NO6df1Ib2HzQ"
      }
    },
    {
      "cell_type": "markdown",
      "source": [
        "### 06 アイテム集合"
      ],
      "metadata": {
        "id": "R47b_tuX2LKW"
      }
    },
    {
      "cell_type": "markdown",
      "source": [
        "アイテムは、インデックスと読み替えてもこの場合差し支えなさそう。"
      ],
      "metadata": {
        "id": "u3DeVdrLfs4P"
      }
    },
    {
      "cell_type": "code",
      "source": [
        "I = np.arange(Du.shape[0])\n",
        "print(f'I = {I}')"
      ],
      "metadata": {
        "colab": {
          "base_uri": "https://localhost:8080/"
        },
        "outputId": "48423721-d13f-4344-b8e4-aa240e98dff1",
        "id": "OpjMxpQq2LKX"
      },
      "execution_count": 8,
      "outputs": [
        {
          "output_type": "stream",
          "name": "stdout",
          "text": [
            "I = [ 0  1  2  3  4  5  6  7  8  9 10 11 12]\n"
          ]
        }
      ]
    },
    {
      "cell_type": "markdown",
      "source": [
        "### 07 アイテムの特徴ベクトルの集合"
      ],
      "metadata": {
        "id": "_bfmKxzG2Lra"
      }
    },
    {
      "cell_type": "markdown",
      "source": [
        "numpy行列中にある評価値以外を取り出す。"
      ],
      "metadata": {
        "id": "Kc4fPtGNmrQc"
      }
    },
    {
      "cell_type": "code",
      "source": [
        "x = Du[:, :-1]\n",
        "print(f'x = \\n{x}')"
      ],
      "metadata": {
        "colab": {
          "base_uri": "https://localhost:8080/"
        },
        "outputId": "e650810e-e799-46b6-8732-4d052d168be3",
        "id": "L_oQhKTH2Lrb"
      },
      "execution_count": 9,
      "outputs": [
        {
          "output_type": "stream",
          "name": "stdout",
          "text": [
            "x = \n",
            "[[5. 3.]\n",
            " [6. 2.]\n",
            " [4. 1.]\n",
            " [8. 5.]\n",
            " [2. 4.]\n",
            " [3. 6.]\n",
            " [7. 6.]\n",
            " [4. 2.]\n",
            " [5. 1.]\n",
            " [8. 6.]\n",
            " [3. 4.]\n",
            " [4. 7.]\n",
            " [4. 4.]]\n"
          ]
        }
      ]
    },
    {
      "cell_type": "markdown",
      "source": [
        "### 08 アイテム$i$の特徴ベクトル"
      ],
      "metadata": {
        "id": "RxkVbBLU2MBg"
      }
    },
    {
      "cell_type": "code",
      "source": [
        "i = 0\n",
        "print(f'x{i} = {x[i]}')"
      ],
      "metadata": {
        "colab": {
          "base_uri": "https://localhost:8080/"
        },
        "outputId": "40e76144-6408-4902-8bde-5a54793a273f",
        "id": "kEpBXY1b2MBh"
      },
      "execution_count": 10,
      "outputs": [
        {
          "output_type": "stream",
          "name": "stdout",
          "text": [
            "x0 = [5. 3.]\n"
          ]
        }
      ]
    },
    {
      "cell_type": "markdown",
      "source": [
        "### 09 評価値集合"
      ],
      "metadata": {
        "id": "YeltvWQO3jX9"
      }
    },
    {
      "cell_type": "code",
      "source": [
        "ru = Du[:, -1]\n",
        "print(f'ru = {ru}')"
      ],
      "metadata": {
        "colab": {
          "base_uri": "https://localhost:8080/"
        },
        "outputId": "90c65308-9a67-4575-ac59-0d691d0394f6",
        "id": "Kdi4MCZI3jX-"
      },
      "execution_count": 11,
      "outputs": [
        {
          "output_type": "stream",
          "name": "stdout",
          "text": [
            "ru = [ 1.  1.  1. -1. -1. -1. -1. nan nan nan nan nan nan]\n"
          ]
        }
      ]
    },
    {
      "cell_type": "markdown",
      "source": [
        "### 10 評価値集合の形状"
      ],
      "metadata": {
        "id": "cppLRVYm3hW1"
      }
    },
    {
      "cell_type": "code",
      "source": [
        "print(f'ruの形状 = {ru.shape}')"
      ],
      "metadata": {
        "colab": {
          "base_uri": "https://localhost:8080/"
        },
        "id": "SUElgwH99QGO",
        "outputId": "09b3e970-561c-4a51-f12b-3439c57f3eac"
      },
      "execution_count": 12,
      "outputs": [
        {
          "output_type": "stream",
          "name": "stdout",
          "text": [
            "ruの形状 = (13,)\n"
          ]
        }
      ]
    },
    {
      "cell_type": "markdown",
      "source": [
        "### 11 評価値集合の全要素数"
      ],
      "metadata": {
        "id": "b6_LeicU9bgu"
      }
    },
    {
      "cell_type": "code",
      "source": [
        "print(f'ruの全要素数 = {ru.size}')"
      ],
      "metadata": {
        "colab": {
          "base_uri": "https://localhost:8080/"
        },
        "outputId": "5390f623-e3cd-4fc9-f711-1cc4fcdcd329",
        "id": "nw8oEHtZ9bgw"
      },
      "execution_count": 13,
      "outputs": [
        {
          "output_type": "stream",
          "name": "stdout",
          "text": [
            "ruの全要素数 = 13\n"
          ]
        }
      ]
    },
    {
      "cell_type": "markdown",
      "source": [
        "### 12 評価値集合の部分集合"
      ],
      "metadata": {
        "id": "-Fv6ETIT2ML7"
      }
    },
    {
      "cell_type": "code",
      "source": [
        "i = 2\n",
        "j = 5\n",
        "print(f'ru{i}からru{j-1}までの評価値 = {ru[i:j]}')"
      ],
      "metadata": {
        "colab": {
          "base_uri": "https://localhost:8080/"
        },
        "outputId": "d21cd46b-eddf-4667-8ad9-2b2735f11ecd",
        "id": "tvXo-IJi2ML7"
      },
      "execution_count": 14,
      "outputs": [
        {
          "output_type": "stream",
          "name": "stdout",
          "text": [
            "ru2からru4までの評価値 = [ 1. -1. -1.]\n"
          ]
        }
      ]
    },
    {
      "cell_type": "markdown",
      "source": [
        "### 13 評価値集合の逆順"
      ],
      "metadata": {
        "id": "mgKVFNYU9dPu"
      }
    },
    {
      "cell_type": "markdown",
      "source": [
        "`ru[::-1]`により、逆順で値を取り出す。"
      ],
      "metadata": {
        "id": "ELr7j-gRniQI"
      }
    },
    {
      "cell_type": "code",
      "source": [
        "print(f'ruの逆順 = {ru[::-1]}')"
      ],
      "metadata": {
        "colab": {
          "base_uri": "https://localhost:8080/"
        },
        "outputId": "b4895417-7a1f-43e3-c144-7934e59a2532",
        "id": "1WKe4Nhu9dPu"
      },
      "execution_count": 15,
      "outputs": [
        {
          "output_type": "stream",
          "name": "stdout",
          "text": [
            "ruの逆順 = [nan nan nan nan nan nan -1. -1. -1. -1.  1.  1.  1.]\n"
          ]
        }
      ]
    },
    {
      "cell_type": "markdown",
      "source": [
        "### 14 アイテム$i$に対する評価"
      ],
      "metadata": {
        "id": "XiBTIvQU-Oow"
      }
    },
    {
      "cell_type": "markdown",
      "source": [
        "`ru[i]`を使う。"
      ],
      "metadata": {
        "id": "RCXAT-HFoVBx"
      }
    },
    {
      "cell_type": "code",
      "source": [
        "i = 0\n",
        "print(f'ru{i} = {ru[i]}')"
      ],
      "metadata": {
        "colab": {
          "base_uri": "https://localhost:8080/"
        },
        "outputId": "f440c2ab-fa53-432f-e543-5a1949b70d4b",
        "id": "rt-8RDom-Oo3"
      },
      "execution_count": 16,
      "outputs": [
        {
          "output_type": "stream",
          "name": "stdout",
          "text": [
            "ru0 = 1.0\n"
          ]
        }
      ]
    },
    {
      "cell_type": "markdown",
      "source": [
        "## アイテム集合"
      ],
      "metadata": {
        "id": "rMzzxnocoh4h"
      }
    },
    {
      "cell_type": "markdown",
      "source": [
        "### 15 ユーザ$u$が未評価であるか否かの判定"
      ],
      "metadata": {
        "id": "GCt5wg9--O1X"
      }
    },
    {
      "cell_type": "markdown",
      "source": [
        "ここでは、評価値$r_u$について、その第$i$成分が`np.nan`であるときユーザー$u$がアイテム$i$を未評価であるとして問題を解く。"
      ],
      "metadata": {
        "id": "2aqQ1Higo0qs"
      }
    },
    {
      "cell_type": "markdown",
      "source": [
        "`np.isnan(nparray)`を使う。"
      ],
      "metadata": {
        "id": "Q_dfF3r3psdO"
      }
    },
    {
      "cell_type": "code",
      "source": [
        "print(f'ユーザuが未評価 = {np.isnan(ru)}')"
      ],
      "metadata": {
        "colab": {
          "base_uri": "https://localhost:8080/"
        },
        "outputId": "1e812e17-2a09-4484-c26c-6839ff613d80",
        "id": "X4Z30Xth-O1Y"
      },
      "execution_count": 17,
      "outputs": [
        {
          "output_type": "stream",
          "name": "stdout",
          "text": [
            "ユーザuが未評価 = [False False False False False False False  True  True  True  True  True\n",
            "  True]\n"
          ]
        }
      ]
    },
    {
      "cell_type": "markdown",
      "source": [
        "### 16 ユーザ$u$が評価済みであるか否かの判定"
      ],
      "metadata": {
        "id": "8tLocvr--O9i"
      }
    },
    {
      "cell_type": "markdown",
      "source": [
        "`np.isnan(nparray)`に対して、`~`をつけてあげれば`True`と`False`が反転するので題意を満たす。"
      ],
      "metadata": {
        "id": "985AuVD3p7GC"
      }
    },
    {
      "cell_type": "code",
      "source": [
        "print(f'ユーザuが評価済み = {~np.isnan(ru)}')"
      ],
      "metadata": {
        "colab": {
          "base_uri": "https://localhost:8080/"
        },
        "outputId": "9402c09d-3e92-4820-8dba-08b90ac4be80",
        "id": "UzWYJ3gf-O9i"
      },
      "execution_count": 18,
      "outputs": [
        {
          "output_type": "stream",
          "name": "stdout",
          "text": [
            "ユーザuが評価済み = [ True  True  True  True  True  True  True False False False False False\n",
            " False]\n"
          ]
        }
      ]
    },
    {
      "cell_type": "markdown",
      "source": [
        "### 17 ユーザ$u$が評価済みのアイテム集合$I_u$"
      ],
      "metadata": {
        "id": "bYp4RBrK-PqQ"
      }
    },
    {
      "cell_type": "markdown",
      "source": [
        "16で見た評価済みのアイテムのみを抽出する。"
      ],
      "metadata": {
        "id": "CN3e7d5Oq5Yb"
      }
    },
    {
      "cell_type": "markdown",
      "source": [
        "`np.arange()`について、16の結果を使ってインデキシングすることで解決する。"
      ],
      "metadata": {
        "id": "qU0pck5WrL4B"
      }
    },
    {
      "cell_type": "code",
      "source": [
        "Iu = np.arange(ru.shape[0])[~np.isnan(ru)]\n",
        "print(f'Iu = {Iu}')"
      ],
      "metadata": {
        "colab": {
          "base_uri": "https://localhost:8080/"
        },
        "outputId": "7ed145b8-5bbc-438f-d558-04997b04e969",
        "id": "imCiGbCY-PqQ"
      },
      "execution_count": 19,
      "outputs": [
        {
          "output_type": "stream",
          "name": "stdout",
          "text": [
            "Iu = [0 1 2 3 4 5 6]\n"
          ]
        }
      ]
    },
    {
      "cell_type": "markdown",
      "source": [
        "### 18 ユーザ$u$が好きと評価したアイテム集合$I_{u+}$"
      ],
      "metadata": {
        "id": "uCKdtlLM-PwH"
      }
    },
    {
      "cell_type": "markdown",
      "source": [
        "ユーザ$u$が評価済みで、なおかつ評価値が$1$であるようなアイテム集合$I_u$を作る。\n",
        "\n",
        "`np.where(ruの条件, True, False)`を使う。"
      ],
      "metadata": {
        "id": "dQW9Moj6rjCz"
      }
    },
    {
      "cell_type": "code",
      "source": [
        "Iuplus = np.arange(ru.shape[0])[np.where(ru == 1, True, False)]\n",
        "print(f'Iu+ = {Iuplus}')"
      ],
      "metadata": {
        "colab": {
          "base_uri": "https://localhost:8080/"
        },
        "outputId": "6e511642-fce6-4e7b-df4e-cfc53e9456be",
        "id": "kQ8-Hzv_-PwH"
      },
      "execution_count": 20,
      "outputs": [
        {
          "output_type": "stream",
          "name": "stdout",
          "text": [
            "Iu+ = [0 1 2]\n"
          ]
        }
      ]
    },
    {
      "cell_type": "markdown",
      "source": [
        "### 19 ユーザ$u$が嫌いと評価したアイテム集合$I_{u-}$"
      ],
      "metadata": {
        "id": "3igRnAfJ-P00"
      }
    },
    {
      "cell_type": "markdown",
      "source": [
        "`np.where()`の条件部分をいじればよい。"
      ],
      "metadata": {
        "id": "mR4n3E8HsaL6"
      }
    },
    {
      "cell_type": "code",
      "source": [
        "Iuminus = np.arange(ru.shape[0])[np.where(ru == -1, True, False)]\n",
        "print(f'Iu- = {Iuminus}')"
      ],
      "metadata": {
        "colab": {
          "base_uri": "https://localhost:8080/"
        },
        "outputId": "ffabf6d2-3b44-428d-b230-2c0de0b4f25f",
        "id": "YguDPJla-P01"
      },
      "execution_count": 21,
      "outputs": [
        {
          "output_type": "stream",
          "name": "stdout",
          "text": [
            "Iu- = [3 4 5 6]\n"
          ]
        }
      ]
    },
    {
      "cell_type": "markdown",
      "source": [
        "### 20 ユーザ$u$が未評価のアイテム集合$\\bar{I}_u$"
      ],
      "metadata": {
        "id": "UIS7dzf7-VcF"
      }
    },
    {
      "cell_type": "markdown",
      "source": [
        "1. `np.nan`かどうかでインデキシングする。\n",
        "2. `numpy.setdiff1d()`については、また今度。"
      ],
      "metadata": {
        "id": "OGAZpYOQs9lS"
      }
    },
    {
      "cell_type": "code",
      "source": [
        "Iu_not = np.arange(ru.shape[0])[np.isnan(ru)]\n",
        "print(f'Iu_not = {Iu_not}')"
      ],
      "metadata": {
        "colab": {
          "base_uri": "https://localhost:8080/"
        },
        "outputId": "96dcbf7e-53e0-4a87-ebcc-6a91cb3bf0e6",
        "id": "5jtEPVA9-VcG"
      },
      "execution_count": 22,
      "outputs": [
        {
          "output_type": "stream",
          "name": "stdout",
          "text": [
            "Iu_not = [ 7  8  9 10 11 12]\n"
          ]
        }
      ]
    },
    {
      "cell_type": "markdown",
      "source": [
        "## 訓練データと予測対象データ"
      ],
      "metadata": {
        "id": "VxrqJVH7twUs"
      }
    },
    {
      "cell_type": "markdown",
      "source": [
        "### 21 訓練データ"
      ],
      "metadata": {
        "id": "32WxVkpl-Vnx"
      }
    },
    {
      "cell_type": "markdown",
      "source": [
        "17でやったインデキシングを`Du`に直接適用すればできるはず。"
      ],
      "metadata": {
        "id": "kQHU9X7_uJPh"
      }
    },
    {
      "cell_type": "code",
      "source": [
        "DuL = Du[~np.isnan(ru)]\n",
        "print(f'DuL = \\n{DuL}')"
      ],
      "metadata": {
        "colab": {
          "base_uri": "https://localhost:8080/"
        },
        "outputId": "dee62bd4-0acb-4726-e0ee-78eae6c6dd39",
        "id": "0hOQxYBQ-Vnx"
      },
      "execution_count": 23,
      "outputs": [
        {
          "output_type": "stream",
          "name": "stdout",
          "text": [
            "DuL = \n",
            "[[ 5.  3.  1.]\n",
            " [ 6.  2.  1.]\n",
            " [ 4.  1.  1.]\n",
            " [ 8.  5. -1.]\n",
            " [ 2.  4. -1.]\n",
            " [ 3.  6. -1.]\n",
            " [ 7.  6. -1.]]\n"
          ]
        }
      ]
    },
    {
      "cell_type": "markdown",
      "source": [
        "### 22 訓練事例数"
      ],
      "metadata": {
        "id": "kuPNFUAm-W3I"
      }
    },
    {
      "cell_type": "markdown",
      "source": [
        "`np.shape`で`DuL`の行数を求めればよい。"
      ],
      "metadata": {
        "id": "ejfOJ_BSunl3"
      }
    },
    {
      "cell_type": "code",
      "source": [
        "print(f'|DuL| = {DuL.shape[0]}')"
      ],
      "metadata": {
        "colab": {
          "base_uri": "https://localhost:8080/"
        },
        "outputId": "7fe4f10c-edeb-48ea-c474-b98bf3fc63b0",
        "id": "go4OGgW_-W3J"
      },
      "execution_count": 24,
      "outputs": [
        {
          "output_type": "stream",
          "name": "stdout",
          "text": [
            "|DuL| = 7\n"
          ]
        }
      ]
    },
    {
      "cell_type": "markdown",
      "source": [
        "### 23 正事例数"
      ],
      "metadata": {
        "id": "AcIxX7z8-W-4"
      }
    },
    {
      "cell_type": "markdown",
      "source": [
        "`np.where(ruの条件, True, False)`の長さは13なので、これでインデキシングしたい場合`DuL`を対象としてもエラーが発生する。(一敗)\n",
        "\n",
        "そのため今回は`DuL[:, -1]`、つまり`DuL`の中でも評価値の部分に対して`np.where`を利用した。"
      ],
      "metadata": {
        "id": "NWOg_RVIvnZl"
      }
    },
    {
      "cell_type": "code",
      "source": [
        "print(f'|DuL+| = {DuL[np.where(DuL[:, -1] == 1, True, False)].shape[0]}')"
      ],
      "metadata": {
        "colab": {
          "base_uri": "https://localhost:8080/"
        },
        "outputId": "7b0b265e-2ede-4956-c34d-796f49215717",
        "id": "KUvjLHz0-W-4"
      },
      "execution_count": 25,
      "outputs": [
        {
          "output_type": "stream",
          "name": "stdout",
          "text": [
            "|DuL+| = 3\n"
          ]
        }
      ]
    },
    {
      "cell_type": "markdown",
      "source": [
        "### 24 不事例数"
      ],
      "metadata": {
        "id": "y15iaMB1-XGF"
      }
    },
    {
      "cell_type": "code",
      "source": [
        "print(f'|DuL-| = {DuL[np.where(DuL[:, -1] == -1, True, False)].shape[0]}')"
      ],
      "metadata": {
        "colab": {
          "base_uri": "https://localhost:8080/"
        },
        "outputId": "ee450273-d557-4ec2-f597-c825bd074bd2",
        "id": "LjaGIomn-XGG"
      },
      "execution_count": 26,
      "outputs": [
        {
          "output_type": "stream",
          "name": "stdout",
          "text": [
            "|DuL-| = 4\n"
          ]
        }
      ]
    },
    {
      "cell_type": "markdown",
      "source": [
        "### 25 予測対象事例数"
      ],
      "metadata": {
        "id": "AXT0sztr-XM_"
      }
    },
    {
      "cell_type": "markdown",
      "source": [
        "21でやったこととほぼ同じことをやればよい。`~`を外すだけ。"
      ],
      "metadata": {
        "id": "iGUnAGd3wXPU"
      }
    },
    {
      "cell_type": "code",
      "source": [
        "DuU = Du[np.isnan(ru)]\n",
        "print(f'DuU = \\n{DuU}')"
      ],
      "metadata": {
        "colab": {
          "base_uri": "https://localhost:8080/"
        },
        "outputId": "a1063e0f-e1d9-4eb4-c20f-f8822ea544b8",
        "id": "QdpPH2QC-XM_"
      },
      "execution_count": 27,
      "outputs": [
        {
          "output_type": "stream",
          "name": "stdout",
          "text": [
            "DuU = \n",
            "[[ 4.  2. nan]\n",
            " [ 5.  1. nan]\n",
            " [ 8.  6. nan]\n",
            " [ 3.  4. nan]\n",
            " [ 4.  7. nan]\n",
            " [ 4.  4. nan]]\n"
          ]
        }
      ]
    },
    {
      "cell_type": "markdown",
      "source": [
        "### 26 予測対象事例数"
      ],
      "metadata": {
        "id": "C7b6Ta68-XUB"
      }
    },
    {
      "cell_type": "markdown",
      "source": [
        "対象を`DuU`として、22と同じことを行う。"
      ],
      "metadata": {
        "id": "a4PfotCSwqep"
      }
    },
    {
      "cell_type": "code",
      "source": [
        "print(f'|DuU| = {DuU.shape[0]}')"
      ],
      "metadata": {
        "colab": {
          "base_uri": "https://localhost:8080/"
        },
        "outputId": "5b63a0d1-af39-40de-99cb-52df9be5a99b",
        "id": "meuqcRSp-XUB"
      },
      "execution_count": 28,
      "outputs": [
        {
          "output_type": "stream",
          "name": "stdout",
          "text": [
            "|DuU| = 6\n"
          ]
        }
      ]
    }
  ]
}