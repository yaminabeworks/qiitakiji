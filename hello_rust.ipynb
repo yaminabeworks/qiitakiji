{
  "nbformat": 4,
  "nbformat_minor": 0,
  "metadata": {
    "colab": {
      "name": "hello_rust.ipynb",
      "provenance": [],
      "authorship_tag": "ABX9TyMExTRb4ulvhh3YusFaWEVE",
      "include_colab_link": true
    },
    "kernelspec": {
      "name": "python3",
      "display_name": "Python 3"
    },
    "language_info": {
      "name": "python"
    }
  },
  "cells": [
    {
      "cell_type": "markdown",
      "metadata": {
        "id": "view-in-github",
        "colab_type": "text"
      },
      "source": [
        "<a href=\"https://colab.research.google.com/github/yaminabeworks/qiitakiji/blob/main/hello_rust.ipynb\" target=\"_parent\"><img src=\"https://colab.research.google.com/assets/colab-badge.svg\" alt=\"Open In Colab\"/></a>"
      ]
    },
    {
      "cell_type": "code",
      "execution_count": 1,
      "metadata": {
        "colab": {
          "base_uri": "https://localhost:8080/"
        },
        "id": "dO3KBY46ju3n",
        "outputId": "65b0e38b-c179-4660-bd01-9f1fc3392490"
      },
      "outputs": [
        {
          "output_type": "stream",
          "name": "stdout",
          "text": [
            "Reading package lists... Done\n",
            "Building dependency tree       \n",
            "Reading state information... Done\n",
            "The following additional packages will be installed:\n",
            "  libstd-rust-1.57 libstd-rust-dev rustc\n",
            "Suggested packages:\n",
            "  cargo-doc lld-13 clang-13\n",
            "Recommended packages:\n",
            "  llvm-13\n",
            "The following NEW packages will be installed:\n",
            "  cargo libstd-rust-1.57 libstd-rust-dev rustc\n",
            "0 upgraded, 4 newly installed, 0 to remove and 39 not upgraded.\n",
            "Need to get 78.4 MB of archives.\n",
            "After this operation, 350 MB of additional disk space will be used.\n",
            "Get:1 http://archive.ubuntu.com/ubuntu bionic-updates/universe amd64 libstd-rust-1.57 amd64 1.57.0+dfsg1+llvm-0ubuntu1~18.04.1 [38.7 MB]\n",
            "Get:2 http://archive.ubuntu.com/ubuntu bionic-updates/universe amd64 libstd-rust-dev amd64 1.57.0+dfsg1+llvm-0ubuntu1~18.04.1 [32.9 MB]\n",
            "Get:3 http://archive.ubuntu.com/ubuntu bionic-updates/universe amd64 rustc amd64 1.57.0+dfsg1+llvm-0ubuntu1~18.04.1 [3,415 kB]\n",
            "Get:4 http://archive.ubuntu.com/ubuntu bionic-updates/universe amd64 cargo amd64 0.58.0-0ubuntu1~18.04.1 [3,446 kB]\n",
            "Fetched 78.4 MB in 3s (28.7 MB/s)\n",
            "Selecting previously unselected package libstd-rust-1.57:amd64.\n",
            "(Reading database ... 155455 files and directories currently installed.)\n",
            "Preparing to unpack .../libstd-rust-1.57_1.57.0+dfsg1+llvm-0ubuntu1~18.04.1_amd64.deb ...\n",
            "Unpacking libstd-rust-1.57:amd64 (1.57.0+dfsg1+llvm-0ubuntu1~18.04.1) ...\n",
            "Selecting previously unselected package libstd-rust-dev:amd64.\n",
            "Preparing to unpack .../libstd-rust-dev_1.57.0+dfsg1+llvm-0ubuntu1~18.04.1_amd64.deb ...\n",
            "Unpacking libstd-rust-dev:amd64 (1.57.0+dfsg1+llvm-0ubuntu1~18.04.1) ...\n",
            "Selecting previously unselected package rustc.\n",
            "Preparing to unpack .../rustc_1.57.0+dfsg1+llvm-0ubuntu1~18.04.1_amd64.deb ...\n",
            "Unpacking rustc (1.57.0+dfsg1+llvm-0ubuntu1~18.04.1) ...\n",
            "Selecting previously unselected package cargo.\n",
            "Preparing to unpack .../cargo_0.58.0-0ubuntu1~18.04.1_amd64.deb ...\n",
            "Unpacking cargo (0.58.0-0ubuntu1~18.04.1) ...\n",
            "Setting up libstd-rust-1.57:amd64 (1.57.0+dfsg1+llvm-0ubuntu1~18.04.1) ...\n",
            "Setting up libstd-rust-dev:amd64 (1.57.0+dfsg1+llvm-0ubuntu1~18.04.1) ...\n",
            "Setting up rustc (1.57.0+dfsg1+llvm-0ubuntu1~18.04.1) ...\n",
            "Setting up cargo (0.58.0-0ubuntu1~18.04.1) ...\n",
            "Processing triggers for libc-bin (2.27-3ubuntu1.3) ...\n",
            "/sbin/ldconfig.real: /usr/local/lib/python3.7/dist-packages/ideep4py/lib/libmkldnn.so.0 is not a symbolic link\n",
            "\n",
            "Processing triggers for man-db (2.8.3-2ubuntu0.1) ...\n"
          ]
        }
      ],
      "source": [
        "!apt install cargo"
      ]
    },
    {
      "cell_type": "code",
      "source": [
        "%%writefile main.rs\n",
        "fn main() {\n",
        "    // 世界よ、こんにちは\n",
        "    println!(\"hello world\");\n",
        "}"
      ],
      "metadata": {
        "colab": {
          "base_uri": "https://localhost:8080/"
        },
        "id": "NCieSqaqjyjj",
        "outputId": "f1a9846e-5b48-46e0-92ba-a79bd6ace11c"
      },
      "execution_count": 2,
      "outputs": [
        {
          "output_type": "stream",
          "name": "stdout",
          "text": [
            "Writing main.rs\n"
          ]
        }
      ]
    },
    {
      "cell_type": "code",
      "source": [
        "!rustc main.rs; ./main"
      ],
      "metadata": {
        "colab": {
          "base_uri": "https://localhost:8080/"
        },
        "id": "EgScMoyMj1bN",
        "outputId": "44849c76-26f7-4d52-c264-b1184b2f9eca"
      },
      "execution_count": 3,
      "outputs": [
        {
          "output_type": "stream",
          "name": "stdout",
          "text": [
            "hello world\n"
          ]
        }
      ]
    }
  ]
}