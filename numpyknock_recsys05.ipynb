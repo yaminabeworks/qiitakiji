{
  "nbformat": 4,
  "nbformat_minor": 0,
  "metadata": {
    "colab": {
      "name": "numpyknock_recsys.ipynb",
      "provenance": [],
      "collapsed_sections": [],
      "toc_visible": true,
      "authorship_tag": "ABX9TyMq205t2angali3fZwrKVFL",
      "include_colab_link": true
    },
    "kernelspec": {
      "name": "python3",
      "display_name": "Python 3"
    },
    "language_info": {
      "name": "python"
    }
  },
  "cells": [
    {
      "cell_type": "markdown",
      "metadata": {
        "id": "view-in-github",
        "colab_type": "text"
      },
      "source": [
        "<a href=\"https://colab.research.google.com/github/yaminabeworks/qiitakiji/blob/main/numpyknock_recsys05.ipynb\" target=\"_parent\"><img src=\"https://colab.research.google.com/assets/colab-badge.svg\" alt=\"Open In Colab\"/></a>"
      ]
    },
    {
      "cell_type": "markdown",
      "source": [
        "# recsys-python"
      ],
      "metadata": {
        "id": "YbfoKWMdy_Du"
      }
    },
    {
      "cell_type": "markdown",
      "source": [
        "推薦システムを作ることで、機械学習を学ぶ。"
      ],
      "metadata": {
        "id": "kWdy0EaUzW5l"
      }
    },
    {
      "cell_type": "markdown",
      "source": [
        "https://recsyslab.github.io/recsys-python/"
      ],
      "metadata": {
        "id": "nXL3M9SlzBwt"
      }
    },
    {
      "cell_type": "markdown",
      "source": [
        "## 第1章 評価履歴"
      ],
      "metadata": {
        "id": "N82SHZwWzisb"
      }
    },
    {
      "cell_type": "markdown",
      "source": [
        "準備"
      ],
      "metadata": {
        "id": "zqwENvYI52kQ"
      }
    },
    {
      "cell_type": "code",
      "source": [
        "import numpy as np"
      ],
      "metadata": {
        "id": "EWSXq73TzqZc"
      },
      "execution_count": 1,
      "outputs": []
    },
    {
      "cell_type": "markdown",
      "source": [
        "## 評価履歴"
      ],
      "metadata": {
        "id": "BtxeyW-a54A6"
      }
    },
    {
      "cell_type": "markdown",
      "source": [
        "### 01 評価履歴の生成"
      ],
      "metadata": {
        "id": "3sFUSrKzzebg"
      }
    },
    {
      "cell_type": "markdown",
      "source": [
        "1. `np.nan`を使う。\n",
        "2. `np.array`を使う。"
      ],
      "metadata": {
        "id": "Uw3inTFc0Yay"
      }
    },
    {
      "cell_type": "code",
      "execution_count": 2,
      "metadata": {
        "id": "TR4lOiG3yj5C"
      },
      "outputs": [],
      "source": [
        "Du_list = [[5, 3, 1],\n",
        "           [6, 2, 1],\n",
        "           [4, 1, 1],\n",
        "           [8, 5, -1],\n",
        "           [2, 4, -1],\n",
        "           [3, 6, -1],\n",
        "           [7, 6, -1],\n",
        "           [4, 2, np.nan],\n",
        "           [5, 1, np.nan],\n",
        "           [8, 6, np.nan],\n",
        "           [3, 4, np.nan],\n",
        "           [4, 7, np.nan],\n",
        "           [4, 4, np.nan]]\n",
        "\n",
        "Du = np.array(Du_list)"
      ]
    },
    {
      "cell_type": "code",
      "source": [
        "print(f'Du = \\n{Du}')"
      ],
      "metadata": {
        "colab": {
          "base_uri": "https://localhost:8080/"
        },
        "id": "PhLXqzZp0LX7",
        "outputId": "61687a8f-7e6f-473e-c740-4c03ae8102e8"
      },
      "execution_count": 3,
      "outputs": [
        {
          "output_type": "stream",
          "name": "stdout",
          "text": [
            "Du = \n",
            "[[ 5.  3.  1.]\n",
            " [ 6.  2.  1.]\n",
            " [ 4.  1.  1.]\n",
            " [ 8.  5. -1.]\n",
            " [ 2.  4. -1.]\n",
            " [ 3.  6. -1.]\n",
            " [ 7.  6. -1.]\n",
            " [ 4.  2. nan]\n",
            " [ 5.  1. nan]\n",
            " [ 8.  6. nan]\n",
            " [ 3.  4. nan]\n",
            " [ 4.  7. nan]\n",
            " [ 4.  4. nan]]\n"
          ]
        }
      ]
    },
    {
      "cell_type": "markdown",
      "source": [
        "### 02 評価履歴の形状"
      ],
      "metadata": {
        "id": "kV9aB0Pq0ikE"
      }
    },
    {
      "cell_type": "markdown",
      "source": [
        "- `np.shape`を使う。"
      ],
      "metadata": {
        "id": "A477OHA2fW2f"
      }
    },
    {
      "cell_type": "code",
      "source": [
        "print(f'Duの形状 = {Du.shape}')"
      ],
      "metadata": {
        "colab": {
          "base_uri": "https://localhost:8080/"
        },
        "id": "1vJkEcvg0VGa",
        "outputId": "bc6311a6-2e40-4f32-bc92-cfb0272bef0b"
      },
      "execution_count": 4,
      "outputs": [
        {
          "output_type": "stream",
          "name": "stdout",
          "text": [
            "Duの形状 = (13, 3)\n"
          ]
        }
      ]
    },
    {
      "cell_type": "markdown",
      "source": [
        "### 03 評価履歴の行数"
      ],
      "metadata": {
        "id": "aBt9HIxS0xnJ"
      }
    },
    {
      "cell_type": "markdown",
      "source": [
        "- `np.shape`を使う。"
      ],
      "metadata": {
        "id": "gt097jLlfhOp"
      }
    },
    {
      "cell_type": "markdown",
      "source": [
        ""
      ],
      "metadata": {
        "id": "5dzBKz0TfeOr"
      }
    },
    {
      "cell_type": "code",
      "source": [
        "print(f'Duの行数 = {Du.shape[0]}')"
      ],
      "metadata": {
        "colab": {
          "base_uri": "https://localhost:8080/"
        },
        "outputId": "e3000b14-09ce-4716-82c1-b3af46ee053f",
        "id": "AWb4_Tan0xnJ"
      },
      "execution_count": 5,
      "outputs": [
        {
          "output_type": "stream",
          "name": "stdout",
          "text": [
            "Duの行数 = 13\n"
          ]
        }
      ]
    },
    {
      "cell_type": "markdown",
      "source": [
        "### 04 評価履歴の列数"
      ],
      "metadata": {
        "id": "5Vzk61tv0x7I"
      }
    },
    {
      "cell_type": "markdown",
      "source": [
        "- `np.shape`を使う。"
      ],
      "metadata": {
        "id": "wv1wECcNfiwH"
      }
    },
    {
      "cell_type": "code",
      "source": [
        "print(f'Duの列数 = {Du.shape[1]}')"
      ],
      "metadata": {
        "colab": {
          "base_uri": "https://localhost:8080/"
        },
        "outputId": "1c9a5b8b-3d5d-49e7-adf1-e02fb56324b4",
        "id": "gPjWYACp0x7I"
      },
      "execution_count": 6,
      "outputs": [
        {
          "output_type": "stream",
          "name": "stdout",
          "text": [
            "Duの列数 = 3\n"
          ]
        }
      ]
    },
    {
      "cell_type": "markdown",
      "source": [
        "### 05 評価履歴の全要素数"
      ],
      "metadata": {
        "id": "ZTG8bL7n13SU"
      }
    },
    {
      "cell_type": "markdown",
      "source": [
        "- `np.size`を使う。\n",
        "  - おそらく、`np.shape[0]*np.shape[1]`でもよい。"
      ],
      "metadata": {
        "id": "_1o8FncTfkZl"
      }
    },
    {
      "cell_type": "code",
      "source": [
        "print(f'Duの全要素数 = {Du.size}')"
      ],
      "metadata": {
        "colab": {
          "base_uri": "https://localhost:8080/"
        },
        "outputId": "f3b701ef-47a1-4056-f0dc-284cde21ccab",
        "id": "4qYKq2mT13SV"
      },
      "execution_count": 7,
      "outputs": [
        {
          "output_type": "stream",
          "name": "stdout",
          "text": [
            "Duの全要素数 = 39\n"
          ]
        }
      ]
    },
    {
      "cell_type": "markdown",
      "source": [
        "## アイテム"
      ],
      "metadata": {
        "id": "NO6df1Ib2HzQ"
      }
    },
    {
      "cell_type": "markdown",
      "source": [
        "### 06 アイテム集合"
      ],
      "metadata": {
        "id": "R47b_tuX2LKW"
      }
    },
    {
      "cell_type": "markdown",
      "source": [
        "アイテムは、インデックスと読み替えてもこの場合差し支えなさそう。"
      ],
      "metadata": {
        "id": "u3DeVdrLfs4P"
      }
    },
    {
      "cell_type": "code",
      "source": [
        "I = np.arange(Du.shape[0])\n",
        "print(f'I = {I}')"
      ],
      "metadata": {
        "colab": {
          "base_uri": "https://localhost:8080/"
        },
        "outputId": "bc0e5f8d-db13-409f-e6f3-66306e809f1c",
        "id": "OpjMxpQq2LKX"
      },
      "execution_count": 8,
      "outputs": [
        {
          "output_type": "stream",
          "name": "stdout",
          "text": [
            "I = [ 0  1  2  3  4  5  6  7  8  9 10 11 12]\n"
          ]
        }
      ]
    },
    {
      "cell_type": "markdown",
      "source": [
        "### 07 アイテムの特徴ベクトルの集合"
      ],
      "metadata": {
        "id": "_bfmKxzG2Lra"
      }
    },
    {
      "cell_type": "markdown",
      "source": [
        "numpy行列中にある評価値以外を取り出す。"
      ],
      "metadata": {
        "id": "Kc4fPtGNmrQc"
      }
    },
    {
      "cell_type": "code",
      "source": [
        "x = Du[:, :-1]\n",
        "print(f'x = \\n{x}')"
      ],
      "metadata": {
        "colab": {
          "base_uri": "https://localhost:8080/"
        },
        "outputId": "d6ee3c68-42c7-4860-ce8a-c397de1b2aed",
        "id": "L_oQhKTH2Lrb"
      },
      "execution_count": 9,
      "outputs": [
        {
          "output_type": "stream",
          "name": "stdout",
          "text": [
            "x = \n",
            "[[5. 3.]\n",
            " [6. 2.]\n",
            " [4. 1.]\n",
            " [8. 5.]\n",
            " [2. 4.]\n",
            " [3. 6.]\n",
            " [7. 6.]\n",
            " [4. 2.]\n",
            " [5. 1.]\n",
            " [8. 6.]\n",
            " [3. 4.]\n",
            " [4. 7.]\n",
            " [4. 4.]]\n"
          ]
        }
      ]
    },
    {
      "cell_type": "markdown",
      "source": [
        "### 08 アイテム$i$の特徴ベクトル"
      ],
      "metadata": {
        "id": "RxkVbBLU2MBg"
      }
    },
    {
      "cell_type": "code",
      "source": [
        "i = 0\n",
        "print(f'x{i} = {x[i]}')"
      ],
      "metadata": {
        "colab": {
          "base_uri": "https://localhost:8080/"
        },
        "outputId": "28e721d8-96eb-41a3-dc79-e46bb99a68c8",
        "id": "kEpBXY1b2MBh"
      },
      "execution_count": 10,
      "outputs": [
        {
          "output_type": "stream",
          "name": "stdout",
          "text": [
            "x0 = [5. 3.]\n"
          ]
        }
      ]
    },
    {
      "cell_type": "markdown",
      "source": [
        "### 09 評価値集合"
      ],
      "metadata": {
        "id": "YeltvWQO3jX9"
      }
    },
    {
      "cell_type": "code",
      "source": [
        "ru = Du[:, -1]\n",
        "print(f'ru = {ru}')"
      ],
      "metadata": {
        "colab": {
          "base_uri": "https://localhost:8080/"
        },
        "outputId": "99876e19-0672-484c-93d2-16f1e849edbf",
        "id": "Kdi4MCZI3jX-"
      },
      "execution_count": 11,
      "outputs": [
        {
          "output_type": "stream",
          "name": "stdout",
          "text": [
            "ru = [ 1.  1.  1. -1. -1. -1. -1. nan nan nan nan nan nan]\n"
          ]
        }
      ]
    },
    {
      "cell_type": "markdown",
      "source": [
        "### 10 評価値集合の形状"
      ],
      "metadata": {
        "id": "cppLRVYm3hW1"
      }
    },
    {
      "cell_type": "code",
      "source": [
        "print(f'ruの形状 = {ru.shape}')"
      ],
      "metadata": {
        "colab": {
          "base_uri": "https://localhost:8080/"
        },
        "id": "SUElgwH99QGO",
        "outputId": "cc2dbf36-db3e-4012-a5eb-bcd9e80caa5d"
      },
      "execution_count": 12,
      "outputs": [
        {
          "output_type": "stream",
          "name": "stdout",
          "text": [
            "ruの形状 = (13,)\n"
          ]
        }
      ]
    },
    {
      "cell_type": "markdown",
      "source": [
        "### 11 評価値集合の全要素数"
      ],
      "metadata": {
        "id": "b6_LeicU9bgu"
      }
    },
    {
      "cell_type": "code",
      "source": [
        "print(f'ruの全要素数 = {ru.size}')"
      ],
      "metadata": {
        "colab": {
          "base_uri": "https://localhost:8080/"
        },
        "outputId": "a0e480d2-dd84-4a52-b4f1-2dee8d3c37df",
        "id": "nw8oEHtZ9bgw"
      },
      "execution_count": 13,
      "outputs": [
        {
          "output_type": "stream",
          "name": "stdout",
          "text": [
            "ruの全要素数 = 13\n"
          ]
        }
      ]
    },
    {
      "cell_type": "markdown",
      "source": [
        "### 12 評価値集合の部分集合"
      ],
      "metadata": {
        "id": "-Fv6ETIT2ML7"
      }
    },
    {
      "cell_type": "code",
      "source": [
        "i = 2\n",
        "j = 5\n",
        "print(f'ru{i}からru{j-1}までの評価値 = {ru[i:j]}')"
      ],
      "metadata": {
        "colab": {
          "base_uri": "https://localhost:8080/"
        },
        "outputId": "f3f901cc-ba14-4b00-a617-cda2b169385c",
        "id": "tvXo-IJi2ML7"
      },
      "execution_count": 14,
      "outputs": [
        {
          "output_type": "stream",
          "name": "stdout",
          "text": [
            "ru2からru4までの評価値 = [ 1. -1. -1.]\n"
          ]
        }
      ]
    },
    {
      "cell_type": "markdown",
      "source": [
        "### 13 評価値集合の逆順"
      ],
      "metadata": {
        "id": "mgKVFNYU9dPu"
      }
    },
    {
      "cell_type": "markdown",
      "source": [
        "`ru[::-1]`により、逆順で値を取り出す。"
      ],
      "metadata": {
        "id": "ELr7j-gRniQI"
      }
    },
    {
      "cell_type": "code",
      "source": [
        "print(f'ruの逆順 = {ru[::-1]}')"
      ],
      "metadata": {
        "colab": {
          "base_uri": "https://localhost:8080/"
        },
        "outputId": "6dc6e7d7-5086-415c-a5c3-1cade5ff7423",
        "id": "1WKe4Nhu9dPu"
      },
      "execution_count": 15,
      "outputs": [
        {
          "output_type": "stream",
          "name": "stdout",
          "text": [
            "ruの逆順 = [nan nan nan nan nan nan -1. -1. -1. -1.  1.  1.  1.]\n"
          ]
        }
      ]
    },
    {
      "cell_type": "markdown",
      "source": [
        "### 14 アイテム$i$に対する評価"
      ],
      "metadata": {
        "id": "XiBTIvQU-Oow"
      }
    },
    {
      "cell_type": "markdown",
      "source": [
        "`ru[i]`を使う。"
      ],
      "metadata": {
        "id": "RCXAT-HFoVBx"
      }
    },
    {
      "cell_type": "code",
      "source": [
        "i = 0\n",
        "print(f'ru{i} = {ru[i]}')"
      ],
      "metadata": {
        "colab": {
          "base_uri": "https://localhost:8080/"
        },
        "outputId": "0fef4e6e-f443-4a4e-e716-3157b2f31cd0",
        "id": "rt-8RDom-Oo3"
      },
      "execution_count": 16,
      "outputs": [
        {
          "output_type": "stream",
          "name": "stdout",
          "text": [
            "ru0 = 1.0\n"
          ]
        }
      ]
    },
    {
      "cell_type": "markdown",
      "source": [
        "## アイテム集合"
      ],
      "metadata": {
        "id": "rMzzxnocoh4h"
      }
    },
    {
      "cell_type": "markdown",
      "source": [
        "### 15 ユーザ$u$が未評価であるか否かの判定"
      ],
      "metadata": {
        "id": "GCt5wg9--O1X"
      }
    },
    {
      "cell_type": "markdown",
      "source": [
        "ここでは、評価値$r_u$について、その第$i$成分が`np.nan`であるときユーザー$u$がアイテム$i$を未評価であるとして問題を解く。"
      ],
      "metadata": {
        "id": "2aqQ1Higo0qs"
      }
    },
    {
      "cell_type": "markdown",
      "source": [
        "`np.isnan(nparray)`を使う。"
      ],
      "metadata": {
        "id": "Q_dfF3r3psdO"
      }
    },
    {
      "cell_type": "code",
      "source": [
        "print(f'ユーザuが未評価 = {np.isnan(ru)}')"
      ],
      "metadata": {
        "colab": {
          "base_uri": "https://localhost:8080/"
        },
        "outputId": "5086286a-dc20-4f75-9352-5eba364ef676",
        "id": "X4Z30Xth-O1Y"
      },
      "execution_count": 17,
      "outputs": [
        {
          "output_type": "stream",
          "name": "stdout",
          "text": [
            "ユーザuが未評価 = [False False False False False False False  True  True  True  True  True\n",
            "  True]\n"
          ]
        }
      ]
    },
    {
      "cell_type": "markdown",
      "source": [
        "### 16 ユーザ$u$が評価済みであるか否かの判定"
      ],
      "metadata": {
        "id": "8tLocvr--O9i"
      }
    },
    {
      "cell_type": "markdown",
      "source": [
        "`np.isnan(nparray)`に対して、`~`をつけてあげれば`True`と`False`が反転するので題意を満たす。"
      ],
      "metadata": {
        "id": "985AuVD3p7GC"
      }
    },
    {
      "cell_type": "code",
      "source": [
        "print(f'ユーザuが評価済み = {~np.isnan(ru)}')"
      ],
      "metadata": {
        "colab": {
          "base_uri": "https://localhost:8080/"
        },
        "outputId": "b458b11e-d77c-4f3b-94bf-cf0a7991aa32",
        "id": "UzWYJ3gf-O9i"
      },
      "execution_count": 18,
      "outputs": [
        {
          "output_type": "stream",
          "name": "stdout",
          "text": [
            "ユーザuが評価済み = [ True  True  True  True  True  True  True False False False False False\n",
            " False]\n"
          ]
        }
      ]
    },
    {
      "cell_type": "markdown",
      "source": [
        "### 17 ユーザ$u$が評価済みのアイテム集合$I_u$"
      ],
      "metadata": {
        "id": "bYp4RBrK-PqQ"
      }
    },
    {
      "cell_type": "markdown",
      "source": [
        "16で見た評価済みのアイテムのみを抽出する。"
      ],
      "metadata": {
        "id": "CN3e7d5Oq5Yb"
      }
    },
    {
      "cell_type": "markdown",
      "source": [
        "`np.arange()`について、16の結果を使ってインデキシングすることで解決する。"
      ],
      "metadata": {
        "id": "qU0pck5WrL4B"
      }
    },
    {
      "cell_type": "code",
      "source": [
        "Iu = np.arange(ru.shape[0])[~np.isnan(ru)]\n",
        "print(f'Iu = {Iu}')"
      ],
      "metadata": {
        "colab": {
          "base_uri": "https://localhost:8080/"
        },
        "outputId": "130dcea8-b940-4621-e587-ee16a684f27b",
        "id": "imCiGbCY-PqQ"
      },
      "execution_count": 19,
      "outputs": [
        {
          "output_type": "stream",
          "name": "stdout",
          "text": [
            "Iu = [0 1 2 3 4 5 6]\n"
          ]
        }
      ]
    },
    {
      "cell_type": "markdown",
      "source": [
        "### 18 ユーザ$u$が好きと評価したアイテム集合$I_{u+}$"
      ],
      "metadata": {
        "id": "uCKdtlLM-PwH"
      }
    },
    {
      "cell_type": "markdown",
      "source": [
        "ユーザ$u$が評価済みで、なおかつ評価値が$1$であるようなアイテム集合$I_u$を作る。\n",
        "\n",
        "`np.where(ruの条件, True, False)`を使う。"
      ],
      "metadata": {
        "id": "dQW9Moj6rjCz"
      }
    },
    {
      "cell_type": "code",
      "source": [
        "Iuplus = np.arange(ru.shape[0])[np.where(ru == 1, True, False)]\n",
        "print(f'Iu+ = {Iuplus}')"
      ],
      "metadata": {
        "colab": {
          "base_uri": "https://localhost:8080/"
        },
        "outputId": "8c185652-349f-4cae-8636-da0ba76b1023",
        "id": "kQ8-Hzv_-PwH"
      },
      "execution_count": 20,
      "outputs": [
        {
          "output_type": "stream",
          "name": "stdout",
          "text": [
            "Iu+ = [0 1 2]\n"
          ]
        }
      ]
    },
    {
      "cell_type": "markdown",
      "source": [
        "### 19 ユーザ$u$が嫌いと評価したアイテム集合$I_{u-}$"
      ],
      "metadata": {
        "id": "3igRnAfJ-P00"
      }
    },
    {
      "cell_type": "markdown",
      "source": [
        "`np.where()`の条件部分をいじればよい。"
      ],
      "metadata": {
        "id": "mR4n3E8HsaL6"
      }
    },
    {
      "cell_type": "code",
      "source": [
        "Iuminus = np.arange(ru.shape[0])[np.where(ru == -1, True, False)]\n",
        "print(f'Iu- = {Iuminus}')"
      ],
      "metadata": {
        "colab": {
          "base_uri": "https://localhost:8080/"
        },
        "outputId": "b0e2a005-5e88-4407-bd29-aeaa971ae781",
        "id": "YguDPJla-P01"
      },
      "execution_count": 21,
      "outputs": [
        {
          "output_type": "stream",
          "name": "stdout",
          "text": [
            "Iu- = [3 4 5 6]\n"
          ]
        }
      ]
    },
    {
      "cell_type": "markdown",
      "source": [
        "### 20 ユーザ$u$が未評価のアイテム集合$\\bar{I}_u$"
      ],
      "metadata": {
        "id": "UIS7dzf7-VcF"
      }
    },
    {
      "cell_type": "markdown",
      "source": [
        "1. `np.nan`かどうかでインデキシングする。\n",
        "2. `numpy.setdiff1d()`については、また今度。"
      ],
      "metadata": {
        "id": "OGAZpYOQs9lS"
      }
    },
    {
      "cell_type": "code",
      "source": [
        "Iu_not = np.arange(ru.shape[0])[np.isnan(ru)]\n",
        "print(f'Iu_not = {Iu_not}')"
      ],
      "metadata": {
        "colab": {
          "base_uri": "https://localhost:8080/"
        },
        "outputId": "f1172532-170c-4a8f-eb88-55b1dc7fee6d",
        "id": "5jtEPVA9-VcG"
      },
      "execution_count": 22,
      "outputs": [
        {
          "output_type": "stream",
          "name": "stdout",
          "text": [
            "Iu_not = [ 7  8  9 10 11 12]\n"
          ]
        }
      ]
    },
    {
      "cell_type": "markdown",
      "source": [
        "## 訓練データと予測対象データ"
      ],
      "metadata": {
        "id": "VxrqJVH7twUs"
      }
    },
    {
      "cell_type": "markdown",
      "source": [
        "### 21 訓練データ"
      ],
      "metadata": {
        "id": "32WxVkpl-Vnx"
      }
    },
    {
      "cell_type": "markdown",
      "source": [
        "17でやったインデキシングを`Du`に直接適用すればできるはず。"
      ],
      "metadata": {
        "id": "kQHU9X7_uJPh"
      }
    },
    {
      "cell_type": "code",
      "source": [
        "DuL = Du[~np.isnan(ru)]\n",
        "print(f'DuL = \\n{DuL}')"
      ],
      "metadata": {
        "colab": {
          "base_uri": "https://localhost:8080/"
        },
        "outputId": "47632d16-95ba-47f9-bfef-b8f8b0b634df",
        "id": "0hOQxYBQ-Vnx"
      },
      "execution_count": 23,
      "outputs": [
        {
          "output_type": "stream",
          "name": "stdout",
          "text": [
            "DuL = \n",
            "[[ 5.  3.  1.]\n",
            " [ 6.  2.  1.]\n",
            " [ 4.  1.  1.]\n",
            " [ 8.  5. -1.]\n",
            " [ 2.  4. -1.]\n",
            " [ 3.  6. -1.]\n",
            " [ 7.  6. -1.]]\n"
          ]
        }
      ]
    },
    {
      "cell_type": "markdown",
      "source": [
        "### 22 訓練事例数"
      ],
      "metadata": {
        "id": "kuPNFUAm-W3I"
      }
    },
    {
      "cell_type": "markdown",
      "source": [
        "`np.shape`で`DuL`の行数を求めればよい。"
      ],
      "metadata": {
        "id": "ejfOJ_BSunl3"
      }
    },
    {
      "cell_type": "code",
      "source": [
        "print(f'|DuL| = {DuL.shape[0]}')"
      ],
      "metadata": {
        "colab": {
          "base_uri": "https://localhost:8080/"
        },
        "outputId": "25e2f120-3fca-49fb-a0f3-b2443bce7b89",
        "id": "go4OGgW_-W3J"
      },
      "execution_count": 24,
      "outputs": [
        {
          "output_type": "stream",
          "name": "stdout",
          "text": [
            "|DuL| = 7\n"
          ]
        }
      ]
    },
    {
      "cell_type": "markdown",
      "source": [
        "### 23 正事例数"
      ],
      "metadata": {
        "id": "AcIxX7z8-W-4"
      }
    },
    {
      "cell_type": "markdown",
      "source": [
        "`np.where(ruの条件, True, False)`の長さは13なので、これでインデキシングしたい場合`DuL`を対象としてもエラーが発生する。(一敗)\n",
        "\n",
        "そのため今回は`DuL[:, -1]`、つまり`DuL`の中でも評価値の部分に対して`np.where`を利用した。"
      ],
      "metadata": {
        "id": "NWOg_RVIvnZl"
      }
    },
    {
      "cell_type": "code",
      "source": [
        "print(f'|DuL+| = {DuL[np.where(DuL[:, -1] == 1, True, False)].shape[0]}')"
      ],
      "metadata": {
        "colab": {
          "base_uri": "https://localhost:8080/"
        },
        "outputId": "3aa81567-838a-4f72-a409-6f34ef8451b2",
        "id": "KUvjLHz0-W-4"
      },
      "execution_count": 25,
      "outputs": [
        {
          "output_type": "stream",
          "name": "stdout",
          "text": [
            "|DuL+| = 3\n"
          ]
        }
      ]
    },
    {
      "cell_type": "markdown",
      "source": [
        "### 24 不事例数"
      ],
      "metadata": {
        "id": "y15iaMB1-XGF"
      }
    },
    {
      "cell_type": "code",
      "source": [
        "print(f'|DuL-| = {DuL[np.where(DuL[:, -1] == -1, True, False)].shape[0]}')"
      ],
      "metadata": {
        "colab": {
          "base_uri": "https://localhost:8080/"
        },
        "outputId": "22d5f0e6-423f-490a-9ceb-1b63ba8197e2",
        "id": "LjaGIomn-XGG"
      },
      "execution_count": 26,
      "outputs": [
        {
          "output_type": "stream",
          "name": "stdout",
          "text": [
            "|DuL-| = 4\n"
          ]
        }
      ]
    },
    {
      "cell_type": "markdown",
      "source": [
        "### 25 予測対象データ"
      ],
      "metadata": {
        "id": "AXT0sztr-XM_"
      }
    },
    {
      "cell_type": "markdown",
      "source": [
        "21でやったこととほぼ同じことをやればよい。`~`を外すだけ。"
      ],
      "metadata": {
        "id": "iGUnAGd3wXPU"
      }
    },
    {
      "cell_type": "code",
      "source": [
        "DuU = Du[np.isnan(ru)]\n",
        "print(f'DuU = \\n{DuU}')"
      ],
      "metadata": {
        "colab": {
          "base_uri": "https://localhost:8080/"
        },
        "outputId": "f36bb40b-fac8-4054-f67c-055b216b67e3",
        "id": "QdpPH2QC-XM_"
      },
      "execution_count": 27,
      "outputs": [
        {
          "output_type": "stream",
          "name": "stdout",
          "text": [
            "DuU = \n",
            "[[ 4.  2. nan]\n",
            " [ 5.  1. nan]\n",
            " [ 8.  6. nan]\n",
            " [ 3.  4. nan]\n",
            " [ 4.  7. nan]\n",
            " [ 4.  4. nan]]\n"
          ]
        }
      ]
    },
    {
      "cell_type": "markdown",
      "source": [
        "### 26 予測対象事例数"
      ],
      "metadata": {
        "id": "C7b6Ta68-XUB"
      }
    },
    {
      "cell_type": "markdown",
      "source": [
        "対象を`DuU`として、22と同じことを行う。"
      ],
      "metadata": {
        "id": "a4PfotCSwqep"
      }
    },
    {
      "cell_type": "code",
      "source": [
        "print(f'|DuU| = {DuU.shape[0]}')"
      ],
      "metadata": {
        "colab": {
          "base_uri": "https://localhost:8080/"
        },
        "outputId": "a3849fd8-4147-453e-8d8e-c96c2a00f157",
        "id": "meuqcRSp-XUB"
      },
      "execution_count": 28,
      "outputs": [
        {
          "output_type": "stream",
          "name": "stdout",
          "text": [
            "|DuU| = 6\n"
          ]
        }
      ]
    },
    {
      "cell_type": "markdown",
      "source": [
        "## 第2章 評価値行列"
      ],
      "metadata": {
        "id": "Kbm-qzVd5mJ6"
      }
    },
    {
      "cell_type": "markdown",
      "source": [
        "準備"
      ],
      "metadata": {
        "id": "t9pIWGBr5t35"
      }
    },
    {
      "cell_type": "code",
      "source": [
        "import pprint\n",
        "import numpy as np\n",
        "np.set_printoptions(precision=3)"
      ],
      "metadata": {
        "id": "lA1K_9__5qxo"
      },
      "execution_count": 29,
      "outputs": []
    },
    {
      "cell_type": "markdown",
      "source": [
        "## 評価値行列"
      ],
      "metadata": {
        "id": "-rACZ6-i5_dw"
      }
    },
    {
      "cell_type": "markdown",
      "source": [
        "### 01 評価値行列の生成"
      ],
      "metadata": {
        "id": "7aTfWIrw6Pbc"
      }
    },
    {
      "cell_type": "markdown",
      "source": [
        "正確に内容をトレースし、`np.nan`と`np.array`を使う。"
      ],
      "metadata": {
        "id": "O3VCKhJC78Gh"
      }
    },
    {
      "cell_type": "code",
      "source": [
        "R_list = [[np.nan, 4, 3, 1, 2, np.nan],\n",
        "          [5, 5, 4, np.nan, 3, 3],\n",
        "          [4, np.nan, 5, 3, 2, np.nan],\n",
        "          [np.nan, 3, np.nan, 2, 1, 1],\n",
        "          [2, 1, 2, 4, np.nan, 3]]\n",
        "\n",
        "R = np.array(R_list)"
      ],
      "metadata": {
        "id": "v0HnZYV25yHU"
      },
      "execution_count": 30,
      "outputs": []
    },
    {
      "cell_type": "code",
      "source": [
        "print(f'R = \\n{R}')"
      ],
      "metadata": {
        "colab": {
          "base_uri": "https://localhost:8080/"
        },
        "id": "ffxWfvNW6qOP",
        "outputId": "1b604462-4841-4bbc-a75f-80c4e3a59033"
      },
      "execution_count": 31,
      "outputs": [
        {
          "output_type": "stream",
          "name": "stdout",
          "text": [
            "R = \n",
            "[[nan  4.  3.  1.  2. nan]\n",
            " [ 5.  5.  4. nan  3.  3.]\n",
            " [ 4. nan  5.  3.  2. nan]\n",
            " [nan  3. nan  2.  1.  1.]\n",
            " [ 2.  1.  2.  4. nan  3.]]\n"
          ]
        }
      ]
    },
    {
      "cell_type": "markdown",
      "source": [
        "### 02 ユーザ集合"
      ],
      "metadata": {
        "id": "syvYn4i66zEB"
      }
    },
    {
      "cell_type": "markdown",
      "source": [
        "第1章で親の顔ほど見た`np.arange(np.shape[0])`を使う。"
      ],
      "metadata": {
        "id": "wpdylazB8Bwg"
      }
    },
    {
      "cell_type": "code",
      "source": [
        "U = np.arange(R.shape[0])\n",
        "print(f'U = {U}')"
      ],
      "metadata": {
        "colab": {
          "base_uri": "https://localhost:8080/"
        },
        "id": "E2chDp_Q6ua5",
        "outputId": "885126e0-e2e9-4b60-eb54-8158077ef2c9"
      },
      "execution_count": 32,
      "outputs": [
        {
          "output_type": "stream",
          "name": "stdout",
          "text": [
            "U = [0 1 2 3 4]\n"
          ]
        }
      ]
    },
    {
      "cell_type": "markdown",
      "source": [
        "### 03 アイテム集合"
      ],
      "metadata": {
        "id": "Hndnj1B_8M72"
      }
    },
    {
      "cell_type": "markdown",
      "source": [
        "02と同様に、`np.arange(np.shape[1])`でなんとかする。"
      ],
      "metadata": {
        "id": "1ixUxzVB88Ax"
      }
    },
    {
      "cell_type": "code",
      "source": [
        "I = np.arange(R.shape[1])\n",
        "print(f'I = {I}')"
      ],
      "metadata": {
        "colab": {
          "base_uri": "https://localhost:8080/"
        },
        "id": "NLE_byBm76Qg",
        "outputId": "191c01a2-b6c0-4235-aef4-e6717a89ede0"
      },
      "execution_count": 33,
      "outputs": [
        {
          "output_type": "stream",
          "name": "stdout",
          "text": [
            "I = [0 1 2 3 4 5]\n"
          ]
        }
      ]
    },
    {
      "cell_type": "markdown",
      "source": [
        "### 04 ユーザ数"
      ],
      "metadata": {
        "id": "U4qRbrvd95qZ"
      }
    },
    {
      "cell_type": "markdown",
      "source": [
        "公式のヒント的に`U`に対して`np.size`を使うらしい。行列ではなくベクトルの場合だと`np.shape`との違いがいまいちわからなかったりするので調べておこうと思う。"
      ],
      "metadata": {
        "id": "sm3ihxsp9-Qt"
      }
    },
    {
      "cell_type": "code",
      "source": [
        "print(f'|U| = {U.size}')"
      ],
      "metadata": {
        "colab": {
          "base_uri": "https://localhost:8080/"
        },
        "id": "pAPAcL9O9D42",
        "outputId": "89f36458-7281-470f-89c4-46a8373d0a3f"
      },
      "execution_count": 34,
      "outputs": [
        {
          "output_type": "stream",
          "name": "stdout",
          "text": [
            "|U| = 5\n"
          ]
        }
      ]
    },
    {
      "cell_type": "markdown",
      "source": [
        "### 05 アイテム数"
      ],
      "metadata": {
        "id": "nxfRoEm7-aSR"
      }
    },
    {
      "cell_type": "markdown",
      "source": [
        "04と同じように書く。"
      ],
      "metadata": {
        "id": "_B2-z1pB-dX2"
      }
    },
    {
      "cell_type": "code",
      "source": [
        "print(f'|I| = {I.size}')"
      ],
      "metadata": {
        "colab": {
          "base_uri": "https://localhost:8080/"
        },
        "id": "J2Jpx2Tp-Hpa",
        "outputId": "0cc5d54c-b143-46e7-9681-4ebdd82d76d3"
      },
      "execution_count": 35,
      "outputs": [
        {
          "output_type": "stream",
          "name": "stdout",
          "text": [
            "|I| = 6\n"
          ]
        }
      ]
    },
    {
      "cell_type": "markdown",
      "source": [
        "### 06 評価値"
      ],
      "metadata": {
        "id": "cGQfLDiN-lB5"
      }
    },
    {
      "cell_type": "markdown",
      "source": [
        "$u$と$i$は与えてもらえるので、インデックスを指定して値を取り出す。"
      ],
      "metadata": {
        "id": "eUQxzKl7-nTc"
      }
    },
    {
      "cell_type": "code",
      "source": [
        "u = 0\n",
        "i = 1\n",
        "print(f'r{u}{i} = {R[u, i]}')"
      ],
      "metadata": {
        "colab": {
          "base_uri": "https://localhost:8080/"
        },
        "id": "y91_637z-hTz",
        "outputId": "a4afe3c3-ddd7-460b-ffb4-c8b04845344a"
      },
      "execution_count": 36,
      "outputs": [
        {
          "output_type": "stream",
          "name": "stdout",
          "text": [
            "r01 = 4.0\n"
          ]
        }
      ]
    },
    {
      "cell_type": "markdown",
      "source": [
        "## 評価値行列の疎性"
      ],
      "metadata": {
        "id": "QtcM5Yq__Sgf"
      }
    },
    {
      "cell_type": "markdown",
      "source": [
        "### 07 評価値行列の全要素数"
      ],
      "metadata": {
        "id": "hWLeWAaf_N_p"
      }
    },
    {
      "cell_type": "markdown",
      "source": [
        "第1章では同じような状況で`np.size`を使っていた。今回は、`np.shape[0]*np.shape[1]`で値を取り出してみる。"
      ],
      "metadata": {
        "id": "4pzlFcZq_Z00"
      }
    },
    {
      "cell_type": "code",
      "source": [
        "print(f'Rの全要素数 = {R.shape[0]*R.shape[1]}')"
      ],
      "metadata": {
        "colab": {
          "base_uri": "https://localhost:8080/"
        },
        "id": "MOluE0En_G0a",
        "outputId": "90150991-eeed-4d21-bd89-89ae4e91dbaf"
      },
      "execution_count": 37,
      "outputs": [
        {
          "output_type": "stream",
          "name": "stdout",
          "text": [
            "Rの全要素数 = 30\n"
          ]
        }
      ]
    },
    {
      "cell_type": "markdown",
      "source": [
        "### 08 観測されているか否かの判定"
      ],
      "metadata": {
        "id": "yq2_L1UE_pWZ"
      }
    },
    {
      "cell_type": "markdown",
      "source": [
        "`np.isnan(R)`により`R`の各成分が欠損値かどうかを確認する。今回の場合は観測されているならば`True`とするようなので別途`~`を付け加える必要がある。"
      ],
      "metadata": {
        "id": "eVnC38hw_pSr"
      }
    },
    {
      "cell_type": "code",
      "source": [
        "print(f'観測値 = \\n{~np.isnan(R)}')"
      ],
      "metadata": {
        "colab": {
          "base_uri": "https://localhost:8080/"
        },
        "id": "T03mrJkg_oRg",
        "outputId": "7a232ca7-808a-46a5-d209-7e36f483e604"
      },
      "execution_count": 38,
      "outputs": [
        {
          "output_type": "stream",
          "name": "stdout",
          "text": [
            "観測値 = \n",
            "[[False  True  True  True  True False]\n",
            " [ True  True  True False  True  True]\n",
            " [ True False  True  True  True False]\n",
            " [False  True False  True  True  True]\n",
            " [ True  True  True  True False  True]]\n"
          ]
        }
      ]
    },
    {
      "cell_type": "markdown",
      "source": [
        "### 09 評価値行列の観測値数"
      ],
      "metadata": {
        "id": "CYh6mMFCAF-o"
      }
    },
    {
      "cell_type": "markdown",
      "source": [
        "`np.count.nonzero()`を使えばよいらしい。そのまま真偽値のみで構成された行列に適用すると、`True`の数を数えてくれるようだ。"
      ],
      "metadata": {
        "id": "D9juWK1qAdP2"
      }
    },
    {
      "cell_type": "code",
      "source": [
        "print(f'|R| = {np.count_nonzero(~np.isnan(R))}')"
      ],
      "metadata": {
        "colab": {
          "base_uri": "https://localhost:8080/"
        },
        "id": "E0Vi8XBuABpn",
        "outputId": "860e60b2-d1a0-41f0-fcde-30773d6c1cec"
      },
      "execution_count": 39,
      "outputs": [
        {
          "output_type": "stream",
          "name": "stdout",
          "text": [
            "|R| = 22\n"
          ]
        }
      ]
    },
    {
      "cell_type": "markdown",
      "source": [
        "### 10 評価値行列の疎性"
      ],
      "metadata": {
        "id": "Er6saLpDAoBh"
      }
    },
    {
      "cell_type": "markdown",
      "source": [
        "$sparsity$の定義に基づいて計算すればよい。少しコードが冗長になると思ったので、`R.shape[index]`ではなく`R.size`を使って計算している。"
      ],
      "metadata": {
        "id": "TgjSlEkoApz9"
      }
    },
    {
      "cell_type": "code",
      "source": [
        "sparsity = (R.size-np.count_nonzero(~np.isnan(R)))/R.size\n",
        "print(f'sparsity = {sparsity:.3f}')"
      ],
      "metadata": {
        "colab": {
          "base_uri": "https://localhost:8080/"
        },
        "id": "WD0DPIULAYcX",
        "outputId": "a3660461-8a60-4b54-a283-f662d551d1ba"
      },
      "execution_count": 40,
      "outputs": [
        {
          "output_type": "stream",
          "name": "stdout",
          "text": [
            "sparsity = 0.267\n"
          ]
        }
      ]
    },
    {
      "cell_type": "markdown",
      "source": [
        "## 評価済みアイテム集合"
      ],
      "metadata": {
        "id": "CHpZr6H9BmOQ"
      }
    },
    {
      "cell_type": "markdown",
      "source": [
        "### 11 ユーザ$u$が評価済みのアイテム集合$I_u$"
      ],
      "metadata": {
        "id": "Kg4LZNefAqzD"
      }
    },
    {
      "cell_type": "markdown",
      "source": [
        "$u$が与えられるので、`R`の`u`行目の中で欠損値ではないインデックスのみを返すようにする。"
      ],
      "metadata": {
        "id": "o_dnsQEwAqzD"
      }
    },
    {
      "cell_type": "code",
      "source": [
        "u = 0\n",
        "print(f'I{u} = {I[~np.isnan(R[u, :])]}')"
      ],
      "metadata": {
        "colab": {
          "base_uri": "https://localhost:8080/"
        },
        "id": "2sWcP2MaAqzD",
        "outputId": "acaa198b-f82c-4649-fb4d-96925a7658d4"
      },
      "execution_count": 41,
      "outputs": [
        {
          "output_type": "stream",
          "name": "stdout",
          "text": [
            "I0 = [1 2 3 4]\n"
          ]
        }
      ]
    },
    {
      "cell_type": "markdown",
      "source": [
        "### 12 各ユーザの評価済みアイテム集合"
      ],
      "metadata": {
        "id": "f1gMd1DVArAq"
      }
    },
    {
      "cell_type": "markdown",
      "source": [
        "ポイントは、多分以下だと思う。\n",
        "\n",
        "- `ndarray`のリストとしてまとめるという点\n",
        "  - リストにする際に内包表記を利用する点\n",
        "- pprintを利用する点"
      ],
      "metadata": {
        "id": "KGPf5CCVArAr"
      }
    },
    {
      "cell_type": "code",
      "source": [
        "Iu = [I[~np.isnan(R[u, :])] for u in range(U.size)]\n",
        "print('Iu = ')\n",
        "pprint.pprint(Iu)"
      ],
      "metadata": {
        "colab": {
          "base_uri": "https://localhost:8080/"
        },
        "id": "4CGBWy1QArAr",
        "outputId": "67bf4ac5-be87-4b20-e1aa-1067c0278d2b"
      },
      "execution_count": 42,
      "outputs": [
        {
          "output_type": "stream",
          "name": "stdout",
          "text": [
            "Iu = \n",
            "[array([1, 2, 3, 4]),\n",
            " array([0, 1, 2, 4, 5]),\n",
            " array([0, 2, 3, 4]),\n",
            " array([1, 3, 4, 5]),\n",
            " array([0, 1, 2, 3, 5])]\n"
          ]
        }
      ]
    },
    {
      "cell_type": "markdown",
      "source": [
        "### 13 ユーザ$u$と$v$の共通の評価済みアイテム集合$I_{u, v}$"
      ],
      "metadata": {
        "id": "pJYz7_NToFl0"
      }
    },
    {
      "cell_type": "markdown",
      "source": [
        "$u$と$v$が与えられるので、11のように評価済みアイテムを得てその共通部分をとることで望みのベクトルが得られる。共通部分の取り方は、案内通り`np.intersect1d(ndarray1, ndarray2)`を使えばよい。"
      ],
      "metadata": {
        "id": "U4_hri5XoFiB"
      }
    },
    {
      "cell_type": "code",
      "source": [
        "u = 0\n",
        "v = 1\n",
        "temp_u = Iu[u]\n",
        "temp_v = Iu[v]\n",
        "Iuv = np.intersect1d(temp_u, temp_v)\n",
        "print(f'I{u}{v} = {Iuv}')"
      ],
      "metadata": {
        "colab": {
          "base_uri": "https://localhost:8080/"
        },
        "id": "jx99PE4mnOoM",
        "outputId": "fa089b62-b583-4407-af96-67ad1900dd0e"
      },
      "execution_count": 43,
      "outputs": [
        {
          "output_type": "stream",
          "name": "stdout",
          "text": [
            "I01 = [1 2 4]\n"
          ]
        }
      ]
    },
    {
      "cell_type": "markdown",
      "source": [
        "### 14 アイテム$i$を評価済みのユーザ集合"
      ],
      "metadata": {
        "id": "yltqhnDjrIUE"
      }
    },
    {
      "cell_type": "markdown",
      "source": [
        "$i$が与えられるので、`U`から$i$列目が`np.nan`でないインデックスを返すように`~np.isnan()`を使う。"
      ],
      "metadata": {
        "id": "N15oPjBCrIPm"
      }
    },
    {
      "cell_type": "code",
      "source": [
        "i = 0\n",
        "print(f'U{i} = {U[~np.isnan(R[:, i])]}')"
      ],
      "metadata": {
        "colab": {
          "base_uri": "https://localhost:8080/"
        },
        "id": "UVmKE2tFop3H",
        "outputId": "3dc833e2-dacf-4443-84c5-4671a3a3b465"
      },
      "execution_count": 44,
      "outputs": [
        {
          "output_type": "stream",
          "name": "stdout",
          "text": [
            "U0 = [1 2 4]\n"
          ]
        }
      ]
    },
    {
      "cell_type": "markdown",
      "source": [
        "### 15 各アイテムの評価済みユーザ集合"
      ],
      "metadata": {
        "id": "HfABfwRdrLZ2"
      }
    },
    {
      "cell_type": "markdown",
      "source": [
        "11のコードを参考に12のコードを作ったように、14のコードを修正する。"
      ],
      "metadata": {
        "id": "1LEsIDh6rLZ2"
      }
    },
    {
      "cell_type": "code",
      "source": [
        "Ui = [U[~np.isnan(R[:, i])] for i in range(I.size)]\n",
        "print('Ui = ')\n",
        "pprint.pprint(Ui)"
      ],
      "metadata": {
        "colab": {
          "base_uri": "https://localhost:8080/"
        },
        "id": "aTCB7402rLZ2",
        "outputId": "b96cb1cd-6d61-40f7-adab-75ab8e819061"
      },
      "execution_count": 45,
      "outputs": [
        {
          "output_type": "stream",
          "name": "stdout",
          "text": [
            "Ui = \n",
            "[array([1, 2, 4]),\n",
            " array([0, 1, 3, 4]),\n",
            " array([0, 1, 2, 4]),\n",
            " array([0, 2, 3, 4]),\n",
            " array([0, 1, 2, 3]),\n",
            " array([1, 3, 4])]\n"
          ]
        }
      ]
    },
    {
      "cell_type": "markdown",
      "source": [
        "### 16 アイテム$i$とアイテム$j$の両方を評価済みのユーザ集合$U_{i, j}$"
      ],
      "metadata": {
        "id": "bmJlH9yZrLkC"
      }
    },
    {
      "cell_type": "markdown",
      "source": [
        "13と同じノリで作ることができる。"
      ],
      "metadata": {
        "id": "cvA7TCHarLkD"
      }
    },
    {
      "cell_type": "code",
      "source": [
        "i = 0\n",
        "j = 4\n",
        "temp_i = Ui[i]\n",
        "temp_j = Ui[j]\n",
        "Uij = np.intersect1d(temp_i, temp_j)\n",
        "print(f'U{i}{j} = {Uij}')"
      ],
      "metadata": {
        "colab": {
          "base_uri": "https://localhost:8080/"
        },
        "id": "RgBK2-k0rLkD",
        "outputId": "1d3e9abe-ae05-4812-b586-b1126d950c02"
      },
      "execution_count": 46,
      "outputs": [
        {
          "output_type": "stream",
          "name": "stdout",
          "text": [
            "U04 = [1 2]\n"
          ]
        }
      ]
    },
    {
      "cell_type": "markdown",
      "source": [
        "### 17 評価値行列全体の平均評価値"
      ],
      "metadata": {
        "id": "tiWn7WxkrLw2"
      }
    },
    {
      "cell_type": "markdown",
      "source": [
        "まずは、何も考えずに`R`を`np.mean()`で平均することを考えたい。すると、悲しいことに以下のようになるので`np.nan`を避ける必要がある。"
      ],
      "metadata": {
        "id": "PK1apWN1rLw2"
      }
    },
    {
      "cell_type": "code",
      "source": [
        "np.mean(R)"
      ],
      "metadata": {
        "colab": {
          "base_uri": "https://localhost:8080/"
        },
        "id": "3xHpDyjLrLw3",
        "outputId": "b746595d-c26b-4dcc-9f7e-610615859d8e"
      },
      "execution_count": 47,
      "outputs": [
        {
          "output_type": "execute_result",
          "data": {
            "text/plain": [
              "nan"
            ]
          },
          "metadata": {},
          "execution_count": 47
        }
      ]
    },
    {
      "cell_type": "markdown",
      "source": [
        "ここで、元ネタの記事にもある通り`np.nanmean()`をすることで`np.nan`を除外した平均を算出できる。"
      ],
      "metadata": {
        "id": "TDYNNqIM49XU"
      }
    },
    {
      "cell_type": "code",
      "source": [
        "print(f'R全体の平均評価値 = {np.nanmean(R):.3f}')"
      ],
      "metadata": {
        "colab": {
          "base_uri": "https://localhost:8080/"
        },
        "id": "1mFDcytp5J9P",
        "outputId": "1668fcd0-fdf7-41fa-99e9-8b4cbfe6a357"
      },
      "execution_count": 48,
      "outputs": [
        {
          "output_type": "stream",
          "name": "stdout",
          "text": [
            "R全体の平均評価値 = 2.864\n"
          ]
        }
      ]
    },
    {
      "cell_type": "markdown",
      "source": [
        "### 18 各アイテムの平均評価値"
      ],
      "metadata": {
        "id": "ajacQeFdrMDt"
      }
    },
    {
      "cell_type": "markdown",
      "source": [
        "便利だった`np.nanmean()`も`np.mean()`と同様に`axis`を設定できるのでそれを素直に行うことで結果を得る。この場合`axis=0`を指定する必要がある。"
      ],
      "metadata": {
        "id": "75NAg_6IrMDt"
      }
    },
    {
      "cell_type": "code",
      "source": [
        "ri_mean = np.nanmean(R, axis=0)\n",
        "print(f'ri_mean = {ri_mean}')"
      ],
      "metadata": {
        "colab": {
          "base_uri": "https://localhost:8080/"
        },
        "id": "oYrI6oHJrMDt",
        "outputId": "77947543-567b-4904-c24a-bdbc4e2e58b5"
      },
      "execution_count": 49,
      "outputs": [
        {
          "output_type": "stream",
          "name": "stdout",
          "text": [
            "ri_mean = [3.667 3.25  3.5   2.5   2.    2.333]\n"
          ]
        }
      ]
    },
    {
      "cell_type": "markdown",
      "source": [
        "### 19 各ユーザの平均評価値"
      ],
      "metadata": {
        "id": "kDKN6gQ7rMOd"
      }
    },
    {
      "cell_type": "markdown",
      "source": [
        "18の、`axis=1`版を作ればよい。"
      ],
      "metadata": {
        "id": "7poCzt6urMOe"
      }
    },
    {
      "cell_type": "code",
      "source": [
        "ru_mean = np.nanmean(R, axis=1)\n",
        "print(f'ru_mean = {ru_mean}')"
      ],
      "metadata": {
        "colab": {
          "base_uri": "https://localhost:8080/"
        },
        "id": "znwG7NrarMOe",
        "outputId": "6bb616bc-7ae4-41c3-d4d4-9942e8325e22"
      },
      "execution_count": 50,
      "outputs": [
        {
          "output_type": "stream",
          "name": "stdout",
          "text": [
            "ru_mean = [2.5  4.   3.5  1.75 2.4 ]\n"
          ]
        }
      ]
    },
    {
      "cell_type": "markdown",
      "source": [
        "### 20 評価値ベクトルの形状変換"
      ],
      "metadata": {
        "id": "D2cl_WdYrMfq"
      }
    },
    {
      "cell_type": "markdown",
      "source": [
        "記載がある通り、`ndarray.reshape()`を使うことで望みの結果を得る。今回は`ru_mean`を縦ベクトルのような表示にすることが目標となっていて、`reshape(-1, 1)`とするのがいいらしいが紛らわしいと思ってしまった。"
      ],
      "metadata": {
        "id": "DNl829hMrMfq"
      }
    },
    {
      "cell_type": "code",
      "source": [
        "print(f'ru_mean = \\n{ru_mean.reshape(-1, 1)}')"
      ],
      "metadata": {
        "colab": {
          "base_uri": "https://localhost:8080/"
        },
        "id": "R2XcX37arMfq",
        "outputId": "66d429d7-1117-49b4-c0c4-db482d5a5dd7"
      },
      "execution_count": 51,
      "outputs": [
        {
          "output_type": "stream",
          "name": "stdout",
          "text": [
            "ru_mean = \n",
            "[[2.5 ]\n",
            " [4.  ]\n",
            " [3.5 ]\n",
            " [1.75]\n",
            " [2.4 ]]\n"
          ]
        }
      ]
    },
    {
      "cell_type": "markdown",
      "source": [
        "### 21 平均中心化評価値行列"
      ],
      "metadata": {
        "id": "8nbZ9RMorMmy"
      }
    },
    {
      "cell_type": "markdown",
      "source": [
        "`R - ru_mean`は計算できず、エラーが発生する。ブロードキャストによって計算できそうだと期待してやってみた結果これがでたのでちょっとつらいが`内包表記`によって`R`との差をとるような計算を試みた。理想的な解答とはかなり乖離していると思われるので、あとで調べてメモっておく。"
      ],
      "metadata": {
        "id": "T1wiGQK8rMmy"
      }
    },
    {
      "cell_type": "markdown",
      "source": [
        "以下、内包表記を利用した計算。一応値は合っているのだが`ndarray.reshape()`を使う方法を思いつかなかったのが悲しい。"
      ],
      "metadata": {
        "id": "y-0yI3Wx9WLt"
      }
    },
    {
      "cell_type": "code",
      "source": [
        "rubar = np.array([[rm] * I.size for rm in ru_mean])\n",
        "R2 = R - rubar\n",
        "print(f'R\\' = \\n{R2}')"
      ],
      "metadata": {
        "colab": {
          "base_uri": "https://localhost:8080/"
        },
        "id": "MNl-SpjT8Qeu",
        "outputId": "26b456bc-d303-4bd9-9fc8-d29ebc44d8c3"
      },
      "execution_count": 52,
      "outputs": [
        {
          "output_type": "stream",
          "name": "stdout",
          "text": [
            "R' = \n",
            "[[  nan  1.5   0.5  -1.5  -0.5    nan]\n",
            " [ 1.    1.    0.     nan -1.   -1.  ]\n",
            " [ 0.5    nan  1.5  -0.5  -1.5    nan]\n",
            " [  nan  1.25   nan  0.25 -0.75 -0.75]\n",
            " [-0.4  -1.4  -0.4   1.6    nan  0.6 ]]\n"
          ]
        }
      ]
    },
    {
      "cell_type": "markdown",
      "source": [
        "**以下、第4章と同時に追記**\n",
        "\n",
        "`ru_mean`ではなく`ru_mean.reshape(-1, 1)`を使えば`R`との差が直接計算できるということに後で気づいたのでコードを次のセルに記載する。"
      ],
      "metadata": {
        "id": "H4DV-I5kRXQv"
      }
    },
    {
      "cell_type": "code",
      "source": [
        "R2 = R - ru_mean.reshape(-1, 1)\n",
        "print(f'R\\' = \\n{R2}')"
      ],
      "metadata": {
        "colab": {
          "base_uri": "https://localhost:8080/"
        },
        "id": "_RibmiSzRS0e",
        "outputId": "217e3e8a-10d3-4ae6-b586-c12962c0f9f3"
      },
      "execution_count": 53,
      "outputs": [
        {
          "output_type": "stream",
          "name": "stdout",
          "text": [
            "R' = \n",
            "[[  nan  1.5   0.5  -1.5  -0.5    nan]\n",
            " [ 1.    1.    0.     nan -1.   -1.  ]\n",
            " [ 0.5    nan  1.5  -0.5  -1.5    nan]\n",
            " [  nan  1.25   nan  0.25 -0.75 -0.75]\n",
            " [-0.4  -1.4  -0.4   1.6    nan  0.6 ]]\n"
          ]
        }
      ]
    },
    {
      "cell_type": "markdown",
      "source": [
        "## 第3章 類似度に基づく推薦"
      ],
      "metadata": {
        "id": "jEvMpNJKHnn5"
      }
    },
    {
      "cell_type": "markdown",
      "source": [
        "準備"
      ],
      "metadata": {
        "id": "tpy8jHulHx_V"
      }
    },
    {
      "cell_type": "code",
      "source": [
        "import pprint\n",
        "import numpy as np\n",
        "\n",
        "# 上位K件\n",
        "TOP_K = 3\n",
        "\n",
        "Du = np.array([\n",
        "               [5, 3, +1],\n",
        "               [6, 2, +1],\n",
        "               [4, 1, +1],\n",
        "               [8, 5, -1],\n",
        "               [2, 4, -1],\n",
        "               [3, 6, -1],\n",
        "               [7, 6, -1],\n",
        "               [4, 2, np.nan],\n",
        "               [5, 1, np.nan],\n",
        "               [8, 6, np.nan],\n",
        "               [3, 4, np.nan],\n",
        "               [4, 7, np.nan],\n",
        "               [4, 4, np.nan],\n",
        "])\n",
        "I = np.arange(Du.shape[0])\n",
        "x = Du[:,:-1]\n",
        "ru = Du[:,-1]\n",
        "\n",
        "Iu = I[~np.isnan(ru)]\n",
        "Iup = I[ru==+1]\n",
        "Iun = I[ru==-1]\n",
        "Iu_not = np.setdiff1d(I, Iu)"
      ],
      "metadata": {
        "id": "33vHsjHWHzHS"
      },
      "execution_count": 54,
      "outputs": []
    },
    {
      "cell_type": "markdown",
      "source": [
        "## ユーザプロファイル"
      ],
      "metadata": {
        "id": "5AddWMhzI3CL"
      }
    },
    {
      "cell_type": "markdown",
      "source": [
        "### 01 好きなアイテム集合に含まれるアイテムの特徴ベクトルの集合"
      ],
      "metadata": {
        "id": "LFVa_zu_-BCu"
      }
    },
    {
      "cell_type": "markdown",
      "source": [
        "`x`は以下の通りであるから、`ru`が`1`となっているインデックスのみが`True`になるようなベクトルを使ってあげればよいはず。"
      ],
      "metadata": {
        "id": "vDIQVDWN-E0c"
      }
    },
    {
      "cell_type": "code",
      "source": [
        "x"
      ],
      "metadata": {
        "id": "U84sFRoEIY9_",
        "colab": {
          "base_uri": "https://localhost:8080/"
        },
        "outputId": "2a046faf-a689-4b9a-c1ee-f4ce83790065"
      },
      "execution_count": 55,
      "outputs": [
        {
          "output_type": "execute_result",
          "data": {
            "text/plain": [
              "array([[5., 3.],\n",
              "       [6., 2.],\n",
              "       [4., 1.],\n",
              "       [8., 5.],\n",
              "       [2., 4.],\n",
              "       [3., 6.],\n",
              "       [7., 6.],\n",
              "       [4., 2.],\n",
              "       [5., 1.],\n",
              "       [8., 6.],\n",
              "       [3., 4.],\n",
              "       [4., 7.],\n",
              "       [4., 4.]])"
            ]
          },
          "metadata": {},
          "execution_count": 55
        }
      ]
    },
    {
      "cell_type": "markdown",
      "source": [
        "従って、以下のように書くことで答えを得た。`np.where()`を用いることによって、`ru`の値が`1`のところのみ`True`になるようにしている。"
      ],
      "metadata": {
        "id": "TeEXemw4-gEw"
      }
    },
    {
      "cell_type": "code",
      "source": [
        "print(f'x[Iu+] = \\n{x[np.where(ru == 1, True, False)]}')"
      ],
      "metadata": {
        "colab": {
          "base_uri": "https://localhost:8080/"
        },
        "id": "rRNQMnkY-LFc",
        "outputId": "36413d1c-dadb-4eee-850d-ae1341bd872f"
      },
      "execution_count": 56,
      "outputs": [
        {
          "output_type": "stream",
          "name": "stdout",
          "text": [
            "x[Iu+] = \n",
            "[[5. 3.]\n",
            " [6. 2.]\n",
            " [4. 1.]]\n"
          ]
        }
      ]
    },
    {
      "cell_type": "markdown",
      "source": [
        "### 02 特徴ベクトルの総和"
      ],
      "metadata": {
        "id": "_4l9ZhqD_bov"
      }
    },
    {
      "cell_type": "markdown",
      "source": [
        "これは、01で得た`Iu+`に対して、`axis`を工夫して総和をとればよいはずだ。今回は行方向に和をとるはずだから、`axis=0`を使えばいいかもしれない。"
      ],
      "metadata": {
        "id": "HG2ecTRG_inl"
      }
    },
    {
      "cell_type": "code",
      "source": [
        "print(f'sum(x[Iu+]) = {x[np.where(ru == 1, True, False)].sum(axis=0)}')"
      ],
      "metadata": {
        "colab": {
          "base_uri": "https://localhost:8080/"
        },
        "id": "6nj_SELT-_lr",
        "outputId": "b432ff24-f515-48d5-ce71-1dd663c153c2"
      },
      "execution_count": 57,
      "outputs": [
        {
          "output_type": "stream",
          "name": "stdout",
          "text": [
            "sum(x[Iu+]) = [15.  6.]\n"
          ]
        }
      ]
    },
    {
      "cell_type": "markdown",
      "source": [
        "### 03 ユーザプロファイル"
      ],
      "metadata": {
        "id": "aRVnjqWeAFNg"
      }
    },
    {
      "cell_type": "markdown",
      "source": [
        "02のコードについて、総和ではなく平均をとるように修正すればよい。"
      ],
      "metadata": {
        "id": "F5r-SQ7eAH3p"
      }
    },
    {
      "cell_type": "code",
      "source": [
        "pu = x[np.where(ru == 1, True, False)].mean(axis=0)\n",
        "print(f'pu = {pu}')"
      ],
      "metadata": {
        "colab": {
          "base_uri": "https://localhost:8080/"
        },
        "id": "HTKQvzEu_1C8",
        "outputId": "c4642b58-96df-4bff-e18f-9148d503d860"
      },
      "execution_count": 58,
      "outputs": [
        {
          "output_type": "stream",
          "name": "stdout",
          "text": [
            "pu = [5. 2.]\n"
          ]
        }
      ]
    },
    {
      "cell_type": "markdown",
      "source": [
        "## コサイン類似度"
      ],
      "metadata": {
        "id": "GvmMLgeFA0Ri"
      }
    },
    {
      "cell_type": "markdown",
      "source": [
        "### 04 ベクトルの内積"
      ],
      "metadata": {
        "id": "IlKKy4PbAJJB"
      }
    },
    {
      "cell_type": "markdown",
      "source": [
        "ここでは、04から06までの3問を解いて一部コードを与えられた関数`cos`を完成させることを考える。"
      ],
      "metadata": {
        "id": "6ztslFR-EFc2"
      }
    },
    {
      "cell_type": "markdown",
      "source": [
        "内積`num`は、よく用いられる`@`か`np.dot()`を利用して計算されるので今回もそれを用いて計算していく。"
      ],
      "metadata": {
        "id": "p4r64vZwA-qE"
      }
    },
    {
      "cell_type": "markdown",
      "source": [
        "### 05 ユーザプロファイルのノルム"
      ],
      "metadata": {
        "id": "xK6KAjvoAJJC"
      }
    },
    {
      "cell_type": "markdown",
      "source": [
        "ユーザプロファイルのノルム`den_u`は、`np.linalg.norm()`をユーザプロファイルのベクトルに使うことで計算可能なはずだ。引数`ord`は何も設定しない場合デフォルトで`2`になったような気もするが、一応指定はしておく。"
      ],
      "metadata": {
        "id": "0W03a7EkBfDt"
      }
    },
    {
      "cell_type": "markdown",
      "source": [
        "### 06 特徴ベクトルのノルム"
      ],
      "metadata": {
        "id": "bXWM5BYbAJTo"
      }
    },
    {
      "cell_type": "markdown",
      "source": [
        "05のコードに対して、`np.linalg.norm()`の引数に指定するベクトルを`xi`に変更すればよい。"
      ],
      "metadata": {
        "id": "T_Ch6HQUAJTp"
      }
    },
    {
      "cell_type": "markdown",
      "source": [
        "以下では、04から06までの問の答えを用意して`cos`関数を作成し、実行結果を確認している。"
      ],
      "metadata": {
        "id": "ALkc3vlmCUR5"
      }
    },
    {
      "cell_type": "code",
      "source": [
        "def cos(pu, xi):\n",
        "    \"\"\"\n",
        "    コサイン類似度関数：ユーザプロファイルpuとアイテムiの特徴ベクトルxiのコサイン類似度を返す。\n",
        "\n",
        "    Parameters\n",
        "    ----------\n",
        "    pu : ndarray\n",
        "        ユーザuのユーザプロファイル\n",
        "    xi : ndarray\n",
        "        アイテムiの特徴ベクトル\n",
        "\n",
        "    Returns\n",
        "    -------\n",
        "    float\n",
        "        コサイン類似度\n",
        "    \"\"\"\n",
        "    num = pu@xi\n",
        "    print(f'num = {num}')\n",
        "    den_u = np.linalg.norm(pu, ord=2)\n",
        "    print('den_u = {:.3f}'.format(den_u))\n",
        "    den_i = np.linalg.norm(xi, ord=2)\n",
        "    print('den_i = {:.3f}'.format(den_i))\n",
        "    \n",
        "    cosine = num / (den_u * den_i)\n",
        "    return cosine"
      ],
      "metadata": {
        "id": "DAb3J7G_AJTp"
      },
      "execution_count": 59,
      "outputs": []
    },
    {
      "cell_type": "code",
      "source": [
        "u = 0\n",
        "i = 7\n",
        "print(f'cos(p{u}, x{i}) = {cos(pu, x[i]):.3f}')\n",
        "u = 0\n",
        "i = 11\n",
        "print(f'cos(p{u}, x{i}) = {cos(pu, x[i]):.3f}')"
      ],
      "metadata": {
        "colab": {
          "base_uri": "https://localhost:8080/"
        },
        "id": "ECvSnrBVCxuS",
        "outputId": "b1d01b87-c4e1-47dd-ebad-3e9d9f72ecd3"
      },
      "execution_count": 60,
      "outputs": [
        {
          "output_type": "stream",
          "name": "stdout",
          "text": [
            "num = 24.0\n",
            "den_u = 5.385\n",
            "den_i = 4.472\n",
            "cos(p0, x7) = 0.997\n",
            "num = 34.0\n",
            "den_u = 5.385\n",
            "den_i = 8.062\n",
            "cos(p0, x11) = 0.783\n"
          ]
        }
      ]
    },
    {
      "cell_type": "markdown",
      "source": [
        "## 推薦"
      ],
      "metadata": {
        "id": "LzIDueHcJpxo"
      }
    },
    {
      "cell_type": "markdown",
      "source": [
        "### 07 各アイテムに対するスコア"
      ],
      "metadata": {
        "id": "97PccxHhAJf8"
      }
    },
    {
      "cell_type": "markdown",
      "source": [
        "ここでは、07と08の問題を解いて一部コードを与えられた関数`order`を完成させることを考える。"
      ],
      "metadata": {
        "id": "QdyiCj2vAJf9"
      }
    },
    {
      "cell_type": "markdown",
      "source": [
        "結果から、変数`scores`は、以下のような条件を満たす辞書型の変数となる。\n",
        "- キーは`np.nan`だったアイテムのインデックス\n",
        "  - `Iu_not`があるのでこれを用いる\n",
        "- バリューはキーのアイテムベクトルとユーザプロファイルのスコアをとったもの\n",
        "\n",
        "これらを満たすよう、今回は辞書の内包表記を用いて記述する。"
      ],
      "metadata": {
        "id": "w7J5U8_YEVJI"
      }
    },
    {
      "cell_type": "markdown",
      "source": [
        "### 08 推薦リスト"
      ],
      "metadata": {
        "id": "AagUIeTBFR1C"
      }
    },
    {
      "cell_type": "markdown",
      "source": [
        "単純に辞書型の変数`scores`をバリューによって並び替えればよい。引数`reverse`を`True`にすることで降順にする点もポイント。"
      ],
      "metadata": {
        "id": "GMqA13FZFi4A"
      }
    },
    {
      "cell_type": "markdown",
      "source": [
        "以下では、07から08までの問の答えを用意して`order`関数を作成し、実行結果を確認している。`cos`関数をそのまま実行すると`print`文が実行されてしまうので、`cos2`関数を用意してプリントされないようにしている。"
      ],
      "metadata": {
        "id": "Hy5s8YGkGf5J"
      }
    },
    {
      "cell_type": "code",
      "source": [
        "def cos2(pu, xi):\n",
        "    \"\"\"\n",
        "    コサイン類似度関数：ユーザプロファイルpuとアイテムiの特徴ベクトルxiのコサイン類似度を返す。\n",
        "\n",
        "    Parameters\n",
        "    ----------\n",
        "    pu : ndarray\n",
        "        ユーザuのユーザプロファイル\n",
        "    xi : ndarray\n",
        "        アイテムiの特徴ベクトル\n",
        "\n",
        "    Returns\n",
        "    -------\n",
        "    float\n",
        "        コサイン類似度\n",
        "    \"\"\"\n",
        "    num = pu@xi\n",
        "    den_u = np.linalg.norm(pu, ord=2)\n",
        "    den_i = np.linalg.norm(xi, ord=2)\n",
        "    \n",
        "    cosine = num / (den_u * den_i)\n",
        "    return cosine"
      ],
      "metadata": {
        "id": "yl6PtfAdI1Zx"
      },
      "execution_count": 61,
      "outputs": []
    },
    {
      "cell_type": "code",
      "source": [
        "def score(u, i):\n",
        "    \"\"\"\n",
        "    スコア関数：ユーザuのアイテムiに対するスコアを返す。\n",
        "\n",
        "    Parameters\n",
        "    ----------\n",
        "    u : int\n",
        "        ユーザuのID（ダミー）\n",
        "    i : int\n",
        "        アイテムiのID\n",
        "\n",
        "    Returns\n",
        "    -------\n",
        "    float\n",
        "        スコア\n",
        "    \"\"\"\n",
        "    return cos2(pu, x[i])"
      ],
      "metadata": {
        "id": "tlmEL4_sAJf9"
      },
      "execution_count": 62,
      "outputs": []
    },
    {
      "cell_type": "code",
      "source": [
        "def order(u, I):\n",
        "    \"\"\"\n",
        "    順序付け関数：アイテム集合Iにおいて、ユーザu向けの推薦リストを返す。\n",
        "\n",
        "    Parameters\n",
        "    ----------\n",
        "    u : int\n",
        "        ユーザuのID\n",
        "    I : ndarray\n",
        "        アイテム集合\n",
        "\n",
        "    Returns\n",
        "    -------\n",
        "    list\n",
        "        タプル(アイテムID: スコア)を要素にした推薦リスト\n",
        "    \"\"\"\n",
        "    scores = {i: score(u, i) for i in I}\n",
        "    print('scores = ')\n",
        "    pprint.pprint(scores)\n",
        "    rec_list = sorted(scores.items(), key=lambda x:x[1], reverse=True)[:TOP_K]\n",
        "    return rec_list"
      ],
      "metadata": {
        "id": "MY0sMEfUGlRb"
      },
      "execution_count": 63,
      "outputs": []
    },
    {
      "cell_type": "code",
      "source": [
        "u = 0\n",
        "rec_list = order(u, Iu_not)\n",
        "print('rec_list = ')\n",
        "for i, scr in rec_list:\n",
        "    print('{}: {:.3f}'.format(i, scr))"
      ],
      "metadata": {
        "colab": {
          "base_uri": "https://localhost:8080/"
        },
        "id": "pRZJkYhLIAj1",
        "outputId": "a61f47f8-f7fc-4f57-9b1b-245c26c1e334"
      },
      "execution_count": 64,
      "outputs": [
        {
          "output_type": "stream",
          "name": "stdout",
          "text": [
            "scores = \n",
            "{7: 0.9965457582448796,\n",
            " 8: 0.9832820049844603,\n",
            " 9: 0.9656157585206697,\n",
            " 10: 0.8541985556144386,\n",
            " 11: 0.783110847498294,\n",
            " 12: 0.9191450300180578}\n",
            "rec_list = \n",
            "7: 0.997\n",
            "8: 0.983\n",
            "9: 0.966\n"
          ]
        }
      ]
    },
    {
      "cell_type": "markdown",
      "source": [
        "## 第4章 $k$近傍法"
      ],
      "metadata": {
        "id": "T4udvuXkLutD"
      }
    },
    {
      "cell_type": "markdown",
      "source": [
        "準備"
      ],
      "metadata": {
        "id": "IyKPfoNHMBMV"
      }
    },
    {
      "cell_type": "code",
      "source": [
        "import pprint\n",
        "import numpy as np\n",
        "np.set_printoptions(precision=3)\n",
        "\n",
        "# 上位K件\n",
        "TOP_K = 3\n",
        "# 近傍アイテム数\n",
        "K_ITEMS = 3\n",
        "# しきい値\n",
        "THETA = 0\n",
        "\n",
        "Du = np.array([\n",
        "               [5, 3, +1],\n",
        "               [6, 2, +1],\n",
        "               [4, 1, +1],\n",
        "               [8, 5, -1],\n",
        "               [2, 4, -1],\n",
        "               [3, 6, -1],\n",
        "               [7, 6, -1],\n",
        "               [4, 2, np.nan],\n",
        "               [5, 1, np.nan],\n",
        "               [8, 6, np.nan],\n",
        "               [3, 4, np.nan],\n",
        "               [4, 7, np.nan],\n",
        "               [4, 4, np.nan],\n",
        "])\n",
        "I = np.arange(Du.shape[0])\n",
        "x = Du[:,:-1]\n",
        "ru = Du[:,-1]\n",
        "\n",
        "Iu = I[~np.isnan(ru)]\n",
        "Iup = I[ru==+1]\n",
        "Iun = I[ru==-1]\n",
        "Iu_not = np.setdiff1d(I, Iu)"
      ],
      "metadata": {
        "id": "hXZlZmB-MDEw"
      },
      "execution_count": 65,
      "outputs": []
    },
    {
      "cell_type": "markdown",
      "source": [
        "## 距離"
      ],
      "metadata": {
        "id": "dRODLRDZMRDG"
      }
    },
    {
      "cell_type": "markdown",
      "source": [
        "### 01 ユークリッド距離"
      ],
      "metadata": {
        "id": "CKFn_S7fMIFi"
      }
    },
    {
      "cell_type": "markdown",
      "source": [
        "この問題では、一部コードを与えられた関数`dist`を完成させる。`dist`では2つのベクトルを入力としてそのユークリッド距離を返すものなので、2つのベクトルの差に対して`np.linalg.norm`を使えばよいはずだ。"
      ],
      "metadata": {
        "id": "OzhrlSNQMMnX"
      }
    },
    {
      "cell_type": "code",
      "source": [
        "def dist(xi, xj):\n",
        "    \"\"\"\n",
        "    距離関数：アイテムiの特徴ベクトルxiとアイテムjの特徴ベクトルxjのユークリッド距離を返す。\n",
        "\n",
        "    Parameters\n",
        "    ----------\n",
        "    xi : ndarray\n",
        "        アイテムiの特徴ベクトル\n",
        "    xj : ndarray\n",
        "        アイテムjの特徴ベクトル\n",
        "\n",
        "    Returns\n",
        "    -------\n",
        "    float\n",
        "        ユークリッド距離\n",
        "    \"\"\"\n",
        "    distance = np.linalg.norm(xi-xj, ord = 2)\n",
        "    return distance"
      ],
      "metadata": {
        "id": "efIJq3UaMFhF"
      },
      "execution_count": 66,
      "outputs": []
    },
    {
      "cell_type": "code",
      "source": [
        "i = 7\n",
        "j = 2\n",
        "print(f'dist(x{i}, x{j}) = {dist(x[i], x[j]):.3f}')\n",
        "i = 7\n",
        "j = 3\n",
        "print(f'dist(x{i}, x{j}) = {dist(x[i], x[j]):.3f}')"
      ],
      "metadata": {
        "colab": {
          "base_uri": "https://localhost:8080/"
        },
        "id": "Ur_UAdxSNBJc",
        "outputId": "4a68564a-ba8b-4c25-ccdc-f69018ee90a2"
      },
      "execution_count": 67,
      "outputs": [
        {
          "output_type": "stream",
          "name": "stdout",
          "text": [
            "dist(x7, x2) = 1.000\n",
            "dist(x7, x3) = 5.000\n"
          ]
        }
      ]
    },
    {
      "cell_type": "markdown",
      "source": [
        "## 近傍アイテム"
      ],
      "metadata": {
        "id": "vZPHyaMXNRxx"
      }
    },
    {
      "cell_type": "markdown",
      "source": [
        "### 02 アイテム-アイテム距離行列"
      ],
      "metadata": {
        "id": "0WgsXn3ZMNh5"
      }
    },
    {
      "cell_type": "markdown",
      "source": [
        "`Iu`と`Iu_not`の両方からアイテムを取り出し、アイテムの持つベクトルの距離を`dist`関数を使って求める問題である。とりあえず`np.array()`により2重内包表記の結果を包むことで答えと同じものが返ってくるようにはしたけど、題意的には正解と言いがたいかもしれない。あと、正直`D[np.ix_(Iu_not,Iu)]`がよくわかっていない。"
      ],
      "metadata": {
        "id": "SgJcjGXyMNh5"
      }
    },
    {
      "cell_type": "code",
      "source": [
        "D = np.array([[dist(x[i], x[j]) for i in Iu] for j in Iu_not])\n",
        "print(f'D = \\n{D}')"
      ],
      "metadata": {
        "colab": {
          "base_uri": "https://localhost:8080/"
        },
        "id": "IlTR5APHNd21",
        "outputId": "bd71ef42-8c6e-40ab-dd2a-13bf2908665c"
      },
      "execution_count": 68,
      "outputs": [
        {
          "output_type": "stream",
          "name": "stdout",
          "text": [
            "D = \n",
            "[[1.414 2.    1.    5.    2.828 4.123 5.   ]\n",
            " [2.    1.414 1.    5.    4.243 5.385 5.385]\n",
            " [4.243 4.472 6.403 1.    6.325 5.    1.   ]\n",
            " [2.236 3.606 3.162 5.099 1.    2.    4.472]\n",
            " [4.123 5.385 6.    4.472 3.606 1.414 3.162]\n",
            " [1.414 2.828 3.    4.123 2.    2.236 3.606]]\n"
          ]
        }
      ]
    },
    {
      "cell_type": "markdown",
      "source": [
        "### 03 距離の昇順に並べ替えたインデックスの配列"
      ],
      "metadata": {
        "id": "55NIcUGoMNvg"
      }
    },
    {
      "cell_type": "markdown",
      "source": [
        "`x`の各行`xindex`と`Iu`に含まれる各アイテム`iu`の持つベクトル`x[iu]`の距離を求めて02と同じように`ndarray`に変換し、`argsort`によって昇順に番号をつけることで望みの結果を得た。"
      ],
      "metadata": {
        "id": "nsXrAtBeMNvh"
      }
    },
    {
      "cell_type": "code",
      "source": [
        "Ii = np.array([[dist(xindex, x[iu]) for iu in Iu] for xindex in x]).argsort()\n",
        "print(f'Ii = \\n{Ii}')"
      ],
      "metadata": {
        "colab": {
          "base_uri": "https://localhost:8080/"
        },
        "id": "eqxjf1-sMNvh",
        "outputId": "b9bc6906-6c19-4924-f370-d972c6adce93"
      },
      "execution_count": 69,
      "outputs": [
        {
          "output_type": "stream",
          "name": "stdout",
          "text": [
            "Ii = \n",
            "[[0 1 2 4 3 5 6]\n",
            " [1 0 2 3 6 4 5]\n",
            " [2 0 1 4 5 3 6]\n",
            " [3 6 0 1 5 2 4]\n",
            " [4 5 0 2 1 6 3]\n",
            " [5 4 0 6 1 2 3]\n",
            " [6 3 0 5 1 4 2]\n",
            " [2 0 1 4 5 3 6]\n",
            " [2 1 0 4 3 5 6]\n",
            " [3 6 0 1 5 4 2]\n",
            " [4 5 0 2 1 6 3]\n",
            " [5 6 4 0 3 1 2]\n",
            " [0 4 5 1 2 6 3]]\n"
          ]
        }
      ]
    },
    {
      "cell_type": "markdown",
      "source": [
        "### 04 近傍$k$件のアイテムのインデックス配列"
      ],
      "metadata": {
        "id": "h84vSUzeMN4T"
      }
    },
    {
      "cell_type": "markdown",
      "source": [
        "Iiの結果に対して、スライシングすることで最初の`TOP_K`列分だけを抽出する。これを使って評価値が`+1`だったアイテムと近いアイテムがどれであったかを確認することができる。各行の持つ数値の中に3以上のものがあったのならば、「嫌い」と評価したアイテムが最近傍の3件に含まれていることを示している。"
      ],
      "metadata": {
        "id": "4r7XwQyCMN4T"
      }
    },
    {
      "cell_type": "code",
      "source": [
        "Ii = Ii[:, :TOP_K]\n",
        "print(f'Ii = \\n{Ii}')"
      ],
      "metadata": {
        "colab": {
          "base_uri": "https://localhost:8080/"
        },
        "id": "wLQFRJIXMN4T",
        "outputId": "1c95c61c-fa98-42fa-cd93-779979ed2f59"
      },
      "execution_count": 70,
      "outputs": [
        {
          "output_type": "stream",
          "name": "stdout",
          "text": [
            "Ii = \n",
            "[[0 1 2]\n",
            " [1 0 2]\n",
            " [2 0 1]\n",
            " [3 6 0]\n",
            " [4 5 0]\n",
            " [5 4 0]\n",
            " [6 3 0]\n",
            " [2 0 1]\n",
            " [2 1 0]\n",
            " [3 6 0]\n",
            " [4 5 0]\n",
            " [5 6 4]\n",
            " [0 4 5]]\n"
          ]
        }
      ]
    },
    {
      "cell_type": "markdown",
      "source": [
        "### 05 各対象アイテムの近傍アイテム集合"
      ],
      "metadata": {
        "id": "rafumhOZMPDr"
      }
    },
    {
      "cell_type": "markdown",
      "source": [
        "`Iu_not`からアイテムをとってきて、保存した`Ii`からアイテムで行を指定して抽出することを考える。"
      ],
      "metadata": {
        "id": "0A-ukDPtMPDr"
      }
    },
    {
      "cell_type": "code",
      "source": [
        "Ii = {i: Ii[i] for i in Iu_not}\n",
        "print('Ii = ')\n",
        "pprint.pprint(Ii)"
      ],
      "metadata": {
        "colab": {
          "base_uri": "https://localhost:8080/"
        },
        "id": "L5ZPnFqLMPDs",
        "outputId": "6daca815-4cb5-4821-d6c5-a063506729c7"
      },
      "execution_count": 71,
      "outputs": [
        {
          "output_type": "stream",
          "name": "stdout",
          "text": [
            "Ii = \n",
            "{7: array([2, 0, 1]),\n",
            " 8: array([2, 1, 0]),\n",
            " 9: array([3, 6, 0]),\n",
            " 10: array([4, 5, 0]),\n",
            " 11: array([5, 6, 4]),\n",
            " 12: array([0, 4, 5])}\n"
          ]
        }
      ]
    },
    {
      "cell_type": "markdown",
      "source": [
        "## 嗜好予測（多数決方式）"
      ],
      "metadata": {
        "id": "78OPZ1m7Xjci"
      }
    },
    {
      "cell_type": "markdown",
      "source": [
        "### 06 近傍アイテム集合のうち「好き」と評価したアイテム集合"
      ],
      "metadata": {
        "id": "--nz9AVRcVOQ"
      }
    },
    {
      "cell_type": "markdown",
      "source": [
        "ここでは、06から08の問題を解いて一部コードを与えられた関数`predict1`を完成させる。"
      ],
      "metadata": {
        "id": "_WAw4stucWZj"
      }
    },
    {
      "cell_type": "markdown",
      "source": [
        "06では、`Ii[i]`に`np.isin()`を使ったインデキシングをすることで答えを得る。`Ii[i]`はアイテム集合のうち、距離が近かったアイテム3件の中に「好き」と評価したアイテムが入っているかどうかを判断するための数値が入っている。"
      ],
      "metadata": {
        "id": "R3Am7EsPcWV0"
      }
    },
    {
      "cell_type": "markdown",
      "source": [
        "### 07 近傍アイテム集合のうち「嫌い」と評価したアイテム集合"
      ],
      "metadata": {
        "id": "sNREtaoGcWIT"
      }
    },
    {
      "cell_type": "markdown",
      "source": [
        "07では、06と同様の方法で答えを得ることができる。"
      ],
      "metadata": {
        "id": "xfzLXn9TcWBv"
      }
    },
    {
      "cell_type": "markdown",
      "source": [
        "### 08 多数決方式による予測評価値"
      ],
      "metadata": {
        "id": "krpYhB7lcVoD"
      }
    },
    {
      "cell_type": "markdown",
      "source": [
        "`Iip`と`Iin`に対して`np.size()`を使うことで$i$の近傍アイテム集合中に「好き」と評価したアイテムがいくつあるか、「嫌い」と評価したアイテムがいくつあるかがわかるので、その結果に対して素直にif文を使ってあげればよい。"
      ],
      "metadata": {
        "id": "yVLM7oi3hUD-"
      }
    },
    {
      "cell_type": "code",
      "source": [
        "def predict1(u, i):\n",
        "    \"\"\"\n",
        "    予測関数（多数決方式）：多数決方式によりユーザuのアイテムiに対する予測評価値を返す。\n",
        "\n",
        "    Parameters\n",
        "    ----------\n",
        "    u : int\n",
        "        ユーザuのID（ダミー）\n",
        "    i : int\n",
        "        アイテムiのID\n",
        "\n",
        "    Returns\n",
        "    -------\n",
        "    float\n",
        "        予測評価値\n",
        "    \"\"\"\n",
        "    Iip = Ii[i][np.isin(Ii[i], Iup)]\n",
        "    print(f'I{i}+ = {Iip}')\n",
        "    Iin = Ii[i][np.isin(Ii[i], Iun)]\n",
        "    print(f'I{i}- = {Iin}')\n",
        "    if Iip.size > Iin.size:\n",
        "        rui = 1\n",
        "    elif Iip.size < Iin.size:\n",
        "        rui = -1\n",
        "    else:\n",
        "        rui = 0\n",
        "    return rui"
      ],
      "metadata": {
        "id": "m1m2SaIlTBOz"
      },
      "execution_count": 72,
      "outputs": []
    },
    {
      "cell_type": "code",
      "source": [
        "u = 0\n",
        "i = 7\n",
        "print(f'predict1({u}, {i}) = {predict1(u, i):.3f}')\n",
        "u = 0\n",
        "i = 9\n",
        "print(f'predict1({u}, {i}) = {predict1(u, i):.3f}')"
      ],
      "metadata": {
        "colab": {
          "base_uri": "https://localhost:8080/"
        },
        "id": "2de6Au97Zq8A",
        "outputId": "397709b0-d115-47af-d373-1f7bb78dfe1f"
      },
      "execution_count": 73,
      "outputs": [
        {
          "output_type": "stream",
          "name": "stdout",
          "text": [
            "I7+ = [2 0 1]\n",
            "I7- = []\n",
            "predict1(0, 7) = 1.000\n",
            "I9+ = [0]\n",
            "I9- = [3 6]\n",
            "predict1(0, 9) = -1.000\n"
          ]
        }
      ]
    },
    {
      "cell_type": "markdown",
      "source": [
        "## 嗜好予測（平均方式）"
      ],
      "metadata": {
        "id": "YwIPxXchjZ9_"
      }
    },
    {
      "cell_type": "markdown",
      "source": [
        "### 09 平均方式による予測評価値"
      ],
      "metadata": {
        "id": "KzOTlh9EjdPH"
      }
    },
    {
      "cell_type": "markdown",
      "source": [
        "06から08で完成させた関数`predict1`を参考に、`rui`の部分を平均方式に修正したものを関数`predict2`として作成する。"
      ],
      "metadata": {
        "id": "cl8DcgASpc53"
      }
    },
    {
      "cell_type": "code",
      "source": [
        "def predict2(u, i):\n",
        "    \"\"\"\n",
        "    予測関数（多数決方式）：多数決方式によりユーザuのアイテムiに対する予測評価値を返す。\n",
        "\n",
        "    Parameters\n",
        "    ----------\n",
        "    u : int\n",
        "        ユーザuのID（ダミー）\n",
        "    i : int\n",
        "        アイテムiのID\n",
        "\n",
        "    Returns\n",
        "    -------\n",
        "    float\n",
        "        予測評価値\n",
        "    \"\"\"\n",
        "    Iip = Ii[i][np.isin(Ii[i], Iup)]\n",
        "    Iin = Ii[i][np.isin(Ii[i], Iun)]\n",
        "    rui = (Iip.size - Iin.size)/K_ITEMS\n",
        "    return rui"
      ],
      "metadata": {
        "id": "biQetyaoOOd4"
      },
      "execution_count": 74,
      "outputs": []
    },
    {
      "cell_type": "code",
      "source": [
        "u = 0\n",
        "i = 7\n",
        "print(f'predict2({u}, {i}) = {predict1(u, i):.3f}')\n",
        "u = 0\n",
        "i = 9\n",
        "print(f'predict2({u}, {i}) = {predict1(u, i):.3f}')"
      ],
      "metadata": {
        "colab": {
          "base_uri": "https://localhost:8080/"
        },
        "id": "LPaJMkA1dfXK",
        "outputId": "d1577deb-04c8-4626-96af-7ef72055c0cc"
      },
      "execution_count": 75,
      "outputs": [
        {
          "output_type": "stream",
          "name": "stdout",
          "text": [
            "I7+ = [2 0 1]\n",
            "I7- = []\n",
            "predict2(0, 7) = 1.000\n",
            "I9+ = [0]\n",
            "I9- = [3 6]\n",
            "predict2(0, 9) = -1.000\n"
          ]
        }
      ]
    },
    {
      "cell_type": "markdown",
      "source": [
        "## 推薦"
      ],
      "metadata": {
        "id": "ckQpRjtKqfse"
      }
    },
    {
      "cell_type": "markdown",
      "source": [
        "### 10 推薦リスト"
      ],
      "metadata": {
        "id": "pOPn6npfqkMP"
      }
    },
    {
      "cell_type": "markdown",
      "source": [
        "ここでは、問10を解いて一部コードを与えられた関数`order`を完成させる。そのために、`scores`に格納された値`score(u, i)`が`THETA`未満になるようなペアを除くための工夫を考える。"
      ],
      "metadata": {
        "id": "Hkhxa5CXqq2f"
      }
    },
    {
      "cell_type": "markdown",
      "source": [
        "問題の指定から`score`は`predict2`関数で作るものとして、`scores`の部分をいじる必要がある。ここでは辞書内包表記の中でif文を用いることによって`THETA`未満の値をすべて削除することを考える。"
      ],
      "metadata": {
        "id": "Cvyd0Iptu2hJ"
      }
    },
    {
      "cell_type": "code",
      "source": [
        "def score(u, i):\n",
        "    \"\"\"\n",
        "    スコア関数：ユーザuのアイテムiに対するスコアを返す。\n",
        "\n",
        "    Parameters\n",
        "    ----------\n",
        "    u : int\n",
        "        ユーザuのID\n",
        "    i : int\n",
        "        アイテムiのID\n",
        "\n",
        "    Returns\n",
        "    -------\n",
        "    float\n",
        "        スコア\n",
        "    \"\"\"\n",
        "    return predict2(u, i)"
      ],
      "metadata": {
        "id": "pvNMzgRJOMb7"
      },
      "execution_count": 76,
      "outputs": []
    },
    {
      "cell_type": "code",
      "source": [
        "def order(u, I):\n",
        "    \"\"\"\n",
        "    順序付け関数：アイテム集合Iにおいて、ユーザu向けの推薦リストを返す。\n",
        "\n",
        "    Parameters\n",
        "    ----------\n",
        "    u : int\n",
        "        ユーザuのID\n",
        "    I : ndarray\n",
        "        アイテム集合\n",
        "\n",
        "    Returns\n",
        "    -------\n",
        "    list\n",
        "        タプル(アイテムID: スコア)を要素にした推薦リスト\n",
        "    \"\"\"\n",
        "    scores = {i: score(u, i) for i in I if score(u, i) >= THETA}\n",
        "    rec_list = sorted(scores.items(), key=lambda x:x[1], reverse=True)[:TOP_K]\n",
        "    return rec_list"
      ],
      "metadata": {
        "id": "WbFooKF1doQ9"
      },
      "execution_count": 77,
      "outputs": []
    },
    {
      "cell_type": "code",
      "source": [
        "u = 0\n",
        "rec_list = order(u, Iu_not)\n",
        "print('rec_list = ')\n",
        "for i, scr in rec_list:\n",
        "    print('{}: {:.3f}'.format(i, scr))"
      ],
      "metadata": {
        "colab": {
          "base_uri": "https://localhost:8080/"
        },
        "id": "EV5OAq6Vdq18",
        "outputId": "478ae0f6-9f21-479f-d05b-e5b74a824ed8"
      },
      "execution_count": 78,
      "outputs": [
        {
          "output_type": "stream",
          "name": "stdout",
          "text": [
            "rec_list = \n",
            "7: 1.000\n",
            "8: 1.000\n"
          ]
        }
      ]
    },
    {
      "cell_type": "markdown",
      "source": [
        "## 第5章 ユーザベース協調フィルタリング"
      ],
      "metadata": {
        "id": "t2P3hSAlPWeo"
      }
    },
    {
      "cell_type": "markdown",
      "source": [
        "準備"
      ],
      "metadata": {
        "id": "MgUbpy5XPmWX"
      }
    },
    {
      "cell_type": "code",
      "source": [
        "import pprint\n",
        "import numpy as np\n",
        "np.set_printoptions(precision=3)\n",
        "\n",
        "# 近傍ユーザ数\n",
        "K_USERS = 3\n",
        "# 閾値\n",
        "THETA = 0\n",
        "\n",
        "R = np.array([\n",
        "              [np.nan, 4,      3,      1,      2,      np.nan],\n",
        "              [5,      5,      4,      np.nan, 3,      3     ],\n",
        "              [4,      np.nan, 5,      3,      2,      np.nan],\n",
        "              [np.nan, 3,      np.nan, 2,      1,      1     ],\n",
        "              [2,      1,      2,      4,      np.nan, 3     ],\n",
        "])\n",
        "U = np.arange(R.shape[0])\n",
        "I = np.arange(R.shape[1])\n",
        "Ui = [U[~np.isnan(R)[:,i]] for i in I]\n",
        "Iu = [I[~np.isnan(R)[u,:]] for u in U]\n",
        "ru_mean = np.nanmean(R, axis=1)\n",
        "R2 = R - ru_mean.reshape((ru_mean.size, 1))"
      ],
      "metadata": {
        "id": "17rmtqRFPp2w"
      },
      "execution_count": 79,
      "outputs": []
    },
    {
      "cell_type": "markdown",
      "source": [
        "### 01 ピアソンの相関係数（分子）"
      ],
      "metadata": {
        "id": "ln_606txSO3b"
      }
    },
    {
      "cell_type": "markdown",
      "source": [
        "以下では、01から03の問題を解いて一部コードを与えられた関数`pearson1`を完成させる。"
      ],
      "metadata": {
        "id": "i-dPHiTiSXsB"
      }
    },
    {
      "cell_type": "markdown",
      "source": [
        "01はピアソンの相関係数の分子を、取得した各ベクトルから計算するというものである。`Iuv`は、ユーザ$u$やユーザ$v$による評価値が存在する列のみを集めた`Iu[u]`や`Iu[v]`の共通項をとることで比較可能なアイテムの評価を取得したものである。これに対し、各ユーザの評価を平均したものを作って差をとり、内積を計算すればよい。"
      ],
      "metadata": {
        "id": "H4qfXtJ6SRuf"
      }
    },
    {
      "cell_type": "markdown",
      "source": [
        "### 02 ピアソンの相関係数の算出（分母左部）"
      ],
      "metadata": {
        "id": "BwxFUbt2aTK2"
      }
    },
    {
      "cell_type": "markdown",
      "source": [
        "内積を作る際に作ったユーザ$u$に関するベクトルを`rui`として、それに対して`np.linalg.norm(uri, ord = 2)`を使ってあげればよい。"
      ],
      "metadata": {
        "id": "vmcQ9RidaSjx"
      }
    },
    {
      "cell_type": "markdown",
      "source": [
        "### 03 ピアソンの相関係数の算出（分母右部）"
      ],
      "metadata": {
        "id": "eQRMeqjGaSMB"
      }
    },
    {
      "cell_type": "markdown",
      "source": [
        "内積を作る際に作ったユーザ$v$に関するベクトルを`rvi`として、それに対して`np.linalg.norm(uvi, ord = 2)`を使ってあげればよい。"
      ],
      "metadata": {
        "id": "btsRr55YaSCi"
      }
    },
    {
      "cell_type": "code",
      "source": [
        "def pearson1(u, v):\n",
        "    \"\"\"\n",
        "    評価値行列Rにおけるユーザuとユーザvのピアソンの相関係数を返す。\n",
        "\n",
        "    Parameters\n",
        "    ----------\n",
        "    u : int\n",
        "        ユーザuのID\n",
        "    v : int\n",
        "        ユーザvのID\n",
        "\n",
        "    Returns\n",
        "    -------\n",
        "    float\n",
        "        ピアソンの相関係数\n",
        "    \"\"\"\n",
        "    Iuv = np.intersect1d(Iu[u], Iu[v])\n",
        "    # R[u][Iu[u]]とR[v][Iu[v]]のIu[u]とIu[v]の部分をIuvにしてしまい時間を溶かした。\n",
        "    # ユーザの評価はすべて平均に反映する点に注意が必要かも。\n",
        "    rui = R[u][Iuv] - R[u][Iu[u]].mean()\n",
        "    rvi = R[v][Iuv] - R[v][Iu[v]].mean()\n",
        "    num = np.dot(rui, rvi)\n",
        "    print(f'num = {num}')\n",
        "    den_u = np.linalg.norm(rui, ord = 2)\n",
        "    print(f'den_u = {den_u:.3f}')\n",
        "    den_v = np.linalg.norm(rvi, ord = 2)\n",
        "    print(f'den_v = {den_v:.3f}')\n",
        "    \n",
        "    prsn = num / (den_u * den_v)\n",
        "    return prsn"
      ],
      "metadata": {
        "id": "0XO3X-KmQb3j"
      },
      "execution_count": 80,
      "outputs": []
    },
    {
      "cell_type": "code",
      "source": [
        "u = 0\n",
        "v = 1\n",
        "prsn = pearson1(u, v)\n",
        "print(f'pearson1({u}, {v}) = {prsn:.3f}')"
      ],
      "metadata": {
        "colab": {
          "base_uri": "https://localhost:8080/"
        },
        "id": "HoTKY21RQtvx",
        "outputId": "06633dcd-8c91-4983-e242-3224bf663d38"
      },
      "execution_count": 81,
      "outputs": [
        {
          "output_type": "stream",
          "name": "stdout",
          "text": [
            "num = 2.0\n",
            "den_u = 1.658\n",
            "den_v = 1.414\n",
            "pearson1(0, 1) = 0.853\n"
          ]
        }
      ]
    },
    {
      "cell_type": "markdown",
      "source": [
        "### 04 ピアソンの相関係数（分子）"
      ],
      "metadata": {
        "id": "VwxfccryS6Me"
      }
    },
    {
      "cell_type": "markdown",
      "source": [
        "以下では、04から06の問題を解いて一部コードを与えられた関数`pearson2`を完成させる。"
      ],
      "metadata": {
        "id": "dd4YvA1mS6Mf"
      }
    },
    {
      "cell_type": "markdown",
      "source": [
        "04は01と同じようにピアソンの相関係数の分子を、取得した各ベクトルから計算するというものである。`R`でなく`R2`を利用するところが大きな変更点となる。"
      ],
      "metadata": {
        "id": "aFnVrqryS6Mf"
      }
    },
    {
      "cell_type": "markdown",
      "source": [
        "### 05 ピアソンの相関係数の算出（分母左部）"
      ],
      "metadata": {
        "id": "s56AnvGLS6Mf"
      }
    },
    {
      "cell_type": "markdown",
      "source": [
        "内積を作る際に作ったユーザ$u$に関するベクトルを`rui`として、それに対して`np.linalg.norm(uri, ord = 2)`を使ってあげればよい。02と違い、`R2`を使う点がポイントとなっている。"
      ],
      "metadata": {
        "id": "w3pO6vqqS6Mf"
      }
    },
    {
      "cell_type": "markdown",
      "source": [
        "### 06 ピアソンの相関係数の算出（分母右部）"
      ],
      "metadata": {
        "id": "dbY0rdx3S6Mf"
      }
    },
    {
      "cell_type": "markdown",
      "source": [
        "03と同様に内積を作る際に作ったユーザ$v$に関するベクトルを`rvi`として、それに対して`np.linalg.norm(uvi, ord = 2)`を使ってあげればよい。`R2`を使う点がポイント。"
      ],
      "metadata": {
        "id": "JTPuo3SRS6Mf"
      }
    },
    {
      "cell_type": "code",
      "source": [
        "def pearson2(u, v):\n",
        "    \"\"\"\n",
        "    平均中心化評価値行列R2におけるユーザuとユーザvのピアソンの相関係数を返す。\n",
        "\n",
        "    Parameters\n",
        "    ----------\n",
        "    u : int\n",
        "        ユーザuのID\n",
        "    v : int\n",
        "        ユーザvのID\n",
        "\n",
        "    Returns\n",
        "    -------\n",
        "    float\n",
        "        ピアソンの相関係数\n",
        "    \"\"\"\n",
        "    Iuv = np.intersect1d(Iu[u], Iu[v])\n",
        "    \n",
        "    rui = R2[u][Iuv]\n",
        "    rvi = R2[v][Iuv]\n",
        "    num = np.dot(rui, rvi)\n",
        "    print('num = {}'.format(num))\n",
        "    den_u = np.linalg.norm(rui, ord = 2)\n",
        "    print('den_u = {:.3f}'.format(den_u))\n",
        "    den_v = np.linalg.norm(rvi, ord = 2)\n",
        "    print('den_v = {:.3f}'.format(den_v))\n",
        "\n",
        "    prsn = num / (den_u * den_v)\n",
        "    return prsn"
      ],
      "metadata": {
        "id": "QnBn1S0XQ1yH"
      },
      "execution_count": 82,
      "outputs": []
    },
    {
      "cell_type": "code",
      "source": [
        "u = 0\n",
        "v = 1\n",
        "prsn = pearson2(u, v)\n",
        "print(f'pearson2({u}, {v}) = {prsn:.3f}')"
      ],
      "metadata": {
        "colab": {
          "base_uri": "https://localhost:8080/"
        },
        "id": "DikKLT-NQ4h6",
        "outputId": "8acbce15-6301-4fe6-8229-952ed1211d54"
      },
      "execution_count": 83,
      "outputs": [
        {
          "output_type": "stream",
          "name": "stdout",
          "text": [
            "num = 2.0\n",
            "den_u = 1.658\n",
            "den_v = 1.414\n",
            "pearson2(0, 1) = 0.853\n"
          ]
        }
      ]
    },
    {
      "cell_type": "markdown",
      "source": [
        "## ユーザ-ユーザ類似度行列"
      ],
      "metadata": {
        "id": "_xPbdvruUwoX"
      }
    },
    {
      "cell_type": "markdown",
      "source": [
        "### 07 ユーザ-ユーザ類似度行列"
      ],
      "metadata": {
        "id": "e6m3edi4U3by"
      }
    },
    {
      "cell_type": "markdown",
      "source": [
        "ユーザ対ユーザについてその相関係数を`R2`によって計算するという問題。内包表記で2重リストを作って、`np.array()`すればよさそう。以下では、それらに加えて関数`sim`で利用するのが関数`pearson2`だと各種`print`が発生する問題があったのでそれを取り除いた関数`pearson3`を別途作って対応した。"
      ],
      "metadata": {
        "id": "KXMNA7UYU61w"
      }
    },
    {
      "cell_type": "code",
      "source": [
        "def pearson3(u, v):\n",
        "    \"\"\"\n",
        "    平均中心化評価値行列R2におけるユーザuとユーザvのピアソンの相関係数を返す。\n",
        "\n",
        "    Parameters\n",
        "    ----------\n",
        "    u : int\n",
        "        ユーザuのID\n",
        "    v : int\n",
        "        ユーザvのID\n",
        "\n",
        "    Returns\n",
        "    -------\n",
        "    float\n",
        "        ピアソンの相関係数\n",
        "    \"\"\"\n",
        "    Iuv = np.intersect1d(Iu[u], Iu[v])\n",
        "    \n",
        "    rui = R2[u][Iuv]\n",
        "    rvi = R2[v][Iuv]\n",
        "    num = np.dot(rui, rvi)\n",
        "    den_u = np.linalg.norm(rui, ord = 2)\n",
        "    den_v = np.linalg.norm(rvi, ord = 2)\n",
        "\n",
        "    prsn = num / (den_u * den_v)\n",
        "    return prsn"
      ],
      "metadata": {
        "id": "NBoha84lW9UK"
      },
      "execution_count": 84,
      "outputs": []
    },
    {
      "cell_type": "code",
      "source": [
        "def sim(u, v):\n",
        "    \"\"\"\n",
        "    ユーザ類似度関数：ユーザuとユーザvのユーザ類似度を返す。\n",
        "\n",
        "    Parameters\n",
        "    ----------\n",
        "    u : int\n",
        "        ユーザuのID\n",
        "    v : int\n",
        "        ユーザvのID\n",
        "\n",
        "    Returns\n",
        "    -------\n",
        "    float\n",
        "        ユーザ類似度\n",
        "    \"\"\"\n",
        "    return pearson3(u, v)"
      ],
      "metadata": {
        "id": "YPufGdEAU0qU"
      },
      "execution_count": 85,
      "outputs": []
    },
    {
      "cell_type": "code",
      "source": [
        "S = np.array([[sim (u, v) for u in U] for v in U])\n",
        "print(f'S = \\n{S}')"
      ],
      "metadata": {
        "colab": {
          "base_uri": "https://localhost:8080/"
        },
        "id": "gQeYm8nEVRjq",
        "outputId": "07d76ace-2f3e-40a2-a2ac-ab675be0b989"
      },
      "execution_count": 86,
      "outputs": [
        {
          "output_type": "stream",
          "name": "stdout",
          "text": [
            "S = \n",
            "[[ 1.     0.853  0.623  0.582 -0.997]\n",
            " [ 0.853  1.     0.649  0.968 -0.853]\n",
            " [ 0.623  0.649  1.     0.8   -0.569]\n",
            " [ 0.582  0.968  0.8    1.    -0.551]\n",
            " [-0.997 -0.853 -0.569 -0.551  1.   ]]\n"
          ]
        }
      ]
    },
    {
      "cell_type": "markdown",
      "source": [
        "## 類似ユーザの選定"
      ],
      "metadata": {
        "id": "7-XrgbRmYAtL"
      }
    },
    {
      "cell_type": "markdown",
      "source": [
        "### 08 類似度上位k人のユーザ集合"
      ],
      "metadata": {
        "id": "W2Q4-bLbYD3K"
      }
    },
    {
      "cell_type": "markdown",
      "source": [
        "以下では、08と09の問題を解いて一部コードを与えられた処理について完成させる。08ではあらかじめユーザの類似度を与えた行列`S`から作った辞書が与えられていて、キーはユーザ、バリューはまた別の辞書となっていることが`Uu`からわかる。"
      ],
      "metadata": {
        "id": "MCbS14H1YcLx"
      }
    },
    {
      "cell_type": "markdown",
      "source": [
        "08では、`Uu`のバリューの中で各キーに対して格納されている辞書を類似度の順番に並べて上位`K_USERS`件のみを残すというものであるため、その辞書のソートを行う。"
      ],
      "metadata": {
        "id": "qk5wjUc2bCzB"
      }
    },
    {
      "cell_type": "markdown",
      "source": [
        "### 09 類似度がしきい値以上のユーザ集合"
      ],
      "metadata": {
        "id": "IH0yMRhUhNxc"
      }
    },
    {
      "cell_type": "markdown",
      "source": [
        "09では`Uu`のバリュー側に格納された辞書について、条件式を使ってそのバリューの値が`THETA`未満のものを除外する。"
      ],
      "metadata": {
        "id": "tVdOBIKOhQYI"
      }
    },
    {
      "cell_type": "code",
      "source": [
        "Uu = {u: {v: S[u,v] for v in U if u!=v} for u in U}\n",
        "print('Uu = ')\n",
        "pprint.pprint(Uu)\n",
        "Uu = {u: dict(sorted(Uu[u].items(), key=lambda x:x[1], reverse=True)[:K_USERS]) for u in Uu.keys()}\n",
        "print('Uu = ')\n",
        "pprint.pprint(Uu)\n",
        "Uu = {u: {v[0]: v[1] for v in Uu[u].items() if v[1] >= THETA} for u in Uu.keys()}\n",
        "print('Uu = ')\n",
        "pprint.pprint(Uu)\n",
        "Uu = {u: np.array(list(Uu[u].keys())) for u in U}\n",
        "print('Uu = ')\n",
        "pprint.pprint(Uu)"
      ],
      "metadata": {
        "colab": {
          "base_uri": "https://localhost:8080/"
        },
        "id": "14i8SJMaa7oG",
        "outputId": "d2569628-7efb-4510-8fed-133074ad260a"
      },
      "execution_count": 87,
      "outputs": [
        {
          "output_type": "stream",
          "name": "stdout",
          "text": [
            "Uu = \n",
            "{0: {1: 0.8528028654224417,\n",
            "     2: 0.6225430174794672,\n",
            "     3: 0.5816750507471109,\n",
            "     4: -0.9968461286620518},\n",
            " 1: {0: 0.8528028654224417,\n",
            "     2: 0.6488856845230501,\n",
            "     3: 0.9684959969581863,\n",
            "     4: -0.8528028654224418},\n",
            " 2: {0: 0.6225430174794672,\n",
            "     1: 0.6488856845230501,\n",
            "     3: 0.7999999999999998,\n",
            "     4: -0.5685352436149611},\n",
            " 3: {0: 0.5816750507471109,\n",
            "     1: 0.9684959969581863,\n",
            "     2: 0.7999999999999998,\n",
            "     4: -0.550920031004556},\n",
            " 4: {0: -0.9968461286620518,\n",
            "     1: -0.8528028654224418,\n",
            "     2: -0.5685352436149611,\n",
            "     3: -0.550920031004556}}\n",
            "Uu = \n",
            "{0: {1: 0.8528028654224417, 2: 0.6225430174794672, 3: 0.5816750507471109},\n",
            " 1: {0: 0.8528028654224417, 2: 0.6488856845230501, 3: 0.9684959969581863},\n",
            " 2: {0: 0.6225430174794672, 1: 0.6488856845230501, 3: 0.7999999999999998},\n",
            " 3: {0: 0.5816750507471109, 1: 0.9684959969581863, 2: 0.7999999999999998},\n",
            " 4: {1: -0.8528028654224418, 2: -0.5685352436149611, 3: -0.550920031004556}}\n",
            "Uu = \n",
            "{0: {1: 0.8528028654224417, 2: 0.6225430174794672, 3: 0.5816750507471109},\n",
            " 1: {0: 0.8528028654224417, 2: 0.6488856845230501, 3: 0.9684959969581863},\n",
            " 2: {0: 0.6225430174794672, 1: 0.6488856845230501, 3: 0.7999999999999998},\n",
            " 3: {0: 0.5816750507471109, 1: 0.9684959969581863, 2: 0.7999999999999998},\n",
            " 4: {}}\n",
            "Uu = \n",
            "{0: array([1, 2, 3]),\n",
            " 1: array([3, 0, 2]),\n",
            " 2: array([3, 1, 0]),\n",
            " 3: array([1, 2, 0]),\n",
            " 4: array([], dtype=float64)}\n"
          ]
        }
      ]
    },
    {
      "cell_type": "markdown",
      "source": [
        "## 嗜好予測"
      ],
      "metadata": {
        "id": "CbAMAhw0YcLy"
      }
    },
    {
      "cell_type": "markdown",
      "source": [
        "### 10 類似ユーザ集合の中でアイテムiを評価済みのユーザ集合"
      ],
      "metadata": {
        "id": "gUZFal3kjmE6"
      }
    },
    {
      "cell_type": "markdown",
      "source": [
        "以下では、10と11の問題を解いて一部コードを与えられた関数`predict`について完成させる。"
      ],
      "metadata": {
        "id": "_EOMjJJtjsnB"
      }
    },
    {
      "cell_type": "markdown",
      "source": [
        "`Uui`は、アイテム`i`を評価したユーザ`Ui[i]`とユーザ`u`の近傍にいるユーザ`Uu[u]`の共通点を、`np.intersect1d()`を使って求めることで作ることができる。"
      ],
      "metadata": {
        "id": "-sP8kserjl9f"
      }
    },
    {
      "cell_type": "markdown",
      "source": [
        "### 11 予測評価値"
      ],
      "metadata": {
        "id": "9d3iKmKljl1Q"
      }
    },
    {
      "cell_type": "markdown",
      "source": [
        "11では、予測評価値の`Uui`の大きさが`0`でなかった場合に発生する複雑そうな項を作っていく。`sim(u, v)`は`S[u, v]`であったので、`u`に対する`Uui`をインデックスに指定してあげて`ndarray`状のベクトルを取得して計算に用いる。$r^{'}_{v, i}$については`R2[v, i]`が相当する部分だったはずなので`v`部分を`Uui`で指定してあげて計算用の`ndarray`を取得する。こうして取得したベクトルを、前者の`ndarray`は分子の内積計算と分母の絶対値をとった和の計算に、後者の`ndarray`は分子の内積計算に用いればよい。"
      ],
      "metadata": {
        "id": "HsQ5Y2tEjlqa"
      }
    },
    {
      "cell_type": "code",
      "source": [
        "def predict(u, i):\n",
        "    \"\"\"\n",
        "    予測関数：ユーザuのアイテムiに対する予測評価値を返す。\n",
        "\n",
        "    Parameters\n",
        "    ----------\n",
        "    u : int\n",
        "        ユーザuのID\n",
        "    i : int\n",
        "        アイテムiのID\n",
        "\n",
        "    Returns\n",
        "    -------\n",
        "    float\n",
        "        ユーザuのアイテムiに対する予測評価値\n",
        "    \"\"\"\n",
        "    Uui = np.intersect1d(Uu[u], Ui[i])\n",
        "    print(f'U{u}{i} = {Uui}')\n",
        "\n",
        "    if Uui.size <= 0:\n",
        "        return ru_mean[u]\n",
        "    else:\n",
        "        \n",
        "        rui_pred = ru_mean[u] + np.dot(S[u][Uui], R2[:, i][Uui])/np.abs(S[u][Uui]).sum()\n",
        "    \n",
        "    return rui_pred"
      ],
      "metadata": {
        "id": "vEMNLTHEeLei"
      },
      "execution_count": 88,
      "outputs": []
    },
    {
      "cell_type": "code",
      "source": [
        "u = 0\n",
        "i = 0\n",
        "print('r{}{} = {:.3f}'.format(u, i, predict(u, i)))\n",
        "u = 0\n",
        "i = 5\n",
        "print('r{}{} = {:.3f}'.format(u, i, predict(u, i)))"
      ],
      "metadata": {
        "colab": {
          "base_uri": "https://localhost:8080/"
        },
        "id": "JlvTlD6sWxN0",
        "outputId": "7b9eab1f-49f8-402e-afe9-0c5cc4d4fb31"
      },
      "execution_count": 89,
      "outputs": [
        {
          "output_type": "stream",
          "name": "stdout",
          "text": [
            "U00 = [1 2]\n",
            "r00 = 3.289\n",
            "U05 = [1 3]\n",
            "r05 = 1.601\n"
          ]
        }
      ]
    },
    {
      "cell_type": "markdown",
      "source": [
        "## 評価値行列の補完"
      ],
      "metadata": {
        "id": "wThizINpo1Uv"
      }
    },
    {
      "cell_type": "markdown",
      "source": [
        "### 12 評価値行列の補完"
      ],
      "metadata": {
        "id": "Pz-JxshXo5ET"
      }
    },
    {
      "cell_type": "markdown",
      "source": [
        "行列状の`R`に対して、`np.nan`の部分のみを予測値`predict(u, i)`で埋めてあげればよい。余計なprintが発生する関係で、ここでは`predict12`関数を別途用意した上で、2重内包表記の各成分を求めつつ最後に`np.array()`で`ndarray`とした`R3`を作った。"
      ],
      "metadata": {
        "id": "gJxsy3BZo46l"
      }
    },
    {
      "cell_type": "code",
      "source": [
        "def predict12(u, i):\n",
        "    \"\"\"\n",
        "    予測関数：ユーザuのアイテムiに対する予測評価値を返す。\n",
        "\n",
        "    Parameters\n",
        "    ----------\n",
        "    u : int\n",
        "        ユーザuのID\n",
        "    i : int\n",
        "        アイテムiのID\n",
        "\n",
        "    Returns\n",
        "    -------\n",
        "    float\n",
        "        ユーザuのアイテムiに対する予測評価値\n",
        "    \"\"\"\n",
        "    Uui = np.intersect1d(Uu[u], Ui[i])\n",
        "\n",
        "    if Uui.size <= 0:\n",
        "        return ru_mean[u]\n",
        "    else:\n",
        "        \n",
        "        rui_pred = ru_mean[u] + np.dot(S[u][Uui], R2[:, i][Uui])/np.abs(S[u][Uui]).sum()\n",
        "    \n",
        "    return rui_pred"
      ],
      "metadata": {
        "id": "zATLoe44q11z"
      },
      "execution_count": 90,
      "outputs": []
    },
    {
      "cell_type": "code",
      "source": [
        "R3 = np.array([[predict12(r0, r1) if np.isnan(R[r0, r1]) else R[r0, r1] for r1 in range(R.shape[1])] for r0 in range(R.shape[0])])\n",
        "print(f'R\\'\\' = \\n{R3}')"
      ],
      "metadata": {
        "colab": {
          "base_uri": "https://localhost:8080/"
        },
        "id": "1-pUJB4VmY3M",
        "outputId": "7877d070-800d-4e76-b1ba-1507c179bcbd"
      },
      "execution_count": 91,
      "outputs": [
        {
          "output_type": "stream",
          "name": "stdout",
          "text": [
            "R'' = \n",
            "[[3.289 4.    3.    1.    2.    1.601]\n",
            " [5.    5.    4.    3.449 3.    3.   ]\n",
            " [4.    4.747 5.    3.    2.    2.638]\n",
            " [2.524 3.    2.384 2.    1.    1.   ]\n",
            " [2.    1.    2.    4.    2.4   3.   ]]\n"
          ]
        }
      ]
    }
  ]
}