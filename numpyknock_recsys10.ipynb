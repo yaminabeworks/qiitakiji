{
  "nbformat": 4,
  "nbformat_minor": 0,
  "metadata": {
    "colab": {
      "name": "numpyknock_recsys.ipynb",
      "provenance": [],
      "collapsed_sections": [
        "N82SHZwWzisb",
        "BtxeyW-a54A6",
        "3sFUSrKzzebg",
        "kV9aB0Pq0ikE",
        "aBt9HIxS0xnJ",
        "5Vzk61tv0x7I",
        "ZTG8bL7n13SU",
        "NO6df1Ib2HzQ",
        "R47b_tuX2LKW",
        "_bfmKxzG2Lra",
        "RxkVbBLU2MBg",
        "YeltvWQO3jX9",
        "cppLRVYm3hW1",
        "b6_LeicU9bgu",
        "-Fv6ETIT2ML7",
        "mgKVFNYU9dPu",
        "XiBTIvQU-Oow",
        "rMzzxnocoh4h",
        "GCt5wg9--O1X",
        "8tLocvr--O9i",
        "bYp4RBrK-PqQ",
        "uCKdtlLM-PwH",
        "3igRnAfJ-P00",
        "UIS7dzf7-VcF",
        "VxrqJVH7twUs",
        "32WxVkpl-Vnx",
        "kuPNFUAm-W3I",
        "AcIxX7z8-W-4",
        "y15iaMB1-XGF",
        "AXT0sztr-XM_",
        "C7b6Ta68-XUB",
        "Kbm-qzVd5mJ6",
        "-rACZ6-i5_dw",
        "7aTfWIrw6Pbc",
        "syvYn4i66zEB",
        "Hndnj1B_8M72",
        "U4qRbrvd95qZ",
        "nxfRoEm7-aSR",
        "cGQfLDiN-lB5",
        "QtcM5Yq__Sgf",
        "hWLeWAaf_N_p",
        "yq2_L1UE_pWZ",
        "CYh6mMFCAF-o",
        "Er6saLpDAoBh",
        "CHpZr6H9BmOQ",
        "Kg4LZNefAqzD",
        "f1gMd1DVArAq",
        "pJYz7_NToFl0",
        "yltqhnDjrIUE",
        "HfABfwRdrLZ2",
        "bmJlH9yZrLkC",
        "tiWn7WxkrLw2",
        "ajacQeFdrMDt",
        "kDKN6gQ7rMOd",
        "D2cl_WdYrMfq",
        "8nbZ9RMorMmy",
        "jEvMpNJKHnn5",
        "5AddWMhzI3CL",
        "LFVa_zu_-BCu",
        "_4l9ZhqD_bov",
        "aRVnjqWeAFNg",
        "GvmMLgeFA0Ri",
        "IlKKy4PbAJJB",
        "xK6KAjvoAJJC",
        "bXWM5BYbAJTo",
        "LzIDueHcJpxo",
        "97PccxHhAJf8",
        "AagUIeTBFR1C",
        "T4udvuXkLutD",
        "dRODLRDZMRDG",
        "CKFn_S7fMIFi",
        "vZPHyaMXNRxx",
        "0WgsXn3ZMNh5",
        "55NIcUGoMNvg",
        "h84vSUzeMN4T",
        "rafumhOZMPDr",
        "78OPZ1m7Xjci",
        "--nz9AVRcVOQ",
        "sNREtaoGcWIT",
        "krpYhB7lcVoD",
        "YwIPxXchjZ9_",
        "KzOTlh9EjdPH",
        "ckQpRjtKqfse",
        "pOPn6npfqkMP",
        "t2P3hSAlPWeo",
        "RynhfdtxyU-8",
        "ln_606txSO3b",
        "BwxFUbt2aTK2",
        "eQRMeqjGaSMB",
        "1CfsfA69ycap",
        "VwxfccryS6Me",
        "s56AnvGLS6Mf",
        "dbY0rdx3S6Mf",
        "_xPbdvruUwoX",
        "e6m3edi4U3by",
        "7-XrgbRmYAtL",
        "W2Q4-bLbYD3K",
        "IH0yMRhUhNxc",
        "CbAMAhw0YcLy",
        "gUZFal3kjmE6",
        "9d3iKmKljl1Q",
        "wThizINpo1Uv",
        "Pz-JxshXo5ET",
        "M7qgkAW4x5zX",
        "e2c7gNjvyNY1",
        "vGvwUcYozGXC",
        "mw1sYtRv1iaW",
        "YZ-9rq_I1kPA",
        "pZ_qjYGl2j0I",
        "7X05Hhii2pTs",
        "2BOFaSOx2oi-",
        "NJLNJ42o37Bb",
        "6BB1DuOu7_5p",
        "HPtUHZlS8Dzn",
        "3PLmICaW8D_6",
        "pRC8N3Ht8F19",
        "wVDoTzSQBMyz",
        "0NEz30QU8F1-",
        "FRJ1qIEu8GSO",
        "w_TlJ96O8GSO",
        "zRhem_cZ8GSP",
        "ji9ljoHOG2aN"
      ],
      "toc_visible": true,
      "authorship_tag": "ABX9TyPNy59BCBmGCzP5fmR6npY3",
      "include_colab_link": true
    },
    "kernelspec": {
      "name": "python3",
      "display_name": "Python 3"
    },
    "language_info": {
      "name": "python"
    }
  },
  "cells": [
    {
      "cell_type": "markdown",
      "metadata": {
        "id": "view-in-github",
        "colab_type": "text"
      },
      "source": [
        "<a href=\"https://colab.research.google.com/github/yaminabeworks/qiitakiji/blob/main/numpyknock_recsys10.ipynb\" target=\"_parent\"><img src=\"https://colab.research.google.com/assets/colab-badge.svg\" alt=\"Open In Colab\"/></a>"
      ]
    },
    {
      "cell_type": "markdown",
      "source": [
        "# recsys-python"
      ],
      "metadata": {
        "id": "YbfoKWMdy_Du"
      }
    },
    {
      "cell_type": "markdown",
      "source": [
        "推薦システムを作ることで、機械学習を学ぶ。"
      ],
      "metadata": {
        "id": "kWdy0EaUzW5l"
      }
    },
    {
      "cell_type": "markdown",
      "source": [
        "https://recsyslab.github.io/recsys-python/"
      ],
      "metadata": {
        "id": "nXL3M9SlzBwt"
      }
    },
    {
      "cell_type": "markdown",
      "source": [
        "## 第1章 評価履歴"
      ],
      "metadata": {
        "id": "N82SHZwWzisb"
      }
    },
    {
      "cell_type": "markdown",
      "source": [
        "準備"
      ],
      "metadata": {
        "id": "zqwENvYI52kQ"
      }
    },
    {
      "cell_type": "code",
      "source": [
        "import numpy as np"
      ],
      "metadata": {
        "id": "EWSXq73TzqZc"
      },
      "execution_count": 1,
      "outputs": []
    },
    {
      "cell_type": "markdown",
      "source": [
        "## 評価履歴"
      ],
      "metadata": {
        "id": "BtxeyW-a54A6"
      }
    },
    {
      "cell_type": "markdown",
      "source": [
        "### 01 評価履歴の生成"
      ],
      "metadata": {
        "id": "3sFUSrKzzebg"
      }
    },
    {
      "cell_type": "markdown",
      "source": [
        "1. `np.nan`を使う。\n",
        "2. `np.array`を使う。"
      ],
      "metadata": {
        "id": "Uw3inTFc0Yay"
      }
    },
    {
      "cell_type": "code",
      "execution_count": 2,
      "metadata": {
        "id": "TR4lOiG3yj5C"
      },
      "outputs": [],
      "source": [
        "Du_list = [[5, 3, 1],\n",
        "           [6, 2, 1],\n",
        "           [4, 1, 1],\n",
        "           [8, 5, -1],\n",
        "           [2, 4, -1],\n",
        "           [3, 6, -1],\n",
        "           [7, 6, -1],\n",
        "           [4, 2, np.nan],\n",
        "           [5, 1, np.nan],\n",
        "           [8, 6, np.nan],\n",
        "           [3, 4, np.nan],\n",
        "           [4, 7, np.nan],\n",
        "           [4, 4, np.nan]]\n",
        "\n",
        "Du = np.array(Du_list)"
      ]
    },
    {
      "cell_type": "code",
      "source": [
        "print(f'Du = \\n{Du}')"
      ],
      "metadata": {
        "colab": {
          "base_uri": "https://localhost:8080/"
        },
        "id": "PhLXqzZp0LX7",
        "outputId": "9410a7e6-304a-43dd-eb67-431afee670b5"
      },
      "execution_count": 3,
      "outputs": [
        {
          "output_type": "stream",
          "name": "stdout",
          "text": [
            "Du = \n",
            "[[ 5.  3.  1.]\n",
            " [ 6.  2.  1.]\n",
            " [ 4.  1.  1.]\n",
            " [ 8.  5. -1.]\n",
            " [ 2.  4. -1.]\n",
            " [ 3.  6. -1.]\n",
            " [ 7.  6. -1.]\n",
            " [ 4.  2. nan]\n",
            " [ 5.  1. nan]\n",
            " [ 8.  6. nan]\n",
            " [ 3.  4. nan]\n",
            " [ 4.  7. nan]\n",
            " [ 4.  4. nan]]\n"
          ]
        }
      ]
    },
    {
      "cell_type": "markdown",
      "source": [
        "### 02 評価履歴の形状"
      ],
      "metadata": {
        "id": "kV9aB0Pq0ikE"
      }
    },
    {
      "cell_type": "markdown",
      "source": [
        "- `np.shape`を使う。"
      ],
      "metadata": {
        "id": "A477OHA2fW2f"
      }
    },
    {
      "cell_type": "code",
      "source": [
        "print(f'Duの形状 = {Du.shape}')"
      ],
      "metadata": {
        "colab": {
          "base_uri": "https://localhost:8080/"
        },
        "id": "1vJkEcvg0VGa",
        "outputId": "5eca1534-095b-4568-b755-7489f016187c"
      },
      "execution_count": 4,
      "outputs": [
        {
          "output_type": "stream",
          "name": "stdout",
          "text": [
            "Duの形状 = (13, 3)\n"
          ]
        }
      ]
    },
    {
      "cell_type": "markdown",
      "source": [
        "### 03 評価履歴の行数"
      ],
      "metadata": {
        "id": "aBt9HIxS0xnJ"
      }
    },
    {
      "cell_type": "markdown",
      "source": [
        "- `np.shape`を使う。"
      ],
      "metadata": {
        "id": "gt097jLlfhOp"
      }
    },
    {
      "cell_type": "markdown",
      "source": [
        ""
      ],
      "metadata": {
        "id": "5dzBKz0TfeOr"
      }
    },
    {
      "cell_type": "code",
      "source": [
        "print(f'Duの行数 = {Du.shape[0]}')"
      ],
      "metadata": {
        "colab": {
          "base_uri": "https://localhost:8080/"
        },
        "outputId": "eb4f160e-cb37-4d8b-ba31-3a2d8bf8a29e",
        "id": "AWb4_Tan0xnJ"
      },
      "execution_count": 5,
      "outputs": [
        {
          "output_type": "stream",
          "name": "stdout",
          "text": [
            "Duの行数 = 13\n"
          ]
        }
      ]
    },
    {
      "cell_type": "markdown",
      "source": [
        "### 04 評価履歴の列数"
      ],
      "metadata": {
        "id": "5Vzk61tv0x7I"
      }
    },
    {
      "cell_type": "markdown",
      "source": [
        "- `np.shape`を使う。"
      ],
      "metadata": {
        "id": "wv1wECcNfiwH"
      }
    },
    {
      "cell_type": "code",
      "source": [
        "print(f'Duの列数 = {Du.shape[1]}')"
      ],
      "metadata": {
        "colab": {
          "base_uri": "https://localhost:8080/"
        },
        "outputId": "b61f374a-d9e2-453c-c33a-f1cff4df5acc",
        "id": "gPjWYACp0x7I"
      },
      "execution_count": 6,
      "outputs": [
        {
          "output_type": "stream",
          "name": "stdout",
          "text": [
            "Duの列数 = 3\n"
          ]
        }
      ]
    },
    {
      "cell_type": "markdown",
      "source": [
        "### 05 評価履歴の全要素数"
      ],
      "metadata": {
        "id": "ZTG8bL7n13SU"
      }
    },
    {
      "cell_type": "markdown",
      "source": [
        "- `np.size`を使う。\n",
        "  - おそらく、`np.shape[0]*np.shape[1]`でもよい。"
      ],
      "metadata": {
        "id": "_1o8FncTfkZl"
      }
    },
    {
      "cell_type": "code",
      "source": [
        "print(f'Duの全要素数 = {Du.size}')"
      ],
      "metadata": {
        "colab": {
          "base_uri": "https://localhost:8080/"
        },
        "outputId": "0609eea5-be7f-44d4-da2c-3d525535a352",
        "id": "4qYKq2mT13SV"
      },
      "execution_count": 7,
      "outputs": [
        {
          "output_type": "stream",
          "name": "stdout",
          "text": [
            "Duの全要素数 = 39\n"
          ]
        }
      ]
    },
    {
      "cell_type": "markdown",
      "source": [
        "## アイテム"
      ],
      "metadata": {
        "id": "NO6df1Ib2HzQ"
      }
    },
    {
      "cell_type": "markdown",
      "source": [
        "### 06 アイテム集合"
      ],
      "metadata": {
        "id": "R47b_tuX2LKW"
      }
    },
    {
      "cell_type": "markdown",
      "source": [
        "アイテムは、インデックスと読み替えてもこの場合差し支えなさそう。"
      ],
      "metadata": {
        "id": "u3DeVdrLfs4P"
      }
    },
    {
      "cell_type": "code",
      "source": [
        "I = np.arange(Du.shape[0])\n",
        "print(f'I = {I}')"
      ],
      "metadata": {
        "colab": {
          "base_uri": "https://localhost:8080/"
        },
        "outputId": "349c187f-0b26-4814-a54c-e7b2b21d500f",
        "id": "OpjMxpQq2LKX"
      },
      "execution_count": 8,
      "outputs": [
        {
          "output_type": "stream",
          "name": "stdout",
          "text": [
            "I = [ 0  1  2  3  4  5  6  7  8  9 10 11 12]\n"
          ]
        }
      ]
    },
    {
      "cell_type": "markdown",
      "source": [
        "### 07 アイテムの特徴ベクトルの集合"
      ],
      "metadata": {
        "id": "_bfmKxzG2Lra"
      }
    },
    {
      "cell_type": "markdown",
      "source": [
        "numpy行列中にある評価値以外を取り出す。"
      ],
      "metadata": {
        "id": "Kc4fPtGNmrQc"
      }
    },
    {
      "cell_type": "code",
      "source": [
        "x = Du[:, :-1]\n",
        "print(f'x = \\n{x}')"
      ],
      "metadata": {
        "colab": {
          "base_uri": "https://localhost:8080/"
        },
        "outputId": "bde31a05-04e8-41bf-a274-64b8423856da",
        "id": "L_oQhKTH2Lrb"
      },
      "execution_count": 9,
      "outputs": [
        {
          "output_type": "stream",
          "name": "stdout",
          "text": [
            "x = \n",
            "[[5. 3.]\n",
            " [6. 2.]\n",
            " [4. 1.]\n",
            " [8. 5.]\n",
            " [2. 4.]\n",
            " [3. 6.]\n",
            " [7. 6.]\n",
            " [4. 2.]\n",
            " [5. 1.]\n",
            " [8. 6.]\n",
            " [3. 4.]\n",
            " [4. 7.]\n",
            " [4. 4.]]\n"
          ]
        }
      ]
    },
    {
      "cell_type": "markdown",
      "source": [
        "### 08 アイテム$i$の特徴ベクトル"
      ],
      "metadata": {
        "id": "RxkVbBLU2MBg"
      }
    },
    {
      "cell_type": "code",
      "source": [
        "i = 0\n",
        "print(f'x{i} = {x[i]}')"
      ],
      "metadata": {
        "colab": {
          "base_uri": "https://localhost:8080/"
        },
        "outputId": "c9303852-f753-4071-ecd4-b78451900196",
        "id": "kEpBXY1b2MBh"
      },
      "execution_count": 10,
      "outputs": [
        {
          "output_type": "stream",
          "name": "stdout",
          "text": [
            "x0 = [5. 3.]\n"
          ]
        }
      ]
    },
    {
      "cell_type": "markdown",
      "source": [
        "### 09 評価値集合"
      ],
      "metadata": {
        "id": "YeltvWQO3jX9"
      }
    },
    {
      "cell_type": "code",
      "source": [
        "ru = Du[:, -1]\n",
        "print(f'ru = {ru}')"
      ],
      "metadata": {
        "colab": {
          "base_uri": "https://localhost:8080/"
        },
        "outputId": "6264aa5c-4d4a-4099-cc66-11bea198a15c",
        "id": "Kdi4MCZI3jX-"
      },
      "execution_count": 11,
      "outputs": [
        {
          "output_type": "stream",
          "name": "stdout",
          "text": [
            "ru = [ 1.  1.  1. -1. -1. -1. -1. nan nan nan nan nan nan]\n"
          ]
        }
      ]
    },
    {
      "cell_type": "markdown",
      "source": [
        "### 10 評価値集合の形状"
      ],
      "metadata": {
        "id": "cppLRVYm3hW1"
      }
    },
    {
      "cell_type": "code",
      "source": [
        "print(f'ruの形状 = {ru.shape}')"
      ],
      "metadata": {
        "colab": {
          "base_uri": "https://localhost:8080/"
        },
        "id": "SUElgwH99QGO",
        "outputId": "71a9ecac-3b49-4256-ae3d-c4349881e8e6"
      },
      "execution_count": 12,
      "outputs": [
        {
          "output_type": "stream",
          "name": "stdout",
          "text": [
            "ruの形状 = (13,)\n"
          ]
        }
      ]
    },
    {
      "cell_type": "markdown",
      "source": [
        "### 11 評価値集合の全要素数"
      ],
      "metadata": {
        "id": "b6_LeicU9bgu"
      }
    },
    {
      "cell_type": "code",
      "source": [
        "print(f'ruの全要素数 = {ru.size}')"
      ],
      "metadata": {
        "colab": {
          "base_uri": "https://localhost:8080/"
        },
        "outputId": "abeaa3f8-0129-4dd7-b509-e634836fce98",
        "id": "nw8oEHtZ9bgw"
      },
      "execution_count": 13,
      "outputs": [
        {
          "output_type": "stream",
          "name": "stdout",
          "text": [
            "ruの全要素数 = 13\n"
          ]
        }
      ]
    },
    {
      "cell_type": "markdown",
      "source": [
        "### 12 評価値集合の部分集合"
      ],
      "metadata": {
        "id": "-Fv6ETIT2ML7"
      }
    },
    {
      "cell_type": "code",
      "source": [
        "i = 2\n",
        "j = 5\n",
        "print(f'ru{i}からru{j-1}までの評価値 = {ru[i:j]}')"
      ],
      "metadata": {
        "colab": {
          "base_uri": "https://localhost:8080/"
        },
        "outputId": "d3613228-39ee-4629-d28f-94c1e7c28dd2",
        "id": "tvXo-IJi2ML7"
      },
      "execution_count": 14,
      "outputs": [
        {
          "output_type": "stream",
          "name": "stdout",
          "text": [
            "ru2からru4までの評価値 = [ 1. -1. -1.]\n"
          ]
        }
      ]
    },
    {
      "cell_type": "markdown",
      "source": [
        "### 13 評価値集合の逆順"
      ],
      "metadata": {
        "id": "mgKVFNYU9dPu"
      }
    },
    {
      "cell_type": "markdown",
      "source": [
        "`ru[::-1]`により、逆順で値を取り出す。"
      ],
      "metadata": {
        "id": "ELr7j-gRniQI"
      }
    },
    {
      "cell_type": "code",
      "source": [
        "print(f'ruの逆順 = {ru[::-1]}')"
      ],
      "metadata": {
        "colab": {
          "base_uri": "https://localhost:8080/"
        },
        "outputId": "0c1598f1-1529-47d9-b2c9-b180b1f32e02",
        "id": "1WKe4Nhu9dPu"
      },
      "execution_count": 15,
      "outputs": [
        {
          "output_type": "stream",
          "name": "stdout",
          "text": [
            "ruの逆順 = [nan nan nan nan nan nan -1. -1. -1. -1.  1.  1.  1.]\n"
          ]
        }
      ]
    },
    {
      "cell_type": "markdown",
      "source": [
        "### 14 アイテム$i$に対する評価"
      ],
      "metadata": {
        "id": "XiBTIvQU-Oow"
      }
    },
    {
      "cell_type": "markdown",
      "source": [
        "`ru[i]`を使う。"
      ],
      "metadata": {
        "id": "RCXAT-HFoVBx"
      }
    },
    {
      "cell_type": "code",
      "source": [
        "i = 0\n",
        "print(f'ru{i} = {ru[i]}')"
      ],
      "metadata": {
        "colab": {
          "base_uri": "https://localhost:8080/"
        },
        "outputId": "94dca9a2-7173-4376-a5fe-d9bed51f86ee",
        "id": "rt-8RDom-Oo3"
      },
      "execution_count": 16,
      "outputs": [
        {
          "output_type": "stream",
          "name": "stdout",
          "text": [
            "ru0 = 1.0\n"
          ]
        }
      ]
    },
    {
      "cell_type": "markdown",
      "source": [
        "## アイテム集合"
      ],
      "metadata": {
        "id": "rMzzxnocoh4h"
      }
    },
    {
      "cell_type": "markdown",
      "source": [
        "### 15 ユーザ$u$が未評価であるか否かの判定"
      ],
      "metadata": {
        "id": "GCt5wg9--O1X"
      }
    },
    {
      "cell_type": "markdown",
      "source": [
        "ここでは、評価値$r_u$について、その第$i$成分が`np.nan`であるときユーザー$u$がアイテム$i$を未評価であるとして問題を解く。"
      ],
      "metadata": {
        "id": "2aqQ1Higo0qs"
      }
    },
    {
      "cell_type": "markdown",
      "source": [
        "`np.isnan(nparray)`を使う。"
      ],
      "metadata": {
        "id": "Q_dfF3r3psdO"
      }
    },
    {
      "cell_type": "code",
      "source": [
        "print(f'ユーザuが未評価 = {np.isnan(ru)}')"
      ],
      "metadata": {
        "colab": {
          "base_uri": "https://localhost:8080/"
        },
        "outputId": "e09c77d5-8060-4cb3-e0a9-9bc75f6d259e",
        "id": "X4Z30Xth-O1Y"
      },
      "execution_count": 17,
      "outputs": [
        {
          "output_type": "stream",
          "name": "stdout",
          "text": [
            "ユーザuが未評価 = [False False False False False False False  True  True  True  True  True\n",
            "  True]\n"
          ]
        }
      ]
    },
    {
      "cell_type": "markdown",
      "source": [
        "### 16 ユーザ$u$が評価済みであるか否かの判定"
      ],
      "metadata": {
        "id": "8tLocvr--O9i"
      }
    },
    {
      "cell_type": "markdown",
      "source": [
        "`np.isnan(nparray)`に対して、`~`をつけてあげれば`True`と`False`が反転するので題意を満たす。"
      ],
      "metadata": {
        "id": "985AuVD3p7GC"
      }
    },
    {
      "cell_type": "code",
      "source": [
        "print(f'ユーザuが評価済み = {~np.isnan(ru)}')"
      ],
      "metadata": {
        "colab": {
          "base_uri": "https://localhost:8080/"
        },
        "outputId": "5fb4c3d2-f1a9-4234-8454-84efb9582461",
        "id": "UzWYJ3gf-O9i"
      },
      "execution_count": 18,
      "outputs": [
        {
          "output_type": "stream",
          "name": "stdout",
          "text": [
            "ユーザuが評価済み = [ True  True  True  True  True  True  True False False False False False\n",
            " False]\n"
          ]
        }
      ]
    },
    {
      "cell_type": "markdown",
      "source": [
        "### 17 ユーザ$u$が評価済みのアイテム集合$I_u$"
      ],
      "metadata": {
        "id": "bYp4RBrK-PqQ"
      }
    },
    {
      "cell_type": "markdown",
      "source": [
        "16で見た評価済みのアイテムのみを抽出する。"
      ],
      "metadata": {
        "id": "CN3e7d5Oq5Yb"
      }
    },
    {
      "cell_type": "markdown",
      "source": [
        "`np.arange()`について、16の結果を使ってインデキシングすることで解決する。"
      ],
      "metadata": {
        "id": "qU0pck5WrL4B"
      }
    },
    {
      "cell_type": "code",
      "source": [
        "Iu = np.arange(ru.shape[0])[~np.isnan(ru)]\n",
        "print(f'Iu = {Iu}')"
      ],
      "metadata": {
        "colab": {
          "base_uri": "https://localhost:8080/"
        },
        "outputId": "aa8d3df4-2436-4752-b881-c5c0b01c5051",
        "id": "imCiGbCY-PqQ"
      },
      "execution_count": 19,
      "outputs": [
        {
          "output_type": "stream",
          "name": "stdout",
          "text": [
            "Iu = [0 1 2 3 4 5 6]\n"
          ]
        }
      ]
    },
    {
      "cell_type": "markdown",
      "source": [
        "### 18 ユーザ$u$が好きと評価したアイテム集合$I_{u+}$"
      ],
      "metadata": {
        "id": "uCKdtlLM-PwH"
      }
    },
    {
      "cell_type": "markdown",
      "source": [
        "ユーザ$u$が評価済みで、なおかつ評価値が$1$であるようなアイテム集合$I_u$を作る。\n",
        "\n",
        "`np.where(ruの条件, True, False)`を使う。"
      ],
      "metadata": {
        "id": "dQW9Moj6rjCz"
      }
    },
    {
      "cell_type": "code",
      "source": [
        "Iuplus = np.arange(ru.shape[0])[np.where(ru == 1, True, False)]\n",
        "print(f'Iu+ = {Iuplus}')"
      ],
      "metadata": {
        "colab": {
          "base_uri": "https://localhost:8080/"
        },
        "outputId": "c6a38d40-3fc0-4cda-d9c4-eeb2dc9a3a86",
        "id": "kQ8-Hzv_-PwH"
      },
      "execution_count": 20,
      "outputs": [
        {
          "output_type": "stream",
          "name": "stdout",
          "text": [
            "Iu+ = [0 1 2]\n"
          ]
        }
      ]
    },
    {
      "cell_type": "markdown",
      "source": [
        "### 19 ユーザ$u$が嫌いと評価したアイテム集合$I_{u-}$"
      ],
      "metadata": {
        "id": "3igRnAfJ-P00"
      }
    },
    {
      "cell_type": "markdown",
      "source": [
        "`np.where()`の条件部分をいじればよい。"
      ],
      "metadata": {
        "id": "mR4n3E8HsaL6"
      }
    },
    {
      "cell_type": "code",
      "source": [
        "Iuminus = np.arange(ru.shape[0])[np.where(ru == -1, True, False)]\n",
        "print(f'Iu- = {Iuminus}')"
      ],
      "metadata": {
        "colab": {
          "base_uri": "https://localhost:8080/"
        },
        "outputId": "b987d16d-9bc7-4f35-ba6d-3d6ecc39a087",
        "id": "YguDPJla-P01"
      },
      "execution_count": 21,
      "outputs": [
        {
          "output_type": "stream",
          "name": "stdout",
          "text": [
            "Iu- = [3 4 5 6]\n"
          ]
        }
      ]
    },
    {
      "cell_type": "markdown",
      "source": [
        "### 20 ユーザ$u$が未評価のアイテム集合$\\bar{I}_u$"
      ],
      "metadata": {
        "id": "UIS7dzf7-VcF"
      }
    },
    {
      "cell_type": "markdown",
      "source": [
        "1. `np.nan`かどうかでインデキシングする。\n",
        "2. `numpy.setdiff1d()`については、また今度。"
      ],
      "metadata": {
        "id": "OGAZpYOQs9lS"
      }
    },
    {
      "cell_type": "code",
      "source": [
        "Iu_not = np.arange(ru.shape[0])[np.isnan(ru)]\n",
        "print(f'Iu_not = {Iu_not}')"
      ],
      "metadata": {
        "colab": {
          "base_uri": "https://localhost:8080/"
        },
        "outputId": "b0ad9926-37bf-4365-cbb0-900036b22464",
        "id": "5jtEPVA9-VcG"
      },
      "execution_count": 22,
      "outputs": [
        {
          "output_type": "stream",
          "name": "stdout",
          "text": [
            "Iu_not = [ 7  8  9 10 11 12]\n"
          ]
        }
      ]
    },
    {
      "cell_type": "markdown",
      "source": [
        "## 訓練データと予測対象データ"
      ],
      "metadata": {
        "id": "VxrqJVH7twUs"
      }
    },
    {
      "cell_type": "markdown",
      "source": [
        "### 21 訓練データ"
      ],
      "metadata": {
        "id": "32WxVkpl-Vnx"
      }
    },
    {
      "cell_type": "markdown",
      "source": [
        "17でやったインデキシングを`Du`に直接適用すればできるはず。"
      ],
      "metadata": {
        "id": "kQHU9X7_uJPh"
      }
    },
    {
      "cell_type": "code",
      "source": [
        "DuL = Du[~np.isnan(ru)]\n",
        "print(f'DuL = \\n{DuL}')"
      ],
      "metadata": {
        "colab": {
          "base_uri": "https://localhost:8080/"
        },
        "outputId": "cd8043e3-ba86-447f-cfbd-2a3dbda33350",
        "id": "0hOQxYBQ-Vnx"
      },
      "execution_count": 23,
      "outputs": [
        {
          "output_type": "stream",
          "name": "stdout",
          "text": [
            "DuL = \n",
            "[[ 5.  3.  1.]\n",
            " [ 6.  2.  1.]\n",
            " [ 4.  1.  1.]\n",
            " [ 8.  5. -1.]\n",
            " [ 2.  4. -1.]\n",
            " [ 3.  6. -1.]\n",
            " [ 7.  6. -1.]]\n"
          ]
        }
      ]
    },
    {
      "cell_type": "markdown",
      "source": [
        "### 22 訓練事例数"
      ],
      "metadata": {
        "id": "kuPNFUAm-W3I"
      }
    },
    {
      "cell_type": "markdown",
      "source": [
        "`np.shape`で`DuL`の行数を求めればよい。"
      ],
      "metadata": {
        "id": "ejfOJ_BSunl3"
      }
    },
    {
      "cell_type": "code",
      "source": [
        "print(f'|DuL| = {DuL.shape[0]}')"
      ],
      "metadata": {
        "colab": {
          "base_uri": "https://localhost:8080/"
        },
        "outputId": "813e1696-50f6-4249-f3d0-5b8926b274da",
        "id": "go4OGgW_-W3J"
      },
      "execution_count": 24,
      "outputs": [
        {
          "output_type": "stream",
          "name": "stdout",
          "text": [
            "|DuL| = 7\n"
          ]
        }
      ]
    },
    {
      "cell_type": "markdown",
      "source": [
        "### 23 正事例数"
      ],
      "metadata": {
        "id": "AcIxX7z8-W-4"
      }
    },
    {
      "cell_type": "markdown",
      "source": [
        "`np.where(ruの条件, True, False)`の長さは13なので、これでインデキシングしたい場合`DuL`を対象としてもエラーが発生する。(一敗)\n",
        "\n",
        "そのため今回は`DuL[:, -1]`、つまり`DuL`の中でも評価値の部分に対して`np.where`を利用した。"
      ],
      "metadata": {
        "id": "NWOg_RVIvnZl"
      }
    },
    {
      "cell_type": "code",
      "source": [
        "print(f'|DuL+| = {DuL[np.where(DuL[:, -1] == 1, True, False)].shape[0]}')"
      ],
      "metadata": {
        "colab": {
          "base_uri": "https://localhost:8080/"
        },
        "outputId": "bf5abfaa-b3d7-4c9b-9d6c-29a05a22c2e9",
        "id": "KUvjLHz0-W-4"
      },
      "execution_count": 25,
      "outputs": [
        {
          "output_type": "stream",
          "name": "stdout",
          "text": [
            "|DuL+| = 3\n"
          ]
        }
      ]
    },
    {
      "cell_type": "markdown",
      "source": [
        "### 24 不事例数"
      ],
      "metadata": {
        "id": "y15iaMB1-XGF"
      }
    },
    {
      "cell_type": "code",
      "source": [
        "print(f'|DuL-| = {DuL[np.where(DuL[:, -1] == -1, True, False)].shape[0]}')"
      ],
      "metadata": {
        "colab": {
          "base_uri": "https://localhost:8080/"
        },
        "outputId": "b81a9b0e-cda9-455e-8550-60003487d2d4",
        "id": "LjaGIomn-XGG"
      },
      "execution_count": 26,
      "outputs": [
        {
          "output_type": "stream",
          "name": "stdout",
          "text": [
            "|DuL-| = 4\n"
          ]
        }
      ]
    },
    {
      "cell_type": "markdown",
      "source": [
        "### 25 予測対象データ"
      ],
      "metadata": {
        "id": "AXT0sztr-XM_"
      }
    },
    {
      "cell_type": "markdown",
      "source": [
        "21でやったこととほぼ同じことをやればよい。`~`を外すだけ。"
      ],
      "metadata": {
        "id": "iGUnAGd3wXPU"
      }
    },
    {
      "cell_type": "code",
      "source": [
        "DuU = Du[np.isnan(ru)]\n",
        "print(f'DuU = \\n{DuU}')"
      ],
      "metadata": {
        "colab": {
          "base_uri": "https://localhost:8080/"
        },
        "outputId": "2b54ce22-6927-4630-ac9d-6ecc2ae96da1",
        "id": "QdpPH2QC-XM_"
      },
      "execution_count": 27,
      "outputs": [
        {
          "output_type": "stream",
          "name": "stdout",
          "text": [
            "DuU = \n",
            "[[ 4.  2. nan]\n",
            " [ 5.  1. nan]\n",
            " [ 8.  6. nan]\n",
            " [ 3.  4. nan]\n",
            " [ 4.  7. nan]\n",
            " [ 4.  4. nan]]\n"
          ]
        }
      ]
    },
    {
      "cell_type": "markdown",
      "source": [
        "### 26 予測対象事例数"
      ],
      "metadata": {
        "id": "C7b6Ta68-XUB"
      }
    },
    {
      "cell_type": "markdown",
      "source": [
        "対象を`DuU`として、22と同じことを行う。"
      ],
      "metadata": {
        "id": "a4PfotCSwqep"
      }
    },
    {
      "cell_type": "code",
      "source": [
        "print(f'|DuU| = {DuU.shape[0]}')"
      ],
      "metadata": {
        "colab": {
          "base_uri": "https://localhost:8080/"
        },
        "outputId": "76e7c77e-c134-4b26-a006-3e8477e5275e",
        "id": "meuqcRSp-XUB"
      },
      "execution_count": 28,
      "outputs": [
        {
          "output_type": "stream",
          "name": "stdout",
          "text": [
            "|DuU| = 6\n"
          ]
        }
      ]
    },
    {
      "cell_type": "markdown",
      "source": [
        "## 第2章 評価値行列"
      ],
      "metadata": {
        "id": "Kbm-qzVd5mJ6"
      }
    },
    {
      "cell_type": "markdown",
      "source": [
        "準備"
      ],
      "metadata": {
        "id": "t9pIWGBr5t35"
      }
    },
    {
      "cell_type": "code",
      "source": [
        "import pprint\n",
        "import numpy as np\n",
        "np.set_printoptions(precision=3)"
      ],
      "metadata": {
        "id": "lA1K_9__5qxo"
      },
      "execution_count": 29,
      "outputs": []
    },
    {
      "cell_type": "markdown",
      "source": [
        "## 評価値行列"
      ],
      "metadata": {
        "id": "-rACZ6-i5_dw"
      }
    },
    {
      "cell_type": "markdown",
      "source": [
        "### 01 評価値行列の生成"
      ],
      "metadata": {
        "id": "7aTfWIrw6Pbc"
      }
    },
    {
      "cell_type": "markdown",
      "source": [
        "正確に内容をトレースし、`np.nan`と`np.array`を使う。"
      ],
      "metadata": {
        "id": "O3VCKhJC78Gh"
      }
    },
    {
      "cell_type": "code",
      "source": [
        "R_list = [[np.nan, 4, 3, 1, 2, np.nan],\n",
        "          [5, 5, 4, np.nan, 3, 3],\n",
        "          [4, np.nan, 5, 3, 2, np.nan],\n",
        "          [np.nan, 3, np.nan, 2, 1, 1],\n",
        "          [2, 1, 2, 4, np.nan, 3]]\n",
        "\n",
        "R = np.array(R_list)"
      ],
      "metadata": {
        "id": "v0HnZYV25yHU"
      },
      "execution_count": 30,
      "outputs": []
    },
    {
      "cell_type": "code",
      "source": [
        "print(f'R = \\n{R}')"
      ],
      "metadata": {
        "colab": {
          "base_uri": "https://localhost:8080/"
        },
        "id": "ffxWfvNW6qOP",
        "outputId": "cd6f3b71-b83f-49c5-8099-691412619f4b"
      },
      "execution_count": 31,
      "outputs": [
        {
          "output_type": "stream",
          "name": "stdout",
          "text": [
            "R = \n",
            "[[nan  4.  3.  1.  2. nan]\n",
            " [ 5.  5.  4. nan  3.  3.]\n",
            " [ 4. nan  5.  3.  2. nan]\n",
            " [nan  3. nan  2.  1.  1.]\n",
            " [ 2.  1.  2.  4. nan  3.]]\n"
          ]
        }
      ]
    },
    {
      "cell_type": "markdown",
      "source": [
        "### 02 ユーザ集合"
      ],
      "metadata": {
        "id": "syvYn4i66zEB"
      }
    },
    {
      "cell_type": "markdown",
      "source": [
        "第1章で親の顔ほど見た`np.arange(np.shape[0])`を使う。"
      ],
      "metadata": {
        "id": "wpdylazB8Bwg"
      }
    },
    {
      "cell_type": "code",
      "source": [
        "U = np.arange(R.shape[0])\n",
        "print(f'U = {U}')"
      ],
      "metadata": {
        "colab": {
          "base_uri": "https://localhost:8080/"
        },
        "id": "E2chDp_Q6ua5",
        "outputId": "320765f0-12f4-40f8-ffcb-619320feed21"
      },
      "execution_count": 32,
      "outputs": [
        {
          "output_type": "stream",
          "name": "stdout",
          "text": [
            "U = [0 1 2 3 4]\n"
          ]
        }
      ]
    },
    {
      "cell_type": "markdown",
      "source": [
        "### 03 アイテム集合"
      ],
      "metadata": {
        "id": "Hndnj1B_8M72"
      }
    },
    {
      "cell_type": "markdown",
      "source": [
        "02と同様に、`np.arange(np.shape[1])`でなんとかする。"
      ],
      "metadata": {
        "id": "1ixUxzVB88Ax"
      }
    },
    {
      "cell_type": "code",
      "source": [
        "I = np.arange(R.shape[1])\n",
        "print(f'I = {I}')"
      ],
      "metadata": {
        "colab": {
          "base_uri": "https://localhost:8080/"
        },
        "id": "NLE_byBm76Qg",
        "outputId": "e1a4b368-7dc0-4fbf-c395-9c6c5d2ffccc"
      },
      "execution_count": 33,
      "outputs": [
        {
          "output_type": "stream",
          "name": "stdout",
          "text": [
            "I = [0 1 2 3 4 5]\n"
          ]
        }
      ]
    },
    {
      "cell_type": "markdown",
      "source": [
        "### 04 ユーザ数"
      ],
      "metadata": {
        "id": "U4qRbrvd95qZ"
      }
    },
    {
      "cell_type": "markdown",
      "source": [
        "公式のヒント的に`U`に対して`np.size`を使うらしい。行列ではなくベクトルの場合だと`np.shape`との違いがいまいちわからなかったりするので調べておこうと思う。"
      ],
      "metadata": {
        "id": "sm3ihxsp9-Qt"
      }
    },
    {
      "cell_type": "code",
      "source": [
        "print(f'|U| = {U.size}')"
      ],
      "metadata": {
        "colab": {
          "base_uri": "https://localhost:8080/"
        },
        "id": "pAPAcL9O9D42",
        "outputId": "2929c451-2dc2-458d-eb8d-bd802a7568b8"
      },
      "execution_count": 34,
      "outputs": [
        {
          "output_type": "stream",
          "name": "stdout",
          "text": [
            "|U| = 5\n"
          ]
        }
      ]
    },
    {
      "cell_type": "markdown",
      "source": [
        "### 05 アイテム数"
      ],
      "metadata": {
        "id": "nxfRoEm7-aSR"
      }
    },
    {
      "cell_type": "markdown",
      "source": [
        "04と同じように書く。"
      ],
      "metadata": {
        "id": "_B2-z1pB-dX2"
      }
    },
    {
      "cell_type": "code",
      "source": [
        "print(f'|I| = {I.size}')"
      ],
      "metadata": {
        "colab": {
          "base_uri": "https://localhost:8080/"
        },
        "id": "J2Jpx2Tp-Hpa",
        "outputId": "43907334-5387-40e4-ea29-37402d5778b7"
      },
      "execution_count": 35,
      "outputs": [
        {
          "output_type": "stream",
          "name": "stdout",
          "text": [
            "|I| = 6\n"
          ]
        }
      ]
    },
    {
      "cell_type": "markdown",
      "source": [
        "### 06 評価値"
      ],
      "metadata": {
        "id": "cGQfLDiN-lB5"
      }
    },
    {
      "cell_type": "markdown",
      "source": [
        "$u$と$i$は与えてもらえるので、インデックスを指定して値を取り出す。"
      ],
      "metadata": {
        "id": "eUQxzKl7-nTc"
      }
    },
    {
      "cell_type": "code",
      "source": [
        "u = 0\n",
        "i = 1\n",
        "print(f'r{u}{i} = {R[u, i]}')"
      ],
      "metadata": {
        "colab": {
          "base_uri": "https://localhost:8080/"
        },
        "id": "y91_637z-hTz",
        "outputId": "90616db9-f733-4748-806d-7cd34642311a"
      },
      "execution_count": 36,
      "outputs": [
        {
          "output_type": "stream",
          "name": "stdout",
          "text": [
            "r01 = 4.0\n"
          ]
        }
      ]
    },
    {
      "cell_type": "markdown",
      "source": [
        "## 評価値行列の疎性"
      ],
      "metadata": {
        "id": "QtcM5Yq__Sgf"
      }
    },
    {
      "cell_type": "markdown",
      "source": [
        "### 07 評価値行列の全要素数"
      ],
      "metadata": {
        "id": "hWLeWAaf_N_p"
      }
    },
    {
      "cell_type": "markdown",
      "source": [
        "第1章では同じような状況で`np.size`を使っていた。今回は、`np.shape[0]*np.shape[1]`で値を取り出してみる。"
      ],
      "metadata": {
        "id": "4pzlFcZq_Z00"
      }
    },
    {
      "cell_type": "code",
      "source": [
        "print(f'Rの全要素数 = {R.shape[0]*R.shape[1]}')"
      ],
      "metadata": {
        "colab": {
          "base_uri": "https://localhost:8080/"
        },
        "id": "MOluE0En_G0a",
        "outputId": "dddb0951-0fa6-4e6d-a8bf-52b17121104e"
      },
      "execution_count": 37,
      "outputs": [
        {
          "output_type": "stream",
          "name": "stdout",
          "text": [
            "Rの全要素数 = 30\n"
          ]
        }
      ]
    },
    {
      "cell_type": "markdown",
      "source": [
        "### 08 観測されているか否かの判定"
      ],
      "metadata": {
        "id": "yq2_L1UE_pWZ"
      }
    },
    {
      "cell_type": "markdown",
      "source": [
        "`np.isnan(R)`により`R`の各成分が欠損値かどうかを確認する。今回の場合は観測されているならば`True`とするようなので別途`~`を付け加える必要がある。"
      ],
      "metadata": {
        "id": "eVnC38hw_pSr"
      }
    },
    {
      "cell_type": "code",
      "source": [
        "print(f'観測値 = \\n{~np.isnan(R)}')"
      ],
      "metadata": {
        "colab": {
          "base_uri": "https://localhost:8080/"
        },
        "id": "T03mrJkg_oRg",
        "outputId": "4cd4767a-ce33-4522-c434-b805a7630962"
      },
      "execution_count": 38,
      "outputs": [
        {
          "output_type": "stream",
          "name": "stdout",
          "text": [
            "観測値 = \n",
            "[[False  True  True  True  True False]\n",
            " [ True  True  True False  True  True]\n",
            " [ True False  True  True  True False]\n",
            " [False  True False  True  True  True]\n",
            " [ True  True  True  True False  True]]\n"
          ]
        }
      ]
    },
    {
      "cell_type": "markdown",
      "source": [
        "### 09 評価値行列の観測値数"
      ],
      "metadata": {
        "id": "CYh6mMFCAF-o"
      }
    },
    {
      "cell_type": "markdown",
      "source": [
        "`np.count.nonzero()`を使えばよいらしい。そのまま真偽値のみで構成された行列に適用すると、`True`の数を数えてくれるようだ。"
      ],
      "metadata": {
        "id": "D9juWK1qAdP2"
      }
    },
    {
      "cell_type": "code",
      "source": [
        "print(f'|R| = {np.count_nonzero(~np.isnan(R))}')"
      ],
      "metadata": {
        "colab": {
          "base_uri": "https://localhost:8080/"
        },
        "id": "E0Vi8XBuABpn",
        "outputId": "f73c151a-fb28-4cf2-b1d5-d729b9119eb0"
      },
      "execution_count": 39,
      "outputs": [
        {
          "output_type": "stream",
          "name": "stdout",
          "text": [
            "|R| = 22\n"
          ]
        }
      ]
    },
    {
      "cell_type": "markdown",
      "source": [
        "### 10 評価値行列の疎性"
      ],
      "metadata": {
        "id": "Er6saLpDAoBh"
      }
    },
    {
      "cell_type": "markdown",
      "source": [
        "$sparsity$の定義に基づいて計算すればよい。少しコードが冗長になると思ったので、`R.shape[index]`ではなく`R.size`を使って計算している。"
      ],
      "metadata": {
        "id": "TgjSlEkoApz9"
      }
    },
    {
      "cell_type": "code",
      "source": [
        "sparsity = (R.size-np.count_nonzero(~np.isnan(R)))/R.size\n",
        "print(f'sparsity = {sparsity:.3f}')"
      ],
      "metadata": {
        "colab": {
          "base_uri": "https://localhost:8080/"
        },
        "id": "WD0DPIULAYcX",
        "outputId": "4345170c-6ad3-486b-b0b3-394de88f2280"
      },
      "execution_count": 40,
      "outputs": [
        {
          "output_type": "stream",
          "name": "stdout",
          "text": [
            "sparsity = 0.267\n"
          ]
        }
      ]
    },
    {
      "cell_type": "markdown",
      "source": [
        "## 評価済みアイテム集合"
      ],
      "metadata": {
        "id": "CHpZr6H9BmOQ"
      }
    },
    {
      "cell_type": "markdown",
      "source": [
        "### 11 ユーザ$u$が評価済みのアイテム集合$I_u$"
      ],
      "metadata": {
        "id": "Kg4LZNefAqzD"
      }
    },
    {
      "cell_type": "markdown",
      "source": [
        "$u$が与えられるので、`R`の`u`行目の中で欠損値ではないインデックスのみを返すようにする。"
      ],
      "metadata": {
        "id": "o_dnsQEwAqzD"
      }
    },
    {
      "cell_type": "code",
      "source": [
        "u = 0\n",
        "print(f'I{u} = {I[~np.isnan(R[u, :])]}')"
      ],
      "metadata": {
        "colab": {
          "base_uri": "https://localhost:8080/"
        },
        "id": "2sWcP2MaAqzD",
        "outputId": "a169ca5c-ecd1-4278-ffa8-afa4dce68cff"
      },
      "execution_count": 41,
      "outputs": [
        {
          "output_type": "stream",
          "name": "stdout",
          "text": [
            "I0 = [1 2 3 4]\n"
          ]
        }
      ]
    },
    {
      "cell_type": "markdown",
      "source": [
        "### 12 各ユーザの評価済みアイテム集合"
      ],
      "metadata": {
        "id": "f1gMd1DVArAq"
      }
    },
    {
      "cell_type": "markdown",
      "source": [
        "ポイントは、多分以下だと思う。\n",
        "\n",
        "- `ndarray`のリストとしてまとめるという点\n",
        "  - リストにする際に内包表記を利用する点\n",
        "- pprintを利用する点"
      ],
      "metadata": {
        "id": "KGPf5CCVArAr"
      }
    },
    {
      "cell_type": "code",
      "source": [
        "Iu = [I[~np.isnan(R[u, :])] for u in range(U.size)]\n",
        "print('Iu = ')\n",
        "pprint.pprint(Iu)"
      ],
      "metadata": {
        "colab": {
          "base_uri": "https://localhost:8080/"
        },
        "id": "4CGBWy1QArAr",
        "outputId": "10cb15d1-80d9-49f8-d371-259b3e5113e7"
      },
      "execution_count": 42,
      "outputs": [
        {
          "output_type": "stream",
          "name": "stdout",
          "text": [
            "Iu = \n",
            "[array([1, 2, 3, 4]),\n",
            " array([0, 1, 2, 4, 5]),\n",
            " array([0, 2, 3, 4]),\n",
            " array([1, 3, 4, 5]),\n",
            " array([0, 1, 2, 3, 5])]\n"
          ]
        }
      ]
    },
    {
      "cell_type": "markdown",
      "source": [
        "### 13 ユーザ$u$と$v$の共通の評価済みアイテム集合$I_{u, v}$"
      ],
      "metadata": {
        "id": "pJYz7_NToFl0"
      }
    },
    {
      "cell_type": "markdown",
      "source": [
        "$u$と$v$が与えられるので、11のように評価済みアイテムを得てその共通部分をとることで望みのベクトルが得られる。共通部分の取り方は、案内通り`np.intersect1d(ndarray1, ndarray2)`を使えばよい。"
      ],
      "metadata": {
        "id": "U4_hri5XoFiB"
      }
    },
    {
      "cell_type": "code",
      "source": [
        "u = 0\n",
        "v = 1\n",
        "temp_u = Iu[u]\n",
        "temp_v = Iu[v]\n",
        "Iuv = np.intersect1d(temp_u, temp_v)\n",
        "print(f'I{u}{v} = {Iuv}')"
      ],
      "metadata": {
        "colab": {
          "base_uri": "https://localhost:8080/"
        },
        "id": "jx99PE4mnOoM",
        "outputId": "6d065747-a5bc-47e6-9ad4-de9ee632f647"
      },
      "execution_count": 43,
      "outputs": [
        {
          "output_type": "stream",
          "name": "stdout",
          "text": [
            "I01 = [1 2 4]\n"
          ]
        }
      ]
    },
    {
      "cell_type": "markdown",
      "source": [
        "### 14 アイテム$i$を評価済みのユーザ集合"
      ],
      "metadata": {
        "id": "yltqhnDjrIUE"
      }
    },
    {
      "cell_type": "markdown",
      "source": [
        "$i$が与えられるので、`U`から$i$列目が`np.nan`でないインデックスを返すように`~np.isnan()`を使う。"
      ],
      "metadata": {
        "id": "N15oPjBCrIPm"
      }
    },
    {
      "cell_type": "code",
      "source": [
        "i = 0\n",
        "print(f'U{i} = {U[~np.isnan(R[:, i])]}')"
      ],
      "metadata": {
        "colab": {
          "base_uri": "https://localhost:8080/"
        },
        "id": "UVmKE2tFop3H",
        "outputId": "35d1cc3a-a842-49e6-d12e-f22e94238535"
      },
      "execution_count": 44,
      "outputs": [
        {
          "output_type": "stream",
          "name": "stdout",
          "text": [
            "U0 = [1 2 4]\n"
          ]
        }
      ]
    },
    {
      "cell_type": "markdown",
      "source": [
        "### 15 各アイテムの評価済みユーザ集合"
      ],
      "metadata": {
        "id": "HfABfwRdrLZ2"
      }
    },
    {
      "cell_type": "markdown",
      "source": [
        "11のコードを参考に12のコードを作ったように、14のコードを修正する。"
      ],
      "metadata": {
        "id": "1LEsIDh6rLZ2"
      }
    },
    {
      "cell_type": "code",
      "source": [
        "Ui = [U[~np.isnan(R[:, i])] for i in range(I.size)]\n",
        "print('Ui = ')\n",
        "pprint.pprint(Ui)"
      ],
      "metadata": {
        "colab": {
          "base_uri": "https://localhost:8080/"
        },
        "id": "aTCB7402rLZ2",
        "outputId": "06227916-4a17-43f9-80a4-6884a75ea01c"
      },
      "execution_count": 45,
      "outputs": [
        {
          "output_type": "stream",
          "name": "stdout",
          "text": [
            "Ui = \n",
            "[array([1, 2, 4]),\n",
            " array([0, 1, 3, 4]),\n",
            " array([0, 1, 2, 4]),\n",
            " array([0, 2, 3, 4]),\n",
            " array([0, 1, 2, 3]),\n",
            " array([1, 3, 4])]\n"
          ]
        }
      ]
    },
    {
      "cell_type": "markdown",
      "source": [
        "### 16 アイテム$i$とアイテム$j$の両方を評価済みのユーザ集合$U_{i, j}$"
      ],
      "metadata": {
        "id": "bmJlH9yZrLkC"
      }
    },
    {
      "cell_type": "markdown",
      "source": [
        "13と同じノリで作ることができる。"
      ],
      "metadata": {
        "id": "cvA7TCHarLkD"
      }
    },
    {
      "cell_type": "code",
      "source": [
        "i = 0\n",
        "j = 4\n",
        "temp_i = Ui[i]\n",
        "temp_j = Ui[j]\n",
        "Uij = np.intersect1d(temp_i, temp_j)\n",
        "print(f'U{i}{j} = {Uij}')"
      ],
      "metadata": {
        "colab": {
          "base_uri": "https://localhost:8080/"
        },
        "id": "RgBK2-k0rLkD",
        "outputId": "20cbb59e-964f-4f02-a52d-c18928fe67df"
      },
      "execution_count": 46,
      "outputs": [
        {
          "output_type": "stream",
          "name": "stdout",
          "text": [
            "U04 = [1 2]\n"
          ]
        }
      ]
    },
    {
      "cell_type": "markdown",
      "source": [
        "### 17 評価値行列全体の平均評価値"
      ],
      "metadata": {
        "id": "tiWn7WxkrLw2"
      }
    },
    {
      "cell_type": "markdown",
      "source": [
        "まずは、何も考えずに`R`を`np.mean()`で平均することを考えたい。すると、悲しいことに以下のようになるので`np.nan`を避ける必要がある。"
      ],
      "metadata": {
        "id": "PK1apWN1rLw2"
      }
    },
    {
      "cell_type": "code",
      "source": [
        "np.mean(R)"
      ],
      "metadata": {
        "colab": {
          "base_uri": "https://localhost:8080/"
        },
        "id": "3xHpDyjLrLw3",
        "outputId": "3a231efe-3335-42f6-8873-03c1811ccc01"
      },
      "execution_count": 47,
      "outputs": [
        {
          "output_type": "execute_result",
          "data": {
            "text/plain": [
              "nan"
            ]
          },
          "metadata": {},
          "execution_count": 47
        }
      ]
    },
    {
      "cell_type": "markdown",
      "source": [
        "ここで、元ネタの記事にもある通り`np.nanmean()`をすることで`np.nan`を除外した平均を算出できる。"
      ],
      "metadata": {
        "id": "TDYNNqIM49XU"
      }
    },
    {
      "cell_type": "code",
      "source": [
        "print(f'R全体の平均評価値 = {np.nanmean(R):.3f}')"
      ],
      "metadata": {
        "colab": {
          "base_uri": "https://localhost:8080/"
        },
        "id": "1mFDcytp5J9P",
        "outputId": "e42bb9e2-8046-4688-ff9b-c9d5b30e8b6d"
      },
      "execution_count": 48,
      "outputs": [
        {
          "output_type": "stream",
          "name": "stdout",
          "text": [
            "R全体の平均評価値 = 2.864\n"
          ]
        }
      ]
    },
    {
      "cell_type": "markdown",
      "source": [
        "### 18 各アイテムの平均評価値"
      ],
      "metadata": {
        "id": "ajacQeFdrMDt"
      }
    },
    {
      "cell_type": "markdown",
      "source": [
        "便利だった`np.nanmean()`も`np.mean()`と同様に`axis`を設定できるのでそれを素直に行うことで結果を得る。この場合`axis=0`を指定する必要がある。"
      ],
      "metadata": {
        "id": "75NAg_6IrMDt"
      }
    },
    {
      "cell_type": "code",
      "source": [
        "ri_mean = np.nanmean(R, axis=0)\n",
        "print(f'ri_mean = {ri_mean}')"
      ],
      "metadata": {
        "colab": {
          "base_uri": "https://localhost:8080/"
        },
        "id": "oYrI6oHJrMDt",
        "outputId": "96915263-9830-46fd-e22d-e64d7d7fedae"
      },
      "execution_count": 49,
      "outputs": [
        {
          "output_type": "stream",
          "name": "stdout",
          "text": [
            "ri_mean = [3.667 3.25  3.5   2.5   2.    2.333]\n"
          ]
        }
      ]
    },
    {
      "cell_type": "markdown",
      "source": [
        "### 19 各ユーザの平均評価値"
      ],
      "metadata": {
        "id": "kDKN6gQ7rMOd"
      }
    },
    {
      "cell_type": "markdown",
      "source": [
        "18の、`axis=1`版を作ればよい。"
      ],
      "metadata": {
        "id": "7poCzt6urMOe"
      }
    },
    {
      "cell_type": "code",
      "source": [
        "ru_mean = np.nanmean(R, axis=1)\n",
        "print(f'ru_mean = {ru_mean}')"
      ],
      "metadata": {
        "colab": {
          "base_uri": "https://localhost:8080/"
        },
        "id": "znwG7NrarMOe",
        "outputId": "06cc7849-6428-41d7-ca39-e67772bb1bf6"
      },
      "execution_count": 50,
      "outputs": [
        {
          "output_type": "stream",
          "name": "stdout",
          "text": [
            "ru_mean = [2.5  4.   3.5  1.75 2.4 ]\n"
          ]
        }
      ]
    },
    {
      "cell_type": "markdown",
      "source": [
        "### 20 評価値ベクトルの形状変換"
      ],
      "metadata": {
        "id": "D2cl_WdYrMfq"
      }
    },
    {
      "cell_type": "markdown",
      "source": [
        "記載がある通り、`ndarray.reshape()`を使うことで望みの結果を得る。今回は`ru_mean`を縦ベクトルのような表示にすることが目標となっていて、`reshape(-1, 1)`とするのがいいらしいが紛らわしいと思ってしまった。"
      ],
      "metadata": {
        "id": "DNl829hMrMfq"
      }
    },
    {
      "cell_type": "code",
      "source": [
        "print(f'ru_mean = \\n{ru_mean.reshape(-1, 1)}')"
      ],
      "metadata": {
        "colab": {
          "base_uri": "https://localhost:8080/"
        },
        "id": "R2XcX37arMfq",
        "outputId": "5fd43447-c17b-4da3-f2e0-1873a49096fd"
      },
      "execution_count": 51,
      "outputs": [
        {
          "output_type": "stream",
          "name": "stdout",
          "text": [
            "ru_mean = \n",
            "[[2.5 ]\n",
            " [4.  ]\n",
            " [3.5 ]\n",
            " [1.75]\n",
            " [2.4 ]]\n"
          ]
        }
      ]
    },
    {
      "cell_type": "markdown",
      "source": [
        "### 21 平均中心化評価値行列"
      ],
      "metadata": {
        "id": "8nbZ9RMorMmy"
      }
    },
    {
      "cell_type": "markdown",
      "source": [
        "`R - ru_mean`は計算できず、エラーが発生する。ブロードキャストによって計算できそうだと期待してやってみた結果これがでたのでちょっとつらいが`内包表記`によって`R`との差をとるような計算を試みた。理想的な解答とはかなり乖離していると思われるので、あとで調べてメモっておく。"
      ],
      "metadata": {
        "id": "T1wiGQK8rMmy"
      }
    },
    {
      "cell_type": "markdown",
      "source": [
        "以下、内包表記を利用した計算。一応値は合っているのだが`ndarray.reshape()`を使う方法を思いつかなかったのが悲しい。"
      ],
      "metadata": {
        "id": "y-0yI3Wx9WLt"
      }
    },
    {
      "cell_type": "code",
      "source": [
        "rubar = np.array([[rm] * I.size for rm in ru_mean])\n",
        "R2 = R - rubar\n",
        "print(f'R\\' = \\n{R2}')"
      ],
      "metadata": {
        "colab": {
          "base_uri": "https://localhost:8080/"
        },
        "id": "MNl-SpjT8Qeu",
        "outputId": "f7a64212-9005-4042-84f0-4157057a4d57"
      },
      "execution_count": 52,
      "outputs": [
        {
          "output_type": "stream",
          "name": "stdout",
          "text": [
            "R' = \n",
            "[[  nan  1.5   0.5  -1.5  -0.5    nan]\n",
            " [ 1.    1.    0.     nan -1.   -1.  ]\n",
            " [ 0.5    nan  1.5  -0.5  -1.5    nan]\n",
            " [  nan  1.25   nan  0.25 -0.75 -0.75]\n",
            " [-0.4  -1.4  -0.4   1.6    nan  0.6 ]]\n"
          ]
        }
      ]
    },
    {
      "cell_type": "markdown",
      "source": [
        "**以下、第4章と同時に追記**\n",
        "\n",
        "`ru_mean`ではなく`ru_mean.reshape(-1, 1)`を使えば`R`との差が直接計算できるということに後で気づいたのでコードを次のセルに記載する。"
      ],
      "metadata": {
        "id": "H4DV-I5kRXQv"
      }
    },
    {
      "cell_type": "code",
      "source": [
        "R2 = R - ru_mean.reshape(-1, 1)\n",
        "print(f'R\\' = \\n{R2}')"
      ],
      "metadata": {
        "colab": {
          "base_uri": "https://localhost:8080/"
        },
        "id": "_RibmiSzRS0e",
        "outputId": "a5e91a05-4001-465b-a715-fa019550aa68"
      },
      "execution_count": 53,
      "outputs": [
        {
          "output_type": "stream",
          "name": "stdout",
          "text": [
            "R' = \n",
            "[[  nan  1.5   0.5  -1.5  -0.5    nan]\n",
            " [ 1.    1.    0.     nan -1.   -1.  ]\n",
            " [ 0.5    nan  1.5  -0.5  -1.5    nan]\n",
            " [  nan  1.25   nan  0.25 -0.75 -0.75]\n",
            " [-0.4  -1.4  -0.4   1.6    nan  0.6 ]]\n"
          ]
        }
      ]
    },
    {
      "cell_type": "markdown",
      "source": [
        "## 第3章 類似度に基づく推薦"
      ],
      "metadata": {
        "id": "jEvMpNJKHnn5"
      }
    },
    {
      "cell_type": "markdown",
      "source": [
        "準備"
      ],
      "metadata": {
        "id": "tpy8jHulHx_V"
      }
    },
    {
      "cell_type": "code",
      "source": [
        "import pprint\n",
        "import numpy as np\n",
        "\n",
        "# 上位K件\n",
        "TOP_K = 3\n",
        "\n",
        "Du = np.array([\n",
        "               [5, 3, +1],\n",
        "               [6, 2, +1],\n",
        "               [4, 1, +1],\n",
        "               [8, 5, -1],\n",
        "               [2, 4, -1],\n",
        "               [3, 6, -1],\n",
        "               [7, 6, -1],\n",
        "               [4, 2, np.nan],\n",
        "               [5, 1, np.nan],\n",
        "               [8, 6, np.nan],\n",
        "               [3, 4, np.nan],\n",
        "               [4, 7, np.nan],\n",
        "               [4, 4, np.nan],\n",
        "])\n",
        "I = np.arange(Du.shape[0])\n",
        "x = Du[:,:-1]\n",
        "ru = Du[:,-1]\n",
        "\n",
        "Iu = I[~np.isnan(ru)]\n",
        "Iup = I[ru==+1]\n",
        "Iun = I[ru==-1]\n",
        "Iu_not = np.setdiff1d(I, Iu)"
      ],
      "metadata": {
        "id": "33vHsjHWHzHS"
      },
      "execution_count": 54,
      "outputs": []
    },
    {
      "cell_type": "markdown",
      "source": [
        "## ユーザプロファイル"
      ],
      "metadata": {
        "id": "5AddWMhzI3CL"
      }
    },
    {
      "cell_type": "markdown",
      "source": [
        "### 01 好きなアイテム集合に含まれるアイテムの特徴ベクトルの集合"
      ],
      "metadata": {
        "id": "LFVa_zu_-BCu"
      }
    },
    {
      "cell_type": "markdown",
      "source": [
        "`x`は以下の通りであるから、`ru`が`1`となっているインデックスのみが`True`になるようなベクトルを使ってあげればよいはず。"
      ],
      "metadata": {
        "id": "vDIQVDWN-E0c"
      }
    },
    {
      "cell_type": "code",
      "source": [
        "x"
      ],
      "metadata": {
        "id": "U84sFRoEIY9_",
        "colab": {
          "base_uri": "https://localhost:8080/"
        },
        "outputId": "74cbc546-d28f-4a41-bf42-b8fedec05405"
      },
      "execution_count": 55,
      "outputs": [
        {
          "output_type": "execute_result",
          "data": {
            "text/plain": [
              "array([[5., 3.],\n",
              "       [6., 2.],\n",
              "       [4., 1.],\n",
              "       [8., 5.],\n",
              "       [2., 4.],\n",
              "       [3., 6.],\n",
              "       [7., 6.],\n",
              "       [4., 2.],\n",
              "       [5., 1.],\n",
              "       [8., 6.],\n",
              "       [3., 4.],\n",
              "       [4., 7.],\n",
              "       [4., 4.]])"
            ]
          },
          "metadata": {},
          "execution_count": 55
        }
      ]
    },
    {
      "cell_type": "markdown",
      "source": [
        "従って、以下のように書くことで答えを得た。`np.where()`を用いることによって、`ru`の値が`1`のところのみ`True`になるようにしている。"
      ],
      "metadata": {
        "id": "TeEXemw4-gEw"
      }
    },
    {
      "cell_type": "code",
      "source": [
        "print(f'x[Iu+] = \\n{x[np.where(ru == 1, True, False)]}')"
      ],
      "metadata": {
        "colab": {
          "base_uri": "https://localhost:8080/"
        },
        "id": "rRNQMnkY-LFc",
        "outputId": "559da0ca-5648-4f10-bd7b-02b7973c7a83"
      },
      "execution_count": 56,
      "outputs": [
        {
          "output_type": "stream",
          "name": "stdout",
          "text": [
            "x[Iu+] = \n",
            "[[5. 3.]\n",
            " [6. 2.]\n",
            " [4. 1.]]\n"
          ]
        }
      ]
    },
    {
      "cell_type": "markdown",
      "source": [
        "### 02 特徴ベクトルの総和"
      ],
      "metadata": {
        "id": "_4l9ZhqD_bov"
      }
    },
    {
      "cell_type": "markdown",
      "source": [
        "これは、01で得た`Iu+`に対して、`axis`を工夫して総和をとればよいはずだ。今回は行方向に和をとるはずだから、`axis=0`を使えばいいかもしれない。"
      ],
      "metadata": {
        "id": "HG2ecTRG_inl"
      }
    },
    {
      "cell_type": "code",
      "source": [
        "print(f'sum(x[Iu+]) = {x[np.where(ru == 1, True, False)].sum(axis=0)}')"
      ],
      "metadata": {
        "colab": {
          "base_uri": "https://localhost:8080/"
        },
        "id": "6nj_SELT-_lr",
        "outputId": "87057bd9-bc54-4f35-ab72-3929e91f5574"
      },
      "execution_count": 57,
      "outputs": [
        {
          "output_type": "stream",
          "name": "stdout",
          "text": [
            "sum(x[Iu+]) = [15.  6.]\n"
          ]
        }
      ]
    },
    {
      "cell_type": "markdown",
      "source": [
        "### 03 ユーザプロファイル"
      ],
      "metadata": {
        "id": "aRVnjqWeAFNg"
      }
    },
    {
      "cell_type": "markdown",
      "source": [
        "02のコードについて、総和ではなく平均をとるように修正すればよい。"
      ],
      "metadata": {
        "id": "F5r-SQ7eAH3p"
      }
    },
    {
      "cell_type": "code",
      "source": [
        "pu = x[np.where(ru == 1, True, False)].mean(axis=0)\n",
        "print(f'pu = {pu}')"
      ],
      "metadata": {
        "colab": {
          "base_uri": "https://localhost:8080/"
        },
        "id": "HTKQvzEu_1C8",
        "outputId": "5b3567da-dfe2-4040-9dbb-ba8105ec9ed7"
      },
      "execution_count": 58,
      "outputs": [
        {
          "output_type": "stream",
          "name": "stdout",
          "text": [
            "pu = [5. 2.]\n"
          ]
        }
      ]
    },
    {
      "cell_type": "markdown",
      "source": [
        "## コサイン類似度"
      ],
      "metadata": {
        "id": "GvmMLgeFA0Ri"
      }
    },
    {
      "cell_type": "markdown",
      "source": [
        "### 04 ベクトルの内積"
      ],
      "metadata": {
        "id": "IlKKy4PbAJJB"
      }
    },
    {
      "cell_type": "markdown",
      "source": [
        "ここでは、04から06までの3問を解いて一部コードを与えられた関数`cos`を完成させることを考える。"
      ],
      "metadata": {
        "id": "6ztslFR-EFc2"
      }
    },
    {
      "cell_type": "markdown",
      "source": [
        "内積`num`は、よく用いられる`@`か`np.dot()`を利用して計算されるので今回もそれを用いて計算していく。"
      ],
      "metadata": {
        "id": "p4r64vZwA-qE"
      }
    },
    {
      "cell_type": "markdown",
      "source": [
        "### 05 ユーザプロファイルのノルム"
      ],
      "metadata": {
        "id": "xK6KAjvoAJJC"
      }
    },
    {
      "cell_type": "markdown",
      "source": [
        "ユーザプロファイルのノルム`den_u`は、`np.linalg.norm()`をユーザプロファイルのベクトルに使うことで計算可能なはずだ。引数`ord`は何も設定しない場合デフォルトで`2`になったような気もするが、一応指定はしておく。"
      ],
      "metadata": {
        "id": "0W03a7EkBfDt"
      }
    },
    {
      "cell_type": "markdown",
      "source": [
        "### 06 特徴ベクトルのノルム"
      ],
      "metadata": {
        "id": "bXWM5BYbAJTo"
      }
    },
    {
      "cell_type": "markdown",
      "source": [
        "05のコードに対して、`np.linalg.norm()`の引数に指定するベクトルを`xi`に変更すればよい。"
      ],
      "metadata": {
        "id": "T_Ch6HQUAJTp"
      }
    },
    {
      "cell_type": "markdown",
      "source": [
        "以下では、04から06までの問の答えを用意して`cos`関数を作成し、実行結果を確認している。"
      ],
      "metadata": {
        "id": "ALkc3vlmCUR5"
      }
    },
    {
      "cell_type": "code",
      "source": [
        "def cos(pu, xi):\n",
        "    \"\"\"\n",
        "    コサイン類似度関数：ユーザプロファイルpuとアイテムiの特徴ベクトルxiのコサイン類似度を返す。\n",
        "\n",
        "    Parameters\n",
        "    ----------\n",
        "    pu : ndarray\n",
        "        ユーザuのユーザプロファイル\n",
        "    xi : ndarray\n",
        "        アイテムiの特徴ベクトル\n",
        "\n",
        "    Returns\n",
        "    -------\n",
        "    float\n",
        "        コサイン類似度\n",
        "    \"\"\"\n",
        "    num = pu@xi\n",
        "    print(f'num = {num}')\n",
        "    den_u = np.linalg.norm(pu, ord=2)\n",
        "    print('den_u = {:.3f}'.format(den_u))\n",
        "    den_i = np.linalg.norm(xi, ord=2)\n",
        "    print('den_i = {:.3f}'.format(den_i))\n",
        "    \n",
        "    cosine = num / (den_u * den_i)\n",
        "    return cosine"
      ],
      "metadata": {
        "id": "DAb3J7G_AJTp"
      },
      "execution_count": 59,
      "outputs": []
    },
    {
      "cell_type": "code",
      "source": [
        "u = 0\n",
        "i = 7\n",
        "print(f'cos(p{u}, x{i}) = {cos(pu, x[i]):.3f}')\n",
        "u = 0\n",
        "i = 11\n",
        "print(f'cos(p{u}, x{i}) = {cos(pu, x[i]):.3f}')"
      ],
      "metadata": {
        "colab": {
          "base_uri": "https://localhost:8080/"
        },
        "id": "ECvSnrBVCxuS",
        "outputId": "80e9f6a4-9871-42bc-ccae-d73580370deb"
      },
      "execution_count": 60,
      "outputs": [
        {
          "output_type": "stream",
          "name": "stdout",
          "text": [
            "num = 24.0\n",
            "den_u = 5.385\n",
            "den_i = 4.472\n",
            "cos(p0, x7) = 0.997\n",
            "num = 34.0\n",
            "den_u = 5.385\n",
            "den_i = 8.062\n",
            "cos(p0, x11) = 0.783\n"
          ]
        }
      ]
    },
    {
      "cell_type": "markdown",
      "source": [
        "## 推薦"
      ],
      "metadata": {
        "id": "LzIDueHcJpxo"
      }
    },
    {
      "cell_type": "markdown",
      "source": [
        "### 07 各アイテムに対するスコア"
      ],
      "metadata": {
        "id": "97PccxHhAJf8"
      }
    },
    {
      "cell_type": "markdown",
      "source": [
        "ここでは、07と08の問題を解いて一部コードを与えられた関数`order`を完成させることを考える。"
      ],
      "metadata": {
        "id": "QdyiCj2vAJf9"
      }
    },
    {
      "cell_type": "markdown",
      "source": [
        "結果から、変数`scores`は、以下のような条件を満たす辞書型の変数となる。\n",
        "- キーは`np.nan`だったアイテムのインデックス\n",
        "  - `Iu_not`があるのでこれを用いる\n",
        "- バリューはキーのアイテムベクトルとユーザプロファイルのスコアをとったもの\n",
        "\n",
        "これらを満たすよう、今回は辞書の内包表記を用いて記述する。"
      ],
      "metadata": {
        "id": "w7J5U8_YEVJI"
      }
    },
    {
      "cell_type": "markdown",
      "source": [
        "### 08 推薦リスト"
      ],
      "metadata": {
        "id": "AagUIeTBFR1C"
      }
    },
    {
      "cell_type": "markdown",
      "source": [
        "単純に辞書型の変数`scores`をバリューによって並び替えればよい。引数`reverse`を`True`にすることで降順にする点もポイント。"
      ],
      "metadata": {
        "id": "GMqA13FZFi4A"
      }
    },
    {
      "cell_type": "markdown",
      "source": [
        "以下では、07から08までの問の答えを用意して`order`関数を作成し、実行結果を確認している。`cos`関数をそのまま実行すると`print`文が実行されてしまうので、`cos2`関数を用意してプリントされないようにしている。"
      ],
      "metadata": {
        "id": "Hy5s8YGkGf5J"
      }
    },
    {
      "cell_type": "code",
      "source": [
        "def cos2(pu, xi):\n",
        "    \"\"\"\n",
        "    コサイン類似度関数：ユーザプロファイルpuとアイテムiの特徴ベクトルxiのコサイン類似度を返す。\n",
        "\n",
        "    Parameters\n",
        "    ----------\n",
        "    pu : ndarray\n",
        "        ユーザuのユーザプロファイル\n",
        "    xi : ndarray\n",
        "        アイテムiの特徴ベクトル\n",
        "\n",
        "    Returns\n",
        "    -------\n",
        "    float\n",
        "        コサイン類似度\n",
        "    \"\"\"\n",
        "    num = pu@xi\n",
        "    den_u = np.linalg.norm(pu, ord=2)\n",
        "    den_i = np.linalg.norm(xi, ord=2)\n",
        "    \n",
        "    cosine = num / (den_u * den_i)\n",
        "    return cosine"
      ],
      "metadata": {
        "id": "yl6PtfAdI1Zx"
      },
      "execution_count": 61,
      "outputs": []
    },
    {
      "cell_type": "code",
      "source": [
        "def score(u, i):\n",
        "    \"\"\"\n",
        "    スコア関数：ユーザuのアイテムiに対するスコアを返す。\n",
        "\n",
        "    Parameters\n",
        "    ----------\n",
        "    u : int\n",
        "        ユーザuのID（ダミー）\n",
        "    i : int\n",
        "        アイテムiのID\n",
        "\n",
        "    Returns\n",
        "    -------\n",
        "    float\n",
        "        スコア\n",
        "    \"\"\"\n",
        "    return cos2(pu, x[i])"
      ],
      "metadata": {
        "id": "tlmEL4_sAJf9"
      },
      "execution_count": 62,
      "outputs": []
    },
    {
      "cell_type": "code",
      "source": [
        "def order(u, I):\n",
        "    \"\"\"\n",
        "    順序付け関数：アイテム集合Iにおいて、ユーザu向けの推薦リストを返す。\n",
        "\n",
        "    Parameters\n",
        "    ----------\n",
        "    u : int\n",
        "        ユーザuのID\n",
        "    I : ndarray\n",
        "        アイテム集合\n",
        "\n",
        "    Returns\n",
        "    -------\n",
        "    list\n",
        "        タプル(アイテムID: スコア)を要素にした推薦リスト\n",
        "    \"\"\"\n",
        "    scores = {i: score(u, i) for i in I}\n",
        "    print('scores = ')\n",
        "    pprint.pprint(scores)\n",
        "    rec_list = sorted(scores.items(), key=lambda x:x[1], reverse=True)[:TOP_K]\n",
        "    return rec_list"
      ],
      "metadata": {
        "id": "MY0sMEfUGlRb"
      },
      "execution_count": 63,
      "outputs": []
    },
    {
      "cell_type": "code",
      "source": [
        "u = 0\n",
        "rec_list = order(u, Iu_not)\n",
        "print('rec_list = ')\n",
        "for i, scr in rec_list:\n",
        "    print('{}: {:.3f}'.format(i, scr))"
      ],
      "metadata": {
        "colab": {
          "base_uri": "https://localhost:8080/"
        },
        "id": "pRZJkYhLIAj1",
        "outputId": "fe059fbc-4496-4d56-c64d-535d0921c097"
      },
      "execution_count": 64,
      "outputs": [
        {
          "output_type": "stream",
          "name": "stdout",
          "text": [
            "scores = \n",
            "{7: 0.9965457582448796,\n",
            " 8: 0.9832820049844603,\n",
            " 9: 0.9656157585206697,\n",
            " 10: 0.8541985556144386,\n",
            " 11: 0.783110847498294,\n",
            " 12: 0.9191450300180578}\n",
            "rec_list = \n",
            "7: 0.997\n",
            "8: 0.983\n",
            "9: 0.966\n"
          ]
        }
      ]
    },
    {
      "cell_type": "markdown",
      "source": [
        "## 第4章 $k$近傍法"
      ],
      "metadata": {
        "id": "T4udvuXkLutD"
      }
    },
    {
      "cell_type": "markdown",
      "source": [
        "準備"
      ],
      "metadata": {
        "id": "IyKPfoNHMBMV"
      }
    },
    {
      "cell_type": "code",
      "source": [
        "import pprint\n",
        "import numpy as np\n",
        "np.set_printoptions(precision=3)\n",
        "\n",
        "# 上位K件\n",
        "TOP_K = 3\n",
        "# 近傍アイテム数\n",
        "K_ITEMS = 3\n",
        "# しきい値\n",
        "THETA = 0\n",
        "\n",
        "Du = np.array([\n",
        "               [5, 3, +1],\n",
        "               [6, 2, +1],\n",
        "               [4, 1, +1],\n",
        "               [8, 5, -1],\n",
        "               [2, 4, -1],\n",
        "               [3, 6, -1],\n",
        "               [7, 6, -1],\n",
        "               [4, 2, np.nan],\n",
        "               [5, 1, np.nan],\n",
        "               [8, 6, np.nan],\n",
        "               [3, 4, np.nan],\n",
        "               [4, 7, np.nan],\n",
        "               [4, 4, np.nan],\n",
        "])\n",
        "I = np.arange(Du.shape[0])\n",
        "x = Du[:,:-1]\n",
        "ru = Du[:,-1]\n",
        "\n",
        "Iu = I[~np.isnan(ru)]\n",
        "Iup = I[ru==+1]\n",
        "Iun = I[ru==-1]\n",
        "Iu_not = np.setdiff1d(I, Iu)"
      ],
      "metadata": {
        "id": "hXZlZmB-MDEw"
      },
      "execution_count": 65,
      "outputs": []
    },
    {
      "cell_type": "markdown",
      "source": [
        "## 距離"
      ],
      "metadata": {
        "id": "dRODLRDZMRDG"
      }
    },
    {
      "cell_type": "markdown",
      "source": [
        "### 01 ユークリッド距離"
      ],
      "metadata": {
        "id": "CKFn_S7fMIFi"
      }
    },
    {
      "cell_type": "markdown",
      "source": [
        "この問題では、一部コードを与えられた関数`dist`を完成させる。`dist`では2つのベクトルを入力としてそのユークリッド距離を返すものなので、2つのベクトルの差に対して`np.linalg.norm`を使えばよいはずだ。"
      ],
      "metadata": {
        "id": "OzhrlSNQMMnX"
      }
    },
    {
      "cell_type": "code",
      "source": [
        "def dist(xi, xj):\n",
        "    \"\"\"\n",
        "    距離関数：アイテムiの特徴ベクトルxiとアイテムjの特徴ベクトルxjのユークリッド距離を返す。\n",
        "\n",
        "    Parameters\n",
        "    ----------\n",
        "    xi : ndarray\n",
        "        アイテムiの特徴ベクトル\n",
        "    xj : ndarray\n",
        "        アイテムjの特徴ベクトル\n",
        "\n",
        "    Returns\n",
        "    -------\n",
        "    float\n",
        "        ユークリッド距離\n",
        "    \"\"\"\n",
        "    distance = np.linalg.norm(xi-xj, ord = 2)\n",
        "    return distance"
      ],
      "metadata": {
        "id": "efIJq3UaMFhF"
      },
      "execution_count": 66,
      "outputs": []
    },
    {
      "cell_type": "code",
      "source": [
        "i = 7\n",
        "j = 2\n",
        "print(f'dist(x{i}, x{j}) = {dist(x[i], x[j]):.3f}')\n",
        "i = 7\n",
        "j = 3\n",
        "print(f'dist(x{i}, x{j}) = {dist(x[i], x[j]):.3f}')"
      ],
      "metadata": {
        "colab": {
          "base_uri": "https://localhost:8080/"
        },
        "id": "Ur_UAdxSNBJc",
        "outputId": "59b9a7f5-81c7-4913-d92c-66d5ab9f8526"
      },
      "execution_count": 67,
      "outputs": [
        {
          "output_type": "stream",
          "name": "stdout",
          "text": [
            "dist(x7, x2) = 1.000\n",
            "dist(x7, x3) = 5.000\n"
          ]
        }
      ]
    },
    {
      "cell_type": "markdown",
      "source": [
        "## 近傍アイテム"
      ],
      "metadata": {
        "id": "vZPHyaMXNRxx"
      }
    },
    {
      "cell_type": "markdown",
      "source": [
        "### 02 アイテム-アイテム距離行列"
      ],
      "metadata": {
        "id": "0WgsXn3ZMNh5"
      }
    },
    {
      "cell_type": "markdown",
      "source": [
        "`Iu`と`Iu_not`の両方からアイテムを取り出し、アイテムの持つベクトルの距離を`dist`関数を使って求める問題である。とりあえず`np.array()`により2重内包表記の結果を包むことで答えと同じものが返ってくるようにはしたけど、題意的には正解と言いがたいかもしれない。あと、正直`D[np.ix_(Iu_not,Iu)]`がよくわかっていない。"
      ],
      "metadata": {
        "id": "SgJcjGXyMNh5"
      }
    },
    {
      "cell_type": "code",
      "source": [
        "D = np.array([[dist(x[i], x[j]) for i in Iu] for j in Iu_not])\n",
        "print(f'D = \\n{D}')"
      ],
      "metadata": {
        "colab": {
          "base_uri": "https://localhost:8080/"
        },
        "id": "IlTR5APHNd21",
        "outputId": "0695672a-8d7f-4bbb-e832-0eaf269a7f8a"
      },
      "execution_count": 68,
      "outputs": [
        {
          "output_type": "stream",
          "name": "stdout",
          "text": [
            "D = \n",
            "[[1.414 2.    1.    5.    2.828 4.123 5.   ]\n",
            " [2.    1.414 1.    5.    4.243 5.385 5.385]\n",
            " [4.243 4.472 6.403 1.    6.325 5.    1.   ]\n",
            " [2.236 3.606 3.162 5.099 1.    2.    4.472]\n",
            " [4.123 5.385 6.    4.472 3.606 1.414 3.162]\n",
            " [1.414 2.828 3.    4.123 2.    2.236 3.606]]\n"
          ]
        }
      ]
    },
    {
      "cell_type": "markdown",
      "source": [
        "### 03 距離の昇順に並べ替えたインデックスの配列"
      ],
      "metadata": {
        "id": "55NIcUGoMNvg"
      }
    },
    {
      "cell_type": "markdown",
      "source": [
        "`x`の各行`xindex`と`Iu`に含まれる各アイテム`iu`の持つベクトル`x[iu]`の距離を求めて02と同じように`ndarray`に変換し、`argsort`によって昇順に番号をつけることで望みの結果を得た。"
      ],
      "metadata": {
        "id": "nsXrAtBeMNvh"
      }
    },
    {
      "cell_type": "code",
      "source": [
        "Ii = np.array([[dist(xindex, x[iu]) for iu in Iu] for xindex in x]).argsort()\n",
        "print(f'Ii = \\n{Ii}')"
      ],
      "metadata": {
        "colab": {
          "base_uri": "https://localhost:8080/"
        },
        "id": "eqxjf1-sMNvh",
        "outputId": "cbc1300f-1415-4420-92bd-f097f5e97695"
      },
      "execution_count": 69,
      "outputs": [
        {
          "output_type": "stream",
          "name": "stdout",
          "text": [
            "Ii = \n",
            "[[0 1 2 4 3 5 6]\n",
            " [1 0 2 3 6 4 5]\n",
            " [2 0 1 4 5 3 6]\n",
            " [3 6 0 1 5 2 4]\n",
            " [4 5 0 2 1 6 3]\n",
            " [5 4 0 6 1 2 3]\n",
            " [6 3 0 5 1 4 2]\n",
            " [2 0 1 4 5 3 6]\n",
            " [2 1 0 4 3 5 6]\n",
            " [3 6 0 1 5 4 2]\n",
            " [4 5 0 2 1 6 3]\n",
            " [5 6 4 0 3 1 2]\n",
            " [0 4 5 1 2 6 3]]\n"
          ]
        }
      ]
    },
    {
      "cell_type": "markdown",
      "source": [
        "### 04 近傍$k$件のアイテムのインデックス配列"
      ],
      "metadata": {
        "id": "h84vSUzeMN4T"
      }
    },
    {
      "cell_type": "markdown",
      "source": [
        "Iiの結果に対して、スライシングすることで最初の`TOP_K`列分だけを抽出する。これを使って評価値が`+1`だったアイテムと近いアイテムがどれであったかを確認することができる。各行の持つ数値の中に3以上のものがあったのならば、「嫌い」と評価したアイテムが最近傍の3件に含まれていることを示している。"
      ],
      "metadata": {
        "id": "4r7XwQyCMN4T"
      }
    },
    {
      "cell_type": "code",
      "source": [
        "Ii = Ii[:, :TOP_K]\n",
        "print(f'Ii = \\n{Ii}')"
      ],
      "metadata": {
        "colab": {
          "base_uri": "https://localhost:8080/"
        },
        "id": "wLQFRJIXMN4T",
        "outputId": "4071d959-ddea-43d0-d323-d02a8a9c1168"
      },
      "execution_count": 70,
      "outputs": [
        {
          "output_type": "stream",
          "name": "stdout",
          "text": [
            "Ii = \n",
            "[[0 1 2]\n",
            " [1 0 2]\n",
            " [2 0 1]\n",
            " [3 6 0]\n",
            " [4 5 0]\n",
            " [5 4 0]\n",
            " [6 3 0]\n",
            " [2 0 1]\n",
            " [2 1 0]\n",
            " [3 6 0]\n",
            " [4 5 0]\n",
            " [5 6 4]\n",
            " [0 4 5]]\n"
          ]
        }
      ]
    },
    {
      "cell_type": "markdown",
      "source": [
        "### 05 各対象アイテムの近傍アイテム集合"
      ],
      "metadata": {
        "id": "rafumhOZMPDr"
      }
    },
    {
      "cell_type": "markdown",
      "source": [
        "`Iu_not`からアイテムをとってきて、保存した`Ii`からアイテムで行を指定して抽出することを考える。"
      ],
      "metadata": {
        "id": "0A-ukDPtMPDr"
      }
    },
    {
      "cell_type": "code",
      "source": [
        "Ii = {i: Ii[i] for i in Iu_not}\n",
        "print('Ii = ')\n",
        "pprint.pprint(Ii)"
      ],
      "metadata": {
        "colab": {
          "base_uri": "https://localhost:8080/"
        },
        "id": "L5ZPnFqLMPDs",
        "outputId": "de056a4e-effa-486a-816a-7b051a73cde3"
      },
      "execution_count": 71,
      "outputs": [
        {
          "output_type": "stream",
          "name": "stdout",
          "text": [
            "Ii = \n",
            "{7: array([2, 0, 1]),\n",
            " 8: array([2, 1, 0]),\n",
            " 9: array([3, 6, 0]),\n",
            " 10: array([4, 5, 0]),\n",
            " 11: array([5, 6, 4]),\n",
            " 12: array([0, 4, 5])}\n"
          ]
        }
      ]
    },
    {
      "cell_type": "markdown",
      "source": [
        "## 嗜好予測（多数決方式）"
      ],
      "metadata": {
        "id": "78OPZ1m7Xjci"
      }
    },
    {
      "cell_type": "markdown",
      "source": [
        "### 06 近傍アイテム集合のうち「好き」と評価したアイテム集合"
      ],
      "metadata": {
        "id": "--nz9AVRcVOQ"
      }
    },
    {
      "cell_type": "markdown",
      "source": [
        "ここでは、06から08の問題を解いて一部コードを与えられた関数`predict1`を完成させる。"
      ],
      "metadata": {
        "id": "_WAw4stucWZj"
      }
    },
    {
      "cell_type": "markdown",
      "source": [
        "06では、`Ii[i]`に`np.isin()`を使ったインデキシングをすることで答えを得る。`Ii[i]`はアイテム集合のうち、距離が近かったアイテム3件の中に「好き」と評価したアイテムが入っているかどうかを判断するための数値が入っている。"
      ],
      "metadata": {
        "id": "R3Am7EsPcWV0"
      }
    },
    {
      "cell_type": "markdown",
      "source": [
        "### 07 近傍アイテム集合のうち「嫌い」と評価したアイテム集合"
      ],
      "metadata": {
        "id": "sNREtaoGcWIT"
      }
    },
    {
      "cell_type": "markdown",
      "source": [
        "07では、06と同様の方法で答えを得ることができる。"
      ],
      "metadata": {
        "id": "xfzLXn9TcWBv"
      }
    },
    {
      "cell_type": "markdown",
      "source": [
        "### 08 多数決方式による予測評価値"
      ],
      "metadata": {
        "id": "krpYhB7lcVoD"
      }
    },
    {
      "cell_type": "markdown",
      "source": [
        "`Iip`と`Iin`に対して`np.size()`を使うことで$i$の近傍アイテム集合中に「好き」と評価したアイテムがいくつあるか、「嫌い」と評価したアイテムがいくつあるかがわかるので、その結果に対して素直にif文を使ってあげればよい。"
      ],
      "metadata": {
        "id": "yVLM7oi3hUD-"
      }
    },
    {
      "cell_type": "code",
      "source": [
        "def predict1(u, i):\n",
        "    \"\"\"\n",
        "    予測関数（多数決方式）：多数決方式によりユーザuのアイテムiに対する予測評価値を返す。\n",
        "\n",
        "    Parameters\n",
        "    ----------\n",
        "    u : int\n",
        "        ユーザuのID（ダミー）\n",
        "    i : int\n",
        "        アイテムiのID\n",
        "\n",
        "    Returns\n",
        "    -------\n",
        "    float\n",
        "        予測評価値\n",
        "    \"\"\"\n",
        "    Iip = Ii[i][np.isin(Ii[i], Iup)]\n",
        "    print(f'I{i}+ = {Iip}')\n",
        "    Iin = Ii[i][np.isin(Ii[i], Iun)]\n",
        "    print(f'I{i}- = {Iin}')\n",
        "    if Iip.size > Iin.size:\n",
        "        rui = 1\n",
        "    elif Iip.size < Iin.size:\n",
        "        rui = -1\n",
        "    else:\n",
        "        rui = 0\n",
        "    return rui"
      ],
      "metadata": {
        "id": "m1m2SaIlTBOz"
      },
      "execution_count": 72,
      "outputs": []
    },
    {
      "cell_type": "code",
      "source": [
        "u = 0\n",
        "i = 7\n",
        "print(f'predict1({u}, {i}) = {predict1(u, i):.3f}')\n",
        "u = 0\n",
        "i = 9\n",
        "print(f'predict1({u}, {i}) = {predict1(u, i):.3f}')"
      ],
      "metadata": {
        "colab": {
          "base_uri": "https://localhost:8080/"
        },
        "id": "2de6Au97Zq8A",
        "outputId": "fe511058-0568-4143-c8b2-0df1d5584655"
      },
      "execution_count": 73,
      "outputs": [
        {
          "output_type": "stream",
          "name": "stdout",
          "text": [
            "I7+ = [2 0 1]\n",
            "I7- = []\n",
            "predict1(0, 7) = 1.000\n",
            "I9+ = [0]\n",
            "I9- = [3 6]\n",
            "predict1(0, 9) = -1.000\n"
          ]
        }
      ]
    },
    {
      "cell_type": "markdown",
      "source": [
        "## 嗜好予測（平均方式）"
      ],
      "metadata": {
        "id": "YwIPxXchjZ9_"
      }
    },
    {
      "cell_type": "markdown",
      "source": [
        "### 09 平均方式による予測評価値"
      ],
      "metadata": {
        "id": "KzOTlh9EjdPH"
      }
    },
    {
      "cell_type": "markdown",
      "source": [
        "06から08で完成させた関数`predict1`を参考に、`rui`の部分を平均方式に修正したものを関数`predict2`として作成する。"
      ],
      "metadata": {
        "id": "cl8DcgASpc53"
      }
    },
    {
      "cell_type": "code",
      "source": [
        "def predict2(u, i):\n",
        "    \"\"\"\n",
        "    予測関数（多数決方式）：多数決方式によりユーザuのアイテムiに対する予測評価値を返す。\n",
        "\n",
        "    Parameters\n",
        "    ----------\n",
        "    u : int\n",
        "        ユーザuのID（ダミー）\n",
        "    i : int\n",
        "        アイテムiのID\n",
        "\n",
        "    Returns\n",
        "    -------\n",
        "    float\n",
        "        予測評価値\n",
        "    \"\"\"\n",
        "    Iip = Ii[i][np.isin(Ii[i], Iup)]\n",
        "    Iin = Ii[i][np.isin(Ii[i], Iun)]\n",
        "    rui = (Iip.size - Iin.size)/K_ITEMS\n",
        "    return rui"
      ],
      "metadata": {
        "id": "biQetyaoOOd4"
      },
      "execution_count": 74,
      "outputs": []
    },
    {
      "cell_type": "code",
      "source": [
        "u = 0\n",
        "i = 7\n",
        "print(f'predict2({u}, {i}) = {predict1(u, i):.3f}')\n",
        "u = 0\n",
        "i = 9\n",
        "print(f'predict2({u}, {i}) = {predict1(u, i):.3f}')"
      ],
      "metadata": {
        "colab": {
          "base_uri": "https://localhost:8080/"
        },
        "id": "LPaJMkA1dfXK",
        "outputId": "1b371ff9-3e23-4ed8-9b30-5a562b0a46f6"
      },
      "execution_count": 75,
      "outputs": [
        {
          "output_type": "stream",
          "name": "stdout",
          "text": [
            "I7+ = [2 0 1]\n",
            "I7- = []\n",
            "predict2(0, 7) = 1.000\n",
            "I9+ = [0]\n",
            "I9- = [3 6]\n",
            "predict2(0, 9) = -1.000\n"
          ]
        }
      ]
    },
    {
      "cell_type": "markdown",
      "source": [
        "## 推薦"
      ],
      "metadata": {
        "id": "ckQpRjtKqfse"
      }
    },
    {
      "cell_type": "markdown",
      "source": [
        "### 10 推薦リスト"
      ],
      "metadata": {
        "id": "pOPn6npfqkMP"
      }
    },
    {
      "cell_type": "markdown",
      "source": [
        "ここでは、問10を解いて一部コードを与えられた関数`order`を完成させる。そのために、`scores`に格納された値`score(u, i)`が`THETA`未満になるようなペアを除くための工夫を考える。"
      ],
      "metadata": {
        "id": "Hkhxa5CXqq2f"
      }
    },
    {
      "cell_type": "markdown",
      "source": [
        "問題の指定から`score`は`predict2`関数で作るものとして、`scores`の部分をいじる必要がある。ここでは辞書内包表記の中でif文を用いることによって`THETA`未満の値をすべて削除することを考える。"
      ],
      "metadata": {
        "id": "Cvyd0Iptu2hJ"
      }
    },
    {
      "cell_type": "code",
      "source": [
        "def score(u, i):\n",
        "    \"\"\"\n",
        "    スコア関数：ユーザuのアイテムiに対するスコアを返す。\n",
        "\n",
        "    Parameters\n",
        "    ----------\n",
        "    u : int\n",
        "        ユーザuのID\n",
        "    i : int\n",
        "        アイテムiのID\n",
        "\n",
        "    Returns\n",
        "    -------\n",
        "    float\n",
        "        スコア\n",
        "    \"\"\"\n",
        "    return predict2(u, i)"
      ],
      "metadata": {
        "id": "pvNMzgRJOMb7"
      },
      "execution_count": 76,
      "outputs": []
    },
    {
      "cell_type": "code",
      "source": [
        "def order(u, I):\n",
        "    \"\"\"\n",
        "    順序付け関数：アイテム集合Iにおいて、ユーザu向けの推薦リストを返す。\n",
        "\n",
        "    Parameters\n",
        "    ----------\n",
        "    u : int\n",
        "        ユーザuのID\n",
        "    I : ndarray\n",
        "        アイテム集合\n",
        "\n",
        "    Returns\n",
        "    -------\n",
        "    list\n",
        "        タプル(アイテムID: スコア)を要素にした推薦リスト\n",
        "    \"\"\"\n",
        "    scores = {i: score(u, i) for i in I if score(u, i) >= THETA}\n",
        "    rec_list = sorted(scores.items(), key=lambda x:x[1], reverse=True)[:TOP_K]\n",
        "    return rec_list"
      ],
      "metadata": {
        "id": "WbFooKF1doQ9"
      },
      "execution_count": 77,
      "outputs": []
    },
    {
      "cell_type": "code",
      "source": [
        "u = 0\n",
        "rec_list = order(u, Iu_not)\n",
        "print('rec_list = ')\n",
        "for i, scr in rec_list:\n",
        "    print('{}: {:.3f}'.format(i, scr))"
      ],
      "metadata": {
        "colab": {
          "base_uri": "https://localhost:8080/"
        },
        "id": "EV5OAq6Vdq18",
        "outputId": "2f81483a-9868-42f1-b306-43ecccabef25"
      },
      "execution_count": 78,
      "outputs": [
        {
          "output_type": "stream",
          "name": "stdout",
          "text": [
            "rec_list = \n",
            "7: 1.000\n",
            "8: 1.000\n"
          ]
        }
      ]
    },
    {
      "cell_type": "markdown",
      "source": [
        "## 第5章 ユーザベース協調フィルタリング"
      ],
      "metadata": {
        "id": "t2P3hSAlPWeo"
      }
    },
    {
      "cell_type": "markdown",
      "source": [
        "準備"
      ],
      "metadata": {
        "id": "MgUbpy5XPmWX"
      }
    },
    {
      "cell_type": "code",
      "source": [
        "import pprint\n",
        "import numpy as np\n",
        "np.set_printoptions(precision=3)\n",
        "\n",
        "# 近傍ユーザ数\n",
        "K_USERS = 3\n",
        "# 閾値\n",
        "THETA = 0\n",
        "\n",
        "R = np.array([\n",
        "              [np.nan, 4,      3,      1,      2,      np.nan],\n",
        "              [5,      5,      4,      np.nan, 3,      3     ],\n",
        "              [4,      np.nan, 5,      3,      2,      np.nan],\n",
        "              [np.nan, 3,      np.nan, 2,      1,      1     ],\n",
        "              [2,      1,      2,      4,      np.nan, 3     ],\n",
        "])\n",
        "U = np.arange(R.shape[0])\n",
        "I = np.arange(R.shape[1])\n",
        "Ui = [U[~np.isnan(R)[:,i]] for i in I]\n",
        "Iu = [I[~np.isnan(R)[u,:]] for u in U]\n",
        "ru_mean = np.nanmean(R, axis=1)\n",
        "R2 = R - ru_mean.reshape((ru_mean.size, 1))"
      ],
      "metadata": {
        "id": "17rmtqRFPp2w"
      },
      "execution_count": 79,
      "outputs": []
    },
    {
      "cell_type": "markdown",
      "source": [
        "## ピアソンの相関係数"
      ],
      "metadata": {
        "id": "RynhfdtxyU-8"
      }
    },
    {
      "cell_type": "markdown",
      "source": [
        "### 01 ピアソンの相関係数（分子）"
      ],
      "metadata": {
        "id": "ln_606txSO3b"
      }
    },
    {
      "cell_type": "markdown",
      "source": [
        "以下では、01から03の問題を解いて一部コードを与えられた関数`pearson1`を完成させる。"
      ],
      "metadata": {
        "id": "i-dPHiTiSXsB"
      }
    },
    {
      "cell_type": "markdown",
      "source": [
        "01はピアソンの相関係数の分子を、取得した各ベクトルから計算するというものである。`Iuv`は、ユーザ$u$やユーザ$v$による評価値が存在する列のみを集めた`Iu[u]`や`Iu[v]`の共通項をとることで比較可能なアイテムの評価を取得したものである。これに対し、各ユーザの評価を平均したものを作って差をとり、内積を計算すればよい。"
      ],
      "metadata": {
        "id": "H4qfXtJ6SRuf"
      }
    },
    {
      "cell_type": "markdown",
      "source": [
        "### 02 ピアソンの相関係数の算出（分母左部）"
      ],
      "metadata": {
        "id": "BwxFUbt2aTK2"
      }
    },
    {
      "cell_type": "markdown",
      "source": [
        "内積を作る際に作ったユーザ$u$に関するベクトルを`rui`として、それに対して`np.linalg.norm(uri, ord = 2)`を使ってあげればよい。"
      ],
      "metadata": {
        "id": "vmcQ9RidaSjx"
      }
    },
    {
      "cell_type": "markdown",
      "source": [
        "### 03 ピアソンの相関係数の算出（分母右部）"
      ],
      "metadata": {
        "id": "eQRMeqjGaSMB"
      }
    },
    {
      "cell_type": "markdown",
      "source": [
        "内積を作る際に作ったユーザ$v$に関するベクトルを`rvi`として、それに対して`np.linalg.norm(uvi, ord = 2)`を使ってあげればよい。"
      ],
      "metadata": {
        "id": "btsRr55YaSCi"
      }
    },
    {
      "cell_type": "code",
      "source": [
        "def pearson1(u, v):\n",
        "    \"\"\"\n",
        "    評価値行列Rにおけるユーザuとユーザvのピアソンの相関係数を返す。\n",
        "\n",
        "    Parameters\n",
        "    ----------\n",
        "    u : int\n",
        "        ユーザuのID\n",
        "    v : int\n",
        "        ユーザvのID\n",
        "\n",
        "    Returns\n",
        "    -------\n",
        "    float\n",
        "        ピアソンの相関係数\n",
        "    \"\"\"\n",
        "    Iuv = np.intersect1d(Iu[u], Iu[v])\n",
        "    # R[u][Iu[u]]とR[v][Iu[v]]のIu[u]とIu[v]の部分をIuvにしてしまい時間を溶かした。\n",
        "    # ユーザの評価はすべて平均に反映する点に注意が必要かも。\n",
        "    rui = R[u][Iuv] - R[u][Iu[u]].mean()\n",
        "    rvi = R[v][Iuv] - R[v][Iu[v]].mean()\n",
        "    num = np.dot(rui, rvi)\n",
        "    print(f'num = {num}')\n",
        "    den_u = np.linalg.norm(rui, ord = 2)\n",
        "    print(f'den_u = {den_u:.3f}')\n",
        "    den_v = np.linalg.norm(rvi, ord = 2)\n",
        "    print(f'den_v = {den_v:.3f}')\n",
        "    \n",
        "    prsn = num / (den_u * den_v)\n",
        "    return prsn"
      ],
      "metadata": {
        "id": "0XO3X-KmQb3j"
      },
      "execution_count": 80,
      "outputs": []
    },
    {
      "cell_type": "code",
      "source": [
        "u = 0\n",
        "v = 1\n",
        "prsn = pearson1(u, v)\n",
        "print(f'pearson1({u}, {v}) = {prsn:.3f}')"
      ],
      "metadata": {
        "colab": {
          "base_uri": "https://localhost:8080/"
        },
        "id": "HoTKY21RQtvx",
        "outputId": "c5bf4671-3257-4219-bd1f-7ab1e752613c"
      },
      "execution_count": 81,
      "outputs": [
        {
          "output_type": "stream",
          "name": "stdout",
          "text": [
            "num = 2.0\n",
            "den_u = 1.658\n",
            "den_v = 1.414\n",
            "pearson1(0, 1) = 0.853\n"
          ]
        }
      ]
    },
    {
      "cell_type": "markdown",
      "source": [
        "## 平均中心化評価値行列に基づくピアソンの相関係数"
      ],
      "metadata": {
        "id": "1CfsfA69ycap"
      }
    },
    {
      "cell_type": "markdown",
      "source": [
        "### 04 ピアソンの相関係数（分子）"
      ],
      "metadata": {
        "id": "VwxfccryS6Me"
      }
    },
    {
      "cell_type": "markdown",
      "source": [
        "以下では、04から06の問題を解いて一部コードを与えられた関数`pearson2`を完成させる。"
      ],
      "metadata": {
        "id": "dd4YvA1mS6Mf"
      }
    },
    {
      "cell_type": "markdown",
      "source": [
        "04は01と同じようにピアソンの相関係数の分子を、取得した各ベクトルから計算するというものである。`R`でなく`R2`を利用するところが大きな変更点となる。"
      ],
      "metadata": {
        "id": "aFnVrqryS6Mf"
      }
    },
    {
      "cell_type": "markdown",
      "source": [
        "### 05 ピアソンの相関係数の算出（分母左部）"
      ],
      "metadata": {
        "id": "s56AnvGLS6Mf"
      }
    },
    {
      "cell_type": "markdown",
      "source": [
        "内積を作る際に作ったユーザ$u$に関するベクトルを`rui`として、それに対して`np.linalg.norm(uri, ord = 2)`を使ってあげればよい。02と違い、`R2`を使う点がポイントとなっている。"
      ],
      "metadata": {
        "id": "w3pO6vqqS6Mf"
      }
    },
    {
      "cell_type": "markdown",
      "source": [
        "### 06 ピアソンの相関係数の算出（分母右部）"
      ],
      "metadata": {
        "id": "dbY0rdx3S6Mf"
      }
    },
    {
      "cell_type": "markdown",
      "source": [
        "03と同様に内積を作る際に作ったユーザ$v$に関するベクトルを`rvi`として、それに対して`np.linalg.norm(uvi, ord = 2)`を使ってあげればよい。`R2`を使う点がポイント。"
      ],
      "metadata": {
        "id": "JTPuo3SRS6Mf"
      }
    },
    {
      "cell_type": "code",
      "source": [
        "def pearson2(u, v):\n",
        "    \"\"\"\n",
        "    平均中心化評価値行列R2におけるユーザuとユーザvのピアソンの相関係数を返す。\n",
        "\n",
        "    Parameters\n",
        "    ----------\n",
        "    u : int\n",
        "        ユーザuのID\n",
        "    v : int\n",
        "        ユーザvのID\n",
        "\n",
        "    Returns\n",
        "    -------\n",
        "    float\n",
        "        ピアソンの相関係数\n",
        "    \"\"\"\n",
        "    Iuv = np.intersect1d(Iu[u], Iu[v])\n",
        "    \n",
        "    rui = R2[u][Iuv]\n",
        "    rvi = R2[v][Iuv]\n",
        "    num = np.dot(rui, rvi)\n",
        "    print('num = {}'.format(num))\n",
        "    den_u = np.linalg.norm(rui, ord = 2)\n",
        "    print('den_u = {:.3f}'.format(den_u))\n",
        "    den_v = np.linalg.norm(rvi, ord = 2)\n",
        "    print('den_v = {:.3f}'.format(den_v))\n",
        "\n",
        "    prsn = num / (den_u * den_v)\n",
        "    return prsn"
      ],
      "metadata": {
        "id": "QnBn1S0XQ1yH"
      },
      "execution_count": 82,
      "outputs": []
    },
    {
      "cell_type": "code",
      "source": [
        "u = 0\n",
        "v = 1\n",
        "prsn = pearson2(u, v)\n",
        "print(f'pearson2({u}, {v}) = {prsn:.3f}')"
      ],
      "metadata": {
        "colab": {
          "base_uri": "https://localhost:8080/"
        },
        "id": "DikKLT-NQ4h6",
        "outputId": "6edfa94f-186f-4d14-e11e-13127e059698"
      },
      "execution_count": 83,
      "outputs": [
        {
          "output_type": "stream",
          "name": "stdout",
          "text": [
            "num = 2.0\n",
            "den_u = 1.658\n",
            "den_v = 1.414\n",
            "pearson2(0, 1) = 0.853\n"
          ]
        }
      ]
    },
    {
      "cell_type": "markdown",
      "source": [
        "## ユーザ-ユーザ類似度行列"
      ],
      "metadata": {
        "id": "_xPbdvruUwoX"
      }
    },
    {
      "cell_type": "markdown",
      "source": [
        "### 07 ユーザ-ユーザ類似度行列"
      ],
      "metadata": {
        "id": "e6m3edi4U3by"
      }
    },
    {
      "cell_type": "markdown",
      "source": [
        "ユーザ対ユーザについてその相関係数を`R2`によって計算するという問題。内包表記で2重リストを作って、`np.array()`すればよさそう。以下では、それらに加えて関数`sim`で利用するのが関数`pearson2`だと各種`print`が発生する問題があったのでそれを取り除いた関数`pearson3`を別途作って対応した。"
      ],
      "metadata": {
        "id": "KXMNA7UYU61w"
      }
    },
    {
      "cell_type": "code",
      "source": [
        "def pearson3(u, v):\n",
        "    \"\"\"\n",
        "    平均中心化評価値行列R2におけるユーザuとユーザvのピアソンの相関係数を返す。\n",
        "\n",
        "    Parameters\n",
        "    ----------\n",
        "    u : int\n",
        "        ユーザuのID\n",
        "    v : int\n",
        "        ユーザvのID\n",
        "\n",
        "    Returns\n",
        "    -------\n",
        "    float\n",
        "        ピアソンの相関係数\n",
        "    \"\"\"\n",
        "    Iuv = np.intersect1d(Iu[u], Iu[v])\n",
        "    \n",
        "    rui = R2[u][Iuv]\n",
        "    rvi = R2[v][Iuv]\n",
        "    num = np.dot(rui, rvi)\n",
        "    den_u = np.linalg.norm(rui, ord = 2)\n",
        "    den_v = np.linalg.norm(rvi, ord = 2)\n",
        "\n",
        "    prsn = num / (den_u * den_v)\n",
        "    return prsn"
      ],
      "metadata": {
        "id": "NBoha84lW9UK"
      },
      "execution_count": 84,
      "outputs": []
    },
    {
      "cell_type": "code",
      "source": [
        "def sim(u, v):\n",
        "    \"\"\"\n",
        "    ユーザ類似度関数：ユーザuとユーザvのユーザ類似度を返す。\n",
        "\n",
        "    Parameters\n",
        "    ----------\n",
        "    u : int\n",
        "        ユーザuのID\n",
        "    v : int\n",
        "        ユーザvのID\n",
        "\n",
        "    Returns\n",
        "    -------\n",
        "    float\n",
        "        ユーザ類似度\n",
        "    \"\"\"\n",
        "    return pearson3(u, v)"
      ],
      "metadata": {
        "id": "YPufGdEAU0qU"
      },
      "execution_count": 85,
      "outputs": []
    },
    {
      "cell_type": "code",
      "source": [
        "S = np.array([[sim (u, v) for u in U] for v in U])\n",
        "print(f'S = \\n{S}')"
      ],
      "metadata": {
        "colab": {
          "base_uri": "https://localhost:8080/"
        },
        "id": "gQeYm8nEVRjq",
        "outputId": "e9c75267-c20f-4700-a1da-a11fc52fad3b"
      },
      "execution_count": 86,
      "outputs": [
        {
          "output_type": "stream",
          "name": "stdout",
          "text": [
            "S = \n",
            "[[ 1.     0.853  0.623  0.582 -0.997]\n",
            " [ 0.853  1.     0.649  0.968 -0.853]\n",
            " [ 0.623  0.649  1.     0.8   -0.569]\n",
            " [ 0.582  0.968  0.8    1.    -0.551]\n",
            " [-0.997 -0.853 -0.569 -0.551  1.   ]]\n"
          ]
        }
      ]
    },
    {
      "cell_type": "markdown",
      "source": [
        "## 類似ユーザの選定"
      ],
      "metadata": {
        "id": "7-XrgbRmYAtL"
      }
    },
    {
      "cell_type": "markdown",
      "source": [
        "### 08 類似度上位k人のユーザ集合"
      ],
      "metadata": {
        "id": "W2Q4-bLbYD3K"
      }
    },
    {
      "cell_type": "markdown",
      "source": [
        "以下では、08と09の問題を解いて一部コードを与えられた処理について完成させる。08ではあらかじめユーザの類似度を与えた行列`S`から作った辞書が与えられていて、キーはユーザ、バリューはまた別の辞書となっていることが`Uu`からわかる。"
      ],
      "metadata": {
        "id": "MCbS14H1YcLx"
      }
    },
    {
      "cell_type": "markdown",
      "source": [
        "08では、`Uu`のバリューの中で各キーに対して格納されている辞書を類似度の順番に並べて上位`K_USERS`件のみを残すというものであるため、その辞書のソートを行う。"
      ],
      "metadata": {
        "id": "qk5wjUc2bCzB"
      }
    },
    {
      "cell_type": "markdown",
      "source": [
        "### 09 類似度がしきい値以上のユーザ集合"
      ],
      "metadata": {
        "id": "IH0yMRhUhNxc"
      }
    },
    {
      "cell_type": "markdown",
      "source": [
        "09では`Uu`のバリュー側に格納された辞書について、条件式を使ってそのバリューの値が`THETA`未満のものを除外する。"
      ],
      "metadata": {
        "id": "tVdOBIKOhQYI"
      }
    },
    {
      "cell_type": "code",
      "source": [
        "Uu = {u: {v: S[u,v] for v in U if u!=v} for u in U}\n",
        "print('Uu = ')\n",
        "pprint.pprint(Uu)\n",
        "Uu = {u: dict(sorted(Uu[u].items(), key=lambda x:x[1], reverse=True)[:K_USERS]) for u in Uu.keys()}\n",
        "print('Uu = ')\n",
        "pprint.pprint(Uu)\n",
        "Uu = {u: {v[0]: v[1] for v in Uu[u].items() if v[1] >= THETA} for u in Uu.keys()}\n",
        "print('Uu = ')\n",
        "pprint.pprint(Uu)\n",
        "Uu = {u: np.array(list(Uu[u].keys())) for u in U}\n",
        "print('Uu = ')\n",
        "pprint.pprint(Uu)"
      ],
      "metadata": {
        "colab": {
          "base_uri": "https://localhost:8080/"
        },
        "id": "14i8SJMaa7oG",
        "outputId": "d2e01bcf-29a6-4231-e254-c4b6d32fe18b"
      },
      "execution_count": 87,
      "outputs": [
        {
          "output_type": "stream",
          "name": "stdout",
          "text": [
            "Uu = \n",
            "{0: {1: 0.8528028654224417,\n",
            "     2: 0.6225430174794672,\n",
            "     3: 0.5816750507471109,\n",
            "     4: -0.9968461286620518},\n",
            " 1: {0: 0.8528028654224417,\n",
            "     2: 0.6488856845230501,\n",
            "     3: 0.9684959969581863,\n",
            "     4: -0.8528028654224418},\n",
            " 2: {0: 0.6225430174794672,\n",
            "     1: 0.6488856845230501,\n",
            "     3: 0.7999999999999998,\n",
            "     4: -0.5685352436149611},\n",
            " 3: {0: 0.5816750507471109,\n",
            "     1: 0.9684959969581863,\n",
            "     2: 0.7999999999999998,\n",
            "     4: -0.550920031004556},\n",
            " 4: {0: -0.9968461286620518,\n",
            "     1: -0.8528028654224418,\n",
            "     2: -0.5685352436149611,\n",
            "     3: -0.550920031004556}}\n",
            "Uu = \n",
            "{0: {1: 0.8528028654224417, 2: 0.6225430174794672, 3: 0.5816750507471109},\n",
            " 1: {0: 0.8528028654224417, 2: 0.6488856845230501, 3: 0.9684959969581863},\n",
            " 2: {0: 0.6225430174794672, 1: 0.6488856845230501, 3: 0.7999999999999998},\n",
            " 3: {0: 0.5816750507471109, 1: 0.9684959969581863, 2: 0.7999999999999998},\n",
            " 4: {1: -0.8528028654224418, 2: -0.5685352436149611, 3: -0.550920031004556}}\n",
            "Uu = \n",
            "{0: {1: 0.8528028654224417, 2: 0.6225430174794672, 3: 0.5816750507471109},\n",
            " 1: {0: 0.8528028654224417, 2: 0.6488856845230501, 3: 0.9684959969581863},\n",
            " 2: {0: 0.6225430174794672, 1: 0.6488856845230501, 3: 0.7999999999999998},\n",
            " 3: {0: 0.5816750507471109, 1: 0.9684959969581863, 2: 0.7999999999999998},\n",
            " 4: {}}\n",
            "Uu = \n",
            "{0: array([1, 2, 3]),\n",
            " 1: array([3, 0, 2]),\n",
            " 2: array([3, 1, 0]),\n",
            " 3: array([1, 2, 0]),\n",
            " 4: array([], dtype=float64)}\n"
          ]
        }
      ]
    },
    {
      "cell_type": "markdown",
      "source": [
        "## 嗜好予測"
      ],
      "metadata": {
        "id": "CbAMAhw0YcLy"
      }
    },
    {
      "cell_type": "markdown",
      "source": [
        "### 10 類似ユーザ集合の中でアイテムiを評価済みのユーザ集合"
      ],
      "metadata": {
        "id": "gUZFal3kjmE6"
      }
    },
    {
      "cell_type": "markdown",
      "source": [
        "以下では、10と11の問題を解いて一部コードを与えられた関数`predict`について完成させる。"
      ],
      "metadata": {
        "id": "_EOMjJJtjsnB"
      }
    },
    {
      "cell_type": "markdown",
      "source": [
        "`Uui`は、アイテム`i`を評価したユーザ`Ui[i]`とユーザ`u`の近傍にいるユーザ`Uu[u]`の共通点を、`np.intersect1d()`を使って求めることで作ることができる。"
      ],
      "metadata": {
        "id": "-sP8kserjl9f"
      }
    },
    {
      "cell_type": "markdown",
      "source": [
        "### 11 予測評価値"
      ],
      "metadata": {
        "id": "9d3iKmKljl1Q"
      }
    },
    {
      "cell_type": "markdown",
      "source": [
        "11では、予測評価値の`Uui`の大きさが`0`でなかった場合に発生する複雑そうな項を作っていく。`sim(u, v)`は`S[u, v]`であったので、`u`に対する`Uui`をインデックスに指定してあげて`ndarray`状のベクトルを取得して計算に用いる。$r^{'}_{v, i}$については`R2[v, i]`が相当する部分だったはずなので`v`部分を`Uui`で指定してあげて計算用の`ndarray`を取得する。こうして取得したベクトルを、前者の`ndarray`は分子の内積計算と分母の絶対値をとった和の計算に、後者の`ndarray`は分子の内積計算に用いればよい。"
      ],
      "metadata": {
        "id": "HsQ5Y2tEjlqa"
      }
    },
    {
      "cell_type": "code",
      "source": [
        "def predict(u, i):\n",
        "    \"\"\"\n",
        "    予測関数：ユーザuのアイテムiに対する予測評価値を返す。\n",
        "\n",
        "    Parameters\n",
        "    ----------\n",
        "    u : int\n",
        "        ユーザuのID\n",
        "    i : int\n",
        "        アイテムiのID\n",
        "\n",
        "    Returns\n",
        "    -------\n",
        "    float\n",
        "        ユーザuのアイテムiに対する予測評価値\n",
        "    \"\"\"\n",
        "    Uui = np.intersect1d(Uu[u], Ui[i])\n",
        "    print(f'U{u}{i} = {Uui}')\n",
        "\n",
        "    if Uui.size <= 0:\n",
        "        return ru_mean[u]\n",
        "    else:\n",
        "        rui_pred = ru_mean[u] + np.dot(S[u][Uui], R2[:, i][Uui])/np.abs(S[u][Uui]).sum()\n",
        "    \n",
        "    return rui_pred"
      ],
      "metadata": {
        "id": "vEMNLTHEeLei"
      },
      "execution_count": 88,
      "outputs": []
    },
    {
      "cell_type": "code",
      "source": [
        "u = 0\n",
        "i = 0\n",
        "print('r{}{} = {:.3f}'.format(u, i, predict(u, i)))\n",
        "u = 0\n",
        "i = 5\n",
        "print('r{}{} = {:.3f}'.format(u, i, predict(u, i)))"
      ],
      "metadata": {
        "colab": {
          "base_uri": "https://localhost:8080/"
        },
        "id": "JlvTlD6sWxN0",
        "outputId": "6f86ba56-76d6-473e-b33c-eff1c24027ec"
      },
      "execution_count": 89,
      "outputs": [
        {
          "output_type": "stream",
          "name": "stdout",
          "text": [
            "U00 = [1 2]\n",
            "r00 = 3.289\n",
            "U05 = [1 3]\n",
            "r05 = 1.601\n"
          ]
        }
      ]
    },
    {
      "cell_type": "markdown",
      "source": [
        "## 評価値行列の補完"
      ],
      "metadata": {
        "id": "wThizINpo1Uv"
      }
    },
    {
      "cell_type": "markdown",
      "source": [
        "### 12 評価値行列の補完"
      ],
      "metadata": {
        "id": "Pz-JxshXo5ET"
      }
    },
    {
      "cell_type": "markdown",
      "source": [
        "行列状の`R`に対して、`np.nan`の部分のみを予測値`predict(u, i)`で埋めてあげればよい。余計なprintが発生する関係で、ここでは`predict12`関数を別途用意した上で、2重内包表記の各成分を求めつつ最後に`np.array()`で`ndarray`とした`R3`を作った。"
      ],
      "metadata": {
        "id": "gJxsy3BZo46l"
      }
    },
    {
      "cell_type": "code",
      "source": [
        "def predict12(u, i):\n",
        "    \"\"\"\n",
        "    予測関数：ユーザuのアイテムiに対する予測評価値を返す。\n",
        "\n",
        "    Parameters\n",
        "    ----------\n",
        "    u : int\n",
        "        ユーザuのID\n",
        "    i : int\n",
        "        アイテムiのID\n",
        "\n",
        "    Returns\n",
        "    -------\n",
        "    float\n",
        "        ユーザuのアイテムiに対する予測評価値\n",
        "    \"\"\"\n",
        "    Uui = np.intersect1d(Uu[u], Ui[i])\n",
        "\n",
        "    if Uui.size <= 0:\n",
        "        return ru_mean[u]\n",
        "    else:\n",
        "        \n",
        "        rui_pred = ru_mean[u] + np.dot(S[u][Uui], R2[:, i][Uui])/np.abs(S[u][Uui]).sum()\n",
        "    \n",
        "    return rui_pred"
      ],
      "metadata": {
        "id": "zATLoe44q11z"
      },
      "execution_count": 90,
      "outputs": []
    },
    {
      "cell_type": "code",
      "source": [
        "R3 = np.array([[predict12(r0, r1) if np.isnan(R[r0, r1]) else R[r0, r1] for r1 in range(R.shape[1])] for r0 in range(R.shape[0])])\n",
        "print(f'R\\'\\' = \\n{R3}')"
      ],
      "metadata": {
        "colab": {
          "base_uri": "https://localhost:8080/"
        },
        "id": "1-pUJB4VmY3M",
        "outputId": "9bd6af37-2de8-4b2b-ff58-7515175fe398"
      },
      "execution_count": 91,
      "outputs": [
        {
          "output_type": "stream",
          "name": "stdout",
          "text": [
            "R'' = \n",
            "[[3.289 4.    3.    1.    2.    1.601]\n",
            " [5.    5.    4.    3.449 3.    3.   ]\n",
            " [4.    4.747 5.    3.    2.    2.638]\n",
            " [2.524 3.    2.384 2.    1.    1.   ]\n",
            " [2.    1.    2.    4.    2.4   3.   ]]\n"
          ]
        }
      ]
    },
    {
      "cell_type": "markdown",
      "source": [
        "## 第6章 アイテムベース協調フィルタリング"
      ],
      "metadata": {
        "id": "M7qgkAW4x5zX"
      }
    },
    {
      "cell_type": "markdown",
      "source": [
        "準備"
      ],
      "metadata": {
        "id": "jktXedvOyFYM"
      }
    },
    {
      "cell_type": "code",
      "source": [
        "import pprint\n",
        "import numpy as np\n",
        "np.set_printoptions(precision=3)\n",
        "\n",
        "# 近傍アイテム数\n",
        "K_ITEMS = 3\n",
        "# 閾値\n",
        "THETA = 0\n",
        "\n",
        "R = np.array([\n",
        "              [np.nan, 4,      3,      1,      2,      np.nan],\n",
        "              [5,      5,      4,      np.nan, 3,      3     ],\n",
        "              [4,      np.nan, 5,      3,      2,      np.nan],\n",
        "              [np.nan, 3,      np.nan, 2,      1,      1     ],\n",
        "              [2,      1,      2,      4,      np.nan, 3     ],\n",
        "])\n",
        "U = np.arange(R.shape[0])\n",
        "I = np.arange(R.shape[1])\n",
        "Ui = [U[~np.isnan(R)[:,i]] for i in I]\n",
        "Iu = [I[~np.isnan(R)[u,:]] for u in U]\n",
        "ru_mean = np.nanmean(R, axis=1)\n",
        "R2 = R - ru_mean.reshape((ru_mean.size, 1))"
      ],
      "metadata": {
        "id": "2hT1aMX1x7mq"
      },
      "execution_count": 92,
      "outputs": []
    },
    {
      "cell_type": "markdown",
      "source": [
        "## コサイン類似度"
      ],
      "metadata": {
        "id": "e2c7gNjvyNY1"
      }
    },
    {
      "cell_type": "markdown",
      "source": [
        "### 01 アイテム$i$とアイテム$j$のコサイン類似度"
      ],
      "metadata": {
        "id": "vGvwUcYozGXC"
      }
    },
    {
      "cell_type": "markdown",
      "source": [
        "問題01では、一部コードのみ与えられた関数`cos`を完成させていく。することとしては、内積をとるためのベクトルをとるためのインデックスは`Uij`に用意されているのでそれを用いて`R`から`i`と`j`のベクトルを取得することである。"
      ],
      "metadata": {
        "id": "g7mmPRVfzb2l"
      }
    },
    {
      "cell_type": "code",
      "source": [
        "def cos(i, j):\n",
        "    \"\"\"\n",
        "    評価値行列Rにおけるアイテムiとアイテムjのコサイン類似度を返す。\n",
        "\n",
        "    Parameters\n",
        "    ----------\n",
        "    i : int\n",
        "        アイテムiのID\n",
        "    j : int\n",
        "        アイテムjのID\n",
        "\n",
        "    Returns\n",
        "    -------\n",
        "    float\n",
        "        コサイン類似度\n",
        "    \"\"\"\n",
        "    Uij = np.intersect1d(Ui[i], Ui[j])\n",
        "    cosine = np.dot(R[Uij, i], R[Uij, j]) / (np.linalg.norm(R[Uij, i]) * np.linalg.norm(R[Uij, j]))\n",
        "    return cosine"
      ],
      "metadata": {
        "id": "0YC_3rGVyJC_"
      },
      "execution_count": 93,
      "outputs": []
    },
    {
      "cell_type": "code",
      "source": [
        "i = 0\n",
        "j = 4\n",
        "cosine = cos(i, j)\n",
        "print(f'cos({i}, {j}) = {cosine:.3f}')"
      ],
      "metadata": {
        "colab": {
          "base_uri": "https://localhost:8080/"
        },
        "id": "-Q0jxI0q0HNT",
        "outputId": "b75b8683-dc37-46cc-c364-0266afd38eee"
      },
      "execution_count": 94,
      "outputs": [
        {
          "output_type": "stream",
          "name": "stdout",
          "text": [
            "cos(0, 4) = 0.996\n"
          ]
        }
      ]
    },
    {
      "cell_type": "markdown",
      "source": [
        "## 調整コサイン類似度"
      ],
      "metadata": {
        "id": "WRJIvPUo015M"
      }
    },
    {
      "cell_type": "markdown",
      "source": [
        "### 02 アイテムiとアイテムjの調整コサイン類似度"
      ],
      "metadata": {
        "id": "VTgKmadY01y3"
      }
    },
    {
      "cell_type": "markdown",
      "source": [
        "問題02では、一部コードのみ与えられた関数`adjusted_cos`を完成させていく。することとしては、問題01で作った部分を`R`ではなく`R2`を利用する形に書き直せばよい。"
      ],
      "metadata": {
        "id": "MDCLxZ3a1NlH"
      }
    },
    {
      "cell_type": "code",
      "source": [
        "def adjusted_cos(i, j):\n",
        "    \"\"\"\n",
        "    評価値行列R2におけるアイテムiとアイテムjの調整コサイン類似度を返す。\n",
        "\n",
        "    Parameters\n",
        "    ----------\n",
        "    i : int\n",
        "        アイテムiのID\n",
        "    j : int\n",
        "        アイテムjのID\n",
        "\n",
        "    Returns\n",
        "    -------\n",
        "    cosine : float\n",
        "        調整コサイン類似度\n",
        "    \"\"\"\n",
        "    Uij = np.intersect1d(Ui[i], Ui[j])\n",
        "    \n",
        "    Uij = np.intersect1d(Ui[i], Ui[j])\n",
        "    cosine = np.dot(R2[Uij, i], R2[Uij, j]) / (np.linalg.norm(R2[Uij, i]) * np.linalg.norm(R2[Uij, j]))\n",
        "    return cosine"
      ],
      "metadata": {
        "id": "28KLt0fR0-o_"
      },
      "execution_count": 95,
      "outputs": []
    },
    {
      "cell_type": "code",
      "source": [
        "i = 0\n",
        "j = 4\n",
        "cosine = adjusted_cos(i, j)\n",
        "print(f'adjusted_cos({i}, {j}) = {cosine:.3f}')"
      ],
      "metadata": {
        "colab": {
          "base_uri": "https://localhost:8080/"
        },
        "id": "LP7nVdAQ0IsP",
        "outputId": "9558f733-2e6e-4868-86a7-b4a18ce2f151"
      },
      "execution_count": 96,
      "outputs": [
        {
          "output_type": "stream",
          "name": "stdout",
          "text": [
            "adjusted_cos(0, 4) = -0.868\n"
          ]
        }
      ]
    },
    {
      "cell_type": "markdown",
      "source": [
        "## アイテム-アイテム類似度行列"
      ],
      "metadata": {
        "id": "mw1sYtRv1iaW"
      }
    },
    {
      "cell_type": "markdown",
      "source": [
        "### 03 アイテム-アイテム類似度行列"
      ],
      "metadata": {
        "id": "YZ-9rq_I1kPA"
      }
    },
    {
      "cell_type": "markdown",
      "source": [
        "問題03では、アイテム間の類似度行列$S$を作成する。2重内包表記の各成分を、与えられた関数`sim`による計算によって与えればよい。"
      ],
      "metadata": {
        "id": "SU2hyfBh1tAG"
      }
    },
    {
      "cell_type": "code",
      "source": [
        "def sim(i, j):\n",
        "    \"\"\"\n",
        "    アイテム類似度関数：アイテムiとアイテムjのアイテム類似度を返す。\n",
        "\n",
        "    Parameters\n",
        "    ----------\n",
        "    i : int\n",
        "        アイテムiのID\n",
        "    j : int\n",
        "        アイテムjのID\n",
        "\n",
        "    Returns\n",
        "    -------\n",
        "    float\n",
        "        アイテム類似度\n",
        "    \"\"\"\n",
        "    return adjusted_cos(i, j)"
      ],
      "metadata": {
        "id": "pKv1Nbm015PK"
      },
      "execution_count": 97,
      "outputs": []
    },
    {
      "cell_type": "code",
      "source": [
        "S = np.array([[sim(i, j) for i in I] for j in I])\n",
        "print('S = \\n{}'.format(S))"
      ],
      "metadata": {
        "colab": {
          "base_uri": "https://localhost:8080/"
        },
        "id": "bN5yVC8o1LVG",
        "outputId": "3e621d21-aa13-44e0-9e42-fdaddc28205a"
      },
      "execution_count": 98,
      "outputs": [
        {
          "output_type": "stream",
          "name": "stdout",
          "text": [
            "S = \n",
            "[[ 1.     0.842  0.494 -0.829 -0.868 -0.987]\n",
            " [ 0.842  1.     0.896 -0.788 -0.91  -0.942]\n",
            " [ 0.494  0.896  1.    -0.583 -0.845 -0.514]\n",
            " [-0.829 -0.788 -0.583  1.     0.469  0.497]\n",
            " [-0.868 -0.91  -0.845  0.469  1.     1.   ]\n",
            " [-0.987 -0.942 -0.514  0.497  1.     1.   ]]\n"
          ]
        }
      ]
    },
    {
      "cell_type": "markdown",
      "source": [
        "## 類似アイテムの選定"
      ],
      "metadata": {
        "id": "pZ_qjYGl2j0I"
      }
    },
    {
      "cell_type": "markdown",
      "source": [
        "### 04 類似度上位k件のアイテム集合"
      ],
      "metadata": {
        "id": "7X05Hhii2pTs"
      }
    },
    {
      "cell_type": "markdown",
      "source": [
        "以下では、04と05の問題を解いて一部コードを与えられた処理について完成させる。04ではあらかじめユーザの類似度を与えた行列`S`から作った辞書が与えられていて、キーはユーザ、バリューはまた別の辞書となっていることが`Ii`からわかる。これに対して、少し複雑だが入れ子になっているほうの辞書のバリューによって並べ替えを行う。"
      ],
      "metadata": {
        "id": "bg_QzZRU2o7b"
      }
    },
    {
      "cell_type": "markdown",
      "source": [
        "### 05 類似度がしきい値以上のアイテム集合"
      ],
      "metadata": {
        "id": "2BOFaSOx2oi-"
      }
    },
    {
      "cell_type": "markdown",
      "source": [
        "05では`Ii`のバリュー側に格納された辞書について、条件式を使ってそのバリューの値が`THETA`未満のものを除外する。"
      ],
      "metadata": {
        "id": "wfbsSebR2obr"
      }
    },
    {
      "cell_type": "code",
      "source": [
        "# アイテム-アイテム類似度行列から対象アイテムを除外した辞書\n",
        "Ii = {i: {j: S[i,j] for j in I if i != j} for i in I}\n",
        "print('Ii = ')\n",
        "pprint.pprint(Ii)\n",
        "Ii = {i[0]: dict(sorted(i[1].items(), key=lambda x:x[1], reverse=True)[:K_USERS]) for i in Ii.items()}\n",
        "print('Ii = ')\n",
        "pprint.pprint(Ii)\n",
        "Ii = {i: {j[0]: j[1] for j in Ii[i].items() if j[1] >= THETA} for i in Ii.keys()}\n",
        "print('Ii = ')\n",
        "pprint.pprint(Ii)\n",
        "# 各アイテムの類似アイテム集合をまとめた辞書\n",
        "Ii = {i: np.array(list(Ii[i].keys())) for i in I}\n",
        "print('Ii = ')\n",
        "pprint.pprint(Ii)"
      ],
      "metadata": {
        "colab": {
          "base_uri": "https://localhost:8080/"
        },
        "id": "9U-8Gl4c11Gz",
        "outputId": "592ac879-627d-4fdd-80ba-b7c6c9243000"
      },
      "execution_count": 99,
      "outputs": [
        {
          "output_type": "stream",
          "name": "stdout",
          "text": [
            "Ii = \n",
            "{0: {1: 0.8418791389638738,\n",
            "     2: 0.49365474375598073,\n",
            "     3: -0.8291725540450335,\n",
            "     4: -0.8682431421244593,\n",
            "     5: -0.987241120712647},\n",
            " 1: {0: 0.8418791389638738,\n",
            "     2: 0.896314672184623,\n",
            "     3: -0.7876958617794716,\n",
            "     4: -0.9099637547345425,\n",
            "     5: -0.9419581446623225},\n",
            " 2: {0: 0.49365474375598073,\n",
            "     1: 0.896314672184623,\n",
            "     3: -0.5833076828172804,\n",
            "     4: -0.8451542547285166,\n",
            "     5: -0.5144957554275266},\n",
            " 3: {0: -0.8291725540450335,\n",
            "     1: -0.7876958617794716,\n",
            "     2: -0.5833076828172804,\n",
            "     4: 0.4685212856658182,\n",
            "     5: 0.49665813370370504},\n",
            " 4: {0: -0.8682431421244593,\n",
            "     1: -0.9099637547345425,\n",
            "     2: -0.8451542547285166,\n",
            "     3: 0.4685212856658182,\n",
            "     5: 1.0},\n",
            " 5: {0: -0.987241120712647,\n",
            "     1: -0.9419581446623225,\n",
            "     2: -0.5144957554275266,\n",
            "     3: 0.49665813370370504,\n",
            "     4: 1.0}}\n",
            "Ii = \n",
            "{0: {1: 0.8418791389638738, 2: 0.49365474375598073, 3: -0.8291725540450335},\n",
            " 1: {0: 0.8418791389638738, 2: 0.896314672184623, 3: -0.7876958617794716},\n",
            " 2: {0: 0.49365474375598073, 1: 0.896314672184623, 5: -0.5144957554275266},\n",
            " 3: {2: -0.5833076828172804, 4: 0.4685212856658182, 5: 0.49665813370370504},\n",
            " 4: {2: -0.8451542547285166, 3: 0.4685212856658182, 5: 1.0},\n",
            " 5: {2: -0.5144957554275266, 3: 0.49665813370370504, 4: 1.0}}\n",
            "Ii = \n",
            "{0: {1: 0.8418791389638738, 2: 0.49365474375598073},\n",
            " 1: {0: 0.8418791389638738, 2: 0.896314672184623},\n",
            " 2: {0: 0.49365474375598073, 1: 0.896314672184623},\n",
            " 3: {4: 0.4685212856658182, 5: 0.49665813370370504},\n",
            " 4: {3: 0.4685212856658182, 5: 1.0},\n",
            " 5: {3: 0.49665813370370504, 4: 1.0}}\n",
            "Ii = \n",
            "{0: array([1, 2]),\n",
            " 1: array([2, 0]),\n",
            " 2: array([1, 0]),\n",
            " 3: array([5, 4]),\n",
            " 4: array([5, 3]),\n",
            " 5: array([4, 3])}\n"
          ]
        }
      ]
    },
    {
      "cell_type": "markdown",
      "source": [
        "## 嗜好予測"
      ],
      "metadata": {
        "id": "mcseJ39C33QY"
      }
    },
    {
      "cell_type": "markdown",
      "source": [
        "### 06 類似アイテム集合の中でユーザuが評価値を与えているアイテム集合"
      ],
      "metadata": {
        "id": "2bc8_D_G38LD"
      }
    },
    {
      "cell_type": "markdown",
      "source": [
        "`Iiu`は、ユーザ`u`が評価したアイテム`Iu[u]`とアイテム$i$の近傍にあるアイテム`Ii[i]`の共通点を、`np.intersect1d()`を使って求めることで作ることができる。"
      ],
      "metadata": {
        "id": "UuOsNBog38Ev"
      }
    },
    {
      "cell_type": "markdown",
      "source": [
        "### 07 予測評価値"
      ],
      "metadata": {
        "id": "NJLNJ42o37Bb"
      }
    },
    {
      "cell_type": "markdown",
      "source": [
        "07では、予測評価値の`Iiu`の大きさが`0`でなかった場合に発生する複雑そうな項を作っていく。やっていることは基本的に第5章の11に書いた操作で、対象の変数を変えた以外は同じと考えてもさしつかえないように思う。"
      ],
      "metadata": {
        "id": "qC0nZkH2361z"
      }
    },
    {
      "cell_type": "code",
      "source": [
        "def predict(u, i):\n",
        "    \"\"\"\n",
        "    予測関数：ユーザuのアイテムiに対する予測評価値を返す。\n",
        "\n",
        "    Parameters\n",
        "    ----------\n",
        "    u : int\n",
        "        ユーザuのID\n",
        "    i : int\n",
        "        アイテムiのID\n",
        "    \n",
        "    Returns\n",
        "    -------\n",
        "    float\n",
        "        ユーザuのアイテムiに対する予測評価値\n",
        "    \"\"\"\n",
        "    Iiu = np.intersect1d(Ii[i], Iu[u])\n",
        "    print(f'I{i}{u} = {Iiu}')\n",
        "\n",
        "    if Iiu.size <= 0:\n",
        "        return ru_mean[u]\n",
        "    else:\n",
        "        rui_pred = ru_mean[u] + np.dot(S[i][Iiu], R2[u, :][Iiu])/np.abs(S[i][Iiu]).sum()\n",
        "    return rui_pred"
      ],
      "metadata": {
        "id": "XiwUdd1r3BbM"
      },
      "execution_count": 100,
      "outputs": []
    },
    {
      "cell_type": "code",
      "source": [
        "u = 0\n",
        "i = 0\n",
        "print(f'r{u}{i} = {predict(u, i):.3f}')\n",
        "u = 0\n",
        "i = 5\n",
        "print(f'r{u}{i} = {predict(u, i):.3f}')"
      ],
      "metadata": {
        "colab": {
          "base_uri": "https://localhost:8080/"
        },
        "id": "63WqicJx4GIJ",
        "outputId": "d449666e-819a-45db-e70a-48f7e1e3d4c0"
      },
      "execution_count": 101,
      "outputs": [
        {
          "output_type": "stream",
          "name": "stdout",
          "text": [
            "I00 = [1 2]\n",
            "r00 = 3.630\n",
            "I50 = [3 4]\n",
            "r05 = 1.668\n"
          ]
        }
      ]
    },
    {
      "cell_type": "markdown",
      "source": [
        "## 第7章 評価履歴の次元削減"
      ],
      "metadata": {
        "id": "oJkMonTQ6txF"
      }
    },
    {
      "cell_type": "markdown",
      "source": [
        "準備"
      ],
      "metadata": {
        "id": "GmASlALm6vJx"
      }
    },
    {
      "cell_type": "code",
      "source": [
        "import numpy as np\n",
        "import numpy.linalg as LA\n",
        "np.set_printoptions(precision=3)\n",
        "\n",
        "# 縮約後の次元数\n",
        "DIM = 2\n",
        "\n",
        "Du = np.array([\n",
        "               [5, 3, 3, +1],\n",
        "               [6, 2, 5, +1],\n",
        "               [4, 1, 5, +1],\n",
        "               [8, 5, 9, -1],\n",
        "               [2, 4, 2, -1],\n",
        "               [3, 6, 5, -1],\n",
        "               [7, 6, 8, -1],\n",
        "               [4, 2, 3, np.nan],\n",
        "               [5, 1, 8, np.nan],\n",
        "               [8, 6, 6, np.nan],\n",
        "               [3, 4, 2, np.nan],\n",
        "               [4, 7, 5, np.nan],\n",
        "               [4, 4, 4, np.nan],\n",
        "])\n",
        "I = np.arange(Du.shape[0])\n",
        "x = Du[:,:-1]\n",
        "ru = Du[:,-1]"
      ],
      "metadata": {
        "id": "t98Ok2Dw6uuF"
      },
      "execution_count": 102,
      "outputs": []
    },
    {
      "cell_type": "markdown",
      "source": [
        "## 分散共分散行列"
      ],
      "metadata": {
        "id": "sAssfqsz7-nT"
      }
    },
    {
      "cell_type": "markdown",
      "source": [
        "### 01 各特徴量の平均値"
      ],
      "metadata": {
        "id": "6BB1DuOu7_5p"
      }
    },
    {
      "cell_type": "markdown",
      "source": [
        "結果欄から、`x`の行方向つまり`axis=0`について平均をとればよい。"
      ],
      "metadata": {
        "id": "UJc2_GO27-ek"
      }
    },
    {
      "cell_type": "code",
      "source": [
        "xk_mean = x.mean(axis=0)\n",
        "print('xk_mean = {}'.format(xk_mean))"
      ],
      "metadata": {
        "colab": {
          "base_uri": "https://localhost:8080/"
        },
        "id": "wtb3s_Fk611_",
        "outputId": "161ded4a-2747-4990-984b-1773642c8881"
      },
      "execution_count": 103,
      "outputs": [
        {
          "output_type": "stream",
          "name": "stdout",
          "text": [
            "xk_mean = [4.846 3.923 5.   ]\n"
          ]
        }
      ]
    },
    {
      "cell_type": "markdown",
      "source": [
        "### 02 各特徴量の分散"
      ],
      "metadata": {
        "id": "HPtUHZlS8Dzn"
      }
    },
    {
      "cell_type": "markdown",
      "source": [
        "01と同様にvarで分散をとればよい。求める値は、数式から見ても不偏分散ではないことに注意。"
      ],
      "metadata": {
        "id": "wqYwdasE8Dzn"
      }
    },
    {
      "cell_type": "code",
      "source": [
        "s2 = x.var(axis=0)\n",
        "print(f's^2 = {s2}')"
      ],
      "metadata": {
        "colab": {
          "base_uri": "https://localhost:8080/"
        },
        "id": "cY51Tjr48Dzo",
        "outputId": "2fe6710b-227e-4980-8e4b-c031d75f56de"
      },
      "execution_count": 104,
      "outputs": [
        {
          "output_type": "stream",
          "name": "stdout",
          "text": [
            "s^2 = [3.361 3.763 4.769]\n"
          ]
        }
      ]
    },
    {
      "cell_type": "markdown",
      "source": [
        "### 03 各特徴量の標準化"
      ],
      "metadata": {
        "id": "3PLmICaW8D_6"
      }
    },
    {
      "cell_type": "markdown",
      "source": [
        "01と02の結果を用いて、標準化を行う。`numpy`のブロードキャストによって単純に差や商をとる計算が使えるので普通に計算すればよい。一応、`np.sqrt()`を使う必要があることに注意。"
      ],
      "metadata": {
        "id": "fPFhX-q_8D_6"
      }
    },
    {
      "cell_type": "code",
      "source": [
        "x2 = (x - xk_mean) / np.sqrt(s2)\n",
        "print(f'x\\' = \\n{x2}')"
      ],
      "metadata": {
        "colab": {
          "base_uri": "https://localhost:8080/"
        },
        "id": "OEnzS3818D_6",
        "outputId": "b276d186-5e4e-439d-ee2d-6aa2841f9c29"
      },
      "execution_count": 105,
      "outputs": [
        {
          "output_type": "stream",
          "name": "stdout",
          "text": [
            "x' = \n",
            "[[ 0.084 -0.476 -0.916]\n",
            " [ 0.629 -0.991  0.   ]\n",
            " [-0.462 -1.507  0.   ]\n",
            " [ 1.72   0.555  1.832]\n",
            " [-1.552  0.04  -1.374]\n",
            " [-1.007  1.071  0.   ]\n",
            " [ 1.175  1.071  1.374]\n",
            " [-0.462 -0.991 -0.916]\n",
            " [ 0.084 -1.507  1.374]\n",
            " [ 1.72   1.071  0.458]\n",
            " [-1.007  0.04  -1.374]\n",
            " [-0.462  1.586  0.   ]\n",
            " [-0.462  0.04  -0.458]]\n"
          ]
        }
      ]
    },
    {
      "cell_type": "markdown",
      "source": [
        "### 04 標準化された特徴量$k$と特徴量$l$の共分散"
      ],
      "metadata": {
        "id": "pRC8N3Ht8F19"
      }
    },
    {
      "cell_type": "markdown",
      "source": [
        "03で計算済みの`x2`を用いて共分散を求めるとよい。`np.cov`の引数で`bias=True`を用いることで不偏分散ではない分散を求めることができる。"
      ],
      "metadata": {
        "id": "5U6saty08F19"
      }
    },
    {
      "cell_type": "code",
      "source": [
        "k = 0\n",
        "l = 1\n",
        "skl = np.cov(x2[:, k], x2[:, l], bias = True)[0, 1]\n",
        "print(f's{k}{l} = {skl:.3f}')"
      ],
      "metadata": {
        "colab": {
          "base_uri": "https://localhost:8080/"
        },
        "id": "yX_EwvQ68F1-",
        "outputId": "e924f3f1-9ede-4ead-eb58-8569cc71bafe"
      },
      "execution_count": 106,
      "outputs": [
        {
          "output_type": "stream",
          "name": "stdout",
          "text": [
            "s01 = 0.191\n"
          ]
        }
      ]
    },
    {
      "cell_type": "markdown",
      "source": [
        "### 05 分散共分散行列"
      ],
      "metadata": {
        "id": "1aExHs0-8F1-"
      }
    },
    {
      "cell_type": "markdown",
      "source": [
        "04でも使った`np.cov`を使って分散共分散行列を求めればよい。ただ、`np.cov`にそのまま`x2`を入れると行対行の分散共分散行列が作られるので`x2.T`という転置したものを引数に指定する。"
      ],
      "metadata": {
        "id": "XuLxr4og8F1-"
      }
    },
    {
      "cell_type": "code",
      "source": [
        "S = np.cov(x2.T, bias = True)\n",
        "print(f'S = \\n{S}')"
      ],
      "metadata": {
        "colab": {
          "base_uri": "https://localhost:8080/"
        },
        "id": "-Vd22cb_8F1-",
        "outputId": "6b30d5f4-9be0-4a7c-f131-a66e44625c4a"
      },
      "execution_count": 107,
      "outputs": [
        {
          "output_type": "stream",
          "name": "stdout",
          "text": [
            "S = \n",
            "[[1.    0.191 0.749]\n",
            " [0.191 1.    0.163]\n",
            " [0.749 0.163 1.   ]]\n"
          ]
        }
      ]
    },
    {
      "cell_type": "markdown",
      "source": [
        "## 固有値・固有ベクトル"
      ],
      "metadata": {
        "id": "akddGtg8BGGZ"
      }
    },
    {
      "cell_type": "markdown",
      "source": [
        "### 06 固有値・固有ベクトル"
      ],
      "metadata": {
        "id": "wVDoTzSQBMyz"
      }
    },
    {
      "cell_type": "markdown",
      "source": [
        "問題の案内にもある通り、`np.linalg.eig()`を利用して固有値と固有ベクトルを求める。"
      ],
      "metadata": {
        "id": "4-GJFXZ2BMqr"
      }
    },
    {
      "cell_type": "code",
      "source": [
        "lmd, v = LA.eig(S)\n",
        "print(f'λ = {lmd}')\n",
        "print(f'v = \\n{v}')"
      ],
      "metadata": {
        "colab": {
          "base_uri": "https://localhost:8080/"
        },
        "id": "sAMpOQ61AXx-",
        "outputId": "2796c466-748d-4ab7-d74d-5dbe9b9e670c"
      },
      "execution_count": 108,
      "outputs": [
        {
          "output_type": "stream",
          "name": "stdout",
          "text": [
            "λ = [1.826 0.25  0.924]\n",
            "v = \n",
            "[[-0.679 -0.71   0.186]\n",
            " [-0.291  0.028 -0.956]\n",
            " [-0.674  0.704  0.225]]\n"
          ]
        }
      ]
    },
    {
      "cell_type": "markdown",
      "source": [
        "### 07 固有値の降順にソートしたインデックス配列"
      ],
      "metadata": {
        "id": "0NEz30QU8F1-"
      }
    },
    {
      "cell_type": "markdown",
      "source": [
        "固有値が大きい順に並べた場合のインデックスを求める。そのために`np.argsort()`を用いればよいのだが、今回は降順なので`lmd`を引数に指定する際に符号を逆にしてやる必要がある。"
      ],
      "metadata": {
        "id": "tlK4-QKV8F1-"
      }
    },
    {
      "cell_type": "code",
      "source": [
        "indices = np.argsort(-lmd)\n",
        "print(f'indices = {indices}')"
      ],
      "metadata": {
        "colab": {
          "base_uri": "https://localhost:8080/"
        },
        "id": "x8jVpYQn8F1-",
        "outputId": "5993a196-684f-4133-81b0-2756bb2e49e3"
      },
      "execution_count": 109,
      "outputs": [
        {
          "output_type": "stream",
          "name": "stdout",
          "text": [
            "indices = [0 2 1]\n"
          ]
        }
      ]
    },
    {
      "cell_type": "markdown",
      "source": [
        "### 08 固有値の降順に固有値配列をソート"
      ],
      "metadata": {
        "id": "FRJ1qIEu8GSO"
      }
    },
    {
      "cell_type": "markdown",
      "source": [
        "`lmd`のインデキシングに`indices`を使ってあげればよい。"
      ],
      "metadata": {
        "id": "Z3dOToBa8GSO"
      }
    },
    {
      "cell_type": "code",
      "source": [
        "lmd = lmd[indices]\n",
        "print(f'λ = {lmd}')"
      ],
      "metadata": {
        "colab": {
          "base_uri": "https://localhost:8080/"
        },
        "id": "ZRu05IF68GSO",
        "outputId": "0e883f76-4632-40ca-87c6-88660b69e7a3"
      },
      "execution_count": 110,
      "outputs": [
        {
          "output_type": "stream",
          "name": "stdout",
          "text": [
            "λ = [1.826 0.924 0.25 ]\n"
          ]
        }
      ]
    },
    {
      "cell_type": "markdown",
      "source": [
        "### 09 固有値の降順に固有ベクトル配列をソート"
      ],
      "metadata": {
        "id": "w_TlJ96O8GSO"
      }
    },
    {
      "cell_type": "markdown",
      "source": [
        "`v`の列方向について、`indices`でその順番を指定してあげればよい。"
      ],
      "metadata": {
        "id": "Pk1xyWyW8GSO"
      }
    },
    {
      "cell_type": "code",
      "source": [
        "v = v[:, indices]\n",
        "print(f'v = \\n{v}')"
      ],
      "metadata": {
        "colab": {
          "base_uri": "https://localhost:8080/"
        },
        "id": "m9QAbVSu8GSP",
        "outputId": "22684385-2e62-4175-b852-f9dea5c86859"
      },
      "execution_count": 111,
      "outputs": [
        {
          "output_type": "stream",
          "name": "stdout",
          "text": [
            "v = \n",
            "[[-0.679  0.186 -0.71 ]\n",
            " [-0.291 -0.956  0.028]\n",
            " [-0.674  0.225  0.704]]\n"
          ]
        }
      ]
    },
    {
      "cell_type": "markdown",
      "source": [
        "### 10 第d主成分までの固有ベクトル"
      ],
      "metadata": {
        "id": "zRhem_cZ8GSP"
      }
    },
    {
      "cell_type": "markdown",
      "source": [
        "`v`の`DIM`列めまでをスライシングすることによって`V`を作ればよい。"
      ],
      "metadata": {
        "id": "5o_xRtOc8GSP"
      }
    },
    {
      "cell_type": "code",
      "source": [
        "V = v[:, :DIM]\n",
        "print(f'V = \\n{V}')"
      ],
      "metadata": {
        "colab": {
          "base_uri": "https://localhost:8080/"
        },
        "id": "fWebyjc68GSP",
        "outputId": "16fa994c-5ed1-4f3b-b42a-5a9f7afc8cc4"
      },
      "execution_count": 112,
      "outputs": [
        {
          "output_type": "stream",
          "name": "stdout",
          "text": [
            "V = \n",
            "[[-0.679  0.186]\n",
            " [-0.291 -0.956]\n",
            " [-0.674  0.225]]\n"
          ]
        }
      ]
    },
    {
      "cell_type": "markdown",
      "source": [
        "## 主成分得点"
      ],
      "metadata": {
        "id": "uhaA5aZS8GvB"
      }
    },
    {
      "cell_type": "markdown",
      "source": [
        "### 11 アイテム$i$の第$k$主成分得点"
      ],
      "metadata": {
        "id": "2EKyreP68GvC"
      }
    },
    {
      "cell_type": "markdown",
      "source": [
        "数式の定義から、主成分得点は`x2`の`i`行めと`v`の`k`列目の内積で得られるのでその通りに計算する。"
      ],
      "metadata": {
        "id": "JJEYNXmN8GvC"
      }
    },
    {
      "cell_type": "code",
      "source": [
        "i = 0\n",
        "k = 0\n",
        "xik3 = np.dot(x2[i, :] ,v[:, k])\n",
        "print(f'x{i}{k}\\'\\' = {xik3:.3f}')"
      ],
      "metadata": {
        "colab": {
          "base_uri": "https://localhost:8080/"
        },
        "id": "C_vLJhKa8GvC",
        "outputId": "6556f976-de52-4676-f974-78b5d0140121"
      },
      "execution_count": 113,
      "outputs": [
        {
          "output_type": "stream",
          "name": "stdout",
          "text": [
            "x00'' = 0.699\n"
          ]
        }
      ]
    },
    {
      "cell_type": "markdown",
      "source": [
        "### 12 各アイテムの次元削減後の特徴ベクトル"
      ],
      "metadata": {
        "id": "CRpyAtn78GvC"
      }
    },
    {
      "cell_type": "markdown",
      "source": [
        "`@`演算子を使って、`x2`と`V`の行列計算を行えばよい。"
      ],
      "metadata": {
        "id": "IfD2mOOW8GvC"
      }
    },
    {
      "cell_type": "code",
      "source": [
        "x3 = x2 @ V\n",
        "print(f'x\\'\\' = \\n{x3}')"
      ],
      "metadata": {
        "colab": {
          "base_uri": "https://localhost:8080/"
        },
        "id": "N0ZgaFKD8GvC",
        "outputId": "1cc5a293-7100-4dde-f976-4ba91c27319f"
      },
      "execution_count": 114,
      "outputs": [
        {
          "output_type": "stream",
          "name": "stdout",
          "text": [
            "x'' = \n",
            "[[ 0.699  0.264]\n",
            " [-0.139  1.065]\n",
            " [ 0.752  1.355]\n",
            " [-2.564  0.202]\n",
            " [ 1.969 -0.636]\n",
            " [ 0.373 -1.211]\n",
            " [-2.035 -0.496]\n",
            " [ 1.219  0.656]\n",
            " [-0.545  1.766]\n",
            " [-1.788 -0.601]\n",
            " [ 1.598 -0.535]\n",
            " [-0.148 -1.603]\n",
            " [ 0.611 -0.227]]\n"
          ]
        }
      ]
    },
    {
      "cell_type": "markdown",
      "source": [
        "## 寄与率"
      ],
      "metadata": {
        "id": "ji9ljoHOG2aN"
      }
    },
    {
      "cell_type": "markdown",
      "source": [
        "### 13 第$k$主成分の寄与率"
      ],
      "metadata": {
        "id": "s3K9ueC28GvC"
      }
    },
    {
      "cell_type": "markdown",
      "source": [
        "固有値の和の中で第$k$主成分がどれだけの大きさを占めるかを、寄与率と呼んでいる。分散共分散行列はその性質上固有値が0未満にはならないので、分母が`0`になることもなく安心して割合の計算を行うことができたはず。"
      ],
      "metadata": {
        "id": "AtkC2LE-8GvC"
      }
    },
    {
      "cell_type": "code",
      "source": [
        "# k=0とすると第1主成分になる。おそらくインデックスの都合。\n",
        "k = 0\n",
        "pk = lmd[k]/lmd.sum()\n",
        "print(f'第{k+1}主成分の寄与率 = {pk:.3f}')"
      ],
      "metadata": {
        "colab": {
          "base_uri": "https://localhost:8080/"
        },
        "id": "an7ZREKV8GvC",
        "outputId": "2d01dbda-526f-409d-daf5-b2a021002744"
      },
      "execution_count": 115,
      "outputs": [
        {
          "output_type": "stream",
          "name": "stdout",
          "text": [
            "第1主成分の寄与率 = 0.609\n"
          ]
        }
      ]
    },
    {
      "cell_type": "markdown",
      "source": [
        "### 14 第k主成分までの累積寄与率"
      ],
      "metadata": {
        "id": "uPBvYyuE8HJ2"
      }
    },
    {
      "cell_type": "markdown",
      "source": [
        "13を参考に、`pk`の分子の部分をスライスした部分の和としてあげればよい。"
      ],
      "metadata": {
        "id": "cy5EI70Q8HJ3"
      }
    },
    {
      "cell_type": "code",
      "source": [
        "k = 2\n",
        "ck = lmd[:k].sum()/lmd.sum()\n",
        "print(f'第{k}主成分までの累積寄与率 = {ck:.3f}')"
      ],
      "metadata": {
        "colab": {
          "base_uri": "https://localhost:8080/"
        },
        "id": "rJNT3cyO8HJ3",
        "outputId": "04683422-ae90-4a86-d391-18159c271cb5"
      },
      "execution_count": 116,
      "outputs": [
        {
          "output_type": "stream",
          "name": "stdout",
          "text": [
            "第2主成分までの累積寄与率 = 0.917\n"
          ]
        }
      ]
    },
    {
      "cell_type": "markdown",
      "source": [
        "## 推薦"
      ],
      "metadata": {
        "id": "2J1rK9sLIchP"
      }
    },
    {
      "cell_type": "markdown",
      "source": [
        "### 15 次元削減後の評価履歴"
      ],
      "metadata": {
        "id": "n17pTTha8HJ3"
      }
    },
    {
      "cell_type": "markdown",
      "source": [
        "`np.hstack()`を使って`x3`と`ru`を横に結合する。`np.hstack()`の引数に`()`を入れないといけないことや、`ru`に`reshape`を使う必要があることに注意。"
      ],
      "metadata": {
        "id": "faYzsPl58HJ3"
      }
    },
    {
      "cell_type": "code",
      "source": [
        "Du2 = np.hstack((x3, ru.reshape(-1, 1)))\n",
        "print(f'Du\\' = \\n{Du2}')"
      ],
      "metadata": {
        "colab": {
          "base_uri": "https://localhost:8080/"
        },
        "id": "hL5QQjgH8HJ3",
        "outputId": "5b7c8212-aa17-4bea-d4d9-f6fbe9edeea0"
      },
      "execution_count": 117,
      "outputs": [
        {
          "output_type": "stream",
          "name": "stdout",
          "text": [
            "Du' = \n",
            "[[ 0.699  0.264  1.   ]\n",
            " [-0.139  1.065  1.   ]\n",
            " [ 0.752  1.355  1.   ]\n",
            " [-2.564  0.202 -1.   ]\n",
            " [ 1.969 -0.636 -1.   ]\n",
            " [ 0.373 -1.211 -1.   ]\n",
            " [-2.035 -0.496 -1.   ]\n",
            " [ 1.219  0.656    nan]\n",
            " [-0.545  1.766    nan]\n",
            " [-1.788 -0.601    nan]\n",
            " [ 1.598 -0.535    nan]\n",
            " [-0.148 -1.603    nan]\n",
            " [ 0.611 -0.227    nan]]\n"
          ]
        }
      ]
    },
    {
      "cell_type": "markdown",
      "source": [
        "## 第8章 評価値行列の次元削減"
      ],
      "metadata": {
        "id": "ePurI-gCK5du"
      }
    },
    {
      "cell_type": "markdown",
      "source": [
        "準備"
      ],
      "metadata": {
        "id": "XcbB_V2oK7EH"
      }
    },
    {
      "cell_type": "code",
      "source": [
        "import numpy as np\n",
        "import numpy.linalg as LA\n",
        "np.set_printoptions(precision=3)\n",
        "\n",
        "# 縮約後の次元数\n",
        "DIM = 2\n",
        "\n",
        "R = np.array([\n",
        "              [np.nan, 4,      3,      1,      2,      np.nan],\n",
        "              [5,      5,      4,      np.nan, 3,      3     ],\n",
        "              [4,      np.nan, 5,      3,      2,      np.nan],\n",
        "              [np.nan, 3,      np.nan, 2,      1,      1     ],\n",
        "              [2,      1,      2,      4,      np.nan, 3     ],\n",
        "])\n",
        "U = np.arange(R.shape[0])\n",
        "I = np.arange(R.shape[1])\n",
        "Ui = [U[~np.isnan(R)[:,i]] for i in I]\n",
        "Iu = [I[~np.isnan(R)[u,:]] for u in U]\n",
        "ru_mean = np.nanmean(R, axis=1)\n",
        "R2 = R - ru_mean.reshape((ru_mean.size, 1))"
      ],
      "metadata": {
        "id": "bagDrFnDLHWX"
      },
      "execution_count": 118,
      "outputs": []
    },
    {
      "cell_type": "markdown",
      "source": [
        "## 分散共分散行列"
      ],
      "metadata": {
        "id": "chuY_X84LIHe"
      }
    },
    {
      "cell_type": "markdown",
      "source": [
        "### 01 各アイテムに対して与えられた平均中心化評価値の平均値"
      ],
      "metadata": {
        "id": "vy921wKnK72q"
      }
    },
    {
      "cell_type": "markdown",
      "source": [
        "`R2`で行方向に平均をとればよい。`np.nanmean()`によって`np.nan`の処理を行う必要があることも忘れずに。"
      ],
      "metadata": {
        "id": "YU-XAUHLK-Bc"
      }
    },
    {
      "cell_type": "code",
      "source": [
        "ri2_mean = np.nanmean(R2,axis = 0)\n",
        "print('ri2_mean = {}'.format(ri2_mean))"
      ],
      "metadata": {
        "colab": {
          "base_uri": "https://localhost:8080/"
        },
        "id": "edsmXxtKK-vU",
        "outputId": "3143090e-c775-429f-dbff-96070281bb7a"
      },
      "execution_count": 119,
      "outputs": [
        {
          "output_type": "stream",
          "name": "stdout",
          "text": [
            "ri2_mean = [ 0.367  0.588  0.4   -0.037 -0.938 -0.383]\n"
          ]
        }
      ]
    },
    {
      "cell_type": "markdown",
      "source": [
        "### 02 各アイテムの平均中心化評価値の分散"
      ],
      "metadata": {
        "id": "Q1RGYMUWLA6h"
      }
    },
    {
      "cell_type": "markdown",
      "source": [
        "01と同じようにして分散をとればよい。"
      ],
      "metadata": {
        "id": "Whrhq9vhLA6h"
      }
    },
    {
      "cell_type": "code",
      "source": [
        "s2 = np.nanvar(R2,axis = 0)\n",
        "print(f's^2 = {s2}')"
      ],
      "metadata": {
        "colab": {
          "base_uri": "https://localhost:8080/"
        },
        "id": "cmi2m4EfLA6h",
        "outputId": "8d749b86-871f-4612-b632-0341394fb24e"
      },
      "execution_count": 120,
      "outputs": [
        {
          "output_type": "stream",
          "name": "stdout",
          "text": [
            "s^2 = [0.336 1.348 0.505 1.279 0.137 0.494]\n"
          ]
        }
      ]
    },
    {
      "cell_type": "markdown",
      "source": [
        "### 03 アイテム$i$とアイテム$j$の平均中心化評価値の共分散"
      ],
      "metadata": {
        "id": "UOygFMDWLBF3"
      }
    },
    {
      "cell_type": "markdown",
      "source": [
        "共分散をとる際に、`np.nan`が絡むので今回は`np.cov`ではなく`np.dot`で内積をとる形で値を求める。`R2[Uij, i]`で`i`列目かつ`i`列目と`j`列目で`np.nan`でない行のみを取得することができるのだが、数式の定義にもあるように平均との差分をとる部分と`Uij`の要素数で割る部分を忘れずに実装する。"
      ],
      "metadata": {
        "id": "rjvsh7QZLBF3"
      }
    },
    {
      "cell_type": "code",
      "source": [
        "i = 0\n",
        "j = 1\n",
        "Uij = np.intersect1d(Ui[i], Ui[j])\n",
        "sij = np.dot(R2[Uij, i] - np.nanmean(R2[:, i]), R2[Uij, j] - np.nanmean(R2[:, j]))/Uij.size\n",
        "print(f's{i}{j} = {sij:.3f}')"
      ],
      "metadata": {
        "colab": {
          "base_uri": "https://localhost:8080/"
        },
        "id": "pMol-t1uLBF3",
        "outputId": "5fa0a6e7-e4c9-4ac0-d044-44f55b1bfd52"
      },
      "execution_count": 121,
      "outputs": [
        {
          "output_type": "stream",
          "name": "stdout",
          "text": [
            "s01 = 0.892\n"
          ]
        }
      ]
    },
    {
      "cell_type": "markdown",
      "source": [
        "### 04 分散共分散行列"
      ],
      "metadata": {
        "id": "zicreL9OLBcc"
      }
    },
    {
      "cell_type": "markdown",
      "source": [
        "03で行った処理を自分で関数化してから2重リスト内包表記を使って解いた。関数`my_sij`は途中の`Uij`のサイズが`0`の場合`S`の値を`0`に変更する必要があるため`Uij.size`も返り値にふくめているが結局関数の中でゼロ割が起こるのでそこで発生した`np.nan`を`0`にしてしまうやり方のほうがよさそうだなと思った。"
      ],
      "metadata": {
        "id": "EKkEr0qYLBcc"
      }
    },
    {
      "cell_type": "code",
      "source": [
        "def my_sij(i, j):\n",
        "    Uij = np.intersect1d(Ui[i], Ui[j])\n",
        "    sij = np.dot(R2[Uij, i] - np.nanmean(R2[:, i]), R2[Uij, j] - np.nanmean(R2[:, j]))/Uij.size\n",
        "    return Uij.size, sij"
      ],
      "metadata": {
        "id": "PAVcs6h4tmWT"
      },
      "execution_count": 122,
      "outputs": []
    },
    {
      "cell_type": "code",
      "source": [
        "S = np.array([[my_sij(i, j)[1] if my_sij(i, j)[0] else 0 for i in I] for j in I])\n",
        "print(f'S = \\n{S}')"
      ],
      "metadata": {
        "colab": {
          "base_uri": "https://localhost:8080/"
        },
        "id": "_LPLQOcgLBcd",
        "outputId": "eaa8c909-4d80-4163-c4d7-ffa15fcd56dd"
      },
      "execution_count": 123,
      "outputs": [
        {
          "output_type": "stream",
          "name": "stdout",
          "text": [
            "S = \n",
            "[[ 0.336  0.892  0.169 -0.659 -0.057 -0.572]\n",
            " [ 0.892  1.348  0.505 -1.466  0.166 -0.817]\n",
            " [ 0.169  0.505  0.505 -0.655 -0.183 -0.27 ]\n",
            " [-0.659 -1.466 -0.655  1.279 -0.109  0.752]\n",
            " [-0.057  0.166 -0.183 -0.109  0.137 -0.015]\n",
            " [-0.572 -0.817 -0.27   0.752 -0.015  0.494]]\n"
          ]
        }
      ]
    },
    {
      "cell_type": "markdown",
      "source": [
        "## 固有値・固有ベクトル"
      ],
      "metadata": {
        "id": "cIsJV0wxLBnr"
      }
    },
    {
      "cell_type": "markdown",
      "source": [
        "### 05 固有値・固有ベクトル"
      ],
      "metadata": {
        "id": "PkruPWU-LBns"
      }
    },
    {
      "cell_type": "markdown",
      "source": [
        "`LA.eig()`で計算すればよい。`v`の値の符号が逆になってしまっているのだが、これは問題ないはず。"
      ],
      "metadata": {
        "id": "tYV3z44aLBns"
      }
    },
    {
      "cell_type": "markdown",
      "source": [
        "以下のサイトで、符号が逆でも問題ないらしいことを確認している。主成分得点に関するサイトで、下のほうに記載がある。\n",
        "\n",
        "https://www.cis.doshisha.ac.jp/mjin/R/24/24.html"
      ],
      "metadata": {
        "id": "PSp6-QLz3lST"
      }
    },
    {
      "cell_type": "code",
      "source": [
        "lmd, v = LA.eig(S)\n",
        "print(f'λ = {lmd}')\n",
        "print(f'v = \\n{v}')"
      ],
      "metadata": {
        "colab": {
          "base_uri": "https://localhost:8080/"
        },
        "id": "uvpceV_hLBns",
        "outputId": "d65617b2-bdf8-49c9-f3ec-22d6940d8dfa"
      },
      "execution_count": 124,
      "outputs": [
        {
          "output_type": "stream",
          "name": "stdout",
          "text": [
            "λ = [ 3.909  0.48   0.233 -0.315 -0.049 -0.16 ]\n",
            "v = \n",
            "[[-0.327 -0.228 -0.484  0.685  0.279 -0.245]\n",
            " [-0.609 -0.211  0.099 -0.565  0.371 -0.344]\n",
            " [-0.245  0.806  0.097  0.134 -0.202 -0.472]\n",
            " [ 0.583 -0.126 -0.374 -0.258 -0.019 -0.661]\n",
            " [-0.028 -0.462  0.624  0.294 -0.394 -0.393]\n",
            " [ 0.348  0.157  0.465  0.204  0.767 -0.087]]\n"
          ]
        }
      ]
    },
    {
      "cell_type": "markdown",
      "source": [
        "### 06 第$d$主成分までの固有ベクトル"
      ],
      "metadata": {
        "id": "NxVkKpLwLB9w"
      }
    },
    {
      "cell_type": "markdown",
      "source": [
        "`v`について固有値の大きさ順に列を並び替えた上で、`DIM`列までをスライシングすればよい。"
      ],
      "metadata": {
        "id": "_iljPImbLB9w"
      }
    },
    {
      "cell_type": "code",
      "source": [
        "indices = np.argsort(-lmd)\n",
        "V = v[:, indices][:, :DIM]\n",
        "print(f'V = \\n{V}')"
      ],
      "metadata": {
        "colab": {
          "base_uri": "https://localhost:8080/"
        },
        "id": "2ESzBZNuLB9w",
        "outputId": "61d43ea3-6dd2-4a2f-fe74-2526b3b157e7"
      },
      "execution_count": 125,
      "outputs": [
        {
          "output_type": "stream",
          "name": "stdout",
          "text": [
            "V = \n",
            "[[-0.327 -0.228]\n",
            " [-0.609 -0.211]\n",
            " [-0.245  0.806]\n",
            " [ 0.583 -0.126]\n",
            " [-0.028 -0.462]\n",
            " [ 0.348  0.157]]\n"
          ]
        }
      ]
    },
    {
      "cell_type": "markdown",
      "source": [
        "## 主成分得点"
      ],
      "metadata": {
        "id": "QZoTTtoXLCBm"
      }
    },
    {
      "cell_type": "markdown",
      "source": [
        "### 07 ユーザ$u$の第$k$主成分得点"
      ],
      "metadata": {
        "id": "DsUK70swLCBn"
      }
    },
    {
      "cell_type": "markdown",
      "source": [
        "第7章の11でもやったように内積を計算すればよいのだが、直接`R2[u, :]`や`V[:, k]`を計算すると`np.nan`のせいでよくないことに気をつけなければならない。"
      ],
      "metadata": {
        "id": "lmnXxHJlLCBn"
      }
    },
    {
      "cell_type": "code",
      "source": [
        "u = 0\n",
        "k = 0\n",
        "puk = np.dot(R2[u, Iu[u]] ,V[Iu[u], k])/Iu[u].size\n",
        "print(f'p{u}{k} = {puk:.3f}')"
      ],
      "metadata": {
        "colab": {
          "base_uri": "https://localhost:8080/"
        },
        "id": "IHjqzP7qLCBn",
        "outputId": "49a57ea9-a71f-41e4-84fa-4b2b507eb352"
      },
      "execution_count": 126,
      "outputs": [
        {
          "output_type": "stream",
          "name": "stdout",
          "text": [
            "p00 = -0.474\n"
          ]
        }
      ]
    },
    {
      "cell_type": "markdown",
      "source": [
        "### 08 潜在因子行列"
      ],
      "metadata": {
        "id": "RpLuYxbILCdQ"
      }
    },
    {
      "cell_type": "markdown",
      "source": [
        "第7章の12でもやったように行列計算をすればよいのだが、前問のように直接`R2`や`V`を計算すると`np.nan`のせいでよくないので`np.nan`を排除して2重リスト内包表記で求めることになる。今回は関数`my_puk`を用意して`np.nan`を排除した上で計算を行う。"
      ],
      "metadata": {
        "id": "H-QAY1BRLCdQ"
      }
    },
    {
      "cell_type": "code",
      "source": [
        "def my_puk(u, k):\n",
        "    puk = np.dot(R2[u, Iu[u]], V[Iu[u], k]) / Iu[u].size\n",
        "    return puk"
      ],
      "metadata": {
        "id": "2A6TTrrY5cBN"
      },
      "execution_count": 127,
      "outputs": []
    },
    {
      "cell_type": "code",
      "source": [
        "P = np.array([[my_puk(u, k) for k in range(DIM)] for u in U])\n",
        "print(f'P = \\n{P}')"
      ],
      "metadata": {
        "colab": {
          "base_uri": "https://localhost:8080/"
        },
        "id": "uIWeEor05b3J",
        "outputId": "44ccaecf-74c4-4547-f934-f1563053d061"
      },
      "execution_count": 128,
      "outputs": [
        {
          "output_type": "stream",
          "name": "stdout",
          "text": [
            "P = \n",
            "[[-0.474  0.127]\n",
            " [-0.251 -0.027]\n",
            " [-0.195  0.463]\n",
            " [-0.214 -0.017]\n",
            " [ 0.445 -0.009]]\n"
          ]
        }
      ]
    },
    {
      "cell_type": "markdown",
      "source": [
        "## 第9章 単純ベイズ分類器"
      ],
      "metadata": {
        "id": "kju5Tz9G9b94"
      }
    },
    {
      "cell_type": "markdown",
      "source": [
        "準備"
      ],
      "metadata": {
        "id": "-5bSyuen9flL"
      }
    },
    {
      "cell_type": "code",
      "source": [
        "import pprint\n",
        "import numpy as np\n",
        "from fractions import Fraction\n",
        "\n",
        "# 上位K件\n",
        "TOP_K = 3\n",
        "# スムージングパラメタ\n",
        "ALPHA = 1\n",
        "# クラス数\n",
        "N = 2\n",
        "# 各特徴量がとりうる値のユニーク数\n",
        "M = [2, 2, 2, 2, 2, 2]\n",
        "# しきい値\n",
        "THETA = 0.5\n",
        "\n",
        "Du = np.array([\n",
        "               [1, 0, 0, 0, 1, 0, +1],\n",
        "               [0, 1, 0, 0, 1, 0, +1],\n",
        "               [1, 1, 0, 0, 1, 0, +1],\n",
        "               [1, 0, 0, 1, 1, 0, +1],\n",
        "               [1, 0, 0, 0, 0, 1, +1],\n",
        "               [0, 1, 0, 1, 0, 1, +1],\n",
        "               [0, 0, 1, 0, 1, 0, -1],\n",
        "               [0, 0, 1, 1, 1, 0, -1],\n",
        "               [0, 1, 0, 0, 1, 1, -1],\n",
        "               [0, 0, 1, 0, 0, 1, -1],\n",
        "               [1, 1, 0, 1, 1, 0, np.nan],\n",
        "               [0, 0, 1, 0, 1, 1, np.nan],\n",
        "               [0, 1, 1, 1, 1, 0, np.nan],\n",
        "])\n",
        "I = np.arange(Du.shape[0])\n",
        "x = Du[:,:-1]\n",
        "ru = Du[:,-1]\n",
        "\n",
        "Iu = I[~np.isnan(ru)]\n",
        "Iu_not = np.setdiff1d(I, Iu)\n",
        "DuL = Du[Iu]\n",
        "xL = x[Iu]\n",
        "ruL = ru[Iu]\n",
        "DuU = Du[Iu_not]\n",
        "xU = x[Iu_not]"
      ],
      "metadata": {
        "id": "MW1nDZcR9e5W"
      },
      "execution_count": 129,
      "outputs": []
    },
    {
      "cell_type": "markdown",
      "source": [
        "## 問題設定"
      ],
      "metadata": {
        "id": "4CUM89B891rp"
      }
    },
    {
      "cell_type": "markdown",
      "source": [
        "省略"
      ],
      "metadata": {
        "id": "gH1UE93394rk"
      }
    },
    {
      "cell_type": "markdown",
      "source": [
        "## 事前確率"
      ],
      "metadata": {
        "id": "pu2g6CD996jw"
      }
    },
    {
      "cell_type": "markdown",
      "source": [
        "### 01 評価値が$r$となる事前確率（分子）"
      ],
      "metadata": {
        "id": "9Czqpl1W_Sfc"
      }
    },
    {
      "cell_type": "markdown",
      "source": [
        "問題01から09では、一部コードのみ与えられた関数`P_prior`、`P_cond`、`P`を完成させていく。"
      ],
      "metadata": {
        "id": "FZx1Ea2sBgSu"
      }
    },
    {
      "cell_type": "markdown",
      "source": [
        "01では、事前確率の分子を求める。説明から、与えられた$r$と同じ評価値を持つアイテムの数を数えればよい。"
      ],
      "metadata": {
        "id": "hIA302BF_RrS"
      }
    },
    {
      "cell_type": "code",
      "source": [
        "# 以下、試しに計算するのに用いたコードとその計算結果\n",
        "r = 1\n",
        "np.where(ru == r, 1, 0).sum()"
      ],
      "metadata": {
        "colab": {
          "base_uri": "https://localhost:8080/"
        },
        "id": "2nKL3vs6Aqdz",
        "outputId": "04cfbc52-455d-475e-c661-c176d0d7df5c"
      },
      "execution_count": 130,
      "outputs": [
        {
          "output_type": "execute_result",
          "data": {
            "text/plain": [
              "6"
            ]
          },
          "metadata": {},
          "execution_count": 130
        }
      ]
    },
    {
      "cell_type": "markdown",
      "source": [
        "### 02 評価値が$r$となる事前確率（分母）"
      ],
      "metadata": {
        "id": "dMwXcYD4_RkO"
      }
    },
    {
      "cell_type": "markdown",
      "source": [
        "02では、事前確率の分母を求める。説明から、評価値を持つアイテムの数を数えればよい。"
      ],
      "metadata": {
        "id": "XT2xsnjQ_Rdt"
      }
    },
    {
      "cell_type": "code",
      "source": [
        "# 以下、試しに計算するのに用いたコードとその計算結果\n",
        "ruL.size"
      ],
      "metadata": {
        "colab": {
          "base_uri": "https://localhost:8080/"
        },
        "id": "J0JCawAgBK31",
        "outputId": "35b5ff3d-d87d-40a1-e68d-5bdf45bd22b0"
      },
      "execution_count": 131,
      "outputs": [
        {
          "output_type": "execute_result",
          "data": {
            "text/plain": [
              "10"
            ]
          },
          "metadata": {},
          "execution_count": 131
        }
      ]
    },
    {
      "cell_type": "code",
      "source": [
        "# 問題01と02の結果を利用したもの。スムージングない版。\n",
        "def P_prior(r):\n",
        "    \"\"\"\n",
        "    評価値がrとなる事前確率を返す。\n",
        "\n",
        "    Parameters\n",
        "    ----------\n",
        "    r : int\n",
        "        評価値\n",
        "\n",
        "    Returns\n",
        "    -------\n",
        "    Fraction\n",
        "        事前確率\n",
        "    \"\"\"\n",
        "    num = np.where(ru == r, 1, 0).sum()\n",
        "    den = ruL.size\n",
        "    prob = Fraction(num, den, _normalize=False)\n",
        "    return prob"
      ],
      "metadata": {
        "id": "iP-_17o0K1sq"
      },
      "execution_count": 132,
      "outputs": []
    },
    {
      "cell_type": "code",
      "source": [
        "r = +1\n",
        "print(f'P(R={r:+}) = {P_prior(r)}')\n",
        "r = -1\n",
        "print(f'P(R={r:+}) = {P_prior(r)}')"
      ],
      "metadata": {
        "colab": {
          "base_uri": "https://localhost:8080/"
        },
        "id": "R6znXpvWK1Um",
        "outputId": "185ff2a1-c770-43d2-b60b-ac44fc041d3a"
      },
      "execution_count": 133,
      "outputs": [
        {
          "output_type": "stream",
          "name": "stdout",
          "text": [
            "P(R=+1) = 6/10\n",
            "P(R=-1) = 4/10\n"
          ]
        }
      ]
    },
    {
      "cell_type": "markdown",
      "source": [
        "## 特徴量$k$に関する条件付き確率"
      ],
      "metadata": {
        "id": "paua5FEE_RYc"
      }
    },
    {
      "cell_type": "markdown",
      "source": [
        "### 03 特徴量$k$に関する条件付き確率（分子）"
      ],
      "metadata": {
        "id": "lxksa8CPDZk1"
      }
    },
    {
      "cell_type": "markdown",
      "source": [
        "03では、与えられた評価値$r$と評価値が一致し、なおかつ特徴量$k$に関する部分が同じアイテムの数を数えることで望みの結果を得ることができる。"
      ],
      "metadata": {
        "id": "pyTSCeNa_RSQ"
      }
    },
    {
      "cell_type": "code",
      "source": [
        "# 以下、試しに計算するのに用いたコードとその計算結果\n",
        "r = 1\n",
        "k = 1\n",
        "i = 2\n",
        "Du[:, k][(Du[i, k] == Du[:, k])&(ru == r)].size"
      ],
      "metadata": {
        "colab": {
          "base_uri": "https://localhost:8080/"
        },
        "id": "ZzIJz8p2ELDf",
        "outputId": "1ae7e7b5-93dd-4791-eb93-2871d989c8ea"
      },
      "execution_count": 134,
      "outputs": [
        {
          "output_type": "execute_result",
          "data": {
            "text/plain": [
              "3"
            ]
          },
          "metadata": {},
          "execution_count": 134
        }
      ]
    },
    {
      "cell_type": "markdown",
      "source": [
        "### 04 特徴量kに関する条件付き確率（分母）"
      ],
      "metadata": {
        "id": "yhxYyf5b_RLL"
      }
    },
    {
      "cell_type": "markdown",
      "source": [
        "04では、与えられた$r$に評価値が一致するアイテムの数$i$を数えることで望みの結果を得ることができる。"
      ],
      "metadata": {
        "id": "lK576c6mHVM2"
      }
    },
    {
      "cell_type": "code",
      "source": [
        "# 以下、試しに計算するのに用いたコードとその計算結果\n",
        "r = 1\n",
        "ru[ru == r].size"
      ],
      "metadata": {
        "colab": {
          "base_uri": "https://localhost:8080/"
        },
        "id": "vltk6enSHVyd",
        "outputId": "04b6e5fc-ea51-49fe-96a9-0b02b147497d"
      },
      "execution_count": 135,
      "outputs": [
        {
          "output_type": "execute_result",
          "data": {
            "text/plain": [
              "6"
            ]
          },
          "metadata": {},
          "execution_count": 135
        }
      ]
    },
    {
      "cell_type": "code",
      "source": [
        "# 問題03と04の結果を利用したもの。スムージングない版。\n",
        "def P_cond(i, k, r):\n",
        "    \"\"\"\n",
        "    評価値がrとなる条件下でアイテムiの特徴量kに関する条件付き確率を返す。\n",
        "\n",
        "    Parameters\n",
        "    ----------\n",
        "    i : int\n",
        "        アイテムiのID\n",
        "    k : int\n",
        "        特徴量kのインデックス\n",
        "    r : int\n",
        "        評価値\n",
        "\n",
        "    Returns\n",
        "    -------\n",
        "    Fraction\n",
        "        条件付き確率\n",
        "    \"\"\"\n",
        "    num = Du[:, k][(Du[i, k] == Du[:, k])&(ru == r)].size\n",
        "    den = ru[ru == r].size\n",
        "    prob = Fraction(num, den, _normalize=False)\n",
        "    return prob"
      ],
      "metadata": {
        "id": "6z8mNeHvLR_1"
      },
      "execution_count": 136,
      "outputs": []
    },
    {
      "cell_type": "code",
      "source": [
        "i = 10\n",
        "k = 0\n",
        "r = +1\n",
        "print('P(X{}=x{},{}|R={:+}) = {}'.format(k, i, k, r, P_cond(i, k, r)))\n",
        "r = -1\n",
        "print('P(X{}=x{},{}|R={:+}) = {}'.format(k, i, k, r, P_cond(i, k, r)))"
      ],
      "metadata": {
        "colab": {
          "base_uri": "https://localhost:8080/"
        },
        "id": "vlFPdapVLRq-",
        "outputId": "fb830b3d-7e83-41ad-98cf-0846612976da"
      },
      "execution_count": 137,
      "outputs": [
        {
          "output_type": "stream",
          "name": "stdout",
          "text": [
            "P(X0=x10,0|R=+1) = 4/6\n",
            "P(X0=x10,0|R=-1) = 0/4\n"
          ]
        }
      ]
    },
    {
      "cell_type": "markdown",
      "source": [
        "## 嗜好予測"
      ],
      "metadata": {
        "id": "0a7NKWKfH_xB"
      }
    },
    {
      "cell_type": "markdown",
      "source": [
        "### 05 好き嫌いの確率"
      ],
      "metadata": {
        "id": "qTD452ErH_M0"
      }
    },
    {
      "cell_type": "markdown",
      "source": [
        "事前確率`pp`と、各特徴量に関する条件付き確率の積を書けることで計算すればよい。warningが発生しているが、解決は時間があればまた後でおこなうつもり。"
      ],
      "metadata": {
        "id": "2PF_vmstH_GL"
      }
    },
    {
      "cell_type": "code",
      "source": [
        "def P(i, r):\n",
        "    \"\"\"\n",
        "    アイテムiの評価値がrとなる確率を返す。\n",
        "\n",
        "    Parameters\n",
        "    ----------\n",
        "    i : int\n",
        "        アイテムiのID\n",
        "    r : int\n",
        "        評価値\n",
        "\n",
        "    Returns\n",
        "    -------\n",
        "    Fraction\n",
        "        事前確率\n",
        "    list of Fraction\n",
        "        各特徴量に関する条件付き確率\n",
        "    float\n",
        "        好き嫌いの確率\n",
        "    \"\"\"\n",
        "    pp = P_prior(r)\n",
        "    pk = [P_cond(i, k, r) for k in range(0, x.shape[1])]\n",
        "    prob = float(pp) * np.array([float(p) for p in pk]).prod()\n",
        "    return pp, pk, prob"
      ],
      "metadata": {
        "id": "gUlwQGd6ImmG"
      },
      "execution_count": 138,
      "outputs": []
    },
    {
      "cell_type": "code",
      "source": [
        "i = 10\n",
        "r = +1\n",
        "pp, pk, prob = P(i, r)\n",
        "left = 'P(R={:+}|'.format(r) + ','.join(map(str, map(int, x[i]))) + ')'\n",
        "right = str(pp) + '×' + '×'.join(map(str, pk))\n",
        "print(f'{left} = {right} = {prob:.3f}')\n",
        "\n",
        "r = -1\n",
        "pp, pk, prob = P(i, r)\n",
        "left = 'P(R={:+}|'.format(r) + ','.join(map(str, map(int, x[i]))) + ')'\n",
        "right = str(pp) + '×' + '×'.join(map(str, pk))\n",
        "print(f'{left} = {right} = {prob:.3f}')"
      ],
      "metadata": {
        "colab": {
          "base_uri": "https://localhost:8080/"
        },
        "id": "kK7OzjHTLvXe",
        "outputId": "9b0943ca-96ec-41c1-cf4a-cefc90014ff6"
      },
      "execution_count": 139,
      "outputs": [
        {
          "output_type": "stream",
          "name": "stdout",
          "text": [
            "P(R=+1|1,1,0,1,1,0) = 6/10×4/6×3/6×6/6×2/6×4/6×4/6 = 0.030\n",
            "P(R=-1|1,1,0,1,1,0) = 4/10×0/4×1/4×1/4×1/4×3/4×2/4 = 0.000\n"
          ]
        },
        {
          "output_type": "stream",
          "name": "stderr",
          "text": [
            "/usr/local/lib/python3.7/dist-packages/ipykernel_launcher.py:23: DeprecationWarning: Fraction.__float__ returned non-float (type numpy.float64).  The ability to return an instance of a strict subclass of float is deprecated, and may be removed in a future version of Python.\n"
          ]
        }
      ]
    },
    {
      "cell_type": "markdown",
      "source": [
        "## ラプラススムージング"
      ],
      "metadata": {
        "id": "xau_kU--I4Uk"
      }
    },
    {
      "cell_type": "markdown",
      "source": [
        "### 06 評価値が$r$となる事前確率（分子）（ラプラススムージングあり）"
      ],
      "metadata": {
        "id": "LqIoeX6tI3t9"
      }
    },
    {
      "cell_type": "markdown",
      "source": [
        "ほぼ問題01と同じように解く。`ALPHA`だけは足すようにする。"
      ],
      "metadata": {
        "id": "IJRzDbDLJM_N"
      }
    },
    {
      "cell_type": "code",
      "source": [
        "# 以下、試しに計算するのに用いたコードとその計算結果\n",
        "r = 1\n",
        "np.where(ru == r, 1, 0).sum() + ALPHA"
      ],
      "metadata": {
        "colab": {
          "base_uri": "https://localhost:8080/"
        },
        "id": "14aFHU73JOAb",
        "outputId": "053e4845-7850-4b3e-9dbb-70c531a79dd2"
      },
      "execution_count": 140,
      "outputs": [
        {
          "output_type": "execute_result",
          "data": {
            "text/plain": [
              "7"
            ]
          },
          "metadata": {},
          "execution_count": 140
        }
      ]
    },
    {
      "cell_type": "markdown",
      "source": [
        "### 07 評価値が$r$となる事前確率（分母）（ラプラススムージングあり）"
      ],
      "metadata": {
        "id": "U6e5OkmYJOoz"
      }
    },
    {
      "cell_type": "markdown",
      "source": [
        "ほぼ問題02と同じように解く。`N*ALPHA`だけは足すようにする。"
      ],
      "metadata": {
        "id": "nyXJaJaUJQRj"
      }
    },
    {
      "cell_type": "code",
      "source": [
        "# 以下、試しに計算するのに用いたコードとその計算結果\n",
        "ruL.size + N * ALPHA"
      ],
      "metadata": {
        "colab": {
          "base_uri": "https://localhost:8080/"
        },
        "id": "9CtEOhnmJPO1",
        "outputId": "4605db9e-1564-44a3-a8fe-cfa2ffe93875"
      },
      "execution_count": 141,
      "outputs": [
        {
          "output_type": "execute_result",
          "data": {
            "text/plain": [
              "12"
            ]
          },
          "metadata": {},
          "execution_count": 141
        }
      ]
    },
    {
      "cell_type": "code",
      "source": [
        "# 問題06と07の結果を利用したもの。スムージングあり版。\n",
        "def P_prior(r):\n",
        "    \"\"\"\n",
        "    評価値がrとなる事前確率を返す。\n",
        "\n",
        "    Parameters\n",
        "    ----------\n",
        "    r : int\n",
        "        評価値\n",
        "\n",
        "    Returns\n",
        "    -------\n",
        "    Fraction\n",
        "        事前確率\n",
        "    \"\"\"\n",
        "    num = np.where(ru == r, 1, 0).sum() + ALPHA\n",
        "    den = ruL.size + N * ALPHA\n",
        "    prob = Fraction(num, den, _normalize=False)\n",
        "    return prob"
      ],
      "metadata": {
        "id": "qM4uE8D_M4qt"
      },
      "execution_count": 142,
      "outputs": []
    },
    {
      "cell_type": "markdown",
      "source": [
        "### 08 特徴量$k$に関する条件付き確率（分子）（ラプラススムージングあり）"
      ],
      "metadata": {
        "id": "rMHer8yFJ5bm"
      }
    },
    {
      "cell_type": "markdown",
      "source": [
        "ほぼ問題03と同じように解く。`ALPHA`だけは足すようにする。"
      ],
      "metadata": {
        "id": "iBwTaW3vJ5bn"
      }
    },
    {
      "cell_type": "code",
      "source": [
        "# 以下、試しに計算するのに用いたコードとその計算結果\n",
        "r = 1\n",
        "k = 1\n",
        "i = 2\n",
        "Du[:, k][(Du[i, k] == Du[:, k])&(ru == r)].size + ALPHA"
      ],
      "metadata": {
        "colab": {
          "base_uri": "https://localhost:8080/"
        },
        "outputId": "77b189de-479c-4f21-f5cf-52f364681fe6",
        "id": "Ti0DuioiJ5bn"
      },
      "execution_count": 143,
      "outputs": [
        {
          "output_type": "execute_result",
          "data": {
            "text/plain": [
              "4"
            ]
          },
          "metadata": {},
          "execution_count": 143
        }
      ]
    },
    {
      "cell_type": "markdown",
      "source": [
        "### 09 特徴量$k$に関する条件付き確率（分母）（ラプラススムージングあり）"
      ],
      "metadata": {
        "id": "FTeGiyVYJ5bn"
      }
    },
    {
      "cell_type": "markdown",
      "source": [
        "ほぼ問題04と同じように解く。`ALPHA`と`M`の第$k$成分の積だけは忘れず足すようにする。"
      ],
      "metadata": {
        "id": "vMi0FG5aJ5bn"
      }
    },
    {
      "cell_type": "code",
      "source": [
        "# 以下、試しに計算するのに用いたコードとその計算結果\n",
        "r = 1\n",
        "k = 1\n",
        "ru[ru == r].size + ALPHA * M[k]"
      ],
      "metadata": {
        "colab": {
          "base_uri": "https://localhost:8080/"
        },
        "outputId": "0f2f313b-c657-4ee5-ed20-41c2089103cd",
        "id": "avplOEYBJ5bn"
      },
      "execution_count": 144,
      "outputs": [
        {
          "output_type": "execute_result",
          "data": {
            "text/plain": [
              "8"
            ]
          },
          "metadata": {},
          "execution_count": 144
        }
      ]
    },
    {
      "cell_type": "code",
      "source": [
        "# 問題08と09の結果を利用したもの。スムージングあり版。\n",
        "def P_cond(i, k, r):\n",
        "    \"\"\"\n",
        "    評価値がrとなる条件下でアイテムiの特徴量kに関する条件付き確率を返す。\n",
        "\n",
        "    Parameters\n",
        "    ----------\n",
        "    i : int\n",
        "        アイテムiのID\n",
        "    k : int\n",
        "        特徴量kのインデックス\n",
        "    r : int\n",
        "        評価値\n",
        "\n",
        "    Returns\n",
        "    -------\n",
        "    Fraction\n",
        "        条件付き確率\n",
        "    \"\"\"\n",
        "    num = Du[:, k][(Du[i, k] == Du[:, k])&(ru == r)].size + ALPHA\n",
        "    den = ru[ru == r].size + ALPHA * M[k]\n",
        "    prob = Fraction(num, den, _normalize=False)\n",
        "    return prob"
      ],
      "metadata": {
        "id": "uYAH9gk8IAZh"
      },
      "execution_count": 145,
      "outputs": []
    },
    {
      "cell_type": "markdown",
      "source": [
        "## 推薦"
      ],
      "metadata": {
        "id": "_ToP2RwtNgg7"
      }
    },
    {
      "cell_type": "markdown",
      "source": [
        "### 10 ユーザ$u$のアイテム$i$に対するスコア"
      ],
      "metadata": {
        "id": "_bmj3MNRNnTb"
      }
    },
    {
      "cell_type": "markdown",
      "source": [
        "問題10では、一部コードのみ与えられた関数`score`を完成させる。やることとしては問題05でみた`P(i, r)`を使って、`P(i, +1)[2] / (P(i, +1)[2] + P(i, -1)[2])`を計算してあげればよい。"
      ],
      "metadata": {
        "id": "7LqgugnFNr2g"
      }
    },
    {
      "cell_type": "code",
      "source": [
        "def score(u, i):\n",
        "    \"\"\"\n",
        "    スコア関数：ユーザuのアイテムiに対するスコアを返す。\n",
        "\n",
        "    Parameters\n",
        "    ----------\n",
        "    u : int\n",
        "        ユーザuのID（ダミー）\n",
        "    i : int\n",
        "        アイテムiのID\n",
        "\n",
        "    Returns\n",
        "    -------\n",
        "    float\n",
        "        スコア\n",
        "    \"\"\"\n",
        "    scr = P(i, +1)[2] / (P(i, +1)[2] + P(i, -1)[2])\n",
        "    return scr"
      ],
      "metadata": {
        "id": "XYV6-vUw9j-u"
      },
      "execution_count": 146,
      "outputs": []
    },
    {
      "cell_type": "code",
      "source": [
        "u = 0\n",
        "scores = {i: score(u, i) for i in Iu_not}\n",
        "print('scores = ')\n",
        "pprint.pprint(scores)"
      ],
      "metadata": {
        "colab": {
          "base_uri": "https://localhost:8080/"
        },
        "id": "JiZy3mR7_Wv6",
        "outputId": "2f4b2a81-cb7c-4d27-c639-781d1e3080fa"
      },
      "execution_count": 147,
      "outputs": [
        {
          "output_type": "stream",
          "name": "stdout",
          "text": [
            "scores = \n",
            "{10: 0.9646054787625311, 11: 0.055176912846500135, 12: 0.18936236007174226}\n"
          ]
        },
        {
          "output_type": "stream",
          "name": "stderr",
          "text": [
            "/usr/local/lib/python3.7/dist-packages/ipykernel_launcher.py:23: DeprecationWarning: Fraction.__float__ returned non-float (type numpy.float64).  The ability to return an instance of a strict subclass of float is deprecated, and may be removed in a future version of Python.\n"
          ]
        }
      ]
    },
    {
      "cell_type": "markdown",
      "source": [
        "### 11 推薦リスト"
      ],
      "metadata": {
        "id": "s6QyYcAWPZDb"
      }
    },
    {
      "cell_type": "markdown",
      "source": [
        "`scores`の作り方をいじって、if文により`THETA`よりも`score(u, i)`が小さいものを除去してやる必要がある。"
      ],
      "metadata": {
        "id": "AO_bMZzJPY1s"
      }
    },
    {
      "cell_type": "code",
      "source": [
        "def order(u, I):\n",
        "    \"\"\"\n",
        "    順序付け関数：アイテム集合Iにおいて、ユーザu向けの推薦リストを返す。\n",
        "\n",
        "    Parameters\n",
        "    ----------\n",
        "    u : int\n",
        "        ユーザuのID\n",
        "    I : ndarray\n",
        "        アイテム集合\n",
        "\n",
        "    Returns\n",
        "    -------\n",
        "    list\n",
        "        タプル(アイテムID: スコア)を要素にした推薦リスト\n",
        "    \"\"\"\n",
        "    scores = {i: score(u, i) for i in I if score(u, i) >= THETA}\n",
        "    rec_list = sorted(scores.items(), key=lambda x:x[1], reverse=True)[:TOP_K]\n",
        "    return rec_list"
      ],
      "metadata": {
        "id": "PMulIrzSOwzj"
      },
      "execution_count": 148,
      "outputs": []
    },
    {
      "cell_type": "code",
      "source": [
        "u = 0\n",
        "rec_list = order(u, Iu_not)\n",
        "print('rec_list = ')\n",
        "for i, scr in rec_list:\n",
        "    print('{}: {:.3f}'.format(i, scr))"
      ],
      "metadata": {
        "colab": {
          "base_uri": "https://localhost:8080/"
        },
        "id": "JaKuPdQ9PrSf",
        "outputId": "9d19f9b0-a297-4a3f-9752-73e8c28093e0"
      },
      "execution_count": 149,
      "outputs": [
        {
          "output_type": "stream",
          "name": "stdout",
          "text": [
            "rec_list = \n",
            "10: 0.965\n"
          ]
        },
        {
          "output_type": "stream",
          "name": "stderr",
          "text": [
            "/usr/local/lib/python3.7/dist-packages/ipykernel_launcher.py:23: DeprecationWarning: Fraction.__float__ returned non-float (type numpy.float64).  The ability to return an instance of a strict subclass of float is deprecated, and may be removed in a future version of Python.\n"
          ]
        }
      ]
    },
    {
      "cell_type": "markdown",
      "source": [
        "## 第10章 決定木"
      ],
      "metadata": {
        "id": "zvUMnR3dRG6s"
      }
    },
    {
      "cell_type": "markdown",
      "source": [
        "準備"
      ],
      "metadata": {
        "id": "4kS-HEeYRG1N"
      }
    },
    {
      "cell_type": "code",
      "source": [
        "import pprint\n",
        "import numpy as np\n",
        "\n",
        "Du = np.array([\n",
        "               [1, 0, 0, 0, 1, 0, +1],\n",
        "               [0, 1, 0, 0, 1, 0, +1],\n",
        "               [1, 1, 0, 0, 1, 0, +1],\n",
        "               [1, 0, 0, 1, 1, 0, +1],\n",
        "               [1, 0, 0, 0, 0, 1, +1],\n",
        "               [0, 1, 0, 1, 0, 1, +1],\n",
        "               [0, 0, 1, 0, 1, 0, -1],\n",
        "               [0, 0, 1, 1, 1, 0, -1],\n",
        "               [0, 1, 0, 0, 1, 1, -1],\n",
        "               [0, 0, 1, 0, 0, 1, -1],\n",
        "               [1, 1, 0, 1, 1, 0, np.nan],\n",
        "               [0, 0, 1, 0, 1, 1, np.nan],\n",
        "               [0, 1, 1, 1, 1, 0, np.nan],\n",
        "])\n",
        "I = np.arange(Du.shape[0])\n",
        "x = Du[:,:-1]\n",
        "ru = Du[:,-1]\n",
        "\n",
        "Iu = I[~np.isnan(ru)]\n",
        "Iu_not = np.setdiff1d(I, Iu)\n",
        "DuL = Du[Iu]\n",
        "xL = x[Iu]\n",
        "ruL = ru[Iu]\n",
        "DuU = Du[Iu_not]\n",
        "xU = x[Iu_not]"
      ],
      "metadata": {
        "id": "_MBHKVFRRJ8D"
      },
      "execution_count": 150,
      "outputs": []
    },
    {
      "cell_type": "markdown",
      "source": [
        "## ジニ係数"
      ],
      "metadata": {
        "id": "-1dB9k6pRGV9"
      }
    },
    {
      "cell_type": "markdown",
      "source": [
        "### 01 「好き」な事例が含まれる割合"
      ],
      "metadata": {
        "id": "DESyJy08Rsol"
      }
    },
    {
      "cell_type": "markdown",
      "source": [
        "問題01から03では、一部コードのみ与えられた関数`G`を完成させる。問題01では、評価値を与えられたアイテムの数で「好き」と評価されたアイテムの数を割ってあげて`pp`を計算する。"
      ],
      "metadata": {
        "id": "iz0-KK9yRuWm"
      }
    },
    {
      "cell_type": "markdown",
      "source": [
        "### 02 「嫌い」な事例が含まれる割合"
      ],
      "metadata": {
        "id": "VHUMByTPTFXc"
      }
    },
    {
      "cell_type": "markdown",
      "source": [
        "問題01と同じように計算すればよい。"
      ],
      "metadata": {
        "id": "yAsjqdu-TFO_"
      }
    },
    {
      "cell_type": "markdown",
      "source": [
        "### 03 ジニ係数"
      ],
      "metadata": {
        "id": "NZmNTE7zTEq8"
      }
    },
    {
      "cell_type": "markdown",
      "source": [
        "定義通りに計算すればよい。"
      ],
      "metadata": {
        "id": "BBMXJ04RTEgW"
      }
    },
    {
      "cell_type": "code",
      "source": [
        "def G(DL):\n",
        "    \"\"\"\n",
        "    訓練データDLのジニ係数を返す。\n",
        "    \n",
        "    Parameters\n",
        "    ----------\n",
        "    DL : ndarray\n",
        "        訓練データDL\n",
        "\n",
        "    Returns\n",
        "    -------\n",
        "    float\n",
        "        ジニ係数\n",
        "        ただし、DLに事例が含まれていないときは0\n",
        "    \"\"\"\n",
        "    if DL.shape[0] == 0:\n",
        "        return 0\n",
        "    r = DL[:,-1]\n",
        "    pp = DL[r == +1].shape[0] / DL.shape[0]\n",
        "    pn = DL[r == -1].shape[0] / DL.shape[0]\n",
        "    gini = 1 - (pp**2 + pn**2)\n",
        "    return gini"
      ],
      "metadata": {
        "id": "pdGni4cKRqgS"
      },
      "execution_count": 188,
      "outputs": []
    },
    {
      "cell_type": "code",
      "source": [
        "print(f'G(DuL) = {G(DuL):.3f}')"
      ],
      "metadata": {
        "colab": {
          "base_uri": "https://localhost:8080/"
        },
        "id": "fAreDu6MTNcO",
        "outputId": "87c94bdc-e2a7-45d8-94c3-cb07802ac105"
      },
      "execution_count": 189,
      "outputs": [
        {
          "output_type": "stream",
          "name": "stdout",
          "text": [
            "G(DuL) = 0.480\n"
          ]
        }
      ]
    },
    {
      "cell_type": "markdown",
      "source": [
        "## 分割の良さ"
      ],
      "metadata": {
        "id": "DpW7axo3Tr2Y"
      }
    },
    {
      "cell_type": "markdown",
      "source": [
        "### 04 特徴量$k$を含まない訓練事例集合"
      ],
      "metadata": {
        "id": "tRZ76NqdUgyn"
      }
    },
    {
      "cell_type": "markdown",
      "source": [
        "問題04から06では、一部コードのみ与えられた関数`G_partitioned`とその結果を表示するためのコードを完成させる。問題04では、`DuL`から訓練データから特徴量$k$が`0`となる行のみを抜き出すような処理を書く。特徴量$k$の列に注目して、インデクシングを行えばよい。"
      ],
      "metadata": {
        "id": "JNFC7kOCTwuq"
      }
    },
    {
      "cell_type": "markdown",
      "source": [
        "### 05 特徴量$k$を含む訓練事例集合"
      ],
      "metadata": {
        "id": "bCJqO5PGUlHR"
      }
    },
    {
      "cell_type": "markdown",
      "source": [
        "問題05では、`DuL`から訓練データから特徴量$k$が`1`となる行のみを抜き出すような処理を書く。特徴量$k$の列に注目して、インデクシングを行えばよい。"
      ],
      "metadata": {
        "id": "0sjGy4gfU0FE"
      }
    },
    {
      "cell_type": "markdown",
      "source": [
        "### 06 特徴量$k$を基準に分割したときのジニ係数"
      ],
      "metadata": {
        "id": "B6hc4VyhU5Yf"
      }
    },
    {
      "cell_type": "markdown",
      "source": [
        "問題06では、特徴量$k$を基準に分割したときのジニ係数を求める。定義式は与えられているので、その数式通りに計算してあげればよい。"
      ],
      "metadata": {
        "id": "Pl6pefMwU5Kg"
      }
    },
    {
      "cell_type": "code",
      "source": [
        "def G_partitioned(DL0, DL1):\n",
        "    \"\"\"\n",
        "    訓練データをDL0とDL1に分割したときのジニ係数を返す。\n",
        "    \n",
        "    Parameters\n",
        "    ----------\n",
        "    DL0 : ndarray\n",
        "        訓練データDL0\n",
        "    DL1 : ndarray\n",
        "        訓練データDL1\n",
        "\n",
        "    Returns\n",
        "    -------\n",
        "    float\n",
        "        ジニ係数\n",
        "    \"\"\"\n",
        "    gini = (DL0.shape[0] * G(DL0) + DL1.shape[0] * G(DL1)) / (DL0.shape[0] + DL1.shape[0])\n",
        "    return gini"
      ],
      "metadata": {
        "id": "zWx2EaoNVd8p"
      },
      "execution_count": 177,
      "outputs": []
    },
    {
      "cell_type": "code",
      "source": [
        "# 特徴量kを含まない訓練事例集合\n",
        "k = 0\n",
        "DuL0 = DuL[DuL[:, k] == 0]\n",
        "# 特徴量kを含む訓練事例集合\n",
        "print('DuL0 = \\n{}'.format(DuL0))\n",
        "DuL1 = DuL[DuL[:, k] == 1]\n",
        "# 特徴量kを基準に分割したときのジニ係数\n",
        "print(f'DuL1 = \\n{DuL1}')\n",
        "print(f'G(DuL → [DuL0, DuL1]) = {G_partitioned(DuL0, DuL1):.3f}')"
      ],
      "metadata": {
        "colab": {
          "base_uri": "https://localhost:8080/"
        },
        "id": "xg939ZVxTo-u",
        "outputId": "15a841f7-d2d2-4bb6-d262-04f382974084"
      },
      "execution_count": 190,
      "outputs": [
        {
          "output_type": "stream",
          "name": "stdout",
          "text": [
            "DuL0 = \n",
            "[[ 0.  1.  0.  0.  1.  0.  1.]\n",
            " [ 0.  1.  0.  1.  0.  1.  1.]\n",
            " [ 0.  0.  1.  0.  1.  0. -1.]\n",
            " [ 0.  0.  1.  1.  1.  0. -1.]\n",
            " [ 0.  1.  0.  0.  1.  1. -1.]\n",
            " [ 0.  0.  1.  0.  0.  1. -1.]]\n",
            "DuL1 = \n",
            "[[1. 0. 0. 0. 1. 0. 1.]\n",
            " [1. 1. 0. 0. 1. 0. 1.]\n",
            " [1. 0. 0. 1. 1. 0. 1.]\n",
            " [1. 0. 0. 0. 0. 1. 1.]]\n",
            "G(DuL → [DuL0, DuL1]) = 0.267\n"
          ]
        }
      ]
    },
    {
      "cell_type": "markdown",
      "source": [
        "## 決定木の学習"
      ],
      "metadata": {
        "id": "H7emUPJ-ZwnL"
      }
    },
    {
      "cell_type": "markdown",
      "source": [
        "### 07 レベル0の選択基準"
      ],
      "metadata": {
        "id": "-jqJ-7J3ZyUm"
      }
    },
    {
      "cell_type": "markdown",
      "source": [
        "与えられた関数`get_ginis`を使ってジニ係数を最小とするような特徴量を考える。辞書である`ginis`から、バリューが最小値になるようなキーを求める。最小値をとるバリューに対応するキーを求める方法として`min()`の引数`key`に`dictname.get`を用いる方法があることを以下のサイトで知ったのでそれを使う。\n",
        "\n",
        "https://note.nkmk.me/python-dict-value-max-min/"
      ],
      "metadata": {
        "id": "QO1oWrmnaDS3"
      }
    },
    {
      "cell_type": "code",
      "source": [
        "def get_ginis(DL):\n",
        "    \"\"\"\n",
        "    訓練データDLを各特徴量で分割したときの(特徴量のインデックス: ジニ係数)をペアにした辞書を返す。\n",
        "    \n",
        "    Parameters\n",
        "    ----------\n",
        "    DL : ndarray\n",
        "        訓練データDL\n",
        "\n",
        "    Returns\n",
        "    -------\n",
        "    dict\n",
        "        (特徴量のインデックス: ジニ係数)をペアにした辞書\n",
        "    \"\"\"\n",
        "    ginis = {}\n",
        "    for k in range(0, x.shape[1]):\n",
        "        DL0 = DL[DL[:,k]==0]\n",
        "        DL1 = DL[DL[:,k]==1]\n",
        "        ginis[k] = G_partitioned(DL0, DL1)\n",
        "    return ginis"
      ],
      "metadata": {
        "id": "3P-3eBILYG-F"
      },
      "execution_count": 192,
      "outputs": []
    },
    {
      "cell_type": "code",
      "source": [
        "# レベル0（根ノード）の選択基準\n",
        "ginis = get_ginis(DuL)\n",
        "print('ginis = ')\n",
        "pprint.pprint(ginis)\n",
        "k0 = min(ginis, key=ginis.get)\n",
        "print(f'k0 = {k0}')\n",
        "DuL0 = DuL[DuL[:,k0]==0]\n",
        "DuL1 = DuL[DuL[:,k0]==1]\n",
        "print(f'DuL0 = \\n{DuL0}')\n",
        "print(f'DuL1 = \\n{DuL1}')"
      ],
      "metadata": {
        "colab": {
          "base_uri": "https://localhost:8080/"
        },
        "id": "yrGGK7KParfg",
        "outputId": "f28a6baa-57b5-49ed-fd32-31ec3bb5ffa5"
      },
      "execution_count": 197,
      "outputs": [
        {
          "output_type": "stream",
          "name": "stdout",
          "text": [
            "ginis = \n",
            "{0: 0.26666666666666666,\n",
            " 1: 0.45,\n",
            " 2: 0.17142857142857146,\n",
            " 3: 0.4761904761904763,\n",
            " 4: 0.4761904761904763,\n",
            " 5: 0.4666666666666666}\n",
            "k0 = 2\n",
            "DuL0 = \n",
            "[[ 1.  0.  0.  0.  1.  0.  1.]\n",
            " [ 0.  1.  0.  0.  1.  0.  1.]\n",
            " [ 1.  1.  0.  0.  1.  0.  1.]\n",
            " [ 1.  0.  0.  1.  1.  0.  1.]\n",
            " [ 1.  0.  0.  0.  0.  1.  1.]\n",
            " [ 0.  1.  0.  1.  0.  1.  1.]\n",
            " [ 0.  1.  0.  0.  1.  1. -1.]]\n",
            "DuL1 = \n",
            "[[ 0.  0.  1.  0.  1.  0. -1.]\n",
            " [ 0.  0.  1.  1.  1.  0. -1.]\n",
            " [ 0.  0.  1.  0.  0.  1. -1.]]\n"
          ]
        }
      ]
    },
    {
      "cell_type": "markdown",
      "source": [
        "### 08 レベル1の選択基準"
      ],
      "metadata": {
        "id": "gi12IEpzcKMZ"
      }
    },
    {
      "cell_type": "markdown",
      "source": [
        "07と同じことを`DuL`ではなく`DuL0`に対して行う。"
      ],
      "metadata": {
        "id": "0RGH3ff_cjq5"
      }
    },
    {
      "cell_type": "code",
      "source": [
        "# レベル1a（レベル1の左端ノード）の選択基準\n",
        "ginis1a = get_ginis(DuL0)\n",
        "k1a = min(ginis1a, key=ginis1a.get)\n",
        "print(f'k1a = {k1a}')\n",
        "DuL00 = DuL0[DuL0[:,k1a] == 0]\n",
        "DuL01 = DuL0[DuL0[:,k1a] == 1]\n",
        "print(f'DuL00 = \\n{DuL00}')\n",
        "print(f'DuL01 = \\n{DuL01}')"
      ],
      "metadata": {
        "colab": {
          "base_uri": "https://localhost:8080/"
        },
        "id": "1nPjWc-aa7Ux",
        "outputId": "cbee1bac-08c0-4fe6-fe1d-f7dee14bc10a"
      },
      "execution_count": 198,
      "outputs": [
        {
          "output_type": "stream",
          "name": "stdout",
          "text": [
            "k1a = 0\n",
            "DuL00 = \n",
            "[[ 0.  1.  0.  0.  1.  0.  1.]\n",
            " [ 0.  1.  0.  1.  0.  1.  1.]\n",
            " [ 0.  1.  0.  0.  1.  1. -1.]]\n",
            "DuL01 = \n",
            "[[1. 0. 0. 0. 1. 0. 1.]\n",
            " [1. 1. 0. 0. 1. 0. 1.]\n",
            " [1. 0. 0. 1. 1. 0. 1.]\n",
            " [1. 0. 0. 0. 0. 1. 1.]]\n"
          ]
        }
      ]
    },
    {
      "cell_type": "markdown",
      "source": [
        "### 09 レベル2の選択基準"
      ],
      "metadata": {
        "id": "sR0Y6Ueac4JB"
      }
    },
    {
      "cell_type": "markdown",
      "source": [
        "07、08と同じように計算すればよい。"
      ],
      "metadata": {
        "id": "Ss7Q5KV1c5ym"
      }
    },
    {
      "cell_type": "code",
      "source": [
        "# レベル2a（レベル2の左端ノード）の選択基準\n",
        "ginis2a = get_ginis(DuL00)\n",
        "k2a = min(ginis2a, key=ginis2a.get)\n",
        "print('k2a = {}'.format(k2a))\n",
        "DuL000 = DuL00[DuL00[:,k2a] == 0]\n",
        "DuL001 = DuL00[DuL00[:,k2a] == 1]\n",
        "print(f'DuL000 = \\n{DuL000}')\n",
        "print(f'DuL001 = \\n{DuL001}')"
      ],
      "metadata": {
        "colab": {
          "base_uri": "https://localhost:8080/"
        },
        "id": "YZPC7D3Xcw3g",
        "outputId": "a83f0a49-5577-48f3-8b92-9d5024337cd6"
      },
      "execution_count": 200,
      "outputs": [
        {
          "output_type": "stream",
          "name": "stdout",
          "text": [
            "k2a = 3\n",
            "DuL000 = \n",
            "[[ 0.  1.  0.  0.  1.  0.  1.]\n",
            " [ 0.  1.  0.  0.  1.  1. -1.]]\n",
            "DuL001 = \n",
            "[[0. 1. 0. 1. 0. 1. 1.]]\n"
          ]
        }
      ]
    },
    {
      "cell_type": "markdown",
      "source": [
        "## 嗜好予測"
      ],
      "metadata": {
        "id": "u6oX-9cJdJs-"
      }
    },
    {
      "cell_type": "markdown",
      "source": [
        "### 10 予測対象データに対する嗜好予測"
      ],
      "metadata": {
        "id": "xkgK9DoUdgRo"
      }
    },
    {
      "cell_type": "markdown",
      "source": [
        "問題10では、与えられた関数`train`と`predict`を使って予測結果を出力する処理を実行する。"
      ],
      "metadata": {
        "id": "IjmzQxfqdgCH"
      }
    },
    {
      "cell_type": "code",
      "source": [
        "def train(DL, key=0):\n",
        "    \"\"\"\n",
        "    学習関数：訓練データDLから決定木を学習する。\n",
        "    \n",
        "    Parameters\n",
        "    ----------\n",
        "    DL : ndarray\n",
        "        訓練データDL\n",
        "    key : int\n",
        "        キー値\n",
        "    \"\"\"\n",
        "    if len(DL) <= 0:\n",
        "        return\n",
        "    elif np.count_nonzero(DL[:,-1]==-1) <= 0:\n",
        "        dtree[key] = '+1'\n",
        "        return\n",
        "    elif np.count_nonzero(DL[:,-1]==+1) <= 0:\n",
        "        dtree[key] = '-1'\n",
        "        return\n",
        "        \n",
        "    ginis = get_ginis(DL)\n",
        "    k = min(ginis, key=ginis.get)\n",
        "    dtree[key] = k\n",
        "    DL0 = DL[DL[:,k] == 0]\n",
        "    DL1 = DL[DL[:,k] == 1]\n",
        "    train(DL0, key * 2 + 1)\n",
        "    train(DL1, key * 2 + 2)\n",
        "\n",
        "\n",
        "def predict(u, i, key=0):\n",
        "    \"\"\"\n",
        "    予測関数：ユーザuのアイテムiに対する予測評価値を返す。\n",
        "    \n",
        "    Parameters\n",
        "    ----------\n",
        "    u : int\n",
        "        ユーザuのID（ダミー）\n",
        "    i : int\n",
        "        アイテムiのID\n",
        "    key : int\n",
        "        キー値\n",
        "\n",
        "    Returns\n",
        "    -------\n",
        "    int\n",
        "        ユーザuのアイテムiに対する予測評価値\n",
        "    \"\"\"\n",
        "    if type(dtree[key]) == str: return int(dtree[key])\n",
        "    k = dtree[key]\n",
        "    if x[i,k] == 0:\n",
        "        return predict(u, i, key * 2 + 1)\n",
        "    elif x[i,k] == 1:\n",
        "        return predict(u, i, key * 2 + 2)"
      ],
      "metadata": {
        "id": "DrWXvHOdbKPg"
      },
      "execution_count": 201,
      "outputs": []
    },
    {
      "cell_type": "code",
      "source": [
        "dtree = {}\n",
        "train(DuL)\n",
        "print(f'dtree = {dtree}')\n",
        "\n",
        "u = 0\n",
        "ruU_pred = {i: predict(u, i) for i in Iu_not}\n",
        "print('ruU_pred = {}'.format(ruU_pred))"
      ],
      "metadata": {
        "colab": {
          "base_uri": "https://localhost:8080/"
        },
        "id": "2CRfKwYHbLV7",
        "outputId": "aebe930a-6971-4199-ff2b-f71e46b722b1"
      },
      "execution_count": 205,
      "outputs": [
        {
          "output_type": "stream",
          "name": "stdout",
          "text": [
            "dtree = {0: 2, 1: 0, 3: 3, 7: 5, 15: '+1', 16: '-1', 8: '+1', 4: '+1', 2: '-1'}\n",
            "ruU_pred = {10: 1, 11: -1, 12: -1}\n"
          ]
        }
      ]
    }
  ]
}